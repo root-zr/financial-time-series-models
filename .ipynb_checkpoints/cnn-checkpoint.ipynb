{
 "cells": [
  {
   "cell_type": "code",
   "execution_count": 1,
   "metadata": {},
   "outputs": [],
   "source": [
    "from IPython.core.interactiveshell import InteractiveShell  #执行该代码可以使得当前nb支持多输出\n",
    "InteractiveShell.ast_node_interactivity = \"all\" \n",
    "import numpy as np\n",
    "from datetime import datetime\n",
    "import pandas as pd \n",
    "import matplotlib.pyplot as plt\n",
    "plt.rcParams['font.sans-serif'] = ['SimHei']\n",
    "plt.rcParams['axes.unicode_minus'] = False \n",
    "from mpl_toolkits.mplot3d import Axes3D\n",
    "\n",
    "import tensorflow as tf\n",
    "from tensorflow.keras.layers import Dropout, Dense, LSTM\n",
    "import os\n",
    "from sklearn.preprocessing import MinMaxScaler\n",
    "from sklearn.metrics import mean_squared_error, mean_absolute_error\n",
    "import math\n",
    "\n",
    "pd.options.display.max_rows = 8  \n",
    "%matplotlib inline"
   ]
  },
  {
   "cell_type": "markdown",
   "metadata": {},
   "source": [
    "读取数据"
   ]
  },
  {
   "cell_type": "code",
   "execution_count": 2,
   "metadata": {
    "scrolled": true
   },
   "outputs": [
    {
     "data": {
      "text/html": [
       "<div>\n",
       "<style scoped>\n",
       "    .dataframe tbody tr th:only-of-type {\n",
       "        vertical-align: middle;\n",
       "    }\n",
       "\n",
       "    .dataframe tbody tr th {\n",
       "        vertical-align: top;\n",
       "    }\n",
       "\n",
       "    .dataframe thead th {\n",
       "        text-align: right;\n",
       "    }\n",
       "</style>\n",
       "<table border=\"1\" class=\"dataframe\">\n",
       "  <thead>\n",
       "    <tr style=\"text-align: right;\">\n",
       "      <th></th>\n",
       "      <th>开盘</th>\n",
       "      <th>收盘</th>\n",
       "      <th>高</th>\n",
       "      <th>低</th>\n",
       "      <th>涨跌幅</th>\n",
       "    </tr>\n",
       "    <tr>\n",
       "      <th>日期</th>\n",
       "      <th></th>\n",
       "      <th></th>\n",
       "      <th></th>\n",
       "      <th></th>\n",
       "      <th></th>\n",
       "    </tr>\n",
       "  </thead>\n",
       "  <tbody>\n",
       "    <tr>\n",
       "      <td>2016/1/21</td>\n",
       "      <td>2.683</td>\n",
       "      <td>2.700</td>\n",
       "      <td>2.703</td>\n",
       "      <td>2.680</td>\n",
       "      <td>0.0078</td>\n",
       "    </tr>\n",
       "    <tr>\n",
       "      <td>2016/1/22</td>\n",
       "      <td>2.705</td>\n",
       "      <td>2.689</td>\n",
       "      <td>2.705</td>\n",
       "      <td>2.682</td>\n",
       "      <td>-0.0041</td>\n",
       "    </tr>\n",
       "    <tr>\n",
       "      <td>2016/1/25</td>\n",
       "      <td>2.750</td>\n",
       "      <td>2.694</td>\n",
       "      <td>2.750</td>\n",
       "      <td>2.680</td>\n",
       "      <td>0.0019</td>\n",
       "    </tr>\n",
       "    <tr>\n",
       "      <td>2016/1/26</td>\n",
       "      <td>2.703</td>\n",
       "      <td>2.738</td>\n",
       "      <td>2.740</td>\n",
       "      <td>2.690</td>\n",
       "      <td>0.0163</td>\n",
       "    </tr>\n",
       "    <tr>\n",
       "      <td>2016/1/27</td>\n",
       "      <td>2.763</td>\n",
       "      <td>2.774</td>\n",
       "      <td>2.783</td>\n",
       "      <td>2.763</td>\n",
       "      <td>0.0131</td>\n",
       "    </tr>\n",
       "  </tbody>\n",
       "</table>\n",
       "</div>"
      ],
      "text/plain": [
       "              开盘     收盘      高      低     涨跌幅\n",
       "日期                                           \n",
       "2016/1/21  2.683  2.700  2.703  2.680  0.0078\n",
       "2016/1/22  2.705  2.689  2.705  2.682 -0.0041\n",
       "2016/1/25  2.750  2.694  2.750  2.680  0.0019\n",
       "2016/1/26  2.703  2.738  2.740  2.690  0.0163\n",
       "2016/1/27  2.763  2.774  2.783  2.763  0.0131"
      ]
     },
     "execution_count": 2,
     "metadata": {},
     "output_type": "execute_result"
    },
    {
     "data": {
      "text/html": [
       "<div>\n",
       "<style scoped>\n",
       "    .dataframe tbody tr th:only-of-type {\n",
       "        vertical-align: middle;\n",
       "    }\n",
       "\n",
       "    .dataframe tbody tr th {\n",
       "        vertical-align: top;\n",
       "    }\n",
       "\n",
       "    .dataframe thead th {\n",
       "        text-align: right;\n",
       "    }\n",
       "</style>\n",
       "<table border=\"1\" class=\"dataframe\">\n",
       "  <thead>\n",
       "    <tr style=\"text-align: right;\">\n",
       "      <th></th>\n",
       "      <th>开盘</th>\n",
       "      <th>收盘</th>\n",
       "      <th>高</th>\n",
       "      <th>低</th>\n",
       "      <th>涨跌幅</th>\n",
       "    </tr>\n",
       "  </thead>\n",
       "  <tbody>\n",
       "    <tr>\n",
       "      <td>count</td>\n",
       "      <td>1563.000000</td>\n",
       "      <td>1563.000000</td>\n",
       "      <td>1563.000000</td>\n",
       "      <td>1563.000000</td>\n",
       "      <td>1.563000e+03</td>\n",
       "    </tr>\n",
       "    <tr>\n",
       "      <td>mean</td>\n",
       "      <td>3.041862</td>\n",
       "      <td>3.022280</td>\n",
       "      <td>3.049060</td>\n",
       "      <td>3.010074</td>\n",
       "      <td>4.478567e-07</td>\n",
       "    </tr>\n",
       "    <tr>\n",
       "      <td>std</td>\n",
       "      <td>0.419688</td>\n",
       "      <td>0.420101</td>\n",
       "      <td>0.418939</td>\n",
       "      <td>0.420670</td>\n",
       "      <td>9.475657e-03</td>\n",
       "    </tr>\n",
       "    <tr>\n",
       "      <td>min</td>\n",
       "      <td>1.740000</td>\n",
       "      <td>1.740000</td>\n",
       "      <td>1.740000</td>\n",
       "      <td>1.740000</td>\n",
       "      <td>-5.850000e-02</td>\n",
       "    </tr>\n",
       "    <tr>\n",
       "      <td>25%</td>\n",
       "      <td>2.746000</td>\n",
       "      <td>2.712000</td>\n",
       "      <td>2.750000</td>\n",
       "      <td>2.697000</td>\n",
       "      <td>-4.350000e-03</td>\n",
       "    </tr>\n",
       "    <tr>\n",
       "      <td>50%</td>\n",
       "      <td>3.012000</td>\n",
       "      <td>2.993000</td>\n",
       "      <td>3.018000</td>\n",
       "      <td>2.983000</td>\n",
       "      <td>0.000000e+00</td>\n",
       "    </tr>\n",
       "    <tr>\n",
       "      <td>75%</td>\n",
       "      <td>3.261000</td>\n",
       "      <td>3.234000</td>\n",
       "      <td>3.269000</td>\n",
       "      <td>3.219000</td>\n",
       "      <td>4.300000e-03</td>\n",
       "    </tr>\n",
       "    <tr>\n",
       "      <td>max</td>\n",
       "      <td>4.000000</td>\n",
       "      <td>3.968000</td>\n",
       "      <td>4.000000</td>\n",
       "      <td>3.952000</td>\n",
       "      <td>6.070000e-02</td>\n",
       "    </tr>\n",
       "  </tbody>\n",
       "</table>\n",
       "</div>"
      ],
      "text/plain": [
       "                开盘           收盘            高            低           涨跌幅\n",
       "count  1563.000000  1563.000000  1563.000000  1563.000000  1.563000e+03\n",
       "mean      3.041862     3.022280     3.049060     3.010074  4.478567e-07\n",
       "std       0.419688     0.420101     0.418939     0.420670  9.475657e-03\n",
       "min       1.740000     1.740000     1.740000     1.740000 -5.850000e-02\n",
       "25%       2.746000     2.712000     2.750000     2.697000 -4.350000e-03\n",
       "50%       3.012000     2.993000     3.018000     2.983000  0.000000e+00\n",
       "75%       3.261000     3.234000     3.269000     3.219000  4.300000e-03\n",
       "max       4.000000     3.968000     4.000000     3.952000  6.070000e-02"
      ]
     },
     "execution_count": 2,
     "metadata": {},
     "output_type": "execute_result"
    }
   ],
   "source": [
    "national_debt = pd.read_csv('data/national_debt_5y.csv',header=0,index_col = 0,encoding = 'gb2312')  # 读取股票文件\n",
    "national_debt['涨跌幅'] = national_debt['涨跌幅'].str.strip(\"%\").astype(float)/100\n",
    "national_debt.head()\n",
    "national_debt.describe()"
   ]
  },
  {
   "cell_type": "markdown",
   "metadata": {},
   "source": [
    "开盘价原始数据可视化"
   ]
  },
  {
   "cell_type": "code",
   "execution_count": 3,
   "metadata": {},
   "outputs": [
    {
     "data": {
      "text/plain": [
       "<Figure size 432x288 with 0 Axes>"
      ]
     },
     "metadata": {},
     "output_type": "display_data"
    },
    {
     "data": {
      "image/png": "[encoded data removed]",
      "text/plain": [
       "<Figure size 432x288 with 1 Axes>"
      ]
     },
     "metadata": {
      "needs_background": "light"
     },
     "output_type": "display_data"
    }
   ],
   "source": [
    "def draw_ts(timeSeries):\n",
    "    f = plt.figure(facecolor='white')\n",
    "    timeSeries.plot(color='blue')\n",
    "    plt.show()\n",
    "    \n",
    "draw_ts(pd.DataFrame(national_debt['开盘']))"
   ]
  },
  {
   "cell_type": "markdown",
   "metadata": {},
   "source": [
    "数据预处理"
   ]
  },
  {
   "cell_type": "code",
   "execution_count": 4,
   "metadata": {},
   "outputs": [],
   "source": [
    "# 前(1563-300=1263)天的开盘价作为训练集,表格从0开始计数，,0:1 是提取[0:1)列，前闭后开\n",
    "training_set = national_debt.iloc[0:1563 - 600,0:].values  \n",
    "\n",
    "#中间300天的数据作为验证集\n",
    "valid_set= national_debt.iloc[1563 - 600:1563 - 300, 0:].values  \n",
    "\n",
    "# 后300天的开盘价作为测试集\n",
    "test_set = national_debt.iloc[1563 - 300:1563, 0:].values  \n",
    "\n",
    "# 归一化\n",
    "sc = MinMaxScaler(feature_range=(0, 1))  # 定义归一化：归一化到(0，1)之间\n",
    "training_set_scaled = sc.fit_transform(training_set)  # 求得训练集的最大值，最小值这些训练集固有的属性，并在训练集上进行归一化\n",
    "valid_set = sc.transform(valid_set)\n",
    "test_set = sc.transform(test_set)  # 利用训练集的属性对测试集进行归一化\n",
    "\n",
    "#对开盘价数据进行归一化，方便后续可视化展示\n",
    "sc_for_visual = MinMaxScaler(feature_range=(0, 1))  \n",
    "y_test_for_visual_scaled = sc_for_visual.fit_transform(national_debt.iloc[0:1563 - 600, 0:1].values ) \n",
    "y_test_for_visual = sc_for_visual.transform(national_debt.iloc[1563 - 300:1563, 0:1].values )"
   ]
  },
  {
   "cell_type": "markdown",
   "metadata": {},
   "source": [
    "得到训练集和测试集的数据"
   ]
  },
  {
   "cell_type": "code",
   "execution_count": 5,
   "metadata": {
    "scrolled": true
   },
   "outputs": [
    {
     "name": "stdout",
     "output_type": "stream",
     "text": [
      "[[[[0.18613607]\n",
      "   [0.16322581]\n",
      "   [0.18825782]\n",
      "   [0.49134615]]\n",
      "\n",
      "  [[0.17907574]\n",
      "   [0.16451613]\n",
      "   [0.18953414]\n",
      "   [0.37692308]]\n",
      "\n",
      "  [[0.18228498]\n",
      "   [0.19354839]\n",
      "   [0.18825782]\n",
      "   [0.43461538]]\n",
      "\n",
      "  ...\n",
      "\n",
      "  [[0.14056483]\n",
      "   [0.12258065]\n",
      "   [0.15507339]\n",
      "   [0.40576923]]\n",
      "\n",
      "  [[0.14762516]\n",
      "   [0.12774194]\n",
      "   [0.16017869]\n",
      "   [0.45673077]]\n",
      "\n",
      "  [[0.14634146]\n",
      "   [0.15483871]\n",
      "   [0.16081685]\n",
      "   [0.40865385]]]\n",
      "\n",
      "\n",
      " [[[0.17907574]\n",
      "   [0.16451613]\n",
      "   [0.18953414]\n",
      "   [0.37692308]]\n",
      "\n",
      "  [[0.18228498]\n",
      "   [0.19354839]\n",
      "   [0.18825782]\n",
      "   [0.43461538]]\n",
      "\n",
      "  [[0.21052632]\n",
      "   [0.18709677]\n",
      "   [0.19463944]\n",
      "   [0.57307692]]\n",
      "\n",
      "  ...\n",
      "\n",
      "  [[0.14762516]\n",
      "   [0.12774194]\n",
      "   [0.16017869]\n",
      "   [0.45673077]]\n",
      "\n",
      "  [[0.14634146]\n",
      "   [0.15483871]\n",
      "   [0.16081685]\n",
      "   [0.40865385]]\n",
      "\n",
      "  [[0.15468549]\n",
      "   [0.14193548]\n",
      "   [0.16975112]\n",
      "   [0.46346154]]]\n",
      "\n",
      "\n",
      " [[[0.18228498]\n",
      "   [0.19354839]\n",
      "   [0.18825782]\n",
      "   [0.43461538]]\n",
      "\n",
      "  [[0.21052632]\n",
      "   [0.18709677]\n",
      "   [0.19463944]\n",
      "   [0.57307692]]\n",
      "\n",
      "  [[0.23363286]\n",
      "   [0.21483871]\n",
      "   [0.24122527]\n",
      "   [0.54230769]]\n",
      "\n",
      "  ...\n",
      "\n",
      "  [[0.14634146]\n",
      "   [0.15483871]\n",
      "   [0.16081685]\n",
      "   [0.40865385]]\n",
      "\n",
      "  [[0.15468549]\n",
      "   [0.14193548]\n",
      "   [0.16975112]\n",
      "   [0.46346154]]\n",
      "\n",
      "  [[0.15853659]\n",
      "   [0.14387097]\n",
      "   [0.17102744]\n",
      "   [0.43846154]]]\n",
      "\n",
      "\n",
      " ...\n",
      "\n",
      "\n",
      " [[[0.31643132]\n",
      "   [0.29870968]\n",
      "   [0.32227186]\n",
      "   [0.43269231]]\n",
      "\n",
      "  [[0.30680359]\n",
      "   [0.29225806]\n",
      "   [0.32099553]\n",
      "   [0.36634615]]\n",
      "\n",
      "  [[0.31771502]\n",
      "   [0.29677419]\n",
      "   [0.32418634]\n",
      "   [0.47307692]]\n",
      "\n",
      "  ...\n",
      "\n",
      "  [[0.35686778]\n",
      "   [0.33612903]\n",
      "   [0.35928526]\n",
      "   [0.43557692]]\n",
      "\n",
      "  [[0.35879332]\n",
      "   [0.33935484]\n",
      "   [0.37141034]\n",
      "   [0.42596154]]\n",
      "\n",
      "  [[0.34531451]\n",
      "   [0.32258065]\n",
      "   [0.34779834]\n",
      "   [0.34807692]]]\n",
      "\n",
      "\n",
      " [[[0.30680359]\n",
      "   [0.29225806]\n",
      "   [0.32099553]\n",
      "   [0.36634615]]\n",
      "\n",
      "  [[0.31771502]\n",
      "   [0.29677419]\n",
      "   [0.32418634]\n",
      "   [0.47307692]]\n",
      "\n",
      "  [[0.31643132]\n",
      "   [0.29548387]\n",
      "   [0.32737715]\n",
      "   [0.40961538]]\n",
      "\n",
      "  ...\n",
      "\n",
      "  [[0.35879332]\n",
      "   [0.33935484]\n",
      "   [0.37141034]\n",
      "   [0.42596154]]\n",
      "\n",
      "  [[0.34531451]\n",
      "   [0.32258065]\n",
      "   [0.34779834]\n",
      "   [0.34807692]]\n",
      "\n",
      "  [[0.34403081]\n",
      "   [0.32580645]\n",
      "   [0.35609445]\n",
      "   [0.40961538]]]\n",
      "\n",
      "\n",
      " [[[0.31771502]\n",
      "   [0.29677419]\n",
      "   [0.32418634]\n",
      "   [0.47307692]]\n",
      "\n",
      "  [[0.31643132]\n",
      "   [0.29548387]\n",
      "   [0.32737715]\n",
      "   [0.40961538]]\n",
      "\n",
      "  [[0.32926829]\n",
      "   [0.30645161]\n",
      "   [0.34141672]\n",
      "   [0.48269231]]\n",
      "\n",
      "  ...\n",
      "\n",
      "  [[0.34531451]\n",
      "   [0.32258065]\n",
      "   [0.34779834]\n",
      "   [0.34807692]]\n",
      "\n",
      "  [[0.34403081]\n",
      "   [0.32580645]\n",
      "   [0.35609445]\n",
      "   [0.40961538]]\n",
      "\n",
      "  [[0.35622593]\n",
      "   [0.33225806]\n",
      "   [0.35928526]\n",
      "   [0.47788462]]]]\n"
     ]
    }
   ],
   "source": [
    "x_train = []\n",
    "y_train = []\n",
    "\n",
    "x_valid = []\n",
    "y_valid = []\n",
    "\n",
    "x_test = []\n",
    "y_test = []\n",
    "\n",
    "# 利用for循环，遍历整个训练集，提取训练集中连续10天的开盘价作为输入特征x_train，第11天的数据作为标签\n",
    "for i in range(30, len(training_set_scaled)):\n",
    "    x_train.append(training_set_scaled[i - 30:i, 1:]) \n",
    "    y_train.append(training_set_scaled[i, 0])\n",
    "\n",
    "\n",
    "# 将训练集由list格式变为array格式\n",
    "x_train, y_train = np.array(x_train), np.array(y_train)\n",
    "x_train = np.reshape(x_train, (x_train.shape[0], 30,4,1))\n",
    "print(x_train)\n",
    "\n",
    "#验证集\n",
    "for i in range(30, len(valid_set)):\n",
    "    x_valid.append(valid_set[i - 30:i,1:])\n",
    "    y_valid.append(valid_set[i, 0])\n",
    "x_valid, y_valid = np.array(x_valid), np.array(y_valid)\n",
    "x_valid = np.reshape(x_valid, (x_valid.shape[0], 30,4,1))\n",
    "\n",
    "\n",
    "# 测试集：csv表格中后300天数据\n",
    "# 利用for循环，遍历整个测试集，提取测试集中连续10天的开盘价作为输入特征x_train，\n",
    "# 第11天的数据作为标签，for循环共构建300-10=290组数据。\n",
    "for i in range(30, len(test_set)):\n",
    "    x_test.append(test_set[i - 30:i,1:])\n",
    "    y_test.append(test_set[i, 0])\n",
    "# 测试集变array并reshape为符合CNN和RNN输入要求：\n",
    "#RNN: [送入样本数， 循环核时间展开步数， 每个时间步输入特征个数]\n",
    "x_test, y_test = np.array(x_test), np.array(y_test)\n",
    "x_test = np.reshape(x_test, (x_test.shape[0], 30,4,1))"
   ]
  },
  {
   "cell_type": "markdown",
   "metadata": {},
   "source": [
    "训练模型"
   ]
  },
  {
   "cell_type": "code",
   "execution_count": 6,
   "metadata": {
    "scrolled": true
   },
   "outputs": [
    {
     "name": "stdout",
     "output_type": "stream",
     "text": [
      "Epoch 1/50\n",
      "30/30 [==============================] - 1s 25ms/step - loss: 2.0752 - val_loss: 0.0891\n",
      "Epoch 2/50\n",
      "30/30 [==============================] - 1s 19ms/step - loss: 0.1867 - val_loss: 0.0821\n",
      "Epoch 3/50\n",
      "30/30 [==============================] - 1s 18ms/step - loss: 0.1038 - val_loss: 0.0747\n",
      "Epoch 4/50\n",
      "30/30 [==============================] - 1s 18ms/step - loss: 0.0747 - val_loss: 0.0688\n",
      "Epoch 5/50\n",
      "30/30 [==============================] - 1s 19ms/step - loss: 0.0692 - val_loss: 0.0653\n",
      "Epoch 6/50\n",
      "30/30 [==============================] - 1s 18ms/step - loss: 0.0531 - val_loss: 0.0624\n",
      "Epoch 7/50\n",
      "30/30 [==============================] - 1s 17ms/step - loss: 0.0508 - val_loss: 0.0618\n",
      "Epoch 8/50\n",
      "30/30 [==============================] - 0s 12ms/step - loss: 0.0494 - val_loss: 0.0652\n",
      "Epoch 9/50\n",
      "30/30 [==============================] - 0s 12ms/step - loss: 0.0424 - val_loss: 0.0675\n",
      "Epoch 10/50\n",
      "30/30 [==============================] - 0s 12ms/step - loss: 0.0397 - val_loss: 0.0744\n",
      "Epoch 11/50\n",
      "30/30 [==============================] - 0s 12ms/step - loss: 0.0347 - val_loss: 0.0781\n",
      "Epoch 12/50\n",
      "30/30 [==============================] - 0s 14ms/step - loss: 0.0343 - val_loss: 0.0821\n",
      "Epoch 13/50\n",
      "30/30 [==============================] - 0s 12ms/step - loss: 0.0331 - val_loss: 0.0872\n",
      "Epoch 14/50\n",
      "30/30 [==============================] - 0s 11ms/step - loss: 0.0370 - val_loss: 0.0939\n",
      "Epoch 15/50\n",
      "30/30 [==============================] - 0s 13ms/step - loss: 0.0285 - val_loss: 0.0828\n",
      "Epoch 16/50\n",
      "30/30 [==============================] - 0s 12ms/step - loss: 0.0286 - val_loss: 0.0683\n",
      "Epoch 17/50\n",
      "30/30 [==============================] - 0s 12ms/step - loss: 0.0269 - val_loss: 0.0637\n",
      "Epoch 18/50\n",
      "30/30 [==============================] - 1s 21ms/step - loss: 0.0283 - val_loss: 0.0460\n",
      "Epoch 19/50\n",
      "30/30 [==============================] - 1s 22ms/step - loss: 0.0248 - val_loss: 0.0512\n",
      "Epoch 20/50\n",
      "30/30 [==============================] - 1s 26ms/step - loss: 0.0258 - val_loss: 0.1263\n",
      "Epoch 21/50\n",
      "30/30 [==============================] - 1s 27ms/step - loss: 0.0238 - val_loss: 0.2893\n",
      "Epoch 22/50\n",
      "30/30 [==============================] - 1s 25ms/step - loss: 0.0233 - val_loss: 0.3255\n",
      "Epoch 23/50\n",
      "30/30 [==============================] - 1s 28ms/step - loss: 0.0210 - val_loss: 0.6295\n",
      "Epoch 24/50\n",
      "30/30 [==============================] - 1s 27ms/step - loss: 0.0245 - val_loss: 0.9465\n",
      "Epoch 25/50\n",
      "30/30 [==============================] - 1s 26ms/step - loss: 0.0222 - val_loss: 1.1431\n",
      "Epoch 26/50\n",
      "30/30 [==============================] - 1s 25ms/step - loss: 0.0214 - val_loss: 2.0761\n",
      "Epoch 27/50\n",
      "30/30 [==============================] - 1s 26ms/step - loss: 0.0223 - val_loss: 3.1110\n",
      "Epoch 28/50\n",
      "30/30 [==============================] - 1s 26ms/step - loss: 0.0198 - val_loss: 2.8361\n",
      "Epoch 29/50\n",
      "30/30 [==============================] - 1s 25ms/step - loss: 0.0221 - val_loss: 3.6267\n",
      "Epoch 30/50\n",
      "30/30 [==============================] - 1s 26ms/step - loss: 0.0227 - val_loss: 4.3505\n",
      "Epoch 31/50\n",
      "30/30 [==============================] - 1s 27ms/step - loss: 0.0198 - val_loss: 4.9165\n",
      "Epoch 32/50\n",
      "30/30 [==============================] - 1s 27ms/step - loss: 0.0179 - val_loss: 5.4755\n",
      "Epoch 33/50\n",
      "30/30 [==============================] - 1s 28ms/step - loss: 0.0209 - val_loss: 6.5766\n",
      "Epoch 34/50\n",
      "30/30 [==============================] - 1s 29ms/step - loss: 0.0173 - val_loss: 5.3682\n",
      "Epoch 35/50\n",
      "30/30 [==============================] - 1s 26ms/step - loss: 0.0164 - val_loss: 5.1244\n",
      "Epoch 36/50\n",
      "30/30 [==============================] - 1s 21ms/step - loss: 0.0205 - val_loss: 3.4982\n",
      "Epoch 37/50\n",
      "30/30 [==============================] - 0s 12ms/step - loss: 0.0198 - val_loss: 3.6543\n",
      "Epoch 38/50\n",
      "30/30 [==============================] - 0s 12ms/step - loss: 0.0163 - val_loss: 3.0596\n",
      "Epoch 39/50\n",
      "30/30 [==============================] - 0s 13ms/step - loss: 0.0195 - val_loss: 2.9928\n",
      "Epoch 40/50\n",
      "30/30 [==============================] - 0s 13ms/step - loss: 0.0183 - val_loss: 3.2256\n",
      "Epoch 41/50\n",
      "30/30 [==============================] - 0s 13ms/step - loss: 0.0174 - val_loss: 3.1851\n",
      "Epoch 42/50\n",
      "30/30 [==============================] - 0s 13ms/step - loss: 0.0159 - val_loss: 3.4003\n",
      "Epoch 43/50\n",
      "30/30 [==============================] - 0s 13ms/step - loss: 0.0147 - val_loss: 3.1035\n",
      "Epoch 44/50\n",
      "30/30 [==============================] - 0s 14ms/step - loss: 0.0163 - val_loss: 3.4269\n",
      "Epoch 45/50\n",
      "30/30 [==============================] - 0s 12ms/step - loss: 0.0154 - val_loss: 4.1909\n",
      "Epoch 46/50\n",
      "30/30 [==============================] - 0s 14ms/step - loss: 0.0174 - val_loss: 4.2575\n",
      "Epoch 47/50\n",
      "30/30 [==============================] - 1s 27ms/step - loss: 0.0168 - val_loss: 4.3833\n",
      "Epoch 48/50\n",
      "30/30 [==============================] - 1s 27ms/step - loss: 0.0175 - val_loss: 4.3234\n",
      "Epoch 49/50\n",
      "30/30 [==============================] - 1s 25ms/step - loss: 0.0158 - val_loss: 4.0672\n",
      "Epoch 50/50\n",
      "30/30 [==============================] - 1s 25ms/step - loss: 0.0151 - val_loss: 4.2336\n",
      "Model: \"sequential\"\n",
      "_________________________________________________________________\n",
      "Layer (type)                 Output Shape              Param #   \n",
      "=================================================================\n",
      "conv2d (Conv2D)              (None, 30, 4, 64)         640       \n",
      "_________________________________________________________________\n",
      "batch_normalization (BatchNo (None, 30, 4, 64)         256       \n",
      "_________________________________________________________________\n",
      "activation (Activation)      (None, 30, 4, 64)         0         \n",
      "_________________________________________________________________\n",
      "max_pooling2d (MaxPooling2D) (None, 15, 2, 64)         0         \n",
      "_________________________________________________________________\n",
      "conv2d_1 (Conv2D)            (None, 15, 2, 64)         36928     \n",
      "_________________________________________________________________\n",
      "batch_normalization_1 (Batch (None, 15, 2, 64)         256       \n",
      "_________________________________________________________________\n",
      "activation_1 (Activation)    (None, 15, 2, 64)         0         \n",
      "_________________________________________________________________\n",
      "max_pooling2d_1 (MaxPooling2 (None, 7, 1, 64)          0         \n",
      "_________________________________________________________________\n",
      "dropout (Dropout)            (None, 7, 1, 64)          0         \n",
      "_________________________________________________________________\n",
      "flatten (Flatten)            (None, 448)               0         \n",
      "_________________________________________________________________\n",
      "dense (Dense)                (None, 128)               57472     \n",
      "_________________________________________________________________\n",
      "dropout_1 (Dropout)          (None, 128)               0         \n",
      "_________________________________________________________________\n",
      "dense_1 (Dense)              (None, 60)                7740      \n",
      "_________________________________________________________________\n",
      "dropout_2 (Dropout)          (None, 60)                0         \n",
      "_________________________________________________________________\n",
      "dense_2 (Dense)              (None, 1)                 61        \n",
      "=================================================================\n",
      "Total params: 103,353\n",
      "Trainable params: 103,097\n",
      "Non-trainable params: 256\n",
      "_________________________________________________________________\n"
     ]
    },
    {
     "data": {
      "text/plain": [
       "16"
      ]
     },
     "execution_count": 6,
     "metadata": {},
     "output_type": "execute_result"
    },
    {
     "data": {
      "text/plain": [
       "14"
      ]
     },
     "execution_count": 6,
     "metadata": {},
     "output_type": "execute_result"
    },
    {
     "data": {
      "text/plain": [
       "7391"
      ]
     },
     "execution_count": 6,
     "metadata": {},
     "output_type": "execute_result"
    },
    {
     "data": {
      "text/plain": [
       "14"
      ]
     },
     "execution_count": 6,
     "metadata": {},
     "output_type": "execute_result"
    },
    {
     "data": {
      "text/plain": [
       "6"
      ]
     },
     "execution_count": 6,
     "metadata": {},
     "output_type": "execute_result"
    },
    {
     "data": {
      "text/plain": [
       "778"
      ]
     },
     "execution_count": 6,
     "metadata": {},
     "output_type": "execute_result"
    },
    {
     "data": {
      "text/plain": [
       "28"
      ]
     },
     "execution_count": 6,
     "metadata": {},
     "output_type": "execute_result"
    },
    {
     "data": {
      "text/plain": [
       "6"
      ]
     },
     "execution_count": 6,
     "metadata": {},
     "output_type": "execute_result"
    },
    {
     "data": {
      "text/plain": [
       "708"
      ]
     },
     "execution_count": 6,
     "metadata": {},
     "output_type": "execute_result"
    },
    {
     "data": {
      "text/plain": [
       "27"
      ]
     },
     "execution_count": 6,
     "metadata": {},
     "output_type": "execute_result"
    },
    {
     "data": {
      "text/plain": [
       "6"
      ]
     },
     "execution_count": 6,
     "metadata": {},
     "output_type": "execute_result"
    },
    {
     "data": {
      "text/plain": [
       "1041"
      ]
     },
     "execution_count": 6,
     "metadata": {},
     "output_type": "execute_result"
    },
    {
     "data": {
      "text/plain": [
       "18"
      ]
     },
     "execution_count": 6,
     "metadata": {},
     "output_type": "execute_result"
    },
    {
     "data": {
      "text/plain": [
       "15"
      ]
     },
     "execution_count": 6,
     "metadata": {},
     "output_type": "execute_result"
    },
    {
     "data": {
      "text/plain": [
       "4669"
      ]
     },
     "execution_count": 6,
     "metadata": {},
     "output_type": "execute_result"
    },
    {
     "data": {
      "text/plain": [
       "16"
      ]
     },
     "execution_count": 6,
     "metadata": {},
     "output_type": "execute_result"
    },
    {
     "data": {
      "text/plain": [
       "6"
      ]
     },
     "execution_count": 6,
     "metadata": {},
     "output_type": "execute_result"
    },
    {
     "data": {
      "text/plain": [
       "776"
      ]
     },
     "execution_count": 6,
     "metadata": {},
     "output_type": "execute_result"
    },
    {
     "data": {
      "text/plain": [
       "30"
      ]
     },
     "execution_count": 6,
     "metadata": {},
     "output_type": "execute_result"
    },
    {
     "data": {
      "text/plain": [
       "6"
      ]
     },
     "execution_count": 6,
     "metadata": {},
     "output_type": "execute_result"
    },
    {
     "data": {
      "text/plain": [
       "710"
      ]
     },
     "execution_count": 6,
     "metadata": {},
     "output_type": "execute_result"
    },
    {
     "data": {
      "text/plain": [
       "29"
      ]
     },
     "execution_count": 6,
     "metadata": {},
     "output_type": "execute_result"
    },
    {
     "data": {
      "text/plain": [
       "6"
      ]
     },
     "execution_count": 6,
     "metadata": {},
     "output_type": "execute_result"
    },
    {
     "data": {
      "text/plain": [
       "778"
      ]
     },
     "execution_count": 6,
     "metadata": {},
     "output_type": "execute_result"
    },
    {
     "data": {
      "text/plain": [
       "15"
      ]
     },
     "execution_count": 6,
     "metadata": {},
     "output_type": "execute_result"
    },
    {
     "data": {
      "text/plain": [
       "11"
      ]
     },
     "execution_count": 6,
     "metadata": {},
     "output_type": "execute_result"
    },
    {
     "data": {
      "text/plain": [
       "491"
      ]
     },
     "execution_count": 6,
     "metadata": {},
     "output_type": "execute_result"
    },
    {
     "data": {
      "text/plain": [
       "13"
      ]
     },
     "execution_count": 6,
     "metadata": {},
     "output_type": "execute_result"
    },
    {
     "data": {
      "text/plain": [
       "7"
      ]
     },
     "execution_count": 6,
     "metadata": {},
     "output_type": "execute_result"
    },
    {
     "data": {
      "text/plain": [
       "1552"
      ]
     },
     "execution_count": 6,
     "metadata": {},
     "output_type": "execute_result"
    },
    {
     "data": {
      "text/plain": [
       "17"
      ]
     },
     "execution_count": 6,
     "metadata": {},
     "output_type": "execute_result"
    },
    {
     "data": {
      "text/plain": [
       "10"
      ]
     },
     "execution_count": 6,
     "metadata": {},
     "output_type": "execute_result"
    },
    {
     "data": {
      "text/plain": [
       "492"
      ]
     },
     "execution_count": 6,
     "metadata": {},
     "output_type": "execute_result"
    },
    {
     "data": {
      "text/plain": [
       "15"
      ]
     },
     "execution_count": 6,
     "metadata": {},
     "output_type": "execute_result"
    },
    {
     "data": {
      "text/plain": [
       "6"
      ]
     },
     "execution_count": 6,
     "metadata": {},
     "output_type": "execute_result"
    },
    {
     "data": {
      "text/plain": [
       "729"
      ]
     },
     "execution_count": 6,
     "metadata": {},
     "output_type": "execute_result"
    },
    {
     "data": {
      "text/plain": [
       "17"
      ]
     },
     "execution_count": 6,
     "metadata": {},
     "output_type": "execute_result"
    },
    {
     "data": {
      "text/plain": [
       "8"
      ]
     },
     "execution_count": 6,
     "metadata": {},
     "output_type": "execute_result"
    },
    {
     "data": {
      "text/plain": [
       "901"
      ]
     },
     "execution_count": 6,
     "metadata": {},
     "output_type": "execute_result"
    },
    {
     "data": {
      "text/plain": [
       "15"
      ]
     },
     "execution_count": 6,
     "metadata": {},
     "output_type": "execute_result"
    },
    {
     "data": {
      "text/plain": [
       "5"
      ]
     },
     "execution_count": 6,
     "metadata": {},
     "output_type": "execute_result"
    },
    {
     "data": {
      "text/plain": [
       "13"
      ]
     },
     "execution_count": 6,
     "metadata": {},
     "output_type": "execute_result"
    }
   ],
   "source": [
    "import os\n",
    "from keras.preprocessing import sequence\n",
    "from keras.models import Sequential\n",
    "from keras.layers import Dense, Dropout, Activation,BatchNormalization\n",
    "from keras.layers import Conv1D, MaxPooling1D,Conv2D,MaxPooling2D,Flatten\n",
    "from tensorflow.keras import Model\n",
    "\n",
    "\n",
    "# Convolution\n",
    "kernel_size = 3\n",
    "filters = 64\n",
    "pool_size = 2\n",
    "\n",
    "\n",
    "# Training\n",
    "batch_size = 64\n",
    "epochs = 55\n",
    "\n",
    "model = Sequential()\n",
    "\n",
    "model.add(Conv2D(filters,\n",
    "                 kernel_size,\n",
    "                 padding='same',\n",
    "                 activation='relu',\n",
    "                 strides=1,\n",
    "                 input_shape=(30,4,1)))\n",
    "\n",
    "model.add(BatchNormalization()) # BN层\n",
    "model.add(Activation('relu'))    # 激活层  \n",
    "model.add(MaxPooling2D(pool_size=pool_size))\n",
    "\n",
    "model.add(Conv2D(filters,kernel_size,padding='same', activation='relu',\n",
    "                 strides=1, input_shape=(30,4,1)))\n",
    "model.add(BatchNormalization()) # BN层                                       \n",
    "model.add(Activation('relu'))    # 激活层  \n",
    "model.add(MaxPooling2D(pool_size=pool_size))\n",
    "model.add(Dropout(0.2))\n",
    "\n",
    "model.add(Flatten())\n",
    "model.add(Dense(128, activation='relu')) \n",
    "model.add(Dropout(0.2))\n",
    "model.add(Dense(60))  #第二层\n",
    "model.add(Dropout(0.2))\n",
    "model.add(Dense(1, activation='linear'))\n",
    "\n",
    "model.compile(optimizer=tf.keras.optimizers.Adam(0.001),\n",
    "              loss='mean_squared_error')  # 损失函数用均方误差\n",
    "\n",
    "checkpoint_save_path = \"./checkpoint/CNN/CNN_nation_debt.ckpt\"\n",
    "if os.path.exists(checkpoint_save_path + '.index'):\n",
    "    print('-------------load the model-----------------')\n",
    "    model.load_weights(checkpoint_save_path)\n",
    "\n",
    "cp_callback = tf.keras.callbacks.ModelCheckpoint(filepath=checkpoint_save_path,\n",
    "                                                 save_weights_only=True,\n",
    "                                                 save_best_only=True)\n",
    "\n",
    "history = model.fit(x_train, y_train, batch_size=32, epochs=50, validation_data=(x_valid, y_valid), validation_freq=1,\n",
    "                    callbacks=[cp_callback])\n",
    "model.summary()\n",
    "\n",
    "# print(model.trainable_variables)\n",
    "file = open('./data/weights_of_nation_debt_by_cnn.txt', 'w')\n",
    "for v in model.trainable_variables:\n",
    "    file.write(str(v.name) + '\\n')\n",
    "    file.write(str(v.shape) + '\\n')\n",
    "    file.write(str(v.numpy()) + '\\n')\n",
    "file.close()"
   ]
  },
  {
   "cell_type": "code",
   "execution_count": 7,
   "metadata": {},
   "outputs": [
    {
     "data": {
      "text/plain": [
       "[<matplotlib.lines.Line2D at 0x28d6d4e37c8>]"
      ]
     },
     "execution_count": 7,
     "metadata": {},
     "output_type": "execute_result"
    },
    {
     "data": {
      "text/plain": [
       "[<matplotlib.lines.Line2D at 0x28d6ab716c8>]"
      ]
     },
     "execution_count": 7,
     "metadata": {},
     "output_type": "execute_result"
    },
    {
     "data": {
      "text/plain": [
       "Text(0.5, 1.0, 'Training and Validation Loss')"
      ]
     },
     "execution_count": 7,
     "metadata": {},
     "output_type": "execute_result"
    },
    {
     "data": {
      "text/plain": [
       "<matplotlib.legend.Legend at 0x28d6ab7d708>"
      ]
     },
     "execution_count": 7,
     "metadata": {},
     "output_type": "execute_result"
    },
    {
     "data": {
      "image/png": "[encoded data removed]",
      "text/plain": [
       "<Figure size 432x288 with 1 Axes>"
      ]
     },
     "metadata": {
      "needs_background": "light"
     },
     "output_type": "display_data"
    }
   ],
   "source": [
    "loss = history.history['loss']\n",
    "val_loss = history.history['val_loss']\n",
    "\n",
    "plt.plot(loss, label='Training Loss')\n",
    "plt.plot(val_loss, label='Validation Loss') #验证集用来选则最佳的超参数的值\n",
    "plt.title('Training and Validation Loss')\n",
    "plt.legend()\n",
    "plt.show()"
   ]
  },
  {
   "cell_type": "code",
   "execution_count": 8,
   "metadata": {},
   "outputs": [
    {
     "data": {
      "text/plain": [
       "[<matplotlib.lines.Line2D at 0x28d6d603608>]"
      ]
     },
     "execution_count": 8,
     "metadata": {},
     "output_type": "execute_result"
    },
    {
     "data": {
      "text/plain": [
       "[<matplotlib.lines.Line2D at 0x28d6d5e5548>]"
      ]
     },
     "execution_count": 8,
     "metadata": {},
     "output_type": "execute_result"
    },
    {
     "data": {
      "text/plain": [
       "Text(0.5, 1.0, 'national debt Price Prediction')"
      ]
     },
     "execution_count": 8,
     "metadata": {},
     "output_type": "execute_result"
    },
    {
     "data": {
      "text/plain": [
       "Text(0.5, 0, 'Time')"
      ]
     },
     "execution_count": 8,
     "metadata": {},
     "output_type": "execute_result"
    },
    {
     "data": {
      "text/plain": [
       "Text(0, 0.5, 'national debt Price')"
      ]
     },
     "execution_count": 8,
     "metadata": {},
     "output_type": "execute_result"
    },
    {
     "data": {
      "text/plain": [
       "<matplotlib.legend.Legend at 0x28d6d5ea608>"
      ]
     },
     "execution_count": 8,
     "metadata": {},
     "output_type": "execute_result"
    },
    {
     "data": {
      "image/png": "[encoded data removed]",
      "text/plain": [
       "<Figure size 432x288 with 1 Axes>"
      ]
     },
     "metadata": {
      "needs_background": "light"
     },
     "output_type": "display_data"
    },
    {
     "name": "stdout",
     "output_type": "stream",
     "text": [
      "均方误差: 0.007844\n",
      "均方根误差: 0.088565\n",
      "平均绝对误差: 0.070924\n"
     ]
    }
   ],
   "source": [
    "# 测试集输入模型进行预测\n",
    "predicted_stock_price = model.predict(x_test)\n",
    "\n",
    "# 对预测数据还原---从（0，1）反归一化到原始范围\n",
    "predicted_stock_price = sc_for_visual.inverse_transform(predicted_stock_price)\n",
    "\n",
    "# 对真实数据还原---从（0，1）反归一化到原始范围\n",
    "real_stock_price = sc_for_visual.inverse_transform(y_test_for_visual[30:])\n",
    "# 画出真实数据和预测数据的对比曲线\n",
    "# 画出真实数据和预测数据的对比曲线\n",
    "plt.plot(real_stock_price, color='red', label='national debt Price')\n",
    "plt.plot(predicted_stock_price, color='blue', label='Predicted by CNN')\n",
    "plt.title('national debt Price Prediction')\n",
    "plt.xlabel('Time')\n",
    "plt.ylabel('national debt Price')\n",
    "plt.legend()\n",
    "plt.show()\n",
    "\n",
    "##########evaluate##############\n",
    "# calculate MSE 均方误差 ---> E[(预测值-真实值)^2] (预测值减真实值求平方后求均值)\n",
    "mse = mean_squared_error(predicted_stock_price, real_stock_price)\n",
    "# calculate RMSE 均方根误差--->sqrt[MSE]    (对均方误差开方)\n",
    "rmse = math.sqrt(mean_squared_error(predicted_stock_price, real_stock_price))\n",
    "# calculate MAE 平均绝对误差----->E[|预测值-真实值|](预测值减真实值求绝对值后求均值）\n",
    "mae = mean_absolute_error(predicted_stock_price, real_stock_price)\n",
    "print('均方误差: %.6f' % mse)\n",
    "print('均方根误差: %.6f' % rmse)\n",
    "print('平均绝对误差: %.6f' % mae)"
   ]
  },
  {
   "cell_type": "code",
   "execution_count": 9,
   "metadata": {},
   "outputs": [
    {
     "name": "stdout",
     "output_type": "stream",
     "text": [
      "0.8138170498162632\n"
     ]
    }
   ],
   "source": [
    "from sklearn.metrics import explained_variance_score\n",
    "import seaborn as sns\n",
    "\n",
    "cm = explained_variance_score(real_stock_price, predicted_stock_price)\n",
    "\n",
    "print(cm )"
   ]
  },
  {
   "cell_type": "code",
   "execution_count": null,
   "metadata": {},
   "outputs": [],
   "source": []
  }
 ],
 "metadata": {
  "kernelspec": {
   "display_name": "Python 3",
   "language": "python",
   "name": "python3"
  },
  "language_info": {
   "codemirror_mode": {
    "name": "ipython",
    "version": 3
   },
   "file_extension": ".py",
   "mimetype": "text/x-python",
   "name": "python",
   "nbconvert_exporter": "python",
   "pygments_lexer": "ipython3",
   "version": "3.7.4"
  }
 },
 "nbformat": 4,
 "nbformat_minor": 2
}
