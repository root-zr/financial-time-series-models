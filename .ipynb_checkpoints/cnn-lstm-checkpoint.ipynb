{
 "cells": [
  {
   "cell_type": "code",
   "execution_count": 2,
   "metadata": {},
   "outputs": [],
   "source": [
    "from IPython.core.interactiveshell import InteractiveShell  #执行该代码可以使得当前nb支持多输出\n",
    "InteractiveShell.ast_node_interactivity = \"all\" \n",
    "import numpy as np\n",
    "from datetime import datetime\n",
    "import pandas as pd \n",
    "import matplotlib.pyplot as plt\n",
    "plt.rcParams['font.sans-serif'] = ['SimHei']\n",
    "plt.rcParams['axes.unicode_minus'] = False \n",
    "from mpl_toolkits.mplot3d import Axes3D\n",
    "\n",
    "import tensorflow as tf\n",
    "from tensorflow.keras.layers import Dropout, Dense, LSTM\n",
    "import os\n",
    "from sklearn.preprocessing import MinMaxScaler\n",
    "from sklearn.metrics import mean_squared_error, mean_absolute_error\n",
    "import math\n",
    "\n",
    "\n",
    "pd.options.display.max_rows = 8  \n",
    "%matplotlib inline"
   ]
  },
  {
   "cell_type": "markdown",
   "metadata": {},
   "source": [
    "读取数据"
   ]
  },
  {
   "cell_type": "code",
   "execution_count": 50,
   "metadata": {
    "scrolled": true
   },
   "outputs": [
    {
     "data": {
      "text/html": [
       "<div>\n",
       "<style scoped>\n",
       "    .dataframe tbody tr th:only-of-type {\n",
       "        vertical-align: middle;\n",
       "    }\n",
       "\n",
       "    .dataframe tbody tr th {\n",
       "        vertical-align: top;\n",
       "    }\n",
       "\n",
       "    .dataframe thead th {\n",
       "        text-align: right;\n",
       "    }\n",
       "</style>\n",
       "<table border=\"1\" class=\"dataframe\">\n",
       "  <thead>\n",
       "    <tr style=\"text-align: right;\">\n",
       "      <th></th>\n",
       "      <th>开盘</th>\n",
       "      <th>收盘</th>\n",
       "      <th>高</th>\n",
       "      <th>低</th>\n",
       "      <th>涨跌幅</th>\n",
       "    </tr>\n",
       "    <tr>\n",
       "      <th>日期</th>\n",
       "      <th></th>\n",
       "      <th></th>\n",
       "      <th></th>\n",
       "      <th></th>\n",
       "      <th></th>\n",
       "    </tr>\n",
       "  </thead>\n",
       "  <tbody>\n",
       "    <tr>\n",
       "      <td>2016/1/21</td>\n",
       "      <td>2.683</td>\n",
       "      <td>2.700</td>\n",
       "      <td>2.703</td>\n",
       "      <td>2.680</td>\n",
       "      <td>0.78%</td>\n",
       "    </tr>\n",
       "    <tr>\n",
       "      <td>2016/1/22</td>\n",
       "      <td>2.705</td>\n",
       "      <td>2.689</td>\n",
       "      <td>2.705</td>\n",
       "      <td>2.682</td>\n",
       "      <td>-0.41%</td>\n",
       "    </tr>\n",
       "    <tr>\n",
       "      <td>2016/1/25</td>\n",
       "      <td>2.750</td>\n",
       "      <td>2.694</td>\n",
       "      <td>2.750</td>\n",
       "      <td>2.680</td>\n",
       "      <td>0.19%</td>\n",
       "    </tr>\n",
       "    <tr>\n",
       "      <td>2016/1/26</td>\n",
       "      <td>2.703</td>\n",
       "      <td>2.738</td>\n",
       "      <td>2.740</td>\n",
       "      <td>2.690</td>\n",
       "      <td>1.63%</td>\n",
       "    </tr>\n",
       "    <tr>\n",
       "      <td>2016/1/27</td>\n",
       "      <td>2.763</td>\n",
       "      <td>2.774</td>\n",
       "      <td>2.783</td>\n",
       "      <td>2.763</td>\n",
       "      <td>1.31%</td>\n",
       "    </tr>\n",
       "  </tbody>\n",
       "</table>\n",
       "</div>"
      ],
      "text/plain": [
       "              开盘     收盘      高      低     涨跌幅\n",
       "日期                                           \n",
       "2016/1/21  2.683  2.700  2.703  2.680   0.78%\n",
       "2016/1/22  2.705  2.689  2.705  2.682  -0.41%\n",
       "2016/1/25  2.750  2.694  2.750  2.680   0.19%\n",
       "2016/1/26  2.703  2.738  2.740  2.690   1.63%\n",
       "2016/1/27  2.763  2.774  2.783  2.763   1.31%"
      ]
     },
     "execution_count": 50,
     "metadata": {},
     "output_type": "execute_result"
    },
    {
     "data": {
      "text/html": [
       "<div>\n",
       "<style scoped>\n",
       "    .dataframe tbody tr th:only-of-type {\n",
       "        vertical-align: middle;\n",
       "    }\n",
       "\n",
       "    .dataframe tbody tr th {\n",
       "        vertical-align: top;\n",
       "    }\n",
       "\n",
       "    .dataframe thead th {\n",
       "        text-align: right;\n",
       "    }\n",
       "</style>\n",
       "<table border=\"1\" class=\"dataframe\">\n",
       "  <thead>\n",
       "    <tr style=\"text-align: right;\">\n",
       "      <th></th>\n",
       "      <th>开盘</th>\n",
       "      <th>收盘</th>\n",
       "      <th>高</th>\n",
       "      <th>低</th>\n",
       "    </tr>\n",
       "  </thead>\n",
       "  <tbody>\n",
       "    <tr>\n",
       "      <td>count</td>\n",
       "      <td>1563.000000</td>\n",
       "      <td>1563.000000</td>\n",
       "      <td>1563.000000</td>\n",
       "      <td>1563.000000</td>\n",
       "    </tr>\n",
       "    <tr>\n",
       "      <td>mean</td>\n",
       "      <td>3.041862</td>\n",
       "      <td>3.022280</td>\n",
       "      <td>3.049060</td>\n",
       "      <td>3.010074</td>\n",
       "    </tr>\n",
       "    <tr>\n",
       "      <td>std</td>\n",
       "      <td>0.419688</td>\n",
       "      <td>0.420101</td>\n",
       "      <td>0.418939</td>\n",
       "      <td>0.420670</td>\n",
       "    </tr>\n",
       "    <tr>\n",
       "      <td>min</td>\n",
       "      <td>1.740000</td>\n",
       "      <td>1.740000</td>\n",
       "      <td>1.740000</td>\n",
       "      <td>1.740000</td>\n",
       "    </tr>\n",
       "    <tr>\n",
       "      <td>25%</td>\n",
       "      <td>2.746000</td>\n",
       "      <td>2.712000</td>\n",
       "      <td>2.750000</td>\n",
       "      <td>2.697000</td>\n",
       "    </tr>\n",
       "    <tr>\n",
       "      <td>50%</td>\n",
       "      <td>3.012000</td>\n",
       "      <td>2.993000</td>\n",
       "      <td>3.018000</td>\n",
       "      <td>2.983000</td>\n",
       "    </tr>\n",
       "    <tr>\n",
       "      <td>75%</td>\n",
       "      <td>3.261000</td>\n",
       "      <td>3.234000</td>\n",
       "      <td>3.269000</td>\n",
       "      <td>3.219000</td>\n",
       "    </tr>\n",
       "    <tr>\n",
       "      <td>max</td>\n",
       "      <td>4.000000</td>\n",
       "      <td>3.968000</td>\n",
       "      <td>4.000000</td>\n",
       "      <td>3.952000</td>\n",
       "    </tr>\n",
       "  </tbody>\n",
       "</table>\n",
       "</div>"
      ],
      "text/plain": [
       "                开盘           收盘            高            低\n",
       "count  1563.000000  1563.000000  1563.000000  1563.000000\n",
       "mean      3.041862     3.022280     3.049060     3.010074\n",
       "std       0.419688     0.420101     0.418939     0.420670\n",
       "min       1.740000     1.740000     1.740000     1.740000\n",
       "25%       2.746000     2.712000     2.750000     2.697000\n",
       "50%       3.012000     2.993000     3.018000     2.983000\n",
       "75%       3.261000     3.234000     3.269000     3.219000\n",
       "max       4.000000     3.968000     4.000000     3.952000"
      ]
     },
     "execution_count": 50,
     "metadata": {},
     "output_type": "execute_result"
    },
    {
     "data": {
      "text/html": [
       "<div>\n",
       "<style scoped>\n",
       "    .dataframe tbody tr th:only-of-type {\n",
       "        vertical-align: middle;\n",
       "    }\n",
       "\n",
       "    .dataframe tbody tr th {\n",
       "        vertical-align: top;\n",
       "    }\n",
       "\n",
       "    .dataframe thead th {\n",
       "        text-align: right;\n",
       "    }\n",
       "</style>\n",
       "<table border=\"1\" class=\"dataframe\">\n",
       "  <thead>\n",
       "    <tr style=\"text-align: right;\">\n",
       "      <th></th>\n",
       "      <th>开盘</th>\n",
       "      <th>收盘</th>\n",
       "      <th>高</th>\n",
       "      <th>低</th>\n",
       "      <th>涨跌幅</th>\n",
       "    </tr>\n",
       "    <tr>\n",
       "      <th>日期</th>\n",
       "      <th></th>\n",
       "      <th></th>\n",
       "      <th></th>\n",
       "      <th></th>\n",
       "      <th></th>\n",
       "    </tr>\n",
       "  </thead>\n",
       "  <tbody>\n",
       "    <tr>\n",
       "      <td>2016/1/21</td>\n",
       "      <td>2.683</td>\n",
       "      <td>2.700</td>\n",
       "      <td>2.703</td>\n",
       "      <td>2.680</td>\n",
       "      <td>0.0078</td>\n",
       "    </tr>\n",
       "    <tr>\n",
       "      <td>2016/1/22</td>\n",
       "      <td>2.705</td>\n",
       "      <td>2.689</td>\n",
       "      <td>2.705</td>\n",
       "      <td>2.682</td>\n",
       "      <td>-0.0041</td>\n",
       "    </tr>\n",
       "    <tr>\n",
       "      <td>2016/1/25</td>\n",
       "      <td>2.750</td>\n",
       "      <td>2.694</td>\n",
       "      <td>2.750</td>\n",
       "      <td>2.680</td>\n",
       "      <td>0.0019</td>\n",
       "    </tr>\n",
       "    <tr>\n",
       "      <td>2016/1/26</td>\n",
       "      <td>2.703</td>\n",
       "      <td>2.738</td>\n",
       "      <td>2.740</td>\n",
       "      <td>2.690</td>\n",
       "      <td>0.0163</td>\n",
       "    </tr>\n",
       "    <tr>\n",
       "      <td>2016/1/27</td>\n",
       "      <td>2.763</td>\n",
       "      <td>2.774</td>\n",
       "      <td>2.783</td>\n",
       "      <td>2.763</td>\n",
       "      <td>0.0131</td>\n",
       "    </tr>\n",
       "  </tbody>\n",
       "</table>\n",
       "</div>"
      ],
      "text/plain": [
       "              开盘     收盘      高      低     涨跌幅\n",
       "日期                                           \n",
       "2016/1/21  2.683  2.700  2.703  2.680  0.0078\n",
       "2016/1/22  2.705  2.689  2.705  2.682 -0.0041\n",
       "2016/1/25  2.750  2.694  2.750  2.680  0.0019\n",
       "2016/1/26  2.703  2.738  2.740  2.690  0.0163\n",
       "2016/1/27  2.763  2.774  2.783  2.763  0.0131"
      ]
     },
     "execution_count": 50,
     "metadata": {},
     "output_type": "execute_result"
    }
   ],
   "source": [
    "national_debt = pd.read_csv('data/national_debt_5y.csv',index_col = 0,encoding = 'gb2312')  # 读取股票文件\n",
    "national_debt.head()\n",
    "national_debt.describe()\n",
    "\n",
    "national_debt['涨跌幅'] = national_debt['涨跌幅'].str.strip(\"%\").astype(float)/100\n",
    "national_debt.head()"
   ]
  },
  {
   "cell_type": "markdown",
   "metadata": {},
   "source": [
    "开盘价原始数据可视化"
   ]
  },
  {
   "cell_type": "code",
   "execution_count": 51,
   "metadata": {},
   "outputs": [
    {
     "data": {
      "text/plain": [
       "<Figure size 432x288 with 0 Axes>"
      ]
     },
     "metadata": {},
     "output_type": "display_data"
    },
    {
     "data": {
      "image/png": "[encoded data removed]",
      "text/plain": [
       "<Figure size 432x288 with 1 Axes>"
      ]
     },
     "metadata": {
      "needs_background": "light"
     },
     "output_type": "display_data"
    }
   ],
   "source": [
    "def draw_ts(timeSeries):\n",
    "    f = plt.figure(facecolor='white')\n",
    "    timeSeries.plot(color='blue')\n",
    "    plt.show()\n",
    "    \n",
    "draw_ts(pd.DataFrame(national_debt['开盘']))"
   ]
  },
  {
   "cell_type": "markdown",
   "metadata": {},
   "source": [
    "数据预处理"
   ]
  },
  {
   "cell_type": "code",
   "execution_count": 52,
   "metadata": {},
   "outputs": [],
   "source": [
    "# 前(1563-300=1263)天的开盘价作为训练集,表格从0开始计数，,0:1 是提取[0:1)列，前闭后开\n",
    "training_set = national_debt.iloc[0:1563 - 600,0:].values  \n",
    "\n",
    "#中间300天的数据作为验证集\n",
    "valid_set= national_debt.iloc[1563 - 600:1563 - 300, 0:].values  \n",
    "\n",
    "# 后300天的开盘价作为测试集\n",
    "test_set = national_debt.iloc[1563 - 300:1563, 0:].values  \n",
    "\n",
    "# 归一化\n",
    "sc = MinMaxScaler(feature_range=(0, 1))  # 定义归一化：归一化到(0，1)之间\n",
    "training_set_scaled = sc.fit_transform(training_set)  # 求得训练集的最大值，最小值这些训练集固有的属性，并在训练集上进行归一化\n",
    "valid_set = sc.transform(valid_set)\n",
    "test_set = sc.transform(test_set)  # 利用训练集的属性对测试集进行归一化\n",
    "\n",
    "#对开盘价数据进行归一化，方便后续可视化展示\n",
    "sc_for_visual = MinMaxScaler(feature_range=(0, 1))  \n",
    "y_test_for_visual_scaled = sc_for_visual.fit_transform(national_debt.iloc[0:1563 - 600, 0:1].values ) \n",
    "y_test_for_visual = sc_for_visual.transform(national_debt.iloc[1563 - 300:1563, 0:1].values )"
   ]
  },
  {
   "cell_type": "markdown",
   "metadata": {},
   "source": [
    "得到训练集和测试集的数据"
   ]
  },
  {
   "cell_type": "code",
   "execution_count": 77,
   "metadata": {
    "scrolled": true
   },
   "outputs": [
    {
     "name": "stdout",
     "output_type": "stream",
     "text": [
      "[[[0.18613607 0.16322581 0.18825782 0.49134615]\n",
      "  [0.17907574 0.16451613 0.18953414 0.37692308]\n",
      "  [0.18228498 0.19354839 0.18825782 0.43461538]\n",
      "  ...\n",
      "  [0.22400513 0.21935484 0.20102106 0.3125    ]\n",
      "  [0.20667522 0.20967742 0.21825144 0.32211538]\n",
      "  [0.21630295 0.19677419 0.22846203 0.46923077]]\n",
      "\n",
      " [[0.17907574 0.16451613 0.18953414 0.37692308]\n",
      "  [0.18228498 0.19354839 0.18825782 0.43461538]\n",
      "  [0.21052632 0.18709677 0.19463944 0.57307692]\n",
      "  ...\n",
      "  [0.20667522 0.20967742 0.21825144 0.32211538]\n",
      "  [0.21630295 0.19677419 0.22846203 0.46923077]\n",
      "  [0.2156611  0.19870968 0.22782387 0.4125    ]]\n",
      "\n",
      " [[0.18228498 0.19354839 0.18825782 0.43461538]\n",
      "  [0.21052632 0.18709677 0.19463944 0.57307692]\n",
      "  [0.23363286 0.21483871 0.24122527 0.54230769]\n",
      "  ...\n",
      "  [0.21630295 0.19677419 0.22846203 0.46923077]\n",
      "  [0.2156611  0.19870968 0.22782387 0.4125    ]\n",
      "  [0.20603338 0.19870968 0.22016592 0.36346154]]\n",
      "\n",
      " ...\n",
      "\n",
      " [[0.31643132 0.29354839 0.3114231  0.51634615]\n",
      "  [0.32926829 0.3083871  0.33056796 0.48269231]\n",
      "  [0.3241335  0.31483871 0.33184429 0.39038462]\n",
      "  ...\n",
      "  [0.35686778 0.33612903 0.35928526 0.43557692]\n",
      "  [0.35879332 0.33935484 0.37141034 0.42596154]\n",
      "  [0.34531451 0.32258065 0.34779834 0.34807692]]\n",
      "\n",
      " [[0.32926829 0.3083871  0.33056796 0.48269231]\n",
      "  [0.3241335  0.31483871 0.33184429 0.39038462]\n",
      "  [0.33697047 0.32258065 0.33694959 0.48269231]\n",
      "  ...\n",
      "  [0.35879332 0.33935484 0.37141034 0.42596154]\n",
      "  [0.34531451 0.32258065 0.34779834 0.34807692]\n",
      "  [0.34403081 0.32580645 0.35609445 0.40961538]]\n",
      "\n",
      " [[0.3241335  0.31483871 0.33184429 0.39038462]\n",
      "  [0.33697047 0.32258065 0.33694959 0.48269231]\n",
      "  [0.3491656  0.35483871 0.34779834 0.47884615]\n",
      "  ...\n",
      "  [0.34531451 0.32258065 0.34779834 0.34807692]\n",
      "  [0.34403081 0.32580645 0.35609445 0.40961538]\n",
      "  [0.35622593 0.33225806 0.35928526 0.47788462]]]\n"
     ]
    }
   ],
   "source": [
    "x_train = []\n",
    "y_train = []\n",
    "\n",
    "x_valid = []\n",
    "y_valid = []\n",
    "\n",
    "x_test = []\n",
    "y_test = []\n",
    "\n",
    "# 利用for循环，遍历整个训练集，提取训练集中连续10天的开盘价作为输入特征x_train，第11天的数据作为标签\n",
    "for i in range(10, len(training_set_scaled)):\n",
    "    x_train.append(training_set_scaled[i - 10:i, 1:]) \n",
    "    y_train.append(training_set_scaled[i, 0])\n",
    "\n",
    "\n",
    "# 将训练集由list格式变为array格式\n",
    "x_train, y_train = np.array(x_train), np.array(y_train)\n",
    "x_train = np.reshape(x_train, (x_train.shape[0], 10,4))\n",
    "print(x_train)\n",
    "\n",
    "#验证集\n",
    "for i in range(10, len(valid_set)):\n",
    "    x_valid.append(valid_set[i - 10:i,1:])\n",
    "    y_valid.append(valid_set[i, 0])\n",
    "x_valid, y_valid = np.array(x_valid), np.array(y_valid)\n",
    "x_valid = np.reshape(x_valid, (x_valid.shape[0], 10,4))\n",
    "\n",
    "\n",
    "# 测试集：csv表格中后300天数据\n",
    "# 利用for循环，遍历整个测试集，提取测试集中连续10天的开盘价作为输入特征x_train，\n",
    "# 第11天的数据作为标签，for循环共构建300-10=290组数据。\n",
    "for i in range(10, len(test_set)):\n",
    "    x_test.append(test_set[i - 10:i,1:])\n",
    "    y_test.append(test_set[i, 0])\n",
    "# 测试集变array并reshape为符合CNN和RNN输入要求：\n",
    "#RNN: [送入样本数， 循环核时间展开步数， 每个时间步输入特征个数]\n",
    "x_test, y_test = np.array(x_test), np.array(y_test)\n",
    "x_test = np.reshape(x_test, (x_test.shape[0],10,4))"
   ]
  },
  {
   "cell_type": "markdown",
   "metadata": {},
   "source": [
    "训练模型"
   ]
  },
  {
   "cell_type": "code",
   "execution_count": 87,
   "metadata": {
    "scrolled": true
   },
   "outputs": [
    {
     "name": "stdout",
     "output_type": "stream",
     "text": [
      "-------------load the model-----------------\n"
     ]
    },
    {
     "data": {
      "text/plain": [
       "<tensorflow.python.training.tracking.util.CheckpointLoadStatus at 0x1c6045663c8>"
      ]
     },
     "execution_count": 87,
     "metadata": {},
     "output_type": "execute_result"
    },
    {
     "name": "stdout",
     "output_type": "stream",
     "text": [
      "Train...\n",
      "Epoch 1/400\n",
      "15/15 [==============================] - 1s 60ms/step - loss: 9.5667e-04 - val_loss: 0.0094\n",
      "Epoch 2/400\n",
      "15/15 [==============================] - 0s 23ms/step - loss: 0.0012 - val_loss: 0.0092\n",
      "Epoch 3/400\n",
      "15/15 [==============================] - 0s 10ms/step - loss: 0.0011 - val_loss: 0.0118\n",
      "Epoch 4/400\n",
      "15/15 [==============================] - 0s 9ms/step - loss: 9.7388e-04 - val_loss: 0.0110\n",
      "Epoch 5/400\n",
      "15/15 [==============================] - 0s 9ms/step - loss: 0.0013 - val_loss: 0.0102\n",
      "Epoch 6/400\n",
      "15/15 [==============================] - 0s 9ms/step - loss: 0.0011 - val_loss: 0.0124\n",
      "Epoch 7/400\n",
      "15/15 [==============================] - 0s 9ms/step - loss: 0.0011 - val_loss: 0.0128\n",
      "Epoch 8/400\n",
      "15/15 [==============================] - 0s 21ms/step - loss: 0.0013 - val_loss: 0.0085\n",
      "Epoch 9/400\n",
      "15/15 [==============================] - 0s 10ms/step - loss: 0.0011 - val_loss: 0.0092\n",
      "Epoch 10/400\n",
      "15/15 [==============================] - 0s 9ms/step - loss: 0.0010 - val_loss: 0.0109\n",
      "Epoch 11/400\n",
      "15/15 [==============================] - 0s 9ms/step - loss: 0.0010 - val_loss: 0.0103\n",
      "Epoch 12/400\n",
      "15/15 [==============================] - 0s 9ms/step - loss: 0.0010 - val_loss: 0.0099\n",
      "Epoch 13/400\n",
      "15/15 [==============================] - 0s 9ms/step - loss: 9.7667e-04 - val_loss: 0.0092\n",
      "Epoch 14/400\n",
      "15/15 [==============================] - 0s 22ms/step - loss: 9.1300e-04 - val_loss: 0.0077\n",
      "Epoch 15/400\n",
      "15/15 [==============================] - 0s 9ms/step - loss: 0.0010 - val_loss: 0.0087\n",
      "Epoch 16/400\n",
      "15/15 [==============================] - 0s 10ms/step - loss: 0.0010 - val_loss: 0.0101\n",
      "Epoch 17/400\n",
      "15/15 [==============================] - 0s 9ms/step - loss: 8.4689e-04 - val_loss: 0.0095\n",
      "Epoch 18/400\n",
      "15/15 [==============================] - 0s 9ms/step - loss: 9.0448e-04 - val_loss: 0.0101\n",
      "Epoch 19/400\n",
      "15/15 [==============================] - 0s 9ms/step - loss: 8.7448e-04 - val_loss: 0.0106\n",
      "Epoch 20/400\n",
      "15/15 [==============================] - 0s 9ms/step - loss: 0.0011 - val_loss: 0.0120\n",
      "Epoch 21/400\n",
      "15/15 [==============================] - 0s 11ms/step - loss: 9.9810e-04 - val_loss: 0.0116\n",
      "Epoch 22/400\n",
      "15/15 [==============================] - 0s 10ms/step - loss: 0.0010 - val_loss: 0.0105\n",
      "Epoch 23/400\n",
      "15/15 [==============================] - 0s 9ms/step - loss: 8.6429e-04 - val_loss: 0.0123\n",
      "Epoch 24/400\n",
      "15/15 [==============================] - 0s 9ms/step - loss: 0.0011 - val_loss: 0.0127\n",
      "Epoch 25/400\n",
      "15/15 [==============================] - 0s 9ms/step - loss: 0.0011 - val_loss: 0.0089\n",
      "Epoch 26/400\n",
      "15/15 [==============================] - 0s 25ms/step - loss: 9.1499e-04 - val_loss: 0.0075\n",
      "Epoch 27/400\n",
      "15/15 [==============================] - 0s 10ms/step - loss: 0.0011 - val_loss: 0.0090\n",
      "Epoch 28/400\n",
      "15/15 [==============================] - 0s 22ms/step - loss: 0.0012 - val_loss: 0.0062\n",
      "Epoch 29/400\n",
      "15/15 [==============================] - 0s 11ms/step - loss: 0.0010 - val_loss: 0.0097\n",
      "Epoch 30/400\n",
      "15/15 [==============================] - 0s 10ms/step - loss: 0.0013 - val_loss: 0.0087\n",
      "Epoch 31/400\n",
      "15/15 [==============================] - 0s 21ms/step - loss: 0.0016 - val_loss: 0.0048\n",
      "Epoch 32/400\n",
      "15/15 [==============================] - 0s 11ms/step - loss: 0.0011 - val_loss: 0.0062\n",
      "Epoch 33/400\n",
      "15/15 [==============================] - 0s 10ms/step - loss: 9.1386e-04 - val_loss: 0.0067\n",
      "Epoch 34/400\n",
      "15/15 [==============================] - 0s 9ms/step - loss: 0.0011 - val_loss: 0.0086\n",
      "Epoch 35/400\n",
      "15/15 [==============================] - 0s 9ms/step - loss: 8.9480e-04 - val_loss: 0.0108\n",
      "Epoch 36/400\n",
      "15/15 [==============================] - 0s 9ms/step - loss: 0.0011 - val_loss: 0.0088\n",
      "Epoch 37/400\n",
      "15/15 [==============================] - 0s 9ms/step - loss: 0.0011 - val_loss: 0.0089\n",
      "Epoch 38/400\n",
      "15/15 [==============================] - 0s 9ms/step - loss: 9.7296e-04 - val_loss: 0.0099\n",
      "Epoch 39/400\n",
      "15/15 [==============================] - 0s 10ms/step - loss: 0.0010 - val_loss: 0.0098\n",
      "Epoch 40/400\n",
      "15/15 [==============================] - 0s 9ms/step - loss: 9.8780e-04 - val_loss: 0.0117\n",
      "Epoch 41/400\n",
      "15/15 [==============================] - 0s 9ms/step - loss: 0.0012 - val_loss: 0.0088\n",
      "Epoch 42/400\n",
      "15/15 [==============================] - 0s 9ms/step - loss: 0.0012 - val_loss: 0.0068\n",
      "Epoch 43/400\n",
      "15/15 [==============================] - 0s 9ms/step - loss: 0.0011 - val_loss: 0.0083\n",
      "Epoch 44/400\n",
      "15/15 [==============================] - 0s 9ms/step - loss: 0.0010 - val_loss: 0.0096\n",
      "Epoch 45/400\n",
      "15/15 [==============================] - 0s 9ms/step - loss: 0.0012 - val_loss: 0.0101\n",
      "Epoch 46/400\n",
      "15/15 [==============================] - 0s 10ms/step - loss: 9.2877e-04 - val_loss: 0.0095\n",
      "Epoch 47/400\n",
      "15/15 [==============================] - 0s 10ms/step - loss: 0.0011 - val_loss: 0.0081\n",
      "Epoch 48/400\n",
      "15/15 [==============================] - 0s 9ms/step - loss: 0.0013 - val_loss: 0.0084\n",
      "Epoch 49/400\n",
      "15/15 [==============================] - 0s 10ms/step - loss: 0.0010 - val_loss: 0.0112\n",
      "Epoch 50/400\n",
      "15/15 [==============================] - 0s 9ms/step - loss: 0.0011 - val_loss: 0.0080\n",
      "Epoch 51/400\n",
      "15/15 [==============================] - 0s 9ms/step - loss: 0.0010 - val_loss: 0.0088\n",
      "Epoch 52/400\n",
      "15/15 [==============================] - 0s 10ms/step - loss: 8.9199e-04 - val_loss: 0.0087\n",
      "Epoch 53/400\n",
      "15/15 [==============================] - 0s 22ms/step - loss: 9.4570e-04 - val_loss: 0.0071\n",
      "Epoch 54/400\n",
      "15/15 [==============================] - 0s 21ms/step - loss: 9.9960e-04 - val_loss: 0.0062\n",
      "Epoch 55/400\n",
      "15/15 [==============================] - 0s 20ms/step - loss: 9.6186e-04 - val_loss: 0.0065\n",
      "Epoch 56/400\n",
      "15/15 [==============================] - 0s 21ms/step - loss: 0.0012 - val_loss: 0.0073\n",
      "Epoch 57/400\n",
      "15/15 [==============================] - 0s 21ms/step - loss: 0.0013 - val_loss: 0.0070\n",
      "Epoch 58/400\n",
      "15/15 [==============================] - 0s 20ms/step - loss: 0.0011 - val_loss: 0.0077\n",
      "Epoch 59/400\n",
      "15/15 [==============================] - 0s 20ms/step - loss: 0.0011 - val_loss: 0.0086\n",
      "Epoch 60/400\n",
      "15/15 [==============================] - 0s 21ms/step - loss: 0.0012 - val_loss: 0.0073\n",
      "Epoch 61/400\n",
      "15/15 [==============================] - 0s 21ms/step - loss: 7.7619e-04 - val_loss: 0.0066\n",
      "Epoch 62/400\n",
      "15/15 [==============================] - 0s 21ms/step - loss: 8.9756e-04 - val_loss: 0.0070\n",
      "Epoch 63/400\n",
      "15/15 [==============================] - 1s 40ms/step - loss: 9.7020e-04 - val_loss: 0.0046\n",
      "Epoch 64/400\n",
      "15/15 [==============================] - 0s 21ms/step - loss: 9.0421e-04 - val_loss: 0.0093\n",
      "Epoch 65/400\n",
      "15/15 [==============================] - 0s 21ms/step - loss: 9.4421e-04 - val_loss: 0.0059\n",
      "Epoch 66/400\n",
      "15/15 [==============================] - 0s 22ms/step - loss: 8.4717e-04 - val_loss: 0.0070\n",
      "Epoch 67/400\n",
      "15/15 [==============================] - 0s 21ms/step - loss: 0.0010 - val_loss: 0.0056\n",
      "Epoch 68/400\n",
      "15/15 [==============================] - 0s 21ms/step - loss: 0.0010 - val_loss: 0.0092\n",
      "Epoch 69/400\n",
      "15/15 [==============================] - 0s 21ms/step - loss: 0.0010 - val_loss: 0.0059\n",
      "Epoch 70/400\n",
      "15/15 [==============================] - 0s 21ms/step - loss: 0.0010 - val_loss: 0.0090\n",
      "Epoch 71/400\n",
      "15/15 [==============================] - 0s 20ms/step - loss: 0.0010 - val_loss: 0.0057\n",
      "Epoch 72/400\n",
      "15/15 [==============================] - 0s 21ms/step - loss: 8.8304e-04 - val_loss: 0.0086\n",
      "Epoch 73/400\n",
      "15/15 [==============================] - 0s 22ms/step - loss: 9.9928e-04 - val_loss: 0.0092\n",
      "Epoch 74/400\n",
      "15/15 [==============================] - 0s 20ms/step - loss: 0.0010 - val_loss: 0.0087\n",
      "Epoch 75/400\n",
      "15/15 [==============================] - 0s 22ms/step - loss: 8.8451e-04 - val_loss: 0.0064\n",
      "Epoch 76/400\n",
      "15/15 [==============================] - 0s 22ms/step - loss: 8.5823e-04 - val_loss: 0.0061\n",
      "Epoch 77/400\n",
      "15/15 [==============================] - 0s 20ms/step - loss: 0.0011 - val_loss: 0.0067\n",
      "Epoch 78/400\n",
      "15/15 [==============================] - 0s 21ms/step - loss: 9.7146e-04 - val_loss: 0.0065\n",
      "Epoch 79/400\n",
      "15/15 [==============================] - 0s 23ms/step - loss: 9.4884e-04 - val_loss: 0.0090\n",
      "Epoch 80/400\n",
      "15/15 [==============================] - 0s 22ms/step - loss: 0.0011 - val_loss: 0.0063\n",
      "Epoch 81/400\n"
     ]
    },
    {
     "name": "stdout",
     "output_type": "stream",
     "text": [
      "15/15 [==============================] - 0s 21ms/step - loss: 9.7004e-04 - val_loss: 0.0096\n",
      "Epoch 82/400\n",
      "15/15 [==============================] - 0s 23ms/step - loss: 9.2684e-04 - val_loss: 0.0094\n",
      "Epoch 83/400\n",
      "15/15 [==============================] - 0s 22ms/step - loss: 8.8094e-04 - val_loss: 0.0073\n",
      "Epoch 84/400\n",
      "15/15 [==============================] - 0s 21ms/step - loss: 0.0010 - val_loss: 0.0109\n",
      "Epoch 85/400\n",
      "15/15 [==============================] - 0s 23ms/step - loss: 8.8268e-04 - val_loss: 0.0101\n",
      "Epoch 86/400\n",
      "15/15 [==============================] - 0s 23ms/step - loss: 8.6212e-04 - val_loss: 0.0077\n",
      "Epoch 87/400\n",
      "15/15 [==============================] - 0s 19ms/step - loss: 7.9405e-04 - val_loss: 0.0059\n",
      "Epoch 88/400\n",
      "15/15 [==============================] - 0s 10ms/step - loss: 9.4454e-04 - val_loss: 0.0087\n",
      "Epoch 89/400\n",
      "15/15 [==============================] - 0s 10ms/step - loss: 8.8834e-04 - val_loss: 0.0108\n",
      "Epoch 90/400\n",
      "15/15 [==============================] - 0s 10ms/step - loss: 9.6621e-04 - val_loss: 0.0113\n",
      "Epoch 91/400\n",
      "15/15 [==============================] - 0s 9ms/step - loss: 8.6667e-04 - val_loss: 0.0073\n",
      "Epoch 92/400\n",
      "15/15 [==============================] - 0s 10ms/step - loss: 9.3956e-04 - val_loss: 0.0074\n",
      "Epoch 93/400\n",
      "15/15 [==============================] - 0s 9ms/step - loss: 8.5939e-04 - val_loss: 0.0070\n",
      "Epoch 94/400\n",
      "15/15 [==============================] - 0s 10ms/step - loss: 9.0615e-04 - val_loss: 0.0070\n",
      "Epoch 95/400\n",
      "15/15 [==============================] - 0s 9ms/step - loss: 8.2259e-04 - val_loss: 0.0067\n",
      "Epoch 96/400\n",
      "15/15 [==============================] - 0s 10ms/step - loss: 7.9512e-04 - val_loss: 0.0064\n",
      "Epoch 97/400\n",
      "15/15 [==============================] - 0s 9ms/step - loss: 9.3719e-04 - val_loss: 0.0057\n",
      "Epoch 98/400\n",
      "15/15 [==============================] - 0s 10ms/step - loss: 9.2695e-04 - val_loss: 0.0072\n",
      "Epoch 99/400\n",
      "15/15 [==============================] - 0s 9ms/step - loss: 9.5545e-04 - val_loss: 0.0097\n",
      "Epoch 100/400\n",
      "15/15 [==============================] - 0s 9ms/step - loss: 8.3791e-04 - val_loss: 0.0079\n",
      "Epoch 101/400\n",
      "15/15 [==============================] - 0s 9ms/step - loss: 9.2603e-04 - val_loss: 0.0099\n",
      "Epoch 102/400\n",
      "15/15 [==============================] - 0s 9ms/step - loss: 8.6548e-04 - val_loss: 0.0096\n",
      "Epoch 103/400\n",
      "15/15 [==============================] - 0s 9ms/step - loss: 9.5348e-04 - val_loss: 0.0096\n",
      "Epoch 104/400\n",
      "15/15 [==============================] - 0s 10ms/step - loss: 8.2179e-04 - val_loss: 0.0072\n",
      "Epoch 105/400\n",
      "15/15 [==============================] - 0s 10ms/step - loss: 7.2124e-04 - val_loss: 0.0076\n",
      "Epoch 106/400\n",
      "15/15 [==============================] - 0s 9ms/step - loss: 8.0844e-04 - val_loss: 0.0072\n",
      "Epoch 107/400\n",
      "15/15 [==============================] - 0s 9ms/step - loss: 9.3432e-04 - val_loss: 0.0101\n",
      "Epoch 108/400\n",
      "15/15 [==============================] - 0s 9ms/step - loss: 9.0071e-04 - val_loss: 0.0087\n",
      "Epoch 109/400\n",
      "15/15 [==============================] - 0s 9ms/step - loss: 0.0012 - val_loss: 0.0082\n",
      "Epoch 110/400\n",
      "15/15 [==============================] - 0s 9ms/step - loss: 9.1039e-04 - val_loss: 0.0084\n",
      "Epoch 111/400\n",
      "15/15 [==============================] - 0s 9ms/step - loss: 9.0532e-04 - val_loss: 0.0075\n",
      "Epoch 112/400\n",
      "15/15 [==============================] - 0s 9ms/step - loss: 8.8013e-04 - val_loss: 0.0056\n",
      "Epoch 113/400\n",
      "15/15 [==============================] - 0s 9ms/step - loss: 0.0010 - val_loss: 0.0067\n",
      "Epoch 114/400\n",
      "15/15 [==============================] - 0s 9ms/step - loss: 0.0010 - val_loss: 0.0069\n",
      "Epoch 115/400\n",
      "15/15 [==============================] - 0s 10ms/step - loss: 0.0011 - val_loss: 0.0063\n",
      "Epoch 116/400\n",
      "15/15 [==============================] - 0s 10ms/step - loss: 8.8305e-04 - val_loss: 0.0090\n",
      "Epoch 117/400\n",
      "15/15 [==============================] - 0s 9ms/step - loss: 9.1089e-04 - val_loss: 0.0080\n",
      "Epoch 118/400\n",
      "15/15 [==============================] - 0s 9ms/step - loss: 9.1736e-04 - val_loss: 0.0079\n",
      "Epoch 119/400\n",
      "15/15 [==============================] - 0s 10ms/step - loss: 8.8752e-04 - val_loss: 0.0078\n",
      "Epoch 120/400\n",
      "15/15 [==============================] - 0s 10ms/step - loss: 8.5567e-04 - val_loss: 0.0075\n",
      "Epoch 121/400\n",
      "15/15 [==============================] - 0s 21ms/step - loss: 9.0239e-04 - val_loss: 0.0089\n",
      "Epoch 122/400\n",
      "15/15 [==============================] - 0s 21ms/step - loss: 9.5327e-04 - val_loss: 0.0069\n",
      "Epoch 123/400\n",
      "15/15 [==============================] - 0s 21ms/step - loss: 8.3975e-04 - val_loss: 0.0080\n",
      "Epoch 124/400\n",
      "15/15 [==============================] - 0s 23ms/step - loss: 7.6927e-04 - val_loss: 0.0124\n",
      "Epoch 125/400\n",
      "15/15 [==============================] - 0s 22ms/step - loss: 8.4842e-04 - val_loss: 0.0116\n",
      "Epoch 126/400\n",
      "15/15 [==============================] - 0s 23ms/step - loss: 8.4166e-04 - val_loss: 0.0082\n",
      "Epoch 127/400\n",
      "15/15 [==============================] - 0s 22ms/step - loss: 8.3522e-04 - val_loss: 0.0077\n",
      "Epoch 128/400\n",
      "15/15 [==============================] - 0s 21ms/step - loss: 8.5223e-04 - val_loss: 0.0083\n",
      "Epoch 129/400\n",
      "15/15 [==============================] - 0s 22ms/step - loss: 8.7636e-04 - val_loss: 0.0096\n",
      "Epoch 130/400\n",
      "15/15 [==============================] - 0s 24ms/step - loss: 8.9910e-04 - val_loss: 0.0107\n",
      "Epoch 131/400\n",
      "15/15 [==============================] - 0s 22ms/step - loss: 8.1985e-04 - val_loss: 0.0076\n",
      "Epoch 132/400\n",
      "15/15 [==============================] - 0s 21ms/step - loss: 9.3796e-04 - val_loss: 0.0109\n",
      "Epoch 133/400\n",
      "15/15 [==============================] - 0s 22ms/step - loss: 7.8968e-04 - val_loss: 0.0115\n",
      "Epoch 134/400\n",
      "15/15 [==============================] - 0s 22ms/step - loss: 8.0502e-04 - val_loss: 0.0093\n",
      "Epoch 135/400\n",
      "15/15 [==============================] - 0s 21ms/step - loss: 8.1653e-04 - val_loss: 0.0100\n",
      "Epoch 136/400\n",
      "15/15 [==============================] - 0s 22ms/step - loss: 9.4525e-04 - val_loss: 0.0070\n",
      "Epoch 137/400\n",
      "15/15 [==============================] - 0s 23ms/step - loss: 9.4223e-04 - val_loss: 0.0099\n",
      "Epoch 138/400\n",
      "15/15 [==============================] - 0s 21ms/step - loss: 9.4587e-04 - val_loss: 0.0077\n",
      "Epoch 139/400\n",
      "15/15 [==============================] - 0s 22ms/step - loss: 0.0011 - val_loss: 0.0093\n",
      "Epoch 140/400\n",
      "15/15 [==============================] - 0s 23ms/step - loss: 0.0010 - val_loss: 0.0106\n",
      "Epoch 141/400\n",
      "15/15 [==============================] - 0s 21ms/step - loss: 7.7548e-04 - val_loss: 0.0076\n",
      "Epoch 142/400\n",
      "15/15 [==============================] - 0s 22ms/step - loss: 8.9130e-04 - val_loss: 0.0094\n",
      "Epoch 143/400\n",
      "15/15 [==============================] - 0s 24ms/step - loss: 9.2709e-04 - val_loss: 0.0089\n",
      "Epoch 144/400\n",
      "15/15 [==============================] - 0s 21ms/step - loss: 8.3032e-04 - val_loss: 0.0084\n",
      "Epoch 145/400\n",
      "15/15 [==============================] - 0s 21ms/step - loss: 8.8638e-04 - val_loss: 0.0095\n",
      "Epoch 146/400\n",
      "15/15 [==============================] - 0s 22ms/step - loss: 8.9527e-04 - val_loss: 0.0074\n",
      "Epoch 147/400\n",
      "15/15 [==============================] - ETA: 0s - loss: 0.001 - 0s 21ms/step - loss: 0.0011 - val_loss: 0.0111\n",
      "Epoch 148/400\n",
      "15/15 [==============================] - 0s 20ms/step - loss: 0.0010 - val_loss: 0.0118\n",
      "Epoch 149/400\n",
      "15/15 [==============================] - 0s 22ms/step - loss: 8.7552e-04 - val_loss: 0.0083\n",
      "Epoch 150/400\n",
      "15/15 [==============================] - 0s 10ms/step - loss: 8.3474e-04 - val_loss: 0.0108\n",
      "Epoch 151/400\n",
      "15/15 [==============================] - 0s 9ms/step - loss: 9.1191e-04 - val_loss: 0.0070\n",
      "Epoch 152/400\n",
      "15/15 [==============================] - 0s 9ms/step - loss: 9.5177e-04 - val_loss: 0.0078\n",
      "Epoch 153/400\n",
      "15/15 [==============================] - 0s 10ms/step - loss: 0.0010 - val_loss: 0.0083\n",
      "Epoch 154/400\n",
      "15/15 [==============================] - 0s 9ms/step - loss: 8.1497e-04 - val_loss: 0.0074\n",
      "Epoch 155/400\n",
      "15/15 [==============================] - 0s 10ms/step - loss: 9.7335e-04 - val_loss: 0.0063\n",
      "Epoch 156/400\n",
      "15/15 [==============================] - 0s 10ms/step - loss: 7.7148e-04 - val_loss: 0.0072\n",
      "Epoch 157/400\n",
      "15/15 [==============================] - 0s 8ms/step - loss: 7.5465e-04 - val_loss: 0.0084\n",
      "Epoch 158/400\n",
      "15/15 [==============================] - 0s 10ms/step - loss: 9.0533e-04 - val_loss: 0.0076\n"
     ]
    },
    {
     "name": "stdout",
     "output_type": "stream",
     "text": [
      "Epoch 159/400\n",
      "15/15 [==============================] - 0s 10ms/step - loss: 8.8168e-04 - val_loss: 0.0083\n",
      "Epoch 160/400\n",
      "15/15 [==============================] - 0s 10ms/step - loss: 8.8375e-04 - val_loss: 0.0079\n",
      "Epoch 161/400\n",
      "15/15 [==============================] - 0s 11ms/step - loss: 8.8428e-04 - val_loss: 0.0115\n",
      "Epoch 162/400\n",
      "15/15 [==============================] - 0s 11ms/step - loss: 8.4259e-04 - val_loss: 0.0094\n",
      "Epoch 163/400\n",
      "15/15 [==============================] - 0s 10ms/step - loss: 9.0328e-04 - val_loss: 0.0080\n",
      "Epoch 164/400\n",
      "15/15 [==============================] - 0s 9ms/step - loss: 8.0924e-04 - val_loss: 0.0091\n",
      "Epoch 165/400\n",
      "15/15 [==============================] - 0s 10ms/step - loss: 7.8432e-04 - val_loss: 0.0089\n",
      "Epoch 166/400\n",
      "15/15 [==============================] - 0s 9ms/step - loss: 8.2925e-04 - val_loss: 0.0075\n",
      "Epoch 167/400\n",
      "15/15 [==============================] - 0s 10ms/step - loss: 7.4365e-04 - val_loss: 0.0082\n",
      "Epoch 168/400\n",
      "15/15 [==============================] - 0s 9ms/step - loss: 7.4408e-04 - val_loss: 0.0079\n",
      "Epoch 169/400\n",
      "15/15 [==============================] - 0s 9ms/step - loss: 7.7330e-04 - val_loss: 0.0088\n",
      "Epoch 170/400\n",
      "15/15 [==============================] - 0s 10ms/step - loss: 9.1699e-04 - val_loss: 0.0109\n",
      "Epoch 171/400\n",
      "15/15 [==============================] - 0s 9ms/step - loss: 7.3012e-04 - val_loss: 0.0111\n",
      "Epoch 172/400\n",
      "15/15 [==============================] - 0s 10ms/step - loss: 7.7084e-04 - val_loss: 0.0083\n",
      "Epoch 173/400\n",
      "15/15 [==============================] - 0s 10ms/step - loss: 8.3102e-04 - val_loss: 0.0090\n",
      "Epoch 174/400\n",
      "15/15 [==============================] - 0s 10ms/step - loss: 7.6944e-04 - val_loss: 0.0069\n",
      "Epoch 175/400\n",
      "15/15 [==============================] - 0s 10ms/step - loss: 7.1092e-04 - val_loss: 0.0066\n",
      "Epoch 176/400\n",
      "15/15 [==============================] - 0s 10ms/step - loss: 8.8965e-04 - val_loss: 0.0121\n",
      "Epoch 177/400\n",
      "15/15 [==============================] - 0s 11ms/step - loss: 8.4468e-04 - val_loss: 0.0081\n",
      "Epoch 178/400\n",
      "15/15 [==============================] - 0s 9ms/step - loss: 8.9220e-04 - val_loss: 0.0089\n",
      "Epoch 179/400\n",
      "15/15 [==============================] - 0s 9ms/step - loss: 0.0010 - val_loss: 0.0088\n",
      "Epoch 180/400\n",
      "15/15 [==============================] - 0s 9ms/step - loss: 9.6530e-04 - val_loss: 0.0081\n",
      "Epoch 181/400\n",
      "15/15 [==============================] - 0s 9ms/step - loss: 0.0010 - val_loss: 0.0092\n",
      "Epoch 182/400\n",
      "15/15 [==============================] - 0s 9ms/step - loss: 8.6742e-04 - val_loss: 0.0101\n",
      "Epoch 183/400\n",
      "15/15 [==============================] - 0s 18ms/step - loss: 7.7221e-04 - val_loss: 0.0080\n",
      "Epoch 184/400\n",
      "15/15 [==============================] - 0s 22ms/step - loss: 7.4683e-04 - val_loss: 0.0088\n",
      "Epoch 185/400\n",
      "15/15 [==============================] - 0s 22ms/step - loss: 9.2454e-04 - val_loss: 0.0092\n",
      "Epoch 186/400\n",
      "15/15 [==============================] - 0s 21ms/step - loss: 8.8022e-04 - val_loss: 0.0076\n",
      "Epoch 187/400\n",
      "15/15 [==============================] - 0s 24ms/step - loss: 8.0132e-04 - val_loss: 0.0092\n",
      "Epoch 188/400\n",
      "15/15 [==============================] - 0s 21ms/step - loss: 8.0032e-04 - val_loss: 0.0100\n",
      "Epoch 189/400\n",
      "15/15 [==============================] - 0s 21ms/step - loss: 7.9653e-04 - val_loss: 0.0072\n",
      "Epoch 190/400\n",
      "15/15 [==============================] - 0s 23ms/step - loss: 8.5257e-04 - val_loss: 0.0119\n",
      "Epoch 191/400\n",
      "15/15 [==============================] - 0s 22ms/step - loss: 7.8062e-04 - val_loss: 0.0108\n",
      "Epoch 192/400\n",
      "15/15 [==============================] - 0s 21ms/step - loss: 7.6541e-04 - val_loss: 0.0096\n",
      "Epoch 193/400\n",
      "15/15 [==============================] - 0s 23ms/step - loss: 8.3470e-04 - val_loss: 0.0081\n",
      "Epoch 194/400\n",
      "15/15 [==============================] - 0s 24ms/step - loss: 9.3657e-04 - val_loss: 0.0143\n",
      "Epoch 195/400\n",
      "15/15 [==============================] - 0s 20ms/step - loss: 8.4330e-04 - val_loss: 0.0083\n",
      "Epoch 196/400\n",
      "15/15 [==============================] - 0s 22ms/step - loss: 8.2565e-04 - val_loss: 0.0113\n",
      "Epoch 197/400\n",
      "15/15 [==============================] - 0s 21ms/step - loss: 7.9045e-04 - val_loss: 0.0106\n",
      "Epoch 198/400\n",
      "15/15 [==============================] - 0s 21ms/step - loss: 8.6803e-04 - val_loss: 0.0122\n",
      "Epoch 199/400\n",
      "15/15 [==============================] - 0s 21ms/step - loss: 0.0011 - val_loss: 0.0129\n",
      "Epoch 200/400\n",
      "15/15 [==============================] - 0s 22ms/step - loss: 8.7658e-04 - val_loss: 0.0137\n",
      "Epoch 201/400\n",
      "15/15 [==============================] - 0s 21ms/step - loss: 7.6438e-04 - val_loss: 0.0141\n",
      "Epoch 202/400\n",
      "15/15 [==============================] - 0s 21ms/step - loss: 7.9518e-04 - val_loss: 0.0121\n",
      "Epoch 203/400\n",
      "15/15 [==============================] - 0s 21ms/step - loss: 8.8823e-04 - val_loss: 0.0096\n",
      "Epoch 204/400\n",
      "15/15 [==============================] - 0s 21ms/step - loss: 7.6077e-04 - val_loss: 0.0101\n",
      "Epoch 205/400\n",
      "15/15 [==============================] - 0s 20ms/step - loss: 8.1558e-04 - val_loss: 0.0091\n",
      "Epoch 206/400\n",
      "15/15 [==============================] - 0s 23ms/step - loss: 8.2700e-04 - val_loss: 0.0118\n",
      "Epoch 207/400\n",
      "15/15 [==============================] - 0s 22ms/step - loss: 8.4573e-04 - val_loss: 0.0082\n",
      "Epoch 208/400\n",
      "15/15 [==============================] - 0s 21ms/step - loss: 7.9242e-04 - val_loss: 0.0087\n",
      "Epoch 209/400\n",
      "15/15 [==============================] - 0s 21ms/step - loss: 7.9082e-04 - val_loss: 0.0137\n",
      "Epoch 210/400\n",
      "15/15 [==============================] - 0s 22ms/step - loss: 8.6111e-04 - val_loss: 0.0128\n",
      "Epoch 211/400\n",
      "15/15 [==============================] - 0s 21ms/step - loss: 0.0011 - val_loss: 0.0090\n",
      "Epoch 212/400\n",
      "15/15 [==============================] - 0s 21ms/step - loss: 9.8172e-04 - val_loss: 0.0107\n",
      "Epoch 213/400\n",
      "15/15 [==============================] - 0s 22ms/step - loss: 8.3065e-04 - val_loss: 0.0161\n",
      "Epoch 214/400\n",
      "15/15 [==============================] - 0s 22ms/step - loss: 7.8442e-04 - val_loss: 0.0112\n",
      "Epoch 215/400\n",
      "15/15 [==============================] - 0s 21ms/step - loss: 8.9662e-04 - val_loss: 0.0141\n",
      "Epoch 216/400\n",
      "15/15 [==============================] - 0s 23ms/step - loss: 0.0011 - val_loss: 0.0131\n",
      "Epoch 217/400\n",
      "15/15 [==============================] - 0s 22ms/step - loss: 0.0010 - val_loss: 0.0089\n",
      "Epoch 218/400\n",
      "15/15 [==============================] - 0s 20ms/step - loss: 0.0010 - val_loss: 0.0146\n",
      "Epoch 219/400\n",
      "15/15 [==============================] - 0s 21ms/step - loss: 8.1880e-04 - val_loss: 0.0129\n",
      "Epoch 220/400\n",
      "15/15 [==============================] - 0s 22ms/step - loss: 8.1355e-04 - val_loss: 0.0114\n",
      "Epoch 221/400\n",
      "15/15 [==============================] - 0s 20ms/step - loss: 7.5128e-04 - val_loss: 0.0126\n",
      "Epoch 222/400\n",
      "15/15 [==============================] - 0s 21ms/step - loss: 8.4369e-04 - val_loss: 0.0117\n",
      "Epoch 223/400\n",
      "15/15 [==============================] - 0s 22ms/step - loss: 7.7212e-04 - val_loss: 0.0134\n",
      "Epoch 224/400\n",
      "15/15 [==============================] - 0s 22ms/step - loss: 7.4356e-04 - val_loss: 0.0130\n",
      "Epoch 225/400\n",
      "15/15 [==============================] - 0s 20ms/step - loss: 7.3001e-04 - val_loss: 0.0093\n",
      "Epoch 226/400\n",
      "15/15 [==============================] - 0s 22ms/step - loss: 8.6909e-04 - val_loss: 0.0077\n",
      "Epoch 227/400\n",
      "15/15 [==============================] - 0s 17ms/step - loss: 8.1213e-04 - val_loss: 0.0099\n",
      "Epoch 228/400\n",
      "15/15 [==============================] - 0s 9ms/step - loss: 9.3521e-04 - val_loss: 0.0129\n",
      "Epoch 229/400\n",
      "15/15 [==============================] - 0s 9ms/step - loss: 7.9928e-04 - val_loss: 0.0117\n",
      "Epoch 230/400\n",
      "15/15 [==============================] - 0s 9ms/step - loss: 9.6777e-04 - val_loss: 0.0106\n",
      "Epoch 231/400\n",
      "15/15 [==============================] - 0s 10ms/step - loss: 7.6471e-04 - val_loss: 0.0081\n",
      "Epoch 232/400\n",
      "15/15 [==============================] - 0s 11ms/step - loss: 7.7770e-04 - val_loss: 0.0111\n",
      "Epoch 233/400\n",
      "15/15 [==============================] - 0s 10ms/step - loss: 9.0705e-04 - val_loss: 0.0093\n",
      "Epoch 234/400\n",
      "15/15 [==============================] - 0s 9ms/step - loss: 8.2059e-04 - val_loss: 0.0130\n",
      "Epoch 235/400\n",
      "15/15 [==============================] - 0s 9ms/step - loss: 0.0010 - val_loss: 0.0098\n",
      "Epoch 236/400\n"
     ]
    },
    {
     "name": "stdout",
     "output_type": "stream",
     "text": [
      "15/15 [==============================] - 0s 10ms/step - loss: 9.5727e-04 - val_loss: 0.0135\n",
      "Epoch 237/400\n",
      "15/15 [==============================] - 0s 10ms/step - loss: 8.8326e-04 - val_loss: 0.0142\n",
      "Epoch 238/400\n",
      "15/15 [==============================] - 0s 9ms/step - loss: 8.1227e-04 - val_loss: 0.0118\n",
      "Epoch 239/400\n",
      "15/15 [==============================] - 0s 10ms/step - loss: 8.3391e-04 - val_loss: 0.0117\n",
      "Epoch 240/400\n",
      "15/15 [==============================] - 0s 10ms/step - loss: 7.7091e-04 - val_loss: 0.0103\n",
      "Epoch 241/400\n",
      "15/15 [==============================] - 0s 9ms/step - loss: 8.0645e-04 - val_loss: 0.0088\n",
      "Epoch 242/400\n",
      "15/15 [==============================] - 0s 10ms/step - loss: 9.0649e-04 - val_loss: 0.0097\n",
      "Epoch 243/400\n",
      "15/15 [==============================] - 0s 9ms/step - loss: 8.8532e-04 - val_loss: 0.0082\n",
      "Epoch 244/400\n",
      "15/15 [==============================] - 0s 9ms/step - loss: 7.8267e-04 - val_loss: 0.0108\n",
      "Epoch 245/400\n",
      "15/15 [==============================] - 0s 9ms/step - loss: 8.6054e-04 - val_loss: 0.0105\n",
      "Epoch 246/400\n",
      "15/15 [==============================] - 0s 9ms/step - loss: 8.7987e-04 - val_loss: 0.0106\n",
      "Epoch 247/400\n",
      "15/15 [==============================] - 0s 11ms/step - loss: 9.7290e-04 - val_loss: 0.0118\n",
      "Epoch 248/400\n",
      "15/15 [==============================] - 0s 10ms/step - loss: 7.4819e-04 - val_loss: 0.0098\n",
      "Epoch 249/400\n",
      "15/15 [==============================] - 0s 9ms/step - loss: 8.1921e-04 - val_loss: 0.0114\n",
      "Epoch 250/400\n",
      "15/15 [==============================] - 0s 9ms/step - loss: 8.2842e-04 - val_loss: 0.0137\n",
      "Epoch 251/400\n",
      "15/15 [==============================] - 0s 9ms/step - loss: 9.2282e-04 - val_loss: 0.0128\n",
      "Epoch 252/400\n",
      "15/15 [==============================] - 0s 9ms/step - loss: 9.1770e-04 - val_loss: 0.0131\n",
      "Epoch 253/400\n",
      "15/15 [==============================] - 0s 9ms/step - loss: 7.5556e-04 - val_loss: 0.0122\n",
      "Epoch 254/400\n",
      "15/15 [==============================] - 0s 10ms/step - loss: 7.2021e-04 - val_loss: 0.0133\n",
      "Epoch 255/400\n",
      "15/15 [==============================] - 0s 9ms/step - loss: 7.6918e-04 - val_loss: 0.0131\n",
      "Epoch 256/400\n",
      "15/15 [==============================] - 0s 10ms/step - loss: 9.5599e-04 - val_loss: 0.0145\n",
      "Epoch 257/400\n",
      "15/15 [==============================] - 0s 9ms/step - loss: 9.1811e-04 - val_loss: 0.0111\n",
      "Epoch 258/400\n",
      "15/15 [==============================] - 0s 10ms/step - loss: 8.7764e-04 - val_loss: 0.0140\n",
      "Epoch 259/400\n",
      "15/15 [==============================] - 0s 9ms/step - loss: 8.2739e-04 - val_loss: 0.0124\n",
      "Epoch 260/400\n",
      "15/15 [==============================] - 0s 9ms/step - loss: 8.1732e-04 - val_loss: 0.0099\n",
      "Epoch 261/400\n",
      "15/15 [==============================] - 0s 22ms/step - loss: 7.4615e-04 - val_loss: 0.0111\n",
      "Epoch 262/400\n",
      "15/15 [==============================] - 0s 22ms/step - loss: 7.8422e-04 - val_loss: 0.0108\n",
      "Epoch 263/400\n",
      "15/15 [==============================] - 0s 21ms/step - loss: 9.3093e-04 - val_loss: 0.0079\n",
      "Epoch 264/400\n",
      "15/15 [==============================] - 0s 21ms/step - loss: 8.1473e-04 - val_loss: 0.0096\n",
      "Epoch 265/400\n",
      "15/15 [==============================] - 0s 22ms/step - loss: 8.1860e-04 - val_loss: 0.0089\n",
      "Epoch 266/400\n",
      "15/15 [==============================] - 0s 20ms/step - loss: 7.8886e-04 - val_loss: 0.0127\n",
      "Epoch 267/400\n",
      "15/15 [==============================] - 0s 20ms/step - loss: 8.4529e-04 - val_loss: 0.0117\n",
      "Epoch 268/400\n",
      "15/15 [==============================] - 0s 21ms/step - loss: 7.9268e-04 - val_loss: 0.0119\n",
      "Epoch 269/400\n",
      "15/15 [==============================] - 0s 20ms/step - loss: 7.8990e-04 - val_loss: 0.0122\n",
      "Epoch 270/400\n",
      "15/15 [==============================] - 0s 21ms/step - loss: 7.6651e-04 - val_loss: 0.0118\n",
      "Epoch 271/400\n",
      "15/15 [==============================] - 0s 21ms/step - loss: 8.2084e-04 - val_loss: 0.0153\n",
      "Epoch 272/400\n",
      "15/15 [==============================] - 0s 21ms/step - loss: 8.9776e-04 - val_loss: 0.0134\n",
      "Epoch 273/400\n",
      "15/15 [==============================] - 0s 26ms/step - loss: 8.3126e-04 - val_loss: 0.0147\n",
      "Epoch 274/400\n",
      "15/15 [==============================] - 0s 22ms/step - loss: 0.0010 - val_loss: 0.0155\n",
      "Epoch 275/400\n",
      "15/15 [==============================] - 0s 21ms/step - loss: 0.0010 - val_loss: 0.0090\n",
      "Epoch 276/400\n",
      "15/15 [==============================] - 0s 20ms/step - loss: 9.1317e-04 - val_loss: 0.0103\n",
      "Epoch 277/400\n",
      "15/15 [==============================] - 0s 21ms/step - loss: 8.3773e-04 - val_loss: 0.0096\n",
      "Epoch 278/400\n",
      "15/15 [==============================] - 0s 21ms/step - loss: 7.4462e-04 - val_loss: 0.0099\n",
      "Epoch 279/400\n",
      "15/15 [==============================] - 0s 20ms/step - loss: 8.0494e-04 - val_loss: 0.0121\n",
      "Epoch 280/400\n",
      "15/15 [==============================] - 0s 20ms/step - loss: 8.5126e-04 - val_loss: 0.0107\n",
      "Epoch 281/400\n",
      "15/15 [==============================] - 0s 22ms/step - loss: 8.4707e-04 - val_loss: 0.0114\n",
      "Epoch 282/400\n",
      "15/15 [==============================] - 0s 21ms/step - loss: 9.0048e-04 - val_loss: 0.0109\n",
      "Epoch 283/400\n",
      "15/15 [==============================] - 0s 20ms/step - loss: 7.5100e-04 - val_loss: 0.0098\n",
      "Epoch 284/400\n",
      "15/15 [==============================] - 0s 21ms/step - loss: 9.1085e-04 - val_loss: 0.0109\n",
      "Epoch 285/400\n",
      "15/15 [==============================] - 0s 22ms/step - loss: 7.5369e-04 - val_loss: 0.0103\n",
      "Epoch 286/400\n",
      "15/15 [==============================] - 0s 20ms/step - loss: 7.3705e-04 - val_loss: 0.0104\n",
      "Epoch 287/400\n",
      "15/15 [==============================] - 0s 20ms/step - loss: 7.8725e-04 - val_loss: 0.0080\n",
      "Epoch 288/400\n",
      "15/15 [==============================] - 0s 22ms/step - loss: 8.6233e-04 - val_loss: 0.0094\n",
      "Epoch 289/400\n",
      "15/15 [==============================] - 0s 20ms/step - loss: 6.1900e-04 - val_loss: 0.0104\n",
      "Epoch 290/400\n",
      "15/15 [==============================] - 0s 20ms/step - loss: 7.7277e-04 - val_loss: 0.0078\n",
      "Epoch 291/400\n",
      "15/15 [==============================] - 0s 21ms/step - loss: 8.9295e-04 - val_loss: 0.0087\n",
      "Epoch 292/400\n",
      "15/15 [==============================] - 0s 20ms/step - loss: 7.2446e-04 - val_loss: 0.0074\n",
      "Epoch 293/400\n",
      "15/15 [==============================] - 0s 20ms/step - loss: 8.3070e-04 - val_loss: 0.0095e-\n",
      "Epoch 294/400\n",
      "15/15 [==============================] - 0s 22ms/step - loss: 8.1185e-04 - val_loss: 0.0126\n",
      "Epoch 295/400\n",
      "15/15 [==============================] - 0s 21ms/step - loss: 9.1866e-04 - val_loss: 0.0124\n",
      "Epoch 296/400\n",
      "15/15 [==============================] - 0s 20ms/step - loss: 7.6214e-04 - val_loss: 0.0111\n",
      "Epoch 297/400\n",
      "15/15 [==============================] - 0s 21ms/step - loss: 8.0349e-04 - val_loss: 0.0102\n",
      "Epoch 298/400\n",
      "15/15 [==============================] - 0s 21ms/step - loss: 7.6357e-04 - val_loss: 0.0134\n",
      "Epoch 299/400\n",
      "15/15 [==============================] - 0s 20ms/step - loss: 7.9214e-04 - val_loss: 0.0113\n",
      "Epoch 300/400\n",
      "15/15 [==============================] - 0s 20ms/step - loss: 7.2062e-04 - val_loss: 0.0128\n",
      "Epoch 301/400\n",
      "15/15 [==============================] - 0s 21ms/step - loss: 7.6162e-04 - val_loss: 0.0129\n",
      "Epoch 302/400\n",
      "15/15 [==============================] - 0s 21ms/step - loss: 7.1727e-04 - val_loss: 0.0142\n",
      "Epoch 303/400\n",
      "15/15 [==============================] - 0s 21ms/step - loss: 7.8256e-04 - val_loss: 0.0153\n",
      "Epoch 304/400\n",
      "15/15 [==============================] - 0s 24ms/step - loss: 9.7053e-04 - val_loss: 0.0092\n",
      "Epoch 305/400\n",
      "15/15 [==============================] - 0s 21ms/step - loss: 8.3016e-04 - val_loss: 0.0149\n",
      "Epoch 306/400\n",
      "15/15 [==============================] - 0s 20ms/step - loss: 7.6200e-04 - val_loss: 0.0138\n",
      "Epoch 307/400\n",
      "15/15 [==============================] - 0s 20ms/step - loss: 6.7653e-04 - val_loss: 0.0118\n",
      "Epoch 308/400\n",
      "15/15 [==============================] - 0s 21ms/step - loss: 6.9842e-04 - val_loss: 0.0150\n",
      "Epoch 309/400\n",
      "15/15 [==============================] - 0s 11ms/step - loss: 6.8184e-04 - val_loss: 0.0104\n",
      "Epoch 310/400\n",
      "15/15 [==============================] - 0s 9ms/step - loss: 7.0796e-04 - val_loss: 0.0112\n",
      "Epoch 311/400\n",
      "15/15 [==============================] - 0s 9ms/step - loss: 6.9521e-04 - val_loss: 0.0098\n",
      "Epoch 312/400\n",
      "15/15 [==============================] - 0s 9ms/step - loss: 8.7607e-04 - val_loss: 0.0096\n",
      "Epoch 313/400\n"
     ]
    },
    {
     "name": "stdout",
     "output_type": "stream",
     "text": [
      "15/15 [==============================] - 0s 10ms/step - loss: 8.2632e-04 - val_loss: 0.0103\n",
      "Epoch 314/400\n",
      "15/15 [==============================] - 0s 10ms/step - loss: 8.2090e-04 - val_loss: 0.0107\n",
      "Epoch 315/400\n",
      "15/15 [==============================] - 0s 9ms/step - loss: 7.4942e-04 - val_loss: 0.0127\n",
      "Epoch 316/400\n",
      "15/15 [==============================] - 0s 9ms/step - loss: 7.8354e-04 - val_loss: 0.0108\n",
      "Epoch 317/400\n",
      "15/15 [==============================] - 0s 9ms/step - loss: 0.0010 - val_loss: 0.0122\n",
      "Epoch 318/400\n",
      "15/15 [==============================] - 0s 9ms/step - loss: 9.5307e-04 - val_loss: 0.0099\n",
      "Epoch 319/400\n",
      "15/15 [==============================] - 0s 9ms/step - loss: 7.9469e-04 - val_loss: 0.0092\n",
      "Epoch 320/400\n",
      "15/15 [==============================] - 0s 9ms/step - loss: 7.7425e-04 - val_loss: 0.0105\n",
      "Epoch 321/400\n",
      "15/15 [==============================] - 0s 9ms/step - loss: 6.8349e-04 - val_loss: 0.0103\n",
      "Epoch 322/400\n",
      "15/15 [==============================] - 0s 10ms/step - loss: 7.4477e-04 - val_loss: 0.0098\n",
      "Epoch 323/400\n",
      "15/15 [==============================] - 0s 9ms/step - loss: 8.8065e-04 - val_loss: 0.0102\n",
      "Epoch 324/400\n",
      "15/15 [==============================] - 0s 9ms/step - loss: 9.1301e-04 - val_loss: 0.0108\n",
      "Epoch 325/400\n",
      "15/15 [==============================] - 0s 9ms/step - loss: 8.3582e-04 - val_loss: 0.0105\n",
      "Epoch 326/400\n",
      "15/15 [==============================] - 0s 9ms/step - loss: 8.4556e-04 - val_loss: 0.0134\n",
      "Epoch 327/400\n",
      "15/15 [==============================] - 0s 9ms/step - loss: 8.7828e-04 - val_loss: 0.0155\n",
      "Epoch 328/400\n",
      "15/15 [==============================] - 0s 9ms/step - loss: 7.3182e-04 - val_loss: 0.0123\n",
      "Epoch 329/400\n",
      "15/15 [==============================] - 0s 11ms/step - loss: 7.9013e-04 - val_loss: 0.0147\n",
      "Epoch 330/400\n",
      "15/15 [==============================] - 0s 9ms/step - loss: 7.6082e-04 - val_loss: 0.0124\n",
      "Epoch 331/400\n",
      "15/15 [==============================] - 0s 9ms/step - loss: 6.8848e-04 - val_loss: 0.0110\n",
      "Epoch 332/400\n",
      "15/15 [==============================] - 0s 9ms/step - loss: 7.1081e-04 - val_loss: 0.0089\n",
      "Epoch 333/400\n",
      "15/15 [==============================] - 0s 9ms/step - loss: 8.0645e-04 - val_loss: 0.0107\n",
      "Epoch 334/400\n",
      "15/15 [==============================] - 0s 9ms/step - loss: 7.9288e-04 - val_loss: 0.0128\n",
      "Epoch 335/400\n",
      "15/15 [==============================] - 0s 9ms/step - loss: 8.1938e-04 - val_loss: 0.0114\n",
      "Epoch 336/400\n",
      "15/15 [==============================] - 0s 9ms/step - loss: 8.5520e-04 - val_loss: 0.0113\n",
      "Epoch 337/400\n",
      "15/15 [==============================] - 0s 10ms/step - loss: 7.6927e-04 - val_loss: 0.0119\n",
      "Epoch 338/400\n",
      "15/15 [==============================] - 0s 9ms/step - loss: 7.6537e-04 - val_loss: 0.0130\n",
      "Epoch 339/400\n",
      "15/15 [==============================] - 0s 9ms/step - loss: 6.9547e-04 - val_loss: 0.0152\n",
      "Epoch 340/400\n",
      "15/15 [==============================] - 0s 9ms/step - loss: 7.8556e-04 - val_loss: 0.0156\n",
      "Epoch 341/400\n",
      "15/15 [==============================] - 0s 9ms/step - loss: 7.2990e-04 - val_loss: 0.0131\n",
      "Epoch 342/400\n",
      "15/15 [==============================] - 0s 9ms/step - loss: 8.6303e-04 - val_loss: 0.0150\n",
      "Epoch 343/400\n",
      "15/15 [==============================] - 0s 9ms/step - loss: 8.0982e-04 - val_loss: 0.0157\n",
      "Epoch 344/400\n",
      "15/15 [==============================] - 0s 9ms/step - loss: 6.8768e-04 - val_loss: 0.0150\n",
      "Epoch 345/400\n",
      "15/15 [==============================] - 0s 10ms/step - loss: 8.0731e-04 - val_loss: 0.0117\n",
      "Epoch 346/400\n",
      "15/15 [==============================] - 0s 9ms/step - loss: 8.4782e-04 - val_loss: 0.0120\n",
      "Epoch 347/400\n",
      "15/15 [==============================] - 0s 9ms/step - loss: 7.5423e-04 - val_loss: 0.0126\n",
      "Epoch 348/400\n",
      "15/15 [==============================] - 0s 11ms/step - loss: 8.1196e-04 - val_loss: 0.0112\n",
      "Epoch 349/400\n",
      "15/15 [==============================] - 0s 9ms/step - loss: 6.9193e-04 - val_loss: 0.0104\n",
      "Epoch 350/400\n",
      "15/15 [==============================] - 0s 14ms/step - loss: 7.6360e-04 - val_loss: 0.0116\n",
      "Epoch 351/400\n",
      "15/15 [==============================] - 0s 22ms/step - loss: 7.3730e-04 - val_loss: 0.0127\n",
      "Epoch 352/400\n",
      "15/15 [==============================] - 0s 22ms/step - loss: 8.7122e-04 - val_loss: 0.0092\n",
      "Epoch 353/400\n",
      "15/15 [==============================] - 0s 22ms/step - loss: 0.0010 - val_loss: 0.0125\n",
      "Epoch 354/400\n",
      "15/15 [==============================] - 0s 23ms/step - loss: 7.7483e-04 - val_loss: 0.0103\n",
      "Epoch 355/400\n",
      "15/15 [==============================] - 0s 23ms/step - loss: 7.1691e-04 - val_loss: 0.0103\n",
      "Epoch 356/400\n",
      "15/15 [==============================] - 0s 21ms/step - loss: 7.9287e-04 - val_loss: 0.0119\n",
      "Epoch 357/400\n",
      "15/15 [==============================] - 0s 23ms/step - loss: 7.9355e-04 - val_loss: 0.0133\n",
      "Epoch 358/400\n",
      "15/15 [==============================] - 0s 22ms/step - loss: 7.4157e-04 - val_loss: 0.0139\n",
      "Epoch 359/400\n",
      "15/15 [==============================] - 0s 22ms/step - loss: 6.9568e-04 - val_loss: 0.0118\n",
      "Epoch 360/400\n",
      "15/15 [==============================] - 0s 23ms/step - loss: 7.5053e-04 - val_loss: 0.0086\n",
      "Epoch 361/400\n",
      "15/15 [==============================] - 0s 23ms/step - loss: 7.3071e-04 - val_loss: 0.0087\n",
      "Epoch 362/400\n",
      "15/15 [==============================] - 0s 23ms/step - loss: 6.5292e-04 - val_loss: 0.0102\n",
      "Epoch 363/400\n",
      "15/15 [==============================] - 0s 24ms/step - loss: 7.4494e-04 - val_loss: 0.0110\n",
      "Epoch 364/400\n",
      "15/15 [==============================] - 0s 21ms/step - loss: 9.3891e-04 - val_loss: 0.0076\n",
      "Epoch 365/400\n",
      "15/15 [==============================] - 0s 20ms/step - loss: 7.4545e-04 - val_loss: 0.0082\n",
      "Epoch 366/400\n",
      "15/15 [==============================] - 0s 20ms/step - loss: 6.4301e-04 - val_loss: 0.0115\n",
      "Epoch 367/400\n",
      "15/15 [==============================] - 0s 22ms/step - loss: 7.0436e-04 - val_loss: 0.0106\n",
      "Epoch 368/400\n",
      "15/15 [==============================] - 0s 22ms/step - loss: 7.4222e-04 - val_loss: 0.0110\n",
      "Epoch 369/400\n",
      "15/15 [==============================] - 0s 19ms/step - loss: 7.4708e-04 - val_loss: 0.0121\n",
      "Epoch 370/400\n",
      "15/15 [==============================] - 0s 21ms/step - loss: 7.3893e-04 - val_loss: 0.0127\n",
      "Epoch 371/400\n",
      "15/15 [==============================] - 0s 21ms/step - loss: 7.4426e-04 - val_loss: 0.0110\n",
      "Epoch 372/400\n",
      "15/15 [==============================] - 0s 20ms/step - loss: 7.7862e-04 - val_loss: 0.0093\n",
      "Epoch 373/400\n",
      "15/15 [==============================] - 0s 21ms/step - loss: 8.3436e-04 - val_loss: 0.0083\n",
      "Epoch 374/400\n",
      "15/15 [==============================] - 0s 22ms/step - loss: 6.8115e-04 - val_loss: 0.0085\n",
      "Epoch 375/400\n",
      "15/15 [==============================] - 0s 21ms/step - loss: 6.9625e-04 - val_loss: 0.0071\n",
      "Epoch 376/400\n",
      "15/15 [==============================] - 0s 20ms/step - loss: 8.0960e-04 - val_loss: 0.0081\n",
      "Epoch 377/400\n",
      "15/15 [==============================] - 0s 21ms/step - loss: 0.0011 - val_loss: 0.0134\n",
      "Epoch 378/400\n",
      "15/15 [==============================] - 0s 20ms/step - loss: 9.2932e-04 - val_loss: 0.0083\n",
      "Epoch 379/400\n",
      "15/15 [==============================] - 0s 20ms/step - loss: 7.8483e-04 - val_loss: 0.0073\n",
      "Epoch 380/400\n",
      "15/15 [==============================] - 0s 21ms/step - loss: 7.2804e-04 - val_loss: 0.0116\n",
      "Epoch 381/400\n",
      "15/15 [==============================] - 0s 21ms/step - loss: 0.0010 - val_loss: 0.0110\n",
      "Epoch 382/400\n",
      "15/15 [==============================] - 0s 20ms/step - loss: 8.6246e-04 - val_loss: 0.0114\n",
      "Epoch 383/400\n",
      "15/15 [==============================] - 0s 20ms/step - loss: 7.8693e-04 - val_loss: 0.0156\n",
      "Epoch 384/400\n",
      "15/15 [==============================] - 0s 21ms/step - loss: 8.3623e-04 - val_loss: 0.0105\n",
      "Epoch 385/400\n",
      "15/15 [==============================] - 0s 20ms/step - loss: 9.1830e-04 - val_loss: 0.0134\n",
      "Epoch 386/400\n",
      "15/15 [==============================] - 0s 20ms/step - loss: 7.0632e-04 - val_loss: 0.0127\n",
      "Epoch 387/400\n",
      "15/15 [==============================] - 0s 21ms/step - loss: 7.4265e-04 - val_loss: 0.0147\n",
      "Epoch 388/400\n",
      "15/15 [==============================] - 0s 21ms/step - loss: 7.3203e-04 - val_loss: 0.0128\n",
      "Epoch 389/400\n",
      "15/15 [==============================] - 0s 20ms/step - loss: 7.4182e-04 - val_loss: 0.0136\n",
      "Epoch 390/400\n",
      "15/15 [==============================] - 0s 21ms/step - loss: 9.3653e-04 - val_loss: 0.0140\n"
     ]
    },
    {
     "name": "stdout",
     "output_type": "stream",
     "text": [
      "Epoch 391/400\n",
      "15/15 [==============================] - 0s 21ms/step - loss: 8.0200e-04 - val_loss: 0.0130\n",
      "Epoch 392/400\n",
      "15/15 [==============================] - 0s 13ms/step - loss: 9.5698e-04 - val_loss: 0.0074\n",
      "Epoch 393/400\n",
      "15/15 [==============================] - 0s 9ms/step - loss: 0.0011 - val_loss: 0.0087\n",
      "Epoch 394/400\n",
      "15/15 [==============================] - 0s 9ms/step - loss: 8.8010e-04 - val_loss: 0.0067\n",
      "Epoch 395/400\n",
      "15/15 [==============================] - 0s 9ms/step - loss: 8.7258e-04 - val_loss: 0.0130\n",
      "Epoch 396/400\n",
      "15/15 [==============================] - 0s 10ms/step - loss: 8.1627e-04 - val_loss: 0.0103\n",
      "Epoch 397/400\n",
      "15/15 [==============================] - 0s 9ms/step - loss: 7.8789e-04 - val_loss: 0.0084\n",
      "Epoch 398/400\n",
      "15/15 [==============================] - 0s 9ms/step - loss: 7.3801e-04 - val_loss: 0.0107\n",
      "Epoch 399/400\n",
      "15/15 [==============================] - 0s 9ms/step - loss: 8.8511e-04 - val_loss: 0.0104\n",
      "Epoch 400/400\n",
      "15/15 [==============================] - 0s 9ms/step - loss: 8.2569e-04 - val_loss: 0.0124\n",
      "Model: \"sequential_25\"\n",
      "_________________________________________________________________\n",
      "Layer (type)                 Output Shape              Param #   \n",
      "=================================================================\n",
      "conv1d_40 (Conv1D)           (None, 8, 64)             832       \n",
      "_________________________________________________________________\n",
      "conv1d_41 (Conv1D)           (None, 6, 64)             12352     \n",
      "_________________________________________________________________\n",
      "batch_normalization_30 (Batc (None, 6, 64)             256       \n",
      "_________________________________________________________________\n",
      "activation_30 (Activation)   (None, 6, 64)             0         \n",
      "_________________________________________________________________\n",
      "average_pooling1d_5 (Average (None, 3, 64)             0         \n",
      "_________________________________________________________________\n",
      "dropout_72 (Dropout)         (None, 3, 64)             0         \n",
      "_________________________________________________________________\n",
      "lstm_48 (LSTM)               (None, 3, 50)             23000     \n",
      "_________________________________________________________________\n",
      "dropout_73 (Dropout)         (None, 3, 50)             0         \n",
      "_________________________________________________________________\n",
      "lstm_49 (LSTM)               (None, 60)                26640     \n",
      "_________________________________________________________________\n",
      "dropout_74 (Dropout)         (None, 60)                0         \n",
      "_________________________________________________________________\n",
      "dense_48 (Dense)             (None, 10)                610       \n",
      "_________________________________________________________________\n",
      "dense_49 (Dense)             (None, 1)                 11        \n",
      "=================================================================\n",
      "Total params: 63,701\n",
      "Trainable params: 63,573\n",
      "Non-trainable params: 128\n",
      "_________________________________________________________________\n"
     ]
    },
    {
     "data": {
      "image/png": "[encoded data removed]",
      "text/plain": [
       "<IPython.core.display.Image object>"
      ]
     },
     "execution_count": 87,
     "metadata": {},
     "output_type": "execute_result"
    },
    {
     "data": {
      "text/plain": [
       "19"
      ]
     },
     "execution_count": 87,
     "metadata": {},
     "output_type": "execute_result"
    },
    {
     "data": {
      "text/plain": [
       "11"
      ]
     },
     "execution_count": 87,
     "metadata": {},
     "output_type": "execute_result"
    },
    {
     "data": {
      "text/plain": [
       "12882"
      ]
     },
     "execution_count": 87,
     "metadata": {},
     "output_type": "execute_result"
    },
    {
     "data": {
      "text/plain": [
       "17"
      ]
     },
     "execution_count": 87,
     "metadata": {},
     "output_type": "execute_result"
    },
    {
     "data": {
      "text/plain": [
       "6"
      ]
     },
     "execution_count": 87,
     "metadata": {},
     "output_type": "execute_result"
    },
    {
     "data": {
      "text/plain": [
       "764"
      ]
     },
     "execution_count": 87,
     "metadata": {},
     "output_type": "execute_result"
    },
    {
     "data": {
      "text/plain": [
       "19"
      ]
     },
     "execution_count": 87,
     "metadata": {},
     "output_type": "execute_result"
    },
    {
     "data": {
      "text/plain": [
       "12"
      ]
     },
     "execution_count": 87,
     "metadata": {},
     "output_type": "execute_result"
    },
    {
     "data": {
      "text/plain": [
       "1517"
      ]
     },
     "execution_count": 87,
     "metadata": {},
     "output_type": "execute_result"
    },
    {
     "data": {
      "text/plain": [
       "17"
      ]
     },
     "execution_count": 87,
     "metadata": {},
     "output_type": "execute_result"
    },
    {
     "data": {
      "text/plain": [
       "6"
      ]
     },
     "execution_count": 87,
     "metadata": {},
     "output_type": "execute_result"
    },
    {
     "data": {
      "text/plain": [
       "779"
      ]
     },
     "execution_count": 87,
     "metadata": {},
     "output_type": "execute_result"
    },
    {
     "data": {
      "text/plain": [
       "31"
      ]
     },
     "execution_count": 87,
     "metadata": {},
     "output_type": "execute_result"
    },
    {
     "data": {
      "text/plain": [
       "6"
      ]
     },
     "execution_count": 87,
     "metadata": {},
     "output_type": "execute_result"
    },
    {
     "data": {
      "text/plain": [
       "706"
      ]
     },
     "execution_count": 87,
     "metadata": {},
     "output_type": "execute_result"
    },
    {
     "data": {
      "text/plain": [
       "30"
      ]
     },
     "execution_count": 87,
     "metadata": {},
     "output_type": "execute_result"
    },
    {
     "data": {
      "text/plain": [
       "6"
      ]
     },
     "execution_count": 87,
     "metadata": {},
     "output_type": "execute_result"
    },
    {
     "data": {
      "text/plain": [
       "780"
      ]
     },
     "execution_count": 87,
     "metadata": {},
     "output_type": "execute_result"
    },
    {
     "data": {
      "text/plain": [
       "30"
      ]
     },
     "execution_count": 87,
     "metadata": {},
     "output_type": "execute_result"
    },
    {
     "data": {
      "text/plain": [
       "10"
      ]
     },
     "execution_count": 87,
     "metadata": {},
     "output_type": "execute_result"
    },
    {
     "data": {
      "text/plain": [
       "492"
      ]
     },
     "execution_count": 87,
     "metadata": {},
     "output_type": "execute_result"
    },
    {
     "data": {
      "text/plain": [
       "40"
      ]
     },
     "execution_count": 87,
     "metadata": {},
     "output_type": "execute_result"
    },
    {
     "data": {
      "text/plain": [
       "10"
      ]
     },
     "execution_count": 87,
     "metadata": {},
     "output_type": "execute_result"
    },
    {
     "data": {
      "text/plain": [
       "491"
      ]
     },
     "execution_count": 87,
     "metadata": {},
     "output_type": "execute_result"
    },
    {
     "data": {
      "text/plain": [
       "28"
      ]
     },
     "execution_count": 87,
     "metadata": {},
     "output_type": "execute_result"
    },
    {
     "data": {
      "text/plain": [
       "7"
      ]
     },
     "execution_count": 87,
     "metadata": {},
     "output_type": "execute_result"
    },
    {
     "data": {
      "text/plain": [
       "3251"
      ]
     },
     "execution_count": 87,
     "metadata": {},
     "output_type": "execute_result"
    },
    {
     "data": {
      "text/plain": [
       "30"
      ]
     },
     "execution_count": 87,
     "metadata": {},
     "output_type": "execute_result"
    },
    {
     "data": {
      "text/plain": [
       "10"
      ]
     },
     "execution_count": 87,
     "metadata": {},
     "output_type": "execute_result"
    },
    {
     "data": {
      "text/plain": [
       "492"
      ]
     },
     "execution_count": 87,
     "metadata": {},
     "output_type": "execute_result"
    },
    {
     "data": {
      "text/plain": [
       "40"
      ]
     },
     "execution_count": 87,
     "metadata": {},
     "output_type": "execute_result"
    },
    {
     "data": {
      "text/plain": [
       "10"
      ]
     },
     "execution_count": 87,
     "metadata": {},
     "output_type": "execute_result"
    },
    {
     "data": {
      "text/plain": [
       "488"
      ]
     },
     "execution_count": 87,
     "metadata": {},
     "output_type": "execute_result"
    },
    {
     "data": {
      "text/plain": [
       "28"
      ]
     },
     "execution_count": 87,
     "metadata": {},
     "output_type": "execute_result"
    },
    {
     "data": {
      "text/plain": [
       "7"
      ]
     },
     "execution_count": 87,
     "metadata": {},
     "output_type": "execute_result"
    },
    {
     "data": {
      "text/plain": [
       "2910"
      ]
     },
     "execution_count": 87,
     "metadata": {},
     "output_type": "execute_result"
    },
    {
     "data": {
      "text/plain": [
       "18"
      ]
     },
     "execution_count": 87,
     "metadata": {},
     "output_type": "execute_result"
    },
    {
     "data": {
      "text/plain": [
       "9"
      ]
     },
     "execution_count": 87,
     "metadata": {},
     "output_type": "execute_result"
    },
    {
     "data": {
      "text/plain": [
       "7487"
      ]
     },
     "execution_count": 87,
     "metadata": {},
     "output_type": "execute_result"
    },
    {
     "data": {
      "text/plain": [
       "16"
      ]
     },
     "execution_count": 87,
     "metadata": {},
     "output_type": "execute_result"
    },
    {
     "data": {
      "text/plain": [
       "6"
      ]
     },
     "execution_count": 87,
     "metadata": {},
     "output_type": "execute_result"
    },
    {
     "data": {
      "text/plain": [
       "123"
      ]
     },
     "execution_count": 87,
     "metadata": {},
     "output_type": "execute_result"
    },
    {
     "data": {
      "text/plain": [
       "18"
      ]
     },
     "execution_count": 87,
     "metadata": {},
     "output_type": "execute_result"
    },
    {
     "data": {
      "text/plain": [
       "8"
      ]
     },
     "execution_count": 87,
     "metadata": {},
     "output_type": "execute_result"
    },
    {
     "data": {
      "text/plain": [
       "151"
      ]
     },
     "execution_count": 87,
     "metadata": {},
     "output_type": "execute_result"
    },
    {
     "data": {
      "text/plain": [
       "16"
      ]
     },
     "execution_count": 87,
     "metadata": {},
     "output_type": "execute_result"
    },
    {
     "data": {
      "text/plain": [
       "5"
      ]
     },
     "execution_count": 87,
     "metadata": {},
     "output_type": "execute_result"
    },
    {
     "data": {
      "text/plain": [
       "13"
      ]
     },
     "execution_count": 87,
     "metadata": {},
     "output_type": "execute_result"
    }
   ],
   "source": [
    "import os\n",
    "from keras.preprocessing import sequence\n",
    "from keras.models import Sequential\n",
    "from keras.layers import Dense, Dropout, Activation,BatchNormalization\n",
    "from keras.layers import Embedding\n",
    "from keras.layers import LSTM\n",
    "from keras.layers import Conv1D, MaxPooling1D,Flatten,AveragePooling1D\n",
    "from tensorflow.keras import Model\n",
    "from tensorflow import keras\n",
    "\n",
    "\n",
    "# Convolution\n",
    "kernel_size = 3\n",
    "filters = 64\n",
    "pool_size = 2\n",
    "\n",
    "\n",
    "# Training\n",
    "batch_size = 64\n",
    "epochs = 400\n",
    "\n",
    "model = Sequential()\n",
    "\n",
    "model.add(Conv1D(filters, kernel_size,padding='valid', activation='relu',  strides=1))                                      \n",
    "model.add(Conv1D(filters, kernel_size,padding='valid', activation='relu', strides=1))\n",
    "\n",
    "model.add(BatchNormalization()) # BN层\n",
    "model.add(Activation('relu'))    # 激活层  \n",
    "\n",
    "model.add(AveragePooling1D(pool_size=pool_size))\n",
    "model.add(Dropout(0.2))\n",
    "\n",
    "# model.add(Flatten())\n",
    "# model.add(keras.layers.Reshape((832, 1)))\n",
    "\n",
    "model.add(LSTM(50,return_sequences=True)) \n",
    "model.add(Dropout(0.2))\n",
    "model.add(LSTM(60))  #第二层\n",
    "model.add(Dropout(0.2))\n",
    "model.add(Dense(10))  \n",
    "model.add(Dense(1))\n",
    "# model.add(Activation('sigmoid'))\n",
    "\n",
    "model.compile(optimizer=tf.keras.optimizers.Adam(lr = 1e-5),\n",
    "              loss='mean_squared_error')  # 损失函数用均方误差\n",
    "\n",
    "#该应用只观测loss数值，不观测准确率，所以删去metrics选项，一会在每个epoch迭代显示时只显示loss值\n",
    "checkpoint_save_path = \"./checkpoint/CMM-LSTM/CNN-LSTM_nation_debt.ckpt\"\n",
    "\n",
    "if os.path.exists(checkpoint_save_path + '.index'):\n",
    "    print('-------------load the model-----------------')\n",
    "    model.load_weights(checkpoint_save_path)\n",
    "\n",
    "cp_callback = tf.keras.callbacks.ModelCheckpoint(filepath=checkpoint_save_path,\n",
    "                                                 save_weights_only=True,\n",
    "                                                 save_best_only=True,\n",
    "                                                 monitor='val_loss')\n",
    "\n",
    "print('Train...')\n",
    "history = model.fit(x_train, y_train,batch_size=batch_size,epochs=epochs,\n",
    "                    validation_data=(x_valid, y_valid),validation_freq=1,callbacks=[cp_callback])\n",
    "model.summary()\n",
    "\n",
    "keras.utils.plot_model(model, \"my_first_model_with_shape_info.png\", show_shapes=True)\n",
    "\n",
    "\n",
    "file = open('./data/weights_of_nation_debt_by_cnn-lstm.txt', 'w')  # 参数提取\n",
    "for v in model.trainable_variables:\n",
    "    file.write(str(v.name) + '\\n')\n",
    "    file.write(str(v.shape) + '\\n')\n",
    "    file.write(str(v.numpy()) + '\\n')\n",
    "file.close()"
   ]
  },
  {
   "cell_type": "code",
   "execution_count": 88,
   "metadata": {},
   "outputs": [
    {
     "data": {
      "text/plain": [
       "[<matplotlib.lines.Line2D at 0x1c60831b948>]"
      ]
     },
     "execution_count": 88,
     "metadata": {},
     "output_type": "execute_result"
    },
    {
     "data": {
      "text/plain": [
       "[<matplotlib.lines.Line2D at 0x1c65e891308>]"
      ]
     },
     "execution_count": 88,
     "metadata": {},
     "output_type": "execute_result"
    },
    {
     "data": {
      "text/plain": [
       "Text(0.5, 1.0, 'Training and Validation Loss')"
      ]
     },
     "execution_count": 88,
     "metadata": {},
     "output_type": "execute_result"
    },
    {
     "data": {
      "text/plain": [
       "<matplotlib.legend.Legend at 0x1c60837e4c8>"
      ]
     },
     "execution_count": 88,
     "metadata": {},
     "output_type": "execute_result"
    },
    {
     "data": {
      "image/png": "[encoded data removed]",
      "text/plain": [
       "<Figure size 432x288 with 1 Axes>"
      ]
     },
     "metadata": {
      "needs_background": "light"
     },
     "output_type": "display_data"
    }
   ],
   "source": [
    "loss = history.history['loss']\n",
    "val_loss = history.history['val_loss']\n",
    "\n",
    "plt.plot(loss, label='Training Loss')\n",
    "plt.plot(val_loss, label='Validation Loss') #验证集用来选则最佳的超参数的值\n",
    "plt.title('Training and Validation Loss')\n",
    "plt.legend()\n",
    "plt.show()"
   ]
  },
  {
   "cell_type": "code",
   "execution_count": 89,
   "metadata": {},
   "outputs": [
    {
     "data": {
      "text/plain": [
       "[<matplotlib.lines.Line2D at 0x1c6095acfc8>]"
      ]
     },
     "execution_count": 89,
     "metadata": {},
     "output_type": "execute_result"
    },
    {
     "data": {
      "text/plain": [
       "[<matplotlib.lines.Line2D at 0x1c604b34a88>]"
      ]
     },
     "execution_count": 89,
     "metadata": {},
     "output_type": "execute_result"
    },
    {
     "data": {
      "text/plain": [
       "Text(0.5, 1.0, 'national debt Price Prediction')"
      ]
     },
     "execution_count": 89,
     "metadata": {},
     "output_type": "execute_result"
    },
    {
     "data": {
      "text/plain": [
       "Text(0.5, 0, 'Time')"
      ]
     },
     "execution_count": 89,
     "metadata": {},
     "output_type": "execute_result"
    },
    {
     "data": {
      "text/plain": [
       "Text(0, 0.5, 'national debt Price')"
      ]
     },
     "execution_count": 89,
     "metadata": {},
     "output_type": "execute_result"
    },
    {
     "data": {
      "text/plain": [
       "<matplotlib.legend.Legend at 0x1c60837c908>"
      ]
     },
     "execution_count": 89,
     "metadata": {},
     "output_type": "execute_result"
    },
    {
     "data": {
      "image/png": "[encoded data removed]",
      "text/plain": [
       "<Figure size 432x288 with 1 Axes>"
      ]
     },
     "metadata": {
      "needs_background": "light"
     },
     "output_type": "display_data"
    },
    {
     "name": "stdout",
     "output_type": "stream",
     "text": [
      "均方误差: 0.001458\n",
      "均方根误差: 0.038183\n",
      "平均绝对误差: 0.027611\n"
     ]
    }
   ],
   "source": [
    "# 测试集输入模型进行预测\n",
    "predicted_stock_price = model.predict(x_test)\n",
    "# 对预测数据还原---从（0，1）反归一化到原始范围\n",
    "predicted_stock_price = sc_for_visual.inverse_transform(predicted_stock_price)\n",
    "# 对真实数据还原---从（0，1）反归一化到原始范围\n",
    "real_stock_price = sc_for_visual.inverse_transform(y_test_for_visual[10:])\n",
    "# 画出真实数据和预测数据的对比曲线\n",
    "# 画出真实数据和预测数据的对比曲线\n",
    "plt.plot(real_stock_price, color='red', label='national debt Price')\n",
    "plt.plot(predicted_stock_price, color='blue', label='Predicted by CNN-LSTM')\n",
    "plt.title('national debt Price Prediction')\n",
    "plt.xlabel('Time')\n",
    "plt.ylabel('national debt Price')\n",
    "plt.legend()\n",
    "plt.show()\n",
    "\n",
    "##########evaluate##############\n",
    "# calculate MSE 均方误差 ---> E[(预测值-真实值)^2] (预测值减真实值求平方后求均值)\n",
    "mse = mean_squared_error(predicted_stock_price, real_stock_price)\n",
    "# calculate RMSE 均方根误差--->sqrt[MSE]    (对均方误差开方)\n",
    "rmse = math.sqrt(mean_squared_error(predicted_stock_price, real_stock_price))\n",
    "# calculate MAE 平均绝对误差----->E[|预测值-真实值|](预测值减真实值求绝对值后求均值）\n",
    "mae = mean_absolute_error(predicted_stock_price, real_stock_price)\n",
    "print('均方误差: %.6f' % mse)\n",
    "print('均方根误差: %.6f' % rmse)\n",
    "print('平均绝对误差: %.6f' % mae)"
   ]
  },
  {
   "cell_type": "code",
   "execution_count": 90,
   "metadata": {},
   "outputs": [
    {
     "name": "stdout",
     "output_type": "stream",
     "text": [
      "0.9612707889186349\n"
     ]
    }
   ],
   "source": [
    "from sklearn.metrics import explained_variance_score\n",
    "import seaborn as sns\n",
    "\n",
    "cm = explained_variance_score(real_stock_price, predicted_stock_price)\n",
    "\n",
    "print(cm )"
   ]
  },
  {
   "cell_type": "code",
   "execution_count": null,
   "metadata": {},
   "outputs": [],
   "source": []
  }
 ],
 "metadata": {
  "kernelspec": {
   "display_name": "Python 3",
   "language": "python",
   "name": "python3"
  },
  "language_info": {
   "codemirror_mode": {
    "name": "ipython",
    "version": 3
   },
   "file_extension": ".py",
   "mimetype": "text/x-python",
   "name": "python",
   "nbconvert_exporter": "python",
   "pygments_lexer": "ipython3",
   "version": "3.7.4"
  }
 },
 "nbformat": 4,
 "nbformat_minor": 2
}
