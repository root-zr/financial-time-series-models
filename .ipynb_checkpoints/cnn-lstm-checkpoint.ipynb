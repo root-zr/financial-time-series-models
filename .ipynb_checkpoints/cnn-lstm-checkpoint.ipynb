{
 "cells": [
  {
   "cell_type": "code",
   "execution_count": 1,
   "metadata": {},
   "outputs": [],
   "source": [
    "from IPython.core.interactiveshell import InteractiveShell  #执行该代码可以使得当前nb支持多输出\n",
    "InteractiveShell.ast_node_interactivity = \"all\" \n",
    "import numpy as np\n",
    "from datetime import datetime\n",
    "import pandas as pd \n",
    "import matplotlib.pyplot as plt\n",
    "plt.rcParams['font.sans-serif'] = ['SimHei']\n",
    "plt.rcParams['axes.unicode_minus'] = False \n",
    "from mpl_toolkits.mplot3d import Axes3D\n",
    "\n",
    "import tensorflow as tf\n",
    "from tensorflow.keras.layers import Dropout, Dense, LSTM\n",
    "import os\n",
    "from sklearn.preprocessing import MinMaxScaler\n",
    "from sklearn.metrics import mean_squared_error, mean_absolute_error\n",
    "import math\n",
    "\n",
    "\n",
    "pd.options.display.max_rows = 8  \n",
    "%matplotlib inline"
   ]
  },
  {
   "cell_type": "markdown",
   "metadata": {},
   "source": [
    "读取数据"
   ]
  },
  {
   "cell_type": "code",
   "execution_count": 2,
   "metadata": {
    "scrolled": true
   },
   "outputs": [
    {
     "data": {
      "text/html": [
       "<div>\n",
       "<style scoped>\n",
       "    .dataframe tbody tr th:only-of-type {\n",
       "        vertical-align: middle;\n",
       "    }\n",
       "\n",
       "    .dataframe tbody tr th {\n",
       "        vertical-align: top;\n",
       "    }\n",
       "\n",
       "    .dataframe thead th {\n",
       "        text-align: right;\n",
       "    }\n",
       "</style>\n",
       "<table border=\"1\" class=\"dataframe\">\n",
       "  <thead>\n",
       "    <tr style=\"text-align: right;\">\n",
       "      <th></th>\n",
       "      <th>开盘</th>\n",
       "      <th>收盘</th>\n",
       "      <th>高</th>\n",
       "      <th>低</th>\n",
       "      <th>涨跌幅</th>\n",
       "      <th>on</th>\n",
       "    </tr>\n",
       "    <tr>\n",
       "      <th>日期</th>\n",
       "      <th></th>\n",
       "      <th></th>\n",
       "      <th></th>\n",
       "      <th></th>\n",
       "      <th></th>\n",
       "      <th></th>\n",
       "    </tr>\n",
       "  </thead>\n",
       "  <tbody>\n",
       "    <tr>\n",
       "      <td>2016/1/21</td>\n",
       "      <td>2.683</td>\n",
       "      <td>2.700</td>\n",
       "      <td>2.703</td>\n",
       "      <td>2.680</td>\n",
       "      <td>0.78%</td>\n",
       "      <td>2.014</td>\n",
       "    </tr>\n",
       "    <tr>\n",
       "      <td>2016/1/22</td>\n",
       "      <td>2.705</td>\n",
       "      <td>2.689</td>\n",
       "      <td>2.705</td>\n",
       "      <td>2.682</td>\n",
       "      <td>-0.41%</td>\n",
       "      <td>2.028</td>\n",
       "    </tr>\n",
       "    <tr>\n",
       "      <td>2016/1/25</td>\n",
       "      <td>2.750</td>\n",
       "      <td>2.694</td>\n",
       "      <td>2.750</td>\n",
       "      <td>2.680</td>\n",
       "      <td>0.19%</td>\n",
       "      <td>2.009</td>\n",
       "    </tr>\n",
       "    <tr>\n",
       "      <td>2016/1/26</td>\n",
       "      <td>2.703</td>\n",
       "      <td>2.738</td>\n",
       "      <td>2.740</td>\n",
       "      <td>2.690</td>\n",
       "      <td>1.63%</td>\n",
       "      <td>1.997</td>\n",
       "    </tr>\n",
       "    <tr>\n",
       "      <td>2016/1/27</td>\n",
       "      <td>2.763</td>\n",
       "      <td>2.774</td>\n",
       "      <td>2.783</td>\n",
       "      <td>2.763</td>\n",
       "      <td>1.31%</td>\n",
       "      <td>1.995</td>\n",
       "    </tr>\n",
       "  </tbody>\n",
       "</table>\n",
       "</div>"
      ],
      "text/plain": [
       "              开盘     收盘      高      低     涨跌幅     on\n",
       "日期                                                  \n",
       "2016/1/21  2.683  2.700  2.703  2.680   0.78%  2.014\n",
       "2016/1/22  2.705  2.689  2.705  2.682  -0.41%  2.028\n",
       "2016/1/25  2.750  2.694  2.750  2.680   0.19%  2.009\n",
       "2016/1/26  2.703  2.738  2.740  2.690   1.63%  1.997\n",
       "2016/1/27  2.763  2.774  2.783  2.763   1.31%  1.995"
      ]
     },
     "execution_count": 2,
     "metadata": {},
     "output_type": "execute_result"
    },
    {
     "data": {
      "text/html": [
       "<div>\n",
       "<style scoped>\n",
       "    .dataframe tbody tr th:only-of-type {\n",
       "        vertical-align: middle;\n",
       "    }\n",
       "\n",
       "    .dataframe tbody tr th {\n",
       "        vertical-align: top;\n",
       "    }\n",
       "\n",
       "    .dataframe thead th {\n",
       "        text-align: right;\n",
       "    }\n",
       "</style>\n",
       "<table border=\"1\" class=\"dataframe\">\n",
       "  <thead>\n",
       "    <tr style=\"text-align: right;\">\n",
       "      <th></th>\n",
       "      <th>开盘</th>\n",
       "      <th>收盘</th>\n",
       "      <th>高</th>\n",
       "      <th>低</th>\n",
       "      <th>on</th>\n",
       "    </tr>\n",
       "  </thead>\n",
       "  <tbody>\n",
       "    <tr>\n",
       "      <td>count</td>\n",
       "      <td>1563.000000</td>\n",
       "      <td>1563.000000</td>\n",
       "      <td>1563.000000</td>\n",
       "      <td>1563.000000</td>\n",
       "      <td>1563.000000</td>\n",
       "    </tr>\n",
       "    <tr>\n",
       "      <td>mean</td>\n",
       "      <td>3.041862</td>\n",
       "      <td>3.022280</td>\n",
       "      <td>3.049060</td>\n",
       "      <td>3.010074</td>\n",
       "      <td>2.157164</td>\n",
       "    </tr>\n",
       "    <tr>\n",
       "      <td>std</td>\n",
       "      <td>0.419688</td>\n",
       "      <td>0.420101</td>\n",
       "      <td>0.418939</td>\n",
       "      <td>0.420670</td>\n",
       "      <td>0.478818</td>\n",
       "    </tr>\n",
       "    <tr>\n",
       "      <td>min</td>\n",
       "      <td>1.740000</td>\n",
       "      <td>1.740000</td>\n",
       "      <td>1.740000</td>\n",
       "      <td>1.740000</td>\n",
       "      <td>0.602000</td>\n",
       "    </tr>\n",
       "    <tr>\n",
       "      <td>25%</td>\n",
       "      <td>2.746000</td>\n",
       "      <td>2.712000</td>\n",
       "      <td>2.750000</td>\n",
       "      <td>2.697000</td>\n",
       "      <td>1.946000</td>\n",
       "    </tr>\n",
       "    <tr>\n",
       "      <td>50%</td>\n",
       "      <td>3.012000</td>\n",
       "      <td>2.993000</td>\n",
       "      <td>3.018000</td>\n",
       "      <td>2.983000</td>\n",
       "      <td>2.172000</td>\n",
       "    </tr>\n",
       "    <tr>\n",
       "      <td>75%</td>\n",
       "      <td>3.261000</td>\n",
       "      <td>3.234000</td>\n",
       "      <td>3.269000</td>\n",
       "      <td>3.219000</td>\n",
       "      <td>2.559800</td>\n",
       "    </tr>\n",
       "    <tr>\n",
       "      <td>max</td>\n",
       "      <td>4.000000</td>\n",
       "      <td>3.968000</td>\n",
       "      <td>4.000000</td>\n",
       "      <td>3.952000</td>\n",
       "      <td>3.282000</td>\n",
       "    </tr>\n",
       "  </tbody>\n",
       "</table>\n",
       "</div>"
      ],
      "text/plain": [
       "                开盘           收盘            高            低           on\n",
       "count  1563.000000  1563.000000  1563.000000  1563.000000  1563.000000\n",
       "mean      3.041862     3.022280     3.049060     3.010074     2.157164\n",
       "std       0.419688     0.420101     0.418939     0.420670     0.478818\n",
       "min       1.740000     1.740000     1.740000     1.740000     0.602000\n",
       "25%       2.746000     2.712000     2.750000     2.697000     1.946000\n",
       "50%       3.012000     2.993000     3.018000     2.983000     2.172000\n",
       "75%       3.261000     3.234000     3.269000     3.219000     2.559800\n",
       "max       4.000000     3.968000     4.000000     3.952000     3.282000"
      ]
     },
     "execution_count": 2,
     "metadata": {},
     "output_type": "execute_result"
    },
    {
     "data": {
      "text/html": [
       "<div>\n",
       "<style scoped>\n",
       "    .dataframe tbody tr th:only-of-type {\n",
       "        vertical-align: middle;\n",
       "    }\n",
       "\n",
       "    .dataframe tbody tr th {\n",
       "        vertical-align: top;\n",
       "    }\n",
       "\n",
       "    .dataframe thead th {\n",
       "        text-align: right;\n",
       "    }\n",
       "</style>\n",
       "<table border=\"1\" class=\"dataframe\">\n",
       "  <thead>\n",
       "    <tr style=\"text-align: right;\">\n",
       "      <th></th>\n",
       "      <th>开盘</th>\n",
       "      <th>收盘</th>\n",
       "      <th>高</th>\n",
       "      <th>低</th>\n",
       "      <th>涨跌幅</th>\n",
       "      <th>on</th>\n",
       "    </tr>\n",
       "    <tr>\n",
       "      <th>日期</th>\n",
       "      <th></th>\n",
       "      <th></th>\n",
       "      <th></th>\n",
       "      <th></th>\n",
       "      <th></th>\n",
       "      <th></th>\n",
       "    </tr>\n",
       "  </thead>\n",
       "  <tbody>\n",
       "    <tr>\n",
       "      <td>2016/1/21</td>\n",
       "      <td>2.683</td>\n",
       "      <td>2.700</td>\n",
       "      <td>2.703</td>\n",
       "      <td>2.680</td>\n",
       "      <td>0.0078</td>\n",
       "      <td>2.014</td>\n",
       "    </tr>\n",
       "    <tr>\n",
       "      <td>2016/1/22</td>\n",
       "      <td>2.705</td>\n",
       "      <td>2.689</td>\n",
       "      <td>2.705</td>\n",
       "      <td>2.682</td>\n",
       "      <td>-0.0041</td>\n",
       "      <td>2.028</td>\n",
       "    </tr>\n",
       "    <tr>\n",
       "      <td>2016/1/25</td>\n",
       "      <td>2.750</td>\n",
       "      <td>2.694</td>\n",
       "      <td>2.750</td>\n",
       "      <td>2.680</td>\n",
       "      <td>0.0019</td>\n",
       "      <td>2.009</td>\n",
       "    </tr>\n",
       "    <tr>\n",
       "      <td>2016/1/26</td>\n",
       "      <td>2.703</td>\n",
       "      <td>2.738</td>\n",
       "      <td>2.740</td>\n",
       "      <td>2.690</td>\n",
       "      <td>0.0163</td>\n",
       "      <td>1.997</td>\n",
       "    </tr>\n",
       "    <tr>\n",
       "      <td>2016/1/27</td>\n",
       "      <td>2.763</td>\n",
       "      <td>2.774</td>\n",
       "      <td>2.783</td>\n",
       "      <td>2.763</td>\n",
       "      <td>0.0131</td>\n",
       "      <td>1.995</td>\n",
       "    </tr>\n",
       "  </tbody>\n",
       "</table>\n",
       "</div>"
      ],
      "text/plain": [
       "              开盘     收盘      高      低     涨跌幅     on\n",
       "日期                                                  \n",
       "2016/1/21  2.683  2.700  2.703  2.680  0.0078  2.014\n",
       "2016/1/22  2.705  2.689  2.705  2.682 -0.0041  2.028\n",
       "2016/1/25  2.750  2.694  2.750  2.680  0.0019  2.009\n",
       "2016/1/26  2.703  2.738  2.740  2.690  0.0163  1.997\n",
       "2016/1/27  2.763  2.774  2.783  2.763  0.0131  1.995"
      ]
     },
     "execution_count": 2,
     "metadata": {},
     "output_type": "execute_result"
    }
   ],
   "source": [
    "national_debt = pd.read_csv('data/shibor_nation_debt.csv',index_col = 0,encoding = 'gb2312')  # 读取股票文件\n",
    "national_debt.head()\n",
    "national_debt.describe()\n",
    "\n",
    "national_debt['涨跌幅'] = national_debt['涨跌幅'].str.strip(\"%\").astype(float)/100\n",
    "national_debt.head()"
   ]
  },
  {
   "cell_type": "markdown",
   "metadata": {},
   "source": [
    "开盘价原始数据可视化"
   ]
  },
  {
   "cell_type": "code",
   "execution_count": 3,
   "metadata": {},
   "outputs": [
    {
     "data": {
      "text/plain": [
       "<Figure size 432x288 with 0 Axes>"
      ]
     },
     "metadata": {},
     "output_type": "display_data"
    },
    {
     "data": {
      "image/png": "[encoded data removed]",
      "text/plain": [
       "<Figure size 432x288 with 1 Axes>"
      ]
     },
     "metadata": {
      "needs_background": "light"
     },
     "output_type": "display_data"
    }
   ],
   "source": [
    "def draw_ts(timeSeries):\n",
    "    f = plt.figure(facecolor='white')\n",
    "    timeSeries.plot(color='blue')\n",
    "    plt.show()\n",
    "    \n",
    "draw_ts(pd.DataFrame(national_debt['开盘']))"
   ]
  },
  {
   "cell_type": "markdown",
   "metadata": {},
   "source": [
    "数据预处理"
   ]
  },
  {
   "cell_type": "code",
   "execution_count": 4,
   "metadata": {},
   "outputs": [],
   "source": [
    "# 前(1563-600=963)天的开盘价作为训练集,表格从0开始计数，,0:1 是提取[0:1)列，前闭后开\n",
    "training_set = national_debt.iloc[0:1563 - 600,0:].values  \n",
    "\n",
    "#中间300天的数据作为验证集\n",
    "valid_set= national_debt.iloc[1563 - 600:1563 - 300, 0:].values  \n",
    "\n",
    "# 后300天的开盘价作为测试集\n",
    "test_set = national_debt.iloc[1563 - 300:1563, 0:].values  \n",
    "\n",
    "# 归一化\n",
    "sc = MinMaxScaler(feature_range=(0, 1))  # 定义归一化：归一化到(0，1)之间\n",
    "training_set_scaled = sc.fit_transform(training_set)  # 求得训练集的最大值，最小值这些训练集固有的属性，并在训练集上进行归一化\n",
    "valid_set = sc.transform(valid_set)\n",
    "test_set = sc.transform(test_set)  # 利用训练集的属性对测试集进行归一化\n",
    "\n",
    "#对开盘价数据进行归一化，方便后续可视化展示\n",
    "sc_for_visual = MinMaxScaler(feature_range=(0, 1))  \n",
    "y_test_for_visual_scaled = sc_for_visual.fit_transform(national_debt.iloc[0:1563 - 600, 0:1].values ) \n",
    "y_test_for_visual = sc_for_visual.transform(national_debt.iloc[1563 - 300:1563, 0:1].values )"
   ]
  },
  {
   "cell_type": "markdown",
   "metadata": {},
   "source": [
    "得到训练集和测试集的数据"
   ]
  },
  {
   "cell_type": "code",
   "execution_count": 5,
   "metadata": {
    "scrolled": true
   },
   "outputs": [
    {
     "name": "stdout",
     "output_type": "stream",
     "text": [
      "[[[0.18613607 0.16322581 0.18825782 0.49134615 0.54317549]\n",
      "  [0.17907574 0.16451613 0.18953414 0.37692308 0.54967502]\n",
      "  [0.18228498 0.19354839 0.18825782 0.43461538 0.54085422]\n",
      "  [0.21052632 0.18709677 0.19463944 0.57307692 0.53528319]\n",
      "  [0.23363286 0.21483871 0.24122527 0.54230769 0.53435469]]\n",
      "\n",
      " [[0.17907574 0.16451613 0.18953414 0.37692308 0.54967502]\n",
      "  [0.18228498 0.19354839 0.18825782 0.43461538 0.54085422]\n",
      "  [0.21052632 0.18709677 0.19463944 0.57307692 0.53528319]\n",
      "  [0.23363286 0.21483871 0.24122527 0.54230769 0.53435469]\n",
      "  [0.24775353 0.22322581 0.24569241 0.49230769 0.53296193]]\n",
      "\n",
      " [[0.18228498 0.19354839 0.18825782 0.43461538 0.54085422]\n",
      "  [0.21052632 0.18709677 0.19463944 0.57307692 0.53528319]\n",
      "  [0.23363286 0.21483871 0.24122527 0.54230769 0.53435469]\n",
      "  [0.24775353 0.22322581 0.24569241 0.49230769 0.53296193]\n",
      "  [0.24326059 0.22580645 0.25654116 0.39230769 0.53156917]]\n",
      "\n",
      " ...\n",
      "\n",
      " [[0.3491656  0.3316129  0.35992342 0.41634615 0.79897864]\n",
      "  [0.35301669 0.32903226 0.35609445 0.43557692 0.83054782]\n",
      "  [0.35686778 0.33612903 0.35928526 0.43557692 0.87883008]\n",
      "  [0.35879332 0.33935484 0.37141034 0.42596154 0.88300836]\n",
      "  [0.34531451 0.32258065 0.34779834 0.34807692 0.88904364]]\n",
      "\n",
      " [[0.35301669 0.32903226 0.35609445 0.43557692 0.83054782]\n",
      "  [0.35686778 0.33612903 0.35928526 0.43557692 0.87883008]\n",
      "  [0.35879332 0.33935484 0.37141034 0.42596154 0.88300836]\n",
      "  [0.34531451 0.32258065 0.34779834 0.34807692 0.88904364]\n",
      "  [0.34403081 0.32580645 0.35609445 0.40961538 0.70798514]]\n",
      "\n",
      " [[0.35686778 0.33612903 0.35928526 0.43557692 0.87883008]\n",
      "  [0.35879332 0.33935484 0.37141034 0.42596154 0.88300836]\n",
      "  [0.34531451 0.32258065 0.34779834 0.34807692 0.88904364]\n",
      "  [0.34403081 0.32580645 0.35609445 0.40961538 0.70798514]\n",
      "  [0.35622593 0.33225806 0.35928526 0.47788462 0.55803157]]]\n"
     ]
    }
   ],
   "source": [
    "x_train = []\n",
    "y_train = []\n",
    "\n",
    "x_valid = []\n",
    "y_valid = []\n",
    "\n",
    "x_test = []\n",
    "y_test = []\n",
    "\n",
    "# 利用for循环，遍历整个训练集，提取训练集中连续10天的开盘价作为输入特征x_train，第11天的数据作为标签\n",
    "for i in range(5, len(training_set_scaled)):\n",
    "    x_train.append(training_set_scaled[i - 5:i, 1:]) \n",
    "    y_train.append(training_set_scaled[i, 0])\n",
    "\n",
    "\n",
    "# 将训练集由list格式变为array格式\n",
    "x_train, y_train = np.array(x_train), np.array(y_train)\n",
    "x_train = np.reshape(x_train, (x_train.shape[0], 5,5))\n",
    "print(x_train)\n",
    "\n",
    "#验证集\n",
    "for i in range(5, len(valid_set)):\n",
    "    x_valid.append(valid_set[i - 5:i,1:])\n",
    "    y_valid.append(valid_set[i, 0])\n",
    "x_valid, y_valid = np.array(x_valid), np.array(y_valid)\n",
    "x_valid = np.reshape(x_valid, (x_valid.shape[0], 5,5))\n",
    "\n",
    "\n",
    "# 测试集：csv表格中后300天数据\n",
    "# 利用for循环，遍历整个测试集，提取测试集中连续10天的开盘价作为输入特征x_train，\n",
    "# 第11天的数据作为标签，for循环共构建300-10=290组数据。\n",
    "for i in range(5, len(test_set)):\n",
    "    x_test.append(test_set[i - 5:i,1:])\n",
    "    y_test.append(test_set[i, 0])\n",
    "# 测试集变array并reshape为符合CNN和RNN输入要求：\n",
    "#RNN: [送入样本数， 循环核时间展开步数， 每个时间步输入特征个数]\n",
    "x_test, y_test = np.array(x_test), np.array(y_test)\n",
    "x_test = np.reshape(x_test, (x_test.shape[0],5,5))"
   ]
  },
  {
   "cell_type": "markdown",
   "metadata": {},
   "source": [
    "训练模型"
   ]
  },
  {
   "cell_type": "code",
   "execution_count": 6,
   "metadata": {},
   "outputs": [],
   "source": [
    "# Load the TensorBoard notebook extension.\n",
    "%load_ext tensorboard"
   ]
  },
  {
   "cell_type": "code",
   "execution_count": 7,
   "metadata": {
    "scrolled": true
   },
   "outputs": [
    {
     "data": {
      "text/plain": [
       "<tensorflow.python.keras.layers.normalization_v2.BatchNormalization at 0x209a440ba88>"
      ]
     },
     "execution_count": 7,
     "metadata": {},
     "output_type": "execute_result"
    },
    {
     "data": {
      "text/plain": [
       "<tensorflow.python.keras.layers.core.Activation at 0x209a3e7be08>"
      ]
     },
     "execution_count": 7,
     "metadata": {},
     "output_type": "execute_result"
    },
    {
     "data": {
      "text/plain": [
       "<tensorflow.python.keras.layers.normalization_v2.BatchNormalization at 0x209a4413108>"
      ]
     },
     "execution_count": 7,
     "metadata": {},
     "output_type": "execute_result"
    },
    {
     "data": {
      "text/plain": [
       "<tensorflow.python.keras.layers.core.Activation at 0x209a3eac148>"
      ]
     },
     "execution_count": 7,
     "metadata": {},
     "output_type": "execute_result"
    },
    {
     "data": {
      "text/plain": [
       "<tensorflow.python.keras.layers.normalization_v2.BatchNormalization at 0x209a582f7c8>"
      ]
     },
     "execution_count": 7,
     "metadata": {},
     "output_type": "execute_result"
    },
    {
     "data": {
      "text/plain": [
       "<tensorflow.python.keras.layers.core.Activation at 0x209a3e7be08>"
      ]
     },
     "execution_count": 7,
     "metadata": {},
     "output_type": "execute_result"
    },
    {
     "name": "stdout",
     "output_type": "stream",
     "text": [
      "Model: \"outputs\"\n",
      "__________________________________________________________________________________________________\n",
      "Layer (type)                    Output Shape         Param #     Connected to                     \n",
      "==================================================================================================\n",
      "input (InputLayer)              [(None, 5, 5)]       0                                            \n",
      "__________________________________________________________________________________________________\n",
      "max_pooling1d (MaxPooling1D)    (None, 1, 5)         0           input[0][0]                      \n",
      "__________________________________________________________________________________________________\n",
      "conv1d_1 (Conv1D)               (None, 5, 64)        384         input[0][0]                      \n",
      "__________________________________________________________________________________________________\n",
      "conv1d_2 (Conv1D)               (None, 5, 64)        384         input[0][0]                      \n",
      "__________________________________________________________________________________________________\n",
      "conv1d (Conv1D)                 (None, 5, 64)        384         input[0][0]                      \n",
      "__________________________________________________________________________________________________\n",
      "conv1d_3 (Conv1D)               (None, 1, 64)        384         max_pooling1d[0][0]              \n",
      "__________________________________________________________________________________________________\n",
      "conv1d_4 (Conv1D)               (None, 3, 64)        12352       conv1d_1[0][0]                   \n",
      "__________________________________________________________________________________________________\n",
      "conv1d_5 (Conv1D)               (None, 1, 64)        20544       conv1d_2[0][0]                   \n",
      "__________________________________________________________________________________________________\n",
      "tf_op_layer_concat (TensorFlowO [(None, 10, 64)]     0           conv1d[0][0]                     \n",
      "                                                                 conv1d_3[0][0]                   \n",
      "                                                                 conv1d_4[0][0]                   \n",
      "                                                                 conv1d_5[0][0]                   \n",
      "__________________________________________________________________________________________________\n",
      "lstm (LSTM)                     (None, 10, 50)       23000       tf_op_layer_concat[0][0]         \n",
      "__________________________________________________________________________________________________\n",
      "dropout (Dropout)               (None, 10, 50)       0           lstm[0][0]                       \n",
      "__________________________________________________________________________________________________\n",
      "lstm_1 (LSTM)                   (None, 60)           26640       dropout[0][0]                    \n",
      "__________________________________________________________________________________________________\n",
      "dropout_1 (Dropout)             (None, 60)           0           lstm_1[0][0]                     \n",
      "__________________________________________________________________________________________________\n",
      "dense (Dense)                   (None, 20)           1220        dropout_1[0][0]                  \n",
      "__________________________________________________________________________________________________\n",
      "dense_1 (Dense)                 (None, 1)            21          dense[0][0]                      \n",
      "==================================================================================================\n",
      "Total params: 85,313\n",
      "Trainable params: 85,313\n",
      "Non-trainable params: 0\n",
      "__________________________________________________________________________________________________\n"
     ]
    }
   ],
   "source": [
    "import os\n",
    "from keras.preprocessing import sequence\n",
    "from keras.models import Sequential\n",
    "from keras.layers import Dense, Dropout, Activation,BatchNormalization\n",
    "from keras.layers import Embedding\n",
    "from keras.layers import LSTM\n",
    "from keras.layers import Conv1D, MaxPooling1D,Flatten,AveragePooling1D\n",
    "from tensorflow.keras import Model\n",
    "from tensorflow import keras\n",
    "from tensorflow.keras import layers\n",
    "\n",
    "\n",
    "inputs = keras.Input(shape=(5, 5), name=\"input\")\n",
    "\n",
    "conv_1 = layers.Conv1D(filters=64, kernel_size=1,activation='relu', strides=1)(inputs)\n",
    "\n",
    "inputs_pool_1 = layers.MaxPooling1D(pool_size = 3)(inputs)\n",
    "inputs_conv1_3 = layers.Conv1D(filters=64, kernel_size=1,activation='relu', strides=1)(inputs)\n",
    "inputs_conv1_5 = layers.Conv1D(filters=64, kernel_size=1,activation='relu', strides=1)(inputs)\n",
    "\n",
    "conv_pool_1 = layers.Conv1D(filters=64, kernel_size=1,activation='relu', strides=1)(tf.convert_to_tensor(inputs_pool_1))\n",
    "BatchNormalization() \n",
    "Activation('relu') \n",
    "\n",
    "conv1_3 = layers.Conv1D(filters=64, kernel_size=3,activation='relu', strides=1)(inputs_conv1_3)\n",
    "BatchNormalization() \n",
    "Activation('relu') \n",
    "\n",
    "conv1_5 = layers.Conv1D(filters=64, kernel_size=5,activation='relu', strides=1)(inputs_conv1_5)\n",
    "BatchNormalization()\n",
    "Activation('relu')  \n",
    "\n",
    "\n",
    "\n",
    "cnn_output = tf.concat([conv_1,conv_pool_1,conv1_3,conv1_5], 1)\n",
    "\n",
    "x = layers.LSTM(50,return_sequences=True)(cnn_output)\n",
    "x = layers.Dropout(0.2)(x)\n",
    "x = layers.LSTM(60)(x)\n",
    "x = layers.Dropout(0.2)(x)\n",
    "x = layers.Dense(20)(x)\n",
    "outputs = layers.Dense(1)(x)\n",
    "\n",
    "model = keras.Model(inputs, outputs, name=\"outputs\")\n",
    "model.summary()"
   ]
  },
  {
   "cell_type": "code",
   "execution_count": 8,
   "metadata": {},
   "outputs": [
    {
     "data": {
      "image/png": "[encoded data removed]",
      "text/plain": [
       "<IPython.core.display.Image object>"
      ]
     },
     "execution_count": 8,
     "metadata": {},
     "output_type": "execute_result"
    }
   ],
   "source": [
    "keras.utils.plot_model(model, \"data/shape_info_by_cnn-lstm.png\", show_shapes=True)"
   ]
  },
  {
   "cell_type": "code",
   "execution_count": 8,
   "metadata": {
    "scrolled": true
   },
   "outputs": [
    {
     "name": "stdout",
     "output_type": "stream",
     "text": [
      "Train...\n",
      "Epoch 1/100\n",
      " 1/15 [=>............................] - ETA: 0s - loss: 0.2338WARNING:tensorflow:From D:\\Anaconda3\\Anaconda3\\lib\\site-packages\\tensorflow\\python\\ops\\summary_ops_v2.py:1277: stop (from tensorflow.python.eager.profiler) is deprecated and will be removed after 2020-07-01.\n",
      "Instructions for updating:\n",
      "use `tf.profiler.experimental.stop` instead.\n",
      " 2/15 [===>..........................] - ETA: 3s - loss: 0.1980WARNING:tensorflow:Callbacks method `on_train_batch_end` is slow compared to the batch time (batch time: 0.0160s vs `on_train_batch_end` time: 0.5762s). Check your callbacks.\n",
      "15/15 [==============================] - 2s 130ms/step - loss: 0.0557 - val_loss: 0.0260\n",
      "Epoch 2/100\n",
      "15/15 [==============================] - 0s 31ms/step - loss: 0.0106 - val_loss: 0.0144\n",
      "Epoch 3/100\n",
      "15/15 [==============================] - 0s 31ms/step - loss: 0.0051 - val_loss: 0.0135\n",
      "Epoch 4/100\n",
      "15/15 [==============================] - 0s 19ms/step - loss: 0.0047 - val_loss: 0.0141\n",
      "Epoch 5/100\n",
      "15/15 [==============================] - 0s 32ms/step - loss: 0.0032 - val_loss: 0.0131\n",
      "Epoch 6/100\n",
      "15/15 [==============================] - 0s 31ms/step - loss: 0.0032 - val_loss: 0.0130\n",
      "Epoch 7/100\n",
      "15/15 [==============================] - 0s 33ms/step - loss: 0.0035 - val_loss: 0.0127\n",
      "Epoch 8/100\n",
      "15/15 [==============================] - 0s 30ms/step - loss: 0.0028 - val_loss: 0.0120\n",
      "Epoch 9/100\n",
      "15/15 [==============================] - 0s 30ms/step - loss: 0.0027 - val_loss: 0.0120\n",
      "Epoch 10/100\n",
      "15/15 [==============================] - 0s 30ms/step - loss: 0.0027 - val_loss: 0.0118\n",
      "Epoch 11/100\n",
      "15/15 [==============================] - 0s 17ms/step - loss: 0.0023 - val_loss: 0.0123\n",
      "Epoch 12/100\n",
      "15/15 [==============================] - 0s 26ms/step - loss: 0.0024 - val_loss: 0.0115\n",
      "Epoch 13/100\n",
      "15/15 [==============================] - 0s 15ms/step - loss: 0.0026 - val_loss: 0.0123\n",
      "Epoch 14/100\n",
      "15/15 [==============================] - 0s 17ms/step - loss: 0.0022 - val_loss: 0.0118\n",
      "Epoch 15/100\n",
      "15/15 [==============================] - 1s 36ms/step - loss: 0.0024 - val_loss: 0.0118\n",
      "Epoch 16/100\n",
      "15/15 [==============================] - 0s 15ms/step - loss: 0.0022 - val_loss: 0.0119\n",
      "Epoch 17/100\n",
      "15/15 [==============================] - 0s 29ms/step - loss: 0.0022 - val_loss: 0.0104\n",
      "Epoch 18/100\n",
      "15/15 [==============================] - 0s 16ms/step - loss: 0.0019 - val_loss: 0.0108\n",
      "Epoch 19/100\n",
      "15/15 [==============================] - 0s 16ms/step - loss: 0.0020 - val_loss: 0.0104\n",
      "Epoch 20/100\n",
      "15/15 [==============================] - 0s 17ms/step - loss: 0.0018 - val_loss: 0.0111\n",
      "Epoch 21/100\n",
      "15/15 [==============================] - 0s 28ms/step - loss: 0.0019 - val_loss: 0.0100\n",
      "Epoch 22/100\n",
      "15/15 [==============================] - 0s 29ms/step - loss: 0.0022 - val_loss: 0.0099\n",
      "Epoch 23/100\n",
      "15/15 [==============================] - 0s 16ms/step - loss: 0.0018 - val_loss: 0.0106\n",
      "Epoch 24/100\n",
      "15/15 [==============================] - 0s 27ms/step - loss: 0.0017 - val_loss: 0.0096\n",
      "Epoch 25/100\n",
      "15/15 [==============================] - 0s 15ms/step - loss: 0.0018 - val_loss: 0.0098\n",
      "Epoch 26/100\n",
      "15/15 [==============================] - 0s 17ms/step - loss: 0.0014 - val_loss: 0.0100\n",
      "Epoch 27/100\n",
      "15/15 [==============================] - 0s 17ms/step - loss: 0.0015 - val_loss: 0.0096\n",
      "Epoch 28/100\n",
      "15/15 [==============================] - 0s 17ms/step - loss: 0.0014 - val_loss: 0.0106\n",
      "Epoch 29/100\n",
      "15/15 [==============================] - 0s 17ms/step - loss: 0.0014 - val_loss: 0.0099\n",
      "Epoch 30/100\n",
      "15/15 [==============================] - 0s 30ms/step - loss: 0.0013 - val_loss: 0.0087\n",
      "Epoch 31/100\n",
      "15/15 [==============================] - 0s 17ms/step - loss: 0.0013 - val_loss: 0.0096\n",
      "Epoch 32/100\n",
      "15/15 [==============================] - 0s 15ms/step - loss: 0.0012 - val_loss: 0.0087\n",
      "Epoch 33/100\n",
      "15/15 [==============================] - 0s 16ms/step - loss: 0.0013 - val_loss: 0.0097\n",
      "Epoch 34/100\n",
      "15/15 [==============================] - 0s 29ms/step - loss: 0.0013 - val_loss: 0.0086\n",
      "Epoch 35/100\n",
      "15/15 [==============================] - 0s 28ms/step - loss: 0.0014 - val_loss: 0.0084\n",
      "Epoch 36/100\n",
      "15/15 [==============================] - 0s 16ms/step - loss: 0.0011 - val_loss: 0.0089\n",
      "Epoch 37/100\n",
      "15/15 [==============================] - 0s 17ms/step - loss: 0.0012 - val_loss: 0.0094\n",
      "Epoch 38/100\n",
      "15/15 [==============================] - 0s 17ms/step - loss: 0.0013 - val_loss: 0.0085\n",
      "Epoch 39/100\n",
      "15/15 [==============================] - 0s 17ms/step - loss: 0.0012 - val_loss: 0.0084\n",
      "Epoch 40/100\n",
      "15/15 [==============================] - 0s 16ms/step - loss: 0.0013 - val_loss: 0.0090\n",
      "Epoch 41/100\n",
      "15/15 [==============================] - 0s 16ms/step - loss: 0.0011 - val_loss: 0.0102\n",
      "Epoch 42/100\n",
      "15/15 [==============================] - 0s 16ms/step - loss: 0.0013 - val_loss: 0.0087\n",
      "Epoch 43/100\n",
      "15/15 [==============================] - 0s 19ms/step - loss: 0.0010 - val_loss: 0.0092\n",
      "Epoch 44/100\n",
      "15/15 [==============================] - 0s 18ms/step - loss: 0.0012 - val_loss: 0.0090\n",
      "Epoch 45/100\n",
      "15/15 [==============================] - 0s 16ms/step - loss: 0.0012 - val_loss: 0.0102\n",
      "Epoch 46/100\n",
      "15/15 [==============================] - 0s 19ms/step - loss: 0.0013 - val_loss: 0.0097\n",
      "Epoch 47/100\n",
      "15/15 [==============================] - 0s 18ms/step - loss: 0.0011 - val_loss: 0.0091\n",
      "Epoch 48/100\n",
      "15/15 [==============================] - 0s 16ms/step - loss: 0.0010 - val_loss: 0.0092\n",
      "Epoch 49/100\n",
      "15/15 [==============================] - 0s 18ms/step - loss: 0.0011 - val_loss: 0.0092\n",
      "Epoch 50/100\n",
      "15/15 [==============================] - 0s 16ms/step - loss: 9.3008e-04 - val_loss: 0.0091\n",
      "Epoch 51/100\n",
      "15/15 [==============================] - 0s 18ms/step - loss: 9.5378e-04 - val_loss: 0.0096\n",
      "Epoch 52/100\n",
      "15/15 [==============================] - 0s 17ms/step - loss: 0.0010 - val_loss: 0.0088\n",
      "Epoch 53/100\n",
      "15/15 [==============================] - 0s 16ms/step - loss: 0.0011 - val_loss: 0.0090\n",
      "Epoch 54/100\n",
      "15/15 [==============================] - 0s 17ms/step - loss: 0.0012 - val_loss: 0.0101\n",
      "Epoch 55/100\n",
      "15/15 [==============================] - 0s 17ms/step - loss: 9.1859e-04 - val_loss: 0.0095\n",
      "Epoch 56/100\n",
      "15/15 [==============================] - 0s 17ms/step - loss: 9.4968e-04 - val_loss: 0.0092\n",
      "Epoch 57/100\n",
      "15/15 [==============================] - 0s 29ms/step - loss: 8.9515e-04 - val_loss: 0.0099\n",
      "Epoch 58/100\n",
      "15/15 [==============================] - 0s 28ms/step - loss: 9.0951e-04 - val_loss: 0.0092\n",
      "Epoch 59/100\n",
      "15/15 [==============================] - 0s 28ms/step - loss: 9.6379e-04 - val_loss: 0.0103\n",
      "Epoch 60/100\n",
      "15/15 [==============================] - 0s 29ms/step - loss: 8.1698e-04 - val_loss: 0.0090\n",
      "Epoch 61/100\n",
      "15/15 [==============================] - 0s 27ms/step - loss: 7.6481e-04 - val_loss: 0.0100\n",
      "Epoch 62/100\n",
      "15/15 [==============================] - 0s 28ms/step - loss: 8.1797e-04 - val_loss: 0.0105\n",
      "Epoch 63/100\n",
      "15/15 [==============================] - 0s 31ms/step - loss: 8.5303e-04 - val_loss: 0.0104\n",
      "Epoch 64/100\n",
      "15/15 [==============================] - 0s 28ms/step - loss: 8.9747e-04 - val_loss: 0.0097\n",
      "Epoch 65/100\n",
      "15/15 [==============================] - 0s 28ms/step - loss: 0.0010 - val_loss: 0.0092\n",
      "Epoch 66/100\n",
      "15/15 [==============================] - 0s 29ms/step - loss: 0.0011 - val_loss: 0.0089\n",
      "Epoch 67/100\n",
      "15/15 [==============================] - 0s 30ms/step - loss: 9.0310e-04 - val_loss: 0.0098\n",
      "Epoch 68/100\n",
      "15/15 [==============================] - 0s 28ms/step - loss: 8.8081e-04 - val_loss: 0.0102\n",
      "Epoch 69/100\n",
      "15/15 [==============================] - 0s 29ms/step - loss: 7.7461e-04 - val_loss: 0.0101\n",
      "Epoch 70/100\n",
      "15/15 [==============================] - 0s 29ms/step - loss: 9.4246e-04 - val_loss: 0.0099\n",
      "Epoch 71/100\n",
      "15/15 [==============================] - 0s 31ms/step - loss: 0.0012 - val_loss: 0.0105\n",
      "Epoch 72/100\n",
      "15/15 [==============================] - 0s 29ms/step - loss: 8.2700e-04 - val_loss: 0.0103\n",
      "Epoch 73/100\n",
      "15/15 [==============================] - 0s 28ms/step - loss: 8.2133e-04 - val_loss: 0.0101\n",
      "Epoch 74/100\n",
      "15/15 [==============================] - 0s 30ms/step - loss: 7.7487e-04 - val_loss: 0.0101\n",
      "Epoch 75/100\n"
     ]
    },
    {
     "name": "stdout",
     "output_type": "stream",
     "text": [
      "15/15 [==============================] - 0s 29ms/step - loss: 8.2321e-04 - val_loss: 0.0112\n",
      "Epoch 76/100\n",
      "15/15 [==============================] - 0s 29ms/step - loss: 7.8391e-04 - val_loss: 0.0102\n",
      "Epoch 77/100\n",
      "15/15 [==============================] - 0s 30ms/step - loss: 7.4855e-04 - val_loss: 0.0095\n",
      "Epoch 78/100\n",
      "15/15 [==============================] - 0s 29ms/step - loss: 7.3314e-04 - val_loss: 0.0098\n",
      "Epoch 79/100\n",
      "15/15 [==============================] - 0s 29ms/step - loss: 7.8587e-04 - val_loss: 0.0101\n",
      "Epoch 80/100\n",
      "15/15 [==============================] - 0s 29ms/step - loss: 8.1614e-04 - val_loss: 0.0101\n",
      "Epoch 81/100\n",
      "15/15 [==============================] - 0s 28ms/step - loss: 7.6260e-04 - val_loss: 0.0102\n",
      "Epoch 82/100\n",
      "15/15 [==============================] - 0s 29ms/step - loss: 7.1582e-04 - val_loss: 0.0111\n",
      "Epoch 83/100\n",
      "15/15 [==============================] - 0s 29ms/step - loss: 6.7667e-04 - val_loss: 0.0110\n",
      "Epoch 84/100\n",
      "15/15 [==============================] - 0s 29ms/step - loss: 7.5506e-04 - val_loss: 0.0100\n",
      "Epoch 85/100\n",
      "15/15 [==============================] - 0s 30ms/step - loss: 6.8554e-04 - val_loss: 0.0093\n",
      "Epoch 86/100\n",
      "15/15 [==============================] - 0s 30ms/step - loss: 6.7880e-04 - val_loss: 0.0095\n",
      "Epoch 87/100\n",
      "15/15 [==============================] - 0s 29ms/step - loss: 7.3238e-04 - val_loss: 0.0098\n",
      "Epoch 88/100\n",
      "15/15 [==============================] - 1s 48ms/step - loss: 7.8201e-04 - val_loss: 0.0104\n",
      "Epoch 89/100\n",
      "15/15 [==============================] - 0s 29ms/step - loss: 7.3858e-04 - val_loss: 0.0112\n",
      "Epoch 90/100\n",
      "15/15 [==============================] - 0s 29ms/step - loss: 7.4828e-04 - val_loss: 0.0103\n",
      "Epoch 91/100\n",
      "15/15 [==============================] - 0s 30ms/step - loss: 7.1178e-04 - val_loss: 0.0111\n",
      "Epoch 92/100\n",
      "15/15 [==============================] - 0s 29ms/step - loss: 8.2653e-04 - val_loss: 0.0101\n",
      "Epoch 93/100\n",
      "15/15 [==============================] - 0s 29ms/step - loss: 7.8919e-04 - val_loss: 0.0102\n",
      "Epoch 94/100\n",
      "15/15 [==============================] - 0s 29ms/step - loss: 7.1751e-04 - val_loss: 0.0113\n",
      "Epoch 95/100\n",
      "15/15 [==============================] - 0s 30ms/step - loss: 9.0605e-04 - val_loss: 0.0120\n",
      "Epoch 96/100\n",
      "15/15 [==============================] - 0s 29ms/step - loss: 9.0185e-04 - val_loss: 0.0115\n",
      "Epoch 97/100\n",
      "15/15 [==============================] - 0s 28ms/step - loss: 8.2360e-04 - val_loss: 0.0108\n",
      "Epoch 98/100\n",
      "15/15 [==============================] - 0s 29ms/step - loss: 6.9248e-04 - val_loss: 0.0101\n",
      "Epoch 99/100\n",
      "15/15 [==============================] - 0s 29ms/step - loss: 5.9527e-04 - val_loss: 0.0107\n",
      "Epoch 100/100\n",
      "15/15 [==============================] - 0s 28ms/step - loss: 6.4116e-04 - val_loss: 0.0110\n",
      "Model: \"outputs\"\n",
      "__________________________________________________________________________________________________\n",
      "Layer (type)                    Output Shape         Param #     Connected to                     \n",
      "==================================================================================================\n",
      "input (InputLayer)              [(None, 5, 5)]       0                                            \n",
      "__________________________________________________________________________________________________\n",
      "max_pooling1d (MaxPooling1D)    (None, 1, 5)         0           input[0][0]                      \n",
      "__________________________________________________________________________________________________\n",
      "conv1d_1 (Conv1D)               (None, 5, 64)        384         input[0][0]                      \n",
      "__________________________________________________________________________________________________\n",
      "conv1d_2 (Conv1D)               (None, 5, 64)        384         input[0][0]                      \n",
      "__________________________________________________________________________________________________\n",
      "conv1d (Conv1D)                 (None, 5, 64)        384         input[0][0]                      \n",
      "__________________________________________________________________________________________________\n",
      "conv1d_3 (Conv1D)               (None, 1, 64)        384         max_pooling1d[0][0]              \n",
      "__________________________________________________________________________________________________\n",
      "conv1d_4 (Conv1D)               (None, 3, 64)        12352       conv1d_1[0][0]                   \n",
      "__________________________________________________________________________________________________\n",
      "conv1d_5 (Conv1D)               (None, 1, 64)        20544       conv1d_2[0][0]                   \n",
      "__________________________________________________________________________________________________\n",
      "tf_op_layer_concat (TensorFlowO [(None, 10, 64)]     0           conv1d[0][0]                     \n",
      "                                                                 conv1d_3[0][0]                   \n",
      "                                                                 conv1d_4[0][0]                   \n",
      "                                                                 conv1d_5[0][0]                   \n",
      "__________________________________________________________________________________________________\n",
      "lstm (LSTM)                     (None, 10, 50)       23000       tf_op_layer_concat[0][0]         \n",
      "__________________________________________________________________________________________________\n",
      "dropout (Dropout)               (None, 10, 50)       0           lstm[0][0]                       \n",
      "__________________________________________________________________________________________________\n",
      "lstm_1 (LSTM)                   (None, 60)           26640       dropout[0][0]                    \n",
      "__________________________________________________________________________________________________\n",
      "dropout_1 (Dropout)             (None, 60)           0           lstm_1[0][0]                     \n",
      "__________________________________________________________________________________________________\n",
      "dense (Dense)                   (None, 20)           1220        dropout_1[0][0]                  \n",
      "__________________________________________________________________________________________________\n",
      "dense_1 (Dense)                 (None, 1)            21          dense[0][0]                      \n",
      "==================================================================================================\n",
      "Total params: 85,313\n",
      "Trainable params: 85,313\n",
      "Non-trainable params: 0\n",
      "__________________________________________________________________________________________________\n"
     ]
    },
    {
     "data": {
      "text/plain": [
       "18"
      ]
     },
     "execution_count": 8,
     "metadata": {},
     "output_type": "execute_result"
    },
    {
     "data": {
      "text/plain": [
       "11"
      ]
     },
     "execution_count": 8,
     "metadata": {},
     "output_type": "execute_result"
    },
    {
     "data": {
      "text/plain": [
       "4030"
      ]
     },
     "execution_count": 8,
     "metadata": {},
     "output_type": "execute_result"
    },
    {
     "data": {
      "text/plain": [
       "16"
      ]
     },
     "execution_count": 8,
     "metadata": {},
     "output_type": "execute_result"
    },
    {
     "data": {
      "text/plain": [
       "6"
      ]
     },
     "execution_count": 8,
     "metadata": {},
     "output_type": "execute_result"
    },
    {
     "data": {
      "text/plain": [
       "755"
      ]
     },
     "execution_count": 8,
     "metadata": {},
     "output_type": "execute_result"
    },
    {
     "data": {
      "text/plain": [
       "18"
      ]
     },
     "execution_count": 8,
     "metadata": {},
     "output_type": "execute_result"
    },
    {
     "data": {
      "text/plain": [
       "11"
      ]
     },
     "execution_count": 8,
     "metadata": {},
     "output_type": "execute_result"
    },
    {
     "data": {
      "text/plain": [
       "4033"
      ]
     },
     "execution_count": 8,
     "metadata": {},
     "output_type": "execute_result"
    },
    {
     "data": {
      "text/plain": [
       "16"
      ]
     },
     "execution_count": 8,
     "metadata": {},
     "output_type": "execute_result"
    },
    {
     "data": {
      "text/plain": [
       "6"
      ]
     },
     "execution_count": 8,
     "metadata": {},
     "output_type": "execute_result"
    },
    {
     "data": {
      "text/plain": [
       "770"
      ]
     },
     "execution_count": 8,
     "metadata": {},
     "output_type": "execute_result"
    },
    {
     "data": {
      "text/plain": [
       "16"
      ]
     },
     "execution_count": 8,
     "metadata": {},
     "output_type": "execute_result"
    },
    {
     "data": {
      "text/plain": [
       "11"
      ]
     },
     "execution_count": 8,
     "metadata": {},
     "output_type": "execute_result"
    },
    {
     "data": {
      "text/plain": [
       "4028"
      ]
     },
     "execution_count": 8,
     "metadata": {},
     "output_type": "execute_result"
    },
    {
     "data": {
      "text/plain": [
       "14"
      ]
     },
     "execution_count": 8,
     "metadata": {},
     "output_type": "execute_result"
    },
    {
     "data": {
      "text/plain": [
       "6"
      ]
     },
     "execution_count": 8,
     "metadata": {},
     "output_type": "execute_result"
    },
    {
     "data": {
      "text/plain": [
       "753"
      ]
     },
     "execution_count": 8,
     "metadata": {},
     "output_type": "execute_result"
    },
    {
     "data": {
      "text/plain": [
       "18"
      ]
     },
     "execution_count": 8,
     "metadata": {},
     "output_type": "execute_result"
    },
    {
     "data": {
      "text/plain": [
       "11"
      ]
     },
     "execution_count": 8,
     "metadata": {},
     "output_type": "execute_result"
    },
    {
     "data": {
      "text/plain": [
       "4034"
      ]
     },
     "execution_count": 8,
     "metadata": {},
     "output_type": "execute_result"
    },
    {
     "data": {
      "text/plain": [
       "16"
      ]
     },
     "execution_count": 8,
     "metadata": {},
     "output_type": "execute_result"
    },
    {
     "data": {
      "text/plain": [
       "6"
      ]
     },
     "execution_count": 8,
     "metadata": {},
     "output_type": "execute_result"
    },
    {
     "data": {
      "text/plain": [
       "756"
      ]
     },
     "execution_count": 8,
     "metadata": {},
     "output_type": "execute_result"
    },
    {
     "data": {
      "text/plain": [
       "18"
      ]
     },
     "execution_count": 8,
     "metadata": {},
     "output_type": "execute_result"
    },
    {
     "data": {
      "text/plain": [
       "12"
      ]
     },
     "execution_count": 8,
     "metadata": {},
     "output_type": "execute_result"
    },
    {
     "data": {
      "text/plain": [
       "1517"
      ]
     },
     "execution_count": 8,
     "metadata": {},
     "output_type": "execute_result"
    },
    {
     "data": {
      "text/plain": [
       "16"
      ]
     },
     "execution_count": 8,
     "metadata": {},
     "output_type": "execute_result"
    },
    {
     "data": {
      "text/plain": [
       "6"
      ]
     },
     "execution_count": 8,
     "metadata": {},
     "output_type": "execute_result"
    },
    {
     "data": {
      "text/plain": [
       "769"
      ]
     },
     "execution_count": 8,
     "metadata": {},
     "output_type": "execute_result"
    },
    {
     "data": {
      "text/plain": [
       "18"
      ]
     },
     "execution_count": 8,
     "metadata": {},
     "output_type": "execute_result"
    },
    {
     "data": {
      "text/plain": [
       "12"
      ]
     },
     "execution_count": 8,
     "metadata": {},
     "output_type": "execute_result"
    },
    {
     "data": {
      "text/plain": [
       "2530"
      ]
     },
     "execution_count": 8,
     "metadata": {},
     "output_type": "execute_result"
    },
    {
     "data": {
      "text/plain": [
       "16"
      ]
     },
     "execution_count": 8,
     "metadata": {},
     "output_type": "execute_result"
    },
    {
     "data": {
      "text/plain": [
       "6"
      ]
     },
     "execution_count": 8,
     "metadata": {},
     "output_type": "execute_result"
    },
    {
     "data": {
      "text/plain": [
       "977"
      ]
     },
     "execution_count": 8,
     "metadata": {},
     "output_type": "execute_result"
    },
    {
     "data": {
      "text/plain": [
       "24"
      ]
     },
     "execution_count": 8,
     "metadata": {},
     "output_type": "execute_result"
    },
    {
     "data": {
      "text/plain": [
       "10"
      ]
     },
     "execution_count": 8,
     "metadata": {},
     "output_type": "execute_result"
    },
    {
     "data": {
      "text/plain": [
       "492"
      ]
     },
     "execution_count": 8,
     "metadata": {},
     "output_type": "execute_result"
    },
    {
     "data": {
      "text/plain": [
       "34"
      ]
     },
     "execution_count": 8,
     "metadata": {},
     "output_type": "execute_result"
    },
    {
     "data": {
      "text/plain": [
       "10"
      ]
     },
     "execution_count": 8,
     "metadata": {},
     "output_type": "execute_result"
    },
    {
     "data": {
      "text/plain": [
       "636"
      ]
     },
     "execution_count": 8,
     "metadata": {},
     "output_type": "execute_result"
    },
    {
     "data": {
      "text/plain": [
       "22"
      ]
     },
     "execution_count": 8,
     "metadata": {},
     "output_type": "execute_result"
    },
    {
     "data": {
      "text/plain": [
       "7"
      ]
     },
     "execution_count": 8,
     "metadata": {},
     "output_type": "execute_result"
    },
    {
     "data": {
      "text/plain": [
       "3251"
      ]
     },
     "execution_count": 8,
     "metadata": {},
     "output_type": "execute_result"
    },
    {
     "data": {
      "text/plain": [
       "28"
      ]
     },
     "execution_count": 8,
     "metadata": {},
     "output_type": "execute_result"
    },
    {
     "data": {
      "text/plain": [
       "10"
      ]
     },
     "execution_count": 8,
     "metadata": {},
     "output_type": "execute_result"
    },
    {
     "data": {
      "text/plain": [
       "491"
      ]
     },
     "execution_count": 8,
     "metadata": {},
     "output_type": "execute_result"
    },
    {
     "data": {
      "text/plain": [
       "38"
      ]
     },
     "execution_count": 8,
     "metadata": {},
     "output_type": "execute_result"
    },
    {
     "data": {
      "text/plain": [
       "10"
      ]
     },
     "execution_count": 8,
     "metadata": {},
     "output_type": "execute_result"
    },
    {
     "data": {
      "text/plain": [
       "492"
      ]
     },
     "execution_count": 8,
     "metadata": {},
     "output_type": "execute_result"
    },
    {
     "data": {
      "text/plain": [
       "26"
      ]
     },
     "execution_count": 8,
     "metadata": {},
     "output_type": "execute_result"
    },
    {
     "data": {
      "text/plain": [
       "7"
      ]
     },
     "execution_count": 8,
     "metadata": {},
     "output_type": "execute_result"
    },
    {
     "data": {
      "text/plain": [
       "3901"
      ]
     },
     "execution_count": 8,
     "metadata": {},
     "output_type": "execute_result"
    },
    {
     "data": {
      "text/plain": [
       "15"
      ]
     },
     "execution_count": 8,
     "metadata": {},
     "output_type": "execute_result"
    },
    {
     "data": {
      "text/plain": [
       "9"
      ]
     },
     "execution_count": 8,
     "metadata": {},
     "output_type": "execute_result"
    },
    {
     "data": {
      "text/plain": [
       "491"
      ]
     },
     "execution_count": 8,
     "metadata": {},
     "output_type": "execute_result"
    },
    {
     "data": {
      "text/plain": [
       "13"
      ]
     },
     "execution_count": 8,
     "metadata": {},
     "output_type": "execute_result"
    },
    {
     "data": {
      "text/plain": [
       "6"
      ]
     },
     "execution_count": 8,
     "metadata": {},
     "output_type": "execute_result"
    },
    {
     "data": {
      "text/plain": [
       "245"
      ]
     },
     "execution_count": 8,
     "metadata": {},
     "output_type": "execute_result"
    },
    {
     "data": {
      "text/plain": [
       "17"
      ]
     },
     "execution_count": 8,
     "metadata": {},
     "output_type": "execute_result"
    },
    {
     "data": {
      "text/plain": [
       "8"
      ]
     },
     "execution_count": 8,
     "metadata": {},
     "output_type": "execute_result"
    },
    {
     "data": {
      "text/plain": [
       "301"
      ]
     },
     "execution_count": 8,
     "metadata": {},
     "output_type": "execute_result"
    },
    {
     "data": {
      "text/plain": [
       "15"
      ]
     },
     "execution_count": 8,
     "metadata": {},
     "output_type": "execute_result"
    },
    {
     "data": {
      "text/plain": [
       "5"
      ]
     },
     "execution_count": 8,
     "metadata": {},
     "output_type": "execute_result"
    },
    {
     "data": {
      "text/plain": [
       "13"
      ]
     },
     "execution_count": 8,
     "metadata": {},
     "output_type": "execute_result"
    }
   ],
   "source": [
    "model.compile(optimizer=tf.keras.optimizers.Adam(lr = 1e-3),\n",
    "              loss='mean_squared_error')  # 损失函数用均方误差\n",
    "\n",
    "#该应用只观测loss数值，不观测准确率，所以删去metrics选项，一会在每个epoch迭代显示时只显示loss值\n",
    "checkpoint_save_path = \"./checkpoint/CMM-LSTM/CNN-LSTM_nation_debt.ckpt\"\n",
    "\n",
    "if os.path.exists(checkpoint_save_path + '.index'):\n",
    "    print('-------------load the model-----------------')\n",
    "    model.load_weights(checkpoint_save_path)\n",
    "\n",
    "    \n",
    "# Define the Keras TensorBoard callback.\n",
    "logdir=\"logs/fit/\" + datetime.now().strftime(\"%Y%m%d-%H%M%S\")\n",
    "tensorboard_callback = keras.callbacks.TensorBoard(log_dir=logdir)\n",
    "\n",
    "cp_callback = tf.keras.callbacks.ModelCheckpoint(filepath=checkpoint_save_path,\n",
    "                                                 save_weights_only=True,\n",
    "                                                 save_best_only=True,\n",
    "                                                 monitor='val_loss')\n",
    "\n",
    "print('Train...')\n",
    "\n",
    "history = model.fit(x_train, y_train,batch_size=64,epochs=100,\n",
    "                    validation_data=(x_valid, y_valid),validation_freq=1,callbacks=[cp_callback,tensorboard_callback])\n",
    "\n",
    "model.summary()\n",
    "\n",
    "file = open('./data/weights_of_nation_debt_by_cnn-lstm.txt', 'w')  # 参数提取\n",
    "for v in model.trainable_variables:\n",
    "    file.write(str(v.name) + '\\n')\n",
    "    file.write(str(v.shape) + '\\n')\n",
    "    file.write(str(v.numpy()) + '\\n')\n",
    "file.close()"
   ]
  },
  {
   "cell_type": "code",
   "execution_count": 9,
   "metadata": {},
   "outputs": [
    {
     "data": {
      "text/plain": [
       "Reusing TensorBoard on port 6006 (pid 20220), started 4 days, 21:21:40 ago. (Use '!kill 20220' to kill it.)"
      ]
     },
     "metadata": {},
     "output_type": "display_data"
    },
    {
     "data": {
      "text/html": [
       "\n",
       "      <iframe id=\"tensorboard-frame-49cd5cb7f9712400\" width=\"100%\" height=\"800\" frameborder=\"0\">\n",
       "      </iframe>\n",
       "      <script>\n",
       "        (function() {\n",
       "          const frame = document.getElementById(\"tensorboard-frame-49cd5cb7f9712400\");\n",
       "          const url = new URL(\"/\", window.location);\n",
       "          const port = 6006;\n",
       "          if (port) {\n",
       "            url.port = port;\n",
       "          }\n",
       "          frame.src = url;\n",
       "        })();\n",
       "      </script>\n",
       "    "
      ],
      "text/plain": [
       "<IPython.core.display.HTML object>"
      ]
     },
     "metadata": {},
     "output_type": "display_data"
    }
   ],
   "source": [
    "%tensorboard --logdir logs"
   ]
  },
  {
   "cell_type": "code",
   "execution_count": 10,
   "metadata": {},
   "outputs": [
    {
     "data": {
      "text/plain": [
       "[<matplotlib.lines.Line2D at 0x209a5827288>]"
      ]
     },
     "execution_count": 10,
     "metadata": {},
     "output_type": "execute_result"
    },
    {
     "data": {
      "text/plain": [
       "[<matplotlib.lines.Line2D at 0x209a42eb208>]"
      ]
     },
     "execution_count": 10,
     "metadata": {},
     "output_type": "execute_result"
    },
    {
     "data": {
      "text/plain": [
       "Text(0.5, 1.0, 'Training and Validation Loss')"
      ]
     },
     "execution_count": 10,
     "metadata": {},
     "output_type": "execute_result"
    },
    {
     "data": {
      "text/plain": [
       "<matplotlib.legend.Legend at 0x209ae508e08>"
      ]
     },
     "execution_count": 10,
     "metadata": {},
     "output_type": "execute_result"
    },
    {
     "data": {
      "image/png": "[encoded data removed]",
      "text/plain": [
       "<Figure size 432x288 with 1 Axes>"
      ]
     },
     "metadata": {
      "needs_background": "light"
     },
     "output_type": "display_data"
    }
   ],
   "source": [
    "loss = history.history['loss']\n",
    "val_loss = history.history['val_loss']\n",
    "\n",
    "plt.plot(loss, label='Training Loss')\n",
    "plt.plot(val_loss, label='Validation Loss') #验证集用来选则最佳的超参数的值\n",
    "plt.title('Training and Validation Loss')\n",
    "plt.legend()\n",
    "plt.show()"
   ]
  },
  {
   "cell_type": "code",
   "execution_count": 11,
   "metadata": {},
   "outputs": [
    {
     "data": {
      "text/plain": [
       "<Figure size 432x288 with 0 Axes>"
      ]
     },
     "execution_count": 11,
     "metadata": {},
     "output_type": "execute_result"
    },
    {
     "data": {
      "text/plain": [
       "[<matplotlib.lines.Line2D at 0x209af7448c8>]"
      ]
     },
     "execution_count": 11,
     "metadata": {},
     "output_type": "execute_result"
    },
    {
     "data": {
      "text/plain": [
       "[<matplotlib.lines.Line2D at 0x209a6bde988>]"
      ]
     },
     "execution_count": 11,
     "metadata": {},
     "output_type": "execute_result"
    },
    {
     "data": {
      "text/plain": [
       "Text(0.5, 1.0, 'national debt Price Prediction')"
      ]
     },
     "execution_count": 11,
     "metadata": {},
     "output_type": "execute_result"
    },
    {
     "data": {
      "text/plain": [
       "Text(0.5, 0, 'Time')"
      ]
     },
     "execution_count": 11,
     "metadata": {},
     "output_type": "execute_result"
    },
    {
     "data": {
      "text/plain": [
       "Text(0, 0.5, 'national debt Price')"
      ]
     },
     "execution_count": 11,
     "metadata": {},
     "output_type": "execute_result"
    },
    {
     "data": {
      "text/plain": [
       "<matplotlib.legend.Legend at 0x209af734548>"
      ]
     },
     "execution_count": 11,
     "metadata": {},
     "output_type": "execute_result"
    },
    {
     "data": {
      "image/png": "[encoded data removed]",
      "text/plain": [
       "<Figure size 432x288 with 1 Axes>"
      ]
     },
     "metadata": {},
     "output_type": "display_data"
    },
    {
     "name": "stdout",
     "output_type": "stream",
     "text": [
      "均方误差: 0.001426\n",
      "均方根误差: 0.037765\n",
      "平均绝对误差: 0.027259\n",
      "10/10 - 0s - loss: 5.9363e-04\n",
      "Test loss: 0.0005936333327554166\n"
     ]
    }
   ],
   "source": [
    "# 测试集输入模型进行预测\n",
    "predicted_stock_price = model.predict(x_test)\n",
    "# 对预测数据还原---从（0，1）反归一化到原始范围\n",
    "predicted_stock_price = sc_for_visual.inverse_transform(predicted_stock_price)\n",
    "# 对真实数据还原---从（0，1）反归一化到原始范围\n",
    "real_stock_price = sc_for_visual.inverse_transform(y_test_for_visual[5:])\n",
    "# 画出真实数据和预测数据的对比曲线\n",
    "# 画出真实数据和预测数据的对比曲线\n",
    "plt.figure(facecolor='white')\n",
    "plt.plot(real_stock_price, color='red', label='national debt Price')\n",
    "plt.plot(predicted_stock_price, color='blue', label='Predicted by CNN-LSTM')\n",
    "plt.title('national debt Price Prediction')\n",
    "plt.xlabel('Time')\n",
    "plt.ylabel('national debt Price')\n",
    "plt.legend()\n",
    "plt.show()\n",
    "\n",
    "##########evaluate##############\n",
    "# calculate MSE 均方误差 ---> E[(预测值-真实值)^2] (预测值减真实值求平方后求均值)\n",
    "mse = mean_squared_error(predicted_stock_price, real_stock_price)\n",
    "# calculate RMSE 均方根误差--->sqrt[MSE]    (对均方误差开方)\n",
    "rmse = math.sqrt(mean_squared_error(predicted_stock_price, real_stock_price))\n",
    "# calculate MAE 平均绝对误差----->E[|预测值-真实值|](预测值减真实值求绝对值后求均值）\n",
    "mae = mean_absolute_error(predicted_stock_price, real_stock_price)\n",
    "print('均方误差: %.6f' % mse)\n",
    "print('均方根误差: %.6f' % rmse)\n",
    "print('平均绝对误差: %.6f' % mae)\n",
    "\n",
    "loss = model.evaluate(x_test, y_test, verbose=2)\n",
    "print(\"Test loss:\", loss)\n"
   ]
  },
  {
   "cell_type": "code",
   "execution_count": 12,
   "metadata": {},
   "outputs": [
    {
     "name": "stdout",
     "output_type": "stream",
     "text": [
      "0.965020665586647\n"
     ]
    }
   ],
   "source": [
    "from sklearn.metrics import explained_variance_score\n",
    "import seaborn as sns\n",
    "\n",
    "cm = explained_variance_score(real_stock_price, predicted_stock_price)\n",
    "\n",
    "print(cm )"
   ]
  },
  {
   "cell_type": "markdown",
   "metadata": {},
   "source": [
    "可以用class的方式来实现，只是这种方式不利于可视化"
   ]
  },
  {
   "cell_type": "code",
   "execution_count": 21,
   "metadata": {
    "scrolled": true
   },
   "outputs": [
    {
     "name": "stdout",
     "output_type": "stream",
     "text": [
      "Epoch 1/80\n",
      " 2/15 [===>..........................] - ETA: 4s - loss: 0.2042WARNING:tensorflow:Callbacks method `on_train_batch_end` is slow compared to the batch time (batch time: 0.0180s vs `on_train_batch_end` time: 0.7259s). Check your callbacks.\n",
      "15/15 [==============================] - 2s 131ms/step - loss: 0.0573 - val_loss: 0.0490\n",
      "Epoch 2/80\n",
      "15/15 [==============================] - 0s 23ms/step - loss: 0.0170 - val_loss: 0.0510\n",
      "Epoch 3/80\n",
      "15/15 [==============================] - 0s 20ms/step - loss: 0.0129 - val_loss: 0.0509\n",
      "Epoch 4/80\n",
      "15/15 [==============================] - 0s 20ms/step - loss: 0.0106 - val_loss: 0.0541\n",
      "Epoch 5/80\n",
      "15/15 [==============================] - 0s 22ms/step - loss: 0.0112 - val_loss: 0.0533\n",
      "Epoch 6/80\n",
      "15/15 [==============================] - 0s 21ms/step - loss: 0.0106 - val_loss: 0.0545\n",
      "Epoch 7/80\n",
      "15/15 [==============================] - 0s 24ms/step - loss: 0.0110 - val_loss: 0.0585\n",
      "Epoch 8/80\n",
      "15/15 [==============================] - 0s 24ms/step - loss: 0.0104 - val_loss: 0.0576\n",
      "Epoch 9/80\n",
      "15/15 [==============================] - 0s 24ms/step - loss: 0.0087 - val_loss: 0.0559\n",
      "Epoch 10/80\n",
      "15/15 [==============================] - 0s 22ms/step - loss: 0.0100 - val_loss: 0.0575\n",
      "Epoch 11/80\n",
      "15/15 [==============================] - 0s 22ms/step - loss: 0.0087 - val_loss: 0.0614\n",
      "Epoch 12/80\n",
      "15/15 [==============================] - 0s 20ms/step - loss: 0.0080 - val_loss: 0.0616\n",
      "Epoch 13/80\n",
      "15/15 [==============================] - 0s 23ms/step - loss: 0.0088 - val_loss: 0.0600\n",
      "Epoch 14/80\n",
      "15/15 [==============================] - 0s 20ms/step - loss: 0.0086 - val_loss: 0.0563\n",
      "Epoch 15/80\n",
      "15/15 [==============================] - 0s 21ms/step - loss: 0.0068 - val_loss: 0.0570\n",
      "Epoch 16/80\n",
      "15/15 [==============================] - 0s 22ms/step - loss: 0.0084 - val_loss: 0.0548\n",
      "Epoch 17/80\n",
      "15/15 [==============================] - 0s 22ms/step - loss: 0.0096 - val_loss: 0.0529\n",
      "Epoch 18/80\n",
      "15/15 [==============================] - 0s 22ms/step - loss: 0.0079 - val_loss: 0.0533\n",
      "Epoch 19/80\n",
      "15/15 [==============================] - 0s 21ms/step - loss: 0.0064 - val_loss: 0.0592\n",
      "Epoch 20/80\n",
      "15/15 [==============================] - 0s 19ms/step - loss: 0.0065 - val_loss: 0.0557\n",
      "Epoch 21/80\n",
      "15/15 [==============================] - 0s 23ms/step - loss: 0.0062 - val_loss: 0.0596\n",
      "Epoch 22/80\n",
      "15/15 [==============================] - 0s 21ms/step - loss: 0.0053 - val_loss: 0.0587\n",
      "Epoch 23/80\n",
      "15/15 [==============================] - 0s 20ms/step - loss: 0.0061 - val_loss: 0.0577\n",
      "Epoch 24/80\n",
      "15/15 [==============================] - 0s 23ms/step - loss: 0.0059 - val_loss: 0.0552\n",
      "Epoch 25/80\n",
      "15/15 [==============================] - 0s 20ms/step - loss: 0.0056 - val_loss: 0.0568\n",
      "Epoch 26/80\n",
      "15/15 [==============================] - 0s 22ms/step - loss: 0.0053 - val_loss: 0.0570\n",
      "Epoch 27/80\n",
      "15/15 [==============================] - 0s 20ms/step - loss: 0.0053 - val_loss: 0.0571\n",
      "Epoch 28/80\n",
      "15/15 [==============================] - 0s 25ms/step - loss: 0.0065 - val_loss: 0.0604\n",
      "Epoch 29/80\n",
      "15/15 [==============================] - 0s 21ms/step - loss: 0.0060 - val_loss: 0.0552\n",
      "Epoch 30/80\n",
      "15/15 [==============================] - 0s 23ms/step - loss: 0.0053 - val_loss: 0.0524\n",
      "Epoch 31/80\n",
      "15/15 [==============================] - 0s 22ms/step - loss: 0.0053 - val_loss: 0.0508\n",
      "Epoch 32/80\n",
      "15/15 [==============================] - 0s 21ms/step - loss: 0.0051 - val_loss: 0.0501\n",
      "Epoch 33/80\n",
      "15/15 [==============================] - 0s 19ms/step - loss: 0.0057 - val_loss: 0.0487\n",
      "Epoch 34/80\n",
      "15/15 [==============================] - 0s 20ms/step - loss: 0.0052 - val_loss: 0.0473\n",
      "Epoch 35/80\n",
      "15/15 [==============================] - 0s 23ms/step - loss: 0.0052 - val_loss: 0.0440\n",
      "Epoch 36/80\n",
      "15/15 [==============================] - 0s 20ms/step - loss: 0.0053 - val_loss: 0.0421\n",
      "Epoch 37/80\n",
      "15/15 [==============================] - 0s 20ms/step - loss: 0.0054 - val_loss: 0.0414\n",
      "Epoch 38/80\n",
      "15/15 [==============================] - 0s 23ms/step - loss: 0.0050 - val_loss: 0.0403\n",
      "Epoch 39/80\n",
      "15/15 [==============================] - 0s 20ms/step - loss: 0.0052 - val_loss: 0.0429\n",
      "Epoch 40/80\n",
      "15/15 [==============================] - 0s 22ms/step - loss: 0.0046 - val_loss: 0.0457\n",
      "Epoch 41/80\n",
      "15/15 [==============================] - 0s 20ms/step - loss: 0.0041 - val_loss: 0.0431\n",
      "Epoch 42/80\n",
      "15/15 [==============================] - 0s 21ms/step - loss: 0.0045 - val_loss: 0.0454\n",
      "Epoch 43/80\n",
      "15/15 [==============================] - 0s 23ms/step - loss: 0.0044 - val_loss: 0.0387\n",
      "Epoch 44/80\n",
      "15/15 [==============================] - 0s 21ms/step - loss: 0.0037 - val_loss: 0.0394\n",
      "Epoch 45/80\n",
      "15/15 [==============================] - 0s 22ms/step - loss: 0.0043 - val_loss: 0.0333\n",
      "Epoch 46/80\n",
      "15/15 [==============================] - 0s 23ms/step - loss: 0.0047 - val_loss: 0.0350\n",
      "Epoch 47/80\n",
      "15/15 [==============================] - 0s 23ms/step - loss: 0.0044 - val_loss: 0.0353\n",
      "Epoch 48/80\n",
      "15/15 [==============================] - 0s 20ms/step - loss: 0.0044 - val_loss: 0.0298\n",
      "Epoch 49/80\n",
      "15/15 [==============================] - 0s 23ms/step - loss: 0.0045 - val_loss: 0.0285\n",
      "Epoch 50/80\n",
      "15/15 [==============================] - 0s 20ms/step - loss: 0.0041 - val_loss: 0.0317\n",
      "Epoch 51/80\n",
      "15/15 [==============================] - 0s 24ms/step - loss: 0.0041 - val_loss: 0.0287\n",
      "Epoch 52/80\n",
      "15/15 [==============================] - 0s 21ms/step - loss: 0.0037 - val_loss: 0.0299\n",
      "Epoch 53/80\n",
      "15/15 [==============================] - 0s 22ms/step - loss: 0.0038 - val_loss: 0.0262\n",
      "Epoch 54/80\n",
      "15/15 [==============================] - 0s 20ms/step - loss: 0.0037 - val_loss: 0.0247\n",
      "Epoch 55/80\n",
      "15/15 [==============================] - 0s 19ms/step - loss: 0.0039 - val_loss: 0.0282\n",
      "Epoch 56/80\n",
      "15/15 [==============================] - 0s 23ms/step - loss: 0.0039 - val_loss: 0.0276\n",
      "Epoch 57/80\n",
      "15/15 [==============================] - 1s 44ms/step - loss: 0.0039 - val_loss: 0.0294\n",
      "Epoch 58/80\n",
      "15/15 [==============================] - 0s 20ms/step - loss: 0.0034 - val_loss: 0.0257\n",
      "Epoch 59/80\n",
      "15/15 [==============================] - 0s 20ms/step - loss: 0.0041 - val_loss: 0.0273\n",
      "Epoch 60/80\n",
      "15/15 [==============================] - 0s 24ms/step - loss: 0.0038 - val_loss: 0.0245\n",
      "Epoch 61/80\n",
      "15/15 [==============================] - 0s 20ms/step - loss: 0.0037 - val_loss: 0.0206\n",
      "Epoch 62/80\n",
      "15/15 [==============================] - 0s 21ms/step - loss: 0.0037 - val_loss: 0.0260\n",
      "Epoch 63/80\n",
      "15/15 [==============================] - 0s 22ms/step - loss: 0.0035 - val_loss: 0.0254\n",
      "Epoch 64/80\n",
      "15/15 [==============================] - 0s 20ms/step - loss: 0.0037 - val_loss: 0.0272\n",
      "Epoch 65/80\n",
      "15/15 [==============================] - 0s 23ms/step - loss: 0.0032 - val_loss: 0.0240\n",
      "Epoch 66/80\n",
      "15/15 [==============================] - 0s 23ms/step - loss: 0.0037 - val_loss: 0.0231\n",
      "Epoch 67/80\n",
      "15/15 [==============================] - 0s 18ms/step - loss: 0.0034 - val_loss: 0.0234\n",
      "Epoch 68/80\n",
      "15/15 [==============================] - 0s 21ms/step - loss: 0.0035 - val_loss: 0.0220\n",
      "Epoch 69/80\n",
      "15/15 [==============================] - 0s 21ms/step - loss: 0.0033 - val_loss: 0.0244\n",
      "Epoch 70/80\n",
      "15/15 [==============================] - 0s 22ms/step - loss: 0.0034 - val_loss: 0.0220\n",
      "Epoch 71/80\n",
      "15/15 [==============================] - 0s 23ms/step - loss: 0.0032 - val_loss: 0.0210\n",
      "Epoch 72/80\n",
      "15/15 [==============================] - 0s 23ms/step - loss: 0.0031 - val_loss: 0.0264\n",
      "Epoch 73/80\n",
      "15/15 [==============================] - 0s 22ms/step - loss: 0.0032 - val_loss: 0.0261\n",
      "Epoch 74/80\n",
      "15/15 [==============================] - 0s 20ms/step - loss: 0.0032 - val_loss: 0.0258\n",
      "Epoch 75/80\n",
      "15/15 [==============================] - 0s 22ms/step - loss: 0.0034 - val_loss: 0.0216\n",
      "Epoch 76/80\n",
      "15/15 [==============================] - 0s 20ms/step - loss: 0.0038 - val_loss: 0.0210\n",
      "Epoch 77/80\n",
      "15/15 [==============================] - 0s 23ms/step - loss: 0.0036 - val_loss: 0.0218\n",
      "Epoch 78/80\n",
      "15/15 [==============================] - 0s 23ms/step - loss: 0.0031 - val_loss: 0.0239\n",
      "Epoch 79/80\n",
      "15/15 [==============================] - 0s 21ms/step - loss: 0.0033 - val_loss: 0.0202\n",
      "Epoch 80/80\n",
      "15/15 [==============================] - 0s 21ms/step - loss: 0.0029 - val_loss: 0.0184\n"
     ]
    },
    {
     "data": {
      "image/png": "[encoded data removed]",
      "text/plain": [
       "<IPython.core.display.Image object>"
      ]
     },
     "execution_count": 21,
     "metadata": {},
     "output_type": "execute_result"
    },
    {
     "name": "stdout",
     "output_type": "stream",
     "text": [
      "Model: \"cnn_lstm\"\n",
      "_________________________________________________________________\n",
      "Layer (type)                 Output Shape              Param #   \n",
      "=================================================================\n",
      "conv1d_4 (Conv1D)            multiple                  320       \n",
      "_________________________________________________________________\n",
      "conv1d_5 (Conv1D)            multiple                  4160      \n",
      "_________________________________________________________________\n",
      "batch_normalization_3 (Batch multiple                  256       \n",
      "_________________________________________________________________\n",
      "activation_3 (Activation)    multiple                  0         \n",
      "_________________________________________________________________\n",
      "conv1d_6 (Conv1D)            multiple                  12352     \n",
      "_________________________________________________________________\n",
      "batch_normalization_4 (Batch multiple                  256       \n",
      "_________________________________________________________________\n",
      "activation_4 (Activation)    multiple                  0         \n",
      "_________________________________________________________________\n",
      "conv1d_7 (Conv1D)            multiple                  20544     \n",
      "_________________________________________________________________\n",
      "batch_normalization_5 (Batch multiple                  256       \n",
      "_________________________________________________________________\n",
      "activation_5 (Activation)    multiple                  0         \n",
      "_________________________________________________________________\n",
      "lstm_2 (LSTM)                multiple                  23000     \n",
      "_________________________________________________________________\n",
      "dropout_2 (Dropout)          multiple                  0         \n",
      "_________________________________________________________________\n",
      "lstm_3 (LSTM)                multiple                  26640     \n",
      "_________________________________________________________________\n",
      "dropout_3 (Dropout)          multiple                  0         \n",
      "_________________________________________________________________\n",
      "dense_2 (Dense)              multiple                  1220      \n",
      "_________________________________________________________________\n",
      "dropout_4 (Dropout)          multiple                  0         \n",
      "_________________________________________________________________\n",
      "dense_3 (Dense)              multiple                  21        \n",
      "=================================================================\n",
      "Total params: 89,025\n",
      "Trainable params: 88,641\n",
      "Non-trainable params: 384\n",
      "_________________________________________________________________\n"
     ]
    }
   ],
   "source": [
    "import os\n",
    "from keras.preprocessing import sequence\n",
    "from keras.models import Sequential\n",
    "from keras.layers import Dense, Dropout, Activation,BatchNormalization\n",
    "from keras.layers import Embedding\n",
    "from keras.layers import LSTM\n",
    "from keras.layers import Conv1D, MaxPooling1D,Flatten,AveragePooling1D\n",
    "from tensorflow.keras import Model\n",
    "from tensorflow import keras\n",
    "from tensorflow.keras import layers\n",
    "\n",
    "class CNN_LSTM(Model):\n",
    "    def __init__(self):\n",
    "        super(CNN_LSTM, self).__init__()\n",
    "        self.conv1 = Conv1D(filters=64, kernel_size=1,activation='relu', strides=1)\n",
    "        self.c1 = Conv1D(filters=64, kernel_size=1,activation='relu', strides=1)\n",
    "        self.b1 = BatchNormalization() # BN层\n",
    "        self.a1 = Activation('relu')    # 激活层  \n",
    "        self.c2 = Conv1D(filters=64, kernel_size=3,activation='relu', strides=1)\n",
    "        \n",
    "        self.b2 = BatchNormalization() # BN层\n",
    "        self.a2 = Activation('relu')    # 激活层  \n",
    "        \n",
    "        self.c3 = Conv1D(filters=64, kernel_size=5,activation='relu', strides=1)        \n",
    "        self.b3 = BatchNormalization() # BN层\n",
    "        self.a3 = Activation('relu')    # 激活层  \n",
    "      \n",
    "        self.f1 = LSTM(50,return_sequences=True)\n",
    "        self.d2 = Dropout(0.2)\n",
    "        self.f2 = LSTM(60)\n",
    "        self.d3 = Dropout(0.2)\n",
    "        self.f3 = Dense(20)\n",
    "        self.d4 = Dropout(0.2)\n",
    "        self.f4 = Dense(1, activation='linear')\n",
    "\n",
    "    def call(self, x):\n",
    "        x = self.conv1(x)\n",
    "        c1 = self.c1(x)\n",
    "        b1 = self.b1(c1)\n",
    "        a1 = self.a1(b1)\n",
    "        \n",
    "        c2 = self.c2(x)\n",
    "        b2 = self.b2(c2)\n",
    "        a2 = self.a2(b2)\n",
    "        \n",
    "        c3 = self.c3(x)\n",
    "        b3 = self.b3(c3)\n",
    "        a3 = self.a3(b3)\n",
    "\n",
    "        x = tf.concat([x,a1,a2,a3], 1)\n",
    "        \n",
    "        \n",
    "        x = self.f1(x)\n",
    "        x = self.d2(x)\n",
    "        x = self.f2(x)\n",
    "        x = self.d3(x)\n",
    "        x = self.f3(x)\n",
    "        x = self.d4(x)\n",
    "        y = self.f4(x)\n",
    "        return y\n",
    "\n",
    "\n",
    "model = CNN_LSTM()\n",
    "\n",
    "model.compile(optimizer=tf.keras.optimizers.Adam(lr = 1e-3),\n",
    "              loss='mean_squared_error')  # 损失函数用均方误差\n",
    "\n",
    "# Define the Keras TensorBoard callback.\n",
    "logdir=\"logs/fit/\" + datetime.now().strftime(\"%Y%m%d-%H%M%S\")\n",
    "tensorboard_callback = keras.callbacks.TensorBoard(log_dir=logdir)\n",
    "\n",
    "history = model.fit(x_train, y_train,batch_size=64,epochs=80,\n",
    "                    validation_data=(x_valid, y_valid),validation_freq=1,callbacks=[tensorboard_callback])\n",
    "\n",
    "keras.utils.plot_model(model, \"data/shape_info_by_cnn-lstm.png\", show_shapes=True)\n",
    "\n",
    "model.summary()"
   ]
  },
  {
   "cell_type": "code",
   "execution_count": 15,
   "metadata": {},
   "outputs": [
    {
     "data": {
      "text/plain": [
       "Reusing TensorBoard on port 6006 (pid 27920), started 1:59:27 ago. (Use '!kill 27920' to kill it.)"
      ]
     },
     "metadata": {},
     "output_type": "display_data"
    },
    {
     "data": {
      "text/html": [
       "\n",
       "      <iframe id=\"tensorboard-frame-7f5959b23093c6ac\" width=\"100%\" height=\"800\" frameborder=\"0\">\n",
       "      </iframe>\n",
       "      <script>\n",
       "        (function() {\n",
       "          const frame = document.getElementById(\"tensorboard-frame-7f5959b23093c6ac\");\n",
       "          const url = new URL(\"/\", window.location);\n",
       "          const port = 6006;\n",
       "          if (port) {\n",
       "            url.port = port;\n",
       "          }\n",
       "          frame.src = url;\n",
       "        })();\n",
       "      </script>\n",
       "    "
      ],
      "text/plain": [
       "<IPython.core.display.HTML object>"
      ]
     },
     "metadata": {},
     "output_type": "display_data"
    }
   ],
   "source": [
    "%tensorboard --logdir logs\n",
    "\n",
    "#http://localhost:6006，可以看到网页版的界面"
   ]
  },
  {
   "cell_type": "code",
   "execution_count": null,
   "metadata": {},
   "outputs": [],
   "source": []
  }
 ],
 "metadata": {
  "kernelspec": {
   "display_name": "Python 3",
   "language": "python",
   "name": "python3"
  },
  "language_info": {
   "codemirror_mode": {
    "name": "ipython",
    "version": 3
   },
   "file_extension": ".py",
   "mimetype": "text/x-python",
   "name": "python",
   "nbconvert_exporter": "python",
   "pygments_lexer": "ipython3",
   "version": "3.7.4"
  }
 },
 "nbformat": 4,
 "nbformat_minor": 2
}
