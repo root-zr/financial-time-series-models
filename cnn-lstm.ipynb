{
 "cells": [
  {
   "cell_type": "code",
   "execution_count": 1,
   "metadata": {},
   "outputs": [],
   "source": [
    "from IPython.core.interactiveshell import InteractiveShell  #执行该代码可以使得当前nb支持多输出\n",
    "InteractiveShell.ast_node_interactivity = \"all\" \n",
    "import numpy as np\n",
    "from datetime import datetime\n",
    "import pandas as pd \n",
    "import matplotlib.pyplot as plt\n",
    "plt.rcParams['font.sans-serif'] = ['SimHei']\n",
    "plt.rcParams['axes.unicode_minus'] = False \n",
    "from mpl_toolkits.mplot3d import Axes3D\n",
    "\n",
    "import tensorflow as tf\n",
    "from tensorflow.keras.layers import Dropout, Dense, LSTM\n",
    "import os\n",
    "from sklearn.preprocessing import MinMaxScaler\n",
    "from sklearn.metrics import mean_squared_error, mean_absolute_error\n",
    "import math\n",
    "\n",
    "\n",
    "pd.options.display.max_rows = 8  \n",
    "%matplotlib inline"
   ]
  },
  {
   "cell_type": "markdown",
   "metadata": {},
   "source": [
    "读取数据"
   ]
  },
  {
   "cell_type": "code",
   "execution_count": 2,
   "metadata": {
    "scrolled": true
   },
   "outputs": [
    {
     "data": {
      "text/html": [
       "<div>\n",
       "<style scoped>\n",
       "    .dataframe tbody tr th:only-of-type {\n",
       "        vertical-align: middle;\n",
       "    }\n",
       "\n",
       "    .dataframe tbody tr th {\n",
       "        vertical-align: top;\n",
       "    }\n",
       "\n",
       "    .dataframe thead th {\n",
       "        text-align: right;\n",
       "    }\n",
       "</style>\n",
       "<table border=\"1\" class=\"dataframe\">\n",
       "  <thead>\n",
       "    <tr style=\"text-align: right;\">\n",
       "      <th></th>\n",
       "      <th>开盘</th>\n",
       "      <th>收盘</th>\n",
       "      <th>高</th>\n",
       "      <th>低</th>\n",
       "      <th>涨跌幅</th>\n",
       "    </tr>\n",
       "    <tr>\n",
       "      <th>日期</th>\n",
       "      <th></th>\n",
       "      <th></th>\n",
       "      <th></th>\n",
       "      <th></th>\n",
       "      <th></th>\n",
       "    </tr>\n",
       "  </thead>\n",
       "  <tbody>\n",
       "    <tr>\n",
       "      <td>2016/1/21</td>\n",
       "      <td>2.683</td>\n",
       "      <td>2.700</td>\n",
       "      <td>2.703</td>\n",
       "      <td>2.680</td>\n",
       "      <td>0.78%</td>\n",
       "    </tr>\n",
       "    <tr>\n",
       "      <td>2016/1/22</td>\n",
       "      <td>2.705</td>\n",
       "      <td>2.689</td>\n",
       "      <td>2.705</td>\n",
       "      <td>2.682</td>\n",
       "      <td>-0.41%</td>\n",
       "    </tr>\n",
       "    <tr>\n",
       "      <td>2016/1/25</td>\n",
       "      <td>2.750</td>\n",
       "      <td>2.694</td>\n",
       "      <td>2.750</td>\n",
       "      <td>2.680</td>\n",
       "      <td>0.19%</td>\n",
       "    </tr>\n",
       "    <tr>\n",
       "      <td>2016/1/26</td>\n",
       "      <td>2.703</td>\n",
       "      <td>2.738</td>\n",
       "      <td>2.740</td>\n",
       "      <td>2.690</td>\n",
       "      <td>1.63%</td>\n",
       "    </tr>\n",
       "    <tr>\n",
       "      <td>2016/1/27</td>\n",
       "      <td>2.763</td>\n",
       "      <td>2.774</td>\n",
       "      <td>2.783</td>\n",
       "      <td>2.763</td>\n",
       "      <td>1.31%</td>\n",
       "    </tr>\n",
       "  </tbody>\n",
       "</table>\n",
       "</div>"
      ],
      "text/plain": [
       "              开盘     收盘      高      低     涨跌幅\n",
       "日期                                           \n",
       "2016/1/21  2.683  2.700  2.703  2.680   0.78%\n",
       "2016/1/22  2.705  2.689  2.705  2.682  -0.41%\n",
       "2016/1/25  2.750  2.694  2.750  2.680   0.19%\n",
       "2016/1/26  2.703  2.738  2.740  2.690   1.63%\n",
       "2016/1/27  2.763  2.774  2.783  2.763   1.31%"
      ]
     },
     "execution_count": 2,
     "metadata": {},
     "output_type": "execute_result"
    },
    {
     "data": {
      "text/html": [
       "<div>\n",
       "<style scoped>\n",
       "    .dataframe tbody tr th:only-of-type {\n",
       "        vertical-align: middle;\n",
       "    }\n",
       "\n",
       "    .dataframe tbody tr th {\n",
       "        vertical-align: top;\n",
       "    }\n",
       "\n",
       "    .dataframe thead th {\n",
       "        text-align: right;\n",
       "    }\n",
       "</style>\n",
       "<table border=\"1\" class=\"dataframe\">\n",
       "  <thead>\n",
       "    <tr style=\"text-align: right;\">\n",
       "      <th></th>\n",
       "      <th>开盘</th>\n",
       "      <th>收盘</th>\n",
       "      <th>高</th>\n",
       "      <th>低</th>\n",
       "    </tr>\n",
       "  </thead>\n",
       "  <tbody>\n",
       "    <tr>\n",
       "      <td>count</td>\n",
       "      <td>1563.000000</td>\n",
       "      <td>1563.000000</td>\n",
       "      <td>1563.000000</td>\n",
       "      <td>1563.000000</td>\n",
       "    </tr>\n",
       "    <tr>\n",
       "      <td>mean</td>\n",
       "      <td>3.041862</td>\n",
       "      <td>3.022280</td>\n",
       "      <td>3.049060</td>\n",
       "      <td>3.010074</td>\n",
       "    </tr>\n",
       "    <tr>\n",
       "      <td>std</td>\n",
       "      <td>0.419688</td>\n",
       "      <td>0.420101</td>\n",
       "      <td>0.418939</td>\n",
       "      <td>0.420670</td>\n",
       "    </tr>\n",
       "    <tr>\n",
       "      <td>min</td>\n",
       "      <td>1.740000</td>\n",
       "      <td>1.740000</td>\n",
       "      <td>1.740000</td>\n",
       "      <td>1.740000</td>\n",
       "    </tr>\n",
       "    <tr>\n",
       "      <td>25%</td>\n",
       "      <td>2.746000</td>\n",
       "      <td>2.712000</td>\n",
       "      <td>2.750000</td>\n",
       "      <td>2.697000</td>\n",
       "    </tr>\n",
       "    <tr>\n",
       "      <td>50%</td>\n",
       "      <td>3.012000</td>\n",
       "      <td>2.993000</td>\n",
       "      <td>3.018000</td>\n",
       "      <td>2.983000</td>\n",
       "    </tr>\n",
       "    <tr>\n",
       "      <td>75%</td>\n",
       "      <td>3.261000</td>\n",
       "      <td>3.234000</td>\n",
       "      <td>3.269000</td>\n",
       "      <td>3.219000</td>\n",
       "    </tr>\n",
       "    <tr>\n",
       "      <td>max</td>\n",
       "      <td>4.000000</td>\n",
       "      <td>3.968000</td>\n",
       "      <td>4.000000</td>\n",
       "      <td>3.952000</td>\n",
       "    </tr>\n",
       "  </tbody>\n",
       "</table>\n",
       "</div>"
      ],
      "text/plain": [
       "                开盘           收盘            高            低\n",
       "count  1563.000000  1563.000000  1563.000000  1563.000000\n",
       "mean      3.041862     3.022280     3.049060     3.010074\n",
       "std       0.419688     0.420101     0.418939     0.420670\n",
       "min       1.740000     1.740000     1.740000     1.740000\n",
       "25%       2.746000     2.712000     2.750000     2.697000\n",
       "50%       3.012000     2.993000     3.018000     2.983000\n",
       "75%       3.261000     3.234000     3.269000     3.219000\n",
       "max       4.000000     3.968000     4.000000     3.952000"
      ]
     },
     "execution_count": 2,
     "metadata": {},
     "output_type": "execute_result"
    },
    {
     "data": {
      "text/html": [
       "<div>\n",
       "<style scoped>\n",
       "    .dataframe tbody tr th:only-of-type {\n",
       "        vertical-align: middle;\n",
       "    }\n",
       "\n",
       "    .dataframe tbody tr th {\n",
       "        vertical-align: top;\n",
       "    }\n",
       "\n",
       "    .dataframe thead th {\n",
       "        text-align: right;\n",
       "    }\n",
       "</style>\n",
       "<table border=\"1\" class=\"dataframe\">\n",
       "  <thead>\n",
       "    <tr style=\"text-align: right;\">\n",
       "      <th></th>\n",
       "      <th>开盘</th>\n",
       "      <th>收盘</th>\n",
       "      <th>高</th>\n",
       "      <th>低</th>\n",
       "      <th>涨跌幅</th>\n",
       "    </tr>\n",
       "    <tr>\n",
       "      <th>日期</th>\n",
       "      <th></th>\n",
       "      <th></th>\n",
       "      <th></th>\n",
       "      <th></th>\n",
       "      <th></th>\n",
       "    </tr>\n",
       "  </thead>\n",
       "  <tbody>\n",
       "    <tr>\n",
       "      <td>2016/1/21</td>\n",
       "      <td>2.683</td>\n",
       "      <td>2.700</td>\n",
       "      <td>2.703</td>\n",
       "      <td>2.680</td>\n",
       "      <td>0.0078</td>\n",
       "    </tr>\n",
       "    <tr>\n",
       "      <td>2016/1/22</td>\n",
       "      <td>2.705</td>\n",
       "      <td>2.689</td>\n",
       "      <td>2.705</td>\n",
       "      <td>2.682</td>\n",
       "      <td>-0.0041</td>\n",
       "    </tr>\n",
       "    <tr>\n",
       "      <td>2016/1/25</td>\n",
       "      <td>2.750</td>\n",
       "      <td>2.694</td>\n",
       "      <td>2.750</td>\n",
       "      <td>2.680</td>\n",
       "      <td>0.0019</td>\n",
       "    </tr>\n",
       "    <tr>\n",
       "      <td>2016/1/26</td>\n",
       "      <td>2.703</td>\n",
       "      <td>2.738</td>\n",
       "      <td>2.740</td>\n",
       "      <td>2.690</td>\n",
       "      <td>0.0163</td>\n",
       "    </tr>\n",
       "    <tr>\n",
       "      <td>2016/1/27</td>\n",
       "      <td>2.763</td>\n",
       "      <td>2.774</td>\n",
       "      <td>2.783</td>\n",
       "      <td>2.763</td>\n",
       "      <td>0.0131</td>\n",
       "    </tr>\n",
       "  </tbody>\n",
       "</table>\n",
       "</div>"
      ],
      "text/plain": [
       "              开盘     收盘      高      低     涨跌幅\n",
       "日期                                           \n",
       "2016/1/21  2.683  2.700  2.703  2.680  0.0078\n",
       "2016/1/22  2.705  2.689  2.705  2.682 -0.0041\n",
       "2016/1/25  2.750  2.694  2.750  2.680  0.0019\n",
       "2016/1/26  2.703  2.738  2.740  2.690  0.0163\n",
       "2016/1/27  2.763  2.774  2.783  2.763  0.0131"
      ]
     },
     "execution_count": 2,
     "metadata": {},
     "output_type": "execute_result"
    }
   ],
   "source": [
    "national_debt = pd.read_csv('data/national_debt_5y.csv',index_col = 0,encoding = 'gb2312')  # 读取股票文件\n",
    "national_debt.head()\n",
    "national_debt.describe()\n",
    "\n",
    "national_debt['涨跌幅'] = national_debt['涨跌幅'].str.strip(\"%\").astype(float)/100\n",
    "national_debt.head()"
   ]
  },
  {
   "cell_type": "markdown",
   "metadata": {},
   "source": [
    "开盘价原始数据可视化"
   ]
  },
  {
   "cell_type": "code",
   "execution_count": 3,
   "metadata": {},
   "outputs": [
    {
     "data": {
      "text/plain": [
       "<Figure size 432x288 with 0 Axes>"
      ]
     },
     "metadata": {},
     "output_type": "display_data"
    },
    {
     "data": {
      "image/png": "[encoded data removed]",
      "text/plain": [
       "<Figure size 432x288 with 1 Axes>"
      ]
     },
     "metadata": {
      "needs_background": "light"
     },
     "output_type": "display_data"
    }
   ],
   "source": [
    "def draw_ts(timeSeries):\n",
    "    f = plt.figure(facecolor='white')\n",
    "    timeSeries.plot(color='blue')\n",
    "    plt.show()\n",
    "    \n",
    "draw_ts(pd.DataFrame(national_debt['开盘']))"
   ]
  },
  {
   "cell_type": "markdown",
   "metadata": {},
   "source": [
    "数据预处理"
   ]
  },
  {
   "cell_type": "code",
   "execution_count": 4,
   "metadata": {},
   "outputs": [],
   "source": [
    "# 前(1563-600=963)天的开盘价作为训练集,表格从0开始计数，,0:1 是提取[0:1)列，前闭后开\n",
    "training_set = national_debt.iloc[0:1563 - 600,0:].values  \n",
    "\n",
    "#中间300天的数据作为验证集\n",
    "valid_set= national_debt.iloc[1563 - 600:1563 - 300, 0:].values  \n",
    "\n",
    "# 后300天的开盘价作为测试集\n",
    "test_set = national_debt.iloc[1563 - 300:1563, 0:].values  \n",
    "\n",
    "# 归一化\n",
    "sc = MinMaxScaler(feature_range=(0, 1))  # 定义归一化：归一化到(0，1)之间\n",
    "training_set_scaled = sc.fit_transform(training_set)  # 求得训练集的最大值，最小值这些训练集固有的属性，并在训练集上进行归一化\n",
    "valid_set = sc.transform(valid_set)\n",
    "test_set = sc.transform(test_set)  # 利用训练集的属性对测试集进行归一化\n",
    "\n",
    "#对开盘价数据进行归一化，方便后续可视化展示\n",
    "sc_for_visual = MinMaxScaler(feature_range=(0, 1))  \n",
    "y_test_for_visual_scaled = sc_for_visual.fit_transform(national_debt.iloc[0:1563 - 600, 0:1].values ) \n",
    "y_test_for_visual = sc_for_visual.transform(national_debt.iloc[1563 - 300:1563, 0:1].values )"
   ]
  },
  {
   "cell_type": "markdown",
   "metadata": {},
   "source": [
    "得到训练集和测试集的数据"
   ]
  },
  {
   "cell_type": "code",
   "execution_count": 5,
   "metadata": {
    "scrolled": true
   },
   "outputs": [
    {
     "name": "stdout",
     "output_type": "stream",
     "text": [
      "[[[0.18613607 0.16322581 0.18825782 0.49134615]\n",
      "  [0.17907574 0.16451613 0.18953414 0.37692308]\n",
      "  [0.18228498 0.19354839 0.18825782 0.43461538]\n",
      "  ...\n",
      "  [0.22400513 0.21935484 0.20102106 0.3125    ]\n",
      "  [0.20667522 0.20967742 0.21825144 0.32211538]\n",
      "  [0.21630295 0.19677419 0.22846203 0.46923077]]\n",
      "\n",
      " [[0.17907574 0.16451613 0.18953414 0.37692308]\n",
      "  [0.18228498 0.19354839 0.18825782 0.43461538]\n",
      "  [0.21052632 0.18709677 0.19463944 0.57307692]\n",
      "  ...\n",
      "  [0.20667522 0.20967742 0.21825144 0.32211538]\n",
      "  [0.21630295 0.19677419 0.22846203 0.46923077]\n",
      "  [0.2156611  0.19870968 0.22782387 0.4125    ]]\n",
      "\n",
      " [[0.18228498 0.19354839 0.18825782 0.43461538]\n",
      "  [0.21052632 0.18709677 0.19463944 0.57307692]\n",
      "  [0.23363286 0.21483871 0.24122527 0.54230769]\n",
      "  ...\n",
      "  [0.21630295 0.19677419 0.22846203 0.46923077]\n",
      "  [0.2156611  0.19870968 0.22782387 0.4125    ]\n",
      "  [0.20603338 0.19870968 0.22016592 0.36346154]]\n",
      "\n",
      " ...\n",
      "\n",
      " [[0.31643132 0.29354839 0.3114231  0.51634615]\n",
      "  [0.32926829 0.3083871  0.33056796 0.48269231]\n",
      "  [0.3241335  0.31483871 0.33184429 0.39038462]\n",
      "  ...\n",
      "  [0.35686778 0.33612903 0.35928526 0.43557692]\n",
      "  [0.35879332 0.33935484 0.37141034 0.42596154]\n",
      "  [0.34531451 0.32258065 0.34779834 0.34807692]]\n",
      "\n",
      " [[0.32926829 0.3083871  0.33056796 0.48269231]\n",
      "  [0.3241335  0.31483871 0.33184429 0.39038462]\n",
      "  [0.33697047 0.32258065 0.33694959 0.48269231]\n",
      "  ...\n",
      "  [0.35879332 0.33935484 0.37141034 0.42596154]\n",
      "  [0.34531451 0.32258065 0.34779834 0.34807692]\n",
      "  [0.34403081 0.32580645 0.35609445 0.40961538]]\n",
      "\n",
      " [[0.3241335  0.31483871 0.33184429 0.39038462]\n",
      "  [0.33697047 0.32258065 0.33694959 0.48269231]\n",
      "  [0.3491656  0.35483871 0.34779834 0.47884615]\n",
      "  ...\n",
      "  [0.34531451 0.32258065 0.34779834 0.34807692]\n",
      "  [0.34403081 0.32580645 0.35609445 0.40961538]\n",
      "  [0.35622593 0.33225806 0.35928526 0.47788462]]]\n"
     ]
    }
   ],
   "source": [
    "x_train = []\n",
    "y_train = []\n",
    "\n",
    "x_valid = []\n",
    "y_valid = []\n",
    "\n",
    "x_test = []\n",
    "y_test = []\n",
    "\n",
    "# 利用for循环，遍历整个训练集，提取训练集中连续10天的开盘价作为输入特征x_train，第11天的数据作为标签\n",
    "for i in range(10, len(training_set_scaled)):\n",
    "    x_train.append(training_set_scaled[i - 10:i, 1:]) \n",
    "    y_train.append(training_set_scaled[i, 0])\n",
    "\n",
    "\n",
    "# 将训练集由list格式变为array格式\n",
    "x_train, y_train = np.array(x_train), np.array(y_train)\n",
    "x_train = np.reshape(x_train, (x_train.shape[0], 10,4))\n",
    "print(x_train)\n",
    "\n",
    "#验证集\n",
    "for i in range(10, len(valid_set)):\n",
    "    x_valid.append(valid_set[i - 10:i,1:])\n",
    "    y_valid.append(valid_set[i, 0])\n",
    "x_valid, y_valid = np.array(x_valid), np.array(y_valid)\n",
    "x_valid = np.reshape(x_valid, (x_valid.shape[0], 10,4))\n",
    "\n",
    "\n",
    "# 测试集：csv表格中后300天数据\n",
    "# 利用for循环，遍历整个测试集，提取测试集中连续10天的开盘价作为输入特征x_train，\n",
    "# 第11天的数据作为标签，for循环共构建300-10=290组数据。\n",
    "for i in range(10, len(test_set)):\n",
    "    x_test.append(test_set[i - 10:i,1:])\n",
    "    y_test.append(test_set[i, 0])\n",
    "# 测试集变array并reshape为符合CNN和RNN输入要求：\n",
    "#RNN: [送入样本数， 循环核时间展开步数， 每个时间步输入特征个数]\n",
    "x_test, y_test = np.array(x_test), np.array(y_test)\n",
    "x_test = np.reshape(x_test, (x_test.shape[0],10,4))"
   ]
  },
  {
   "cell_type": "markdown",
   "metadata": {},
   "source": [
    "训练模型"
   ]
  },
  {
   "cell_type": "code",
   "execution_count": 23,
   "metadata": {
    "scrolled": true
   },
   "outputs": [
    {
     "name": "stdout",
     "output_type": "stream",
     "text": [
      "Train...\n",
      "Epoch 1/300\n",
      "15/15 [==============================] - 2s 155ms/step - loss: 0.3090 - val_loss: 0.0959\n",
      "Epoch 2/300\n",
      "15/15 [==============================] - 1s 40ms/step - loss: 0.3005 - val_loss: 0.0949\n",
      "Epoch 3/300\n",
      "15/15 [==============================] - 1s 36ms/step - loss: 0.2904 - val_loss: 0.0939\n",
      "Epoch 4/300\n",
      "15/15 [==============================] - 0s 33ms/step - loss: 0.2754 - val_loss: 0.0932\n",
      "Epoch 5/300\n",
      "15/15 [==============================] - 1s 42ms/step - loss: 0.2661 - val_loss: 0.0925\n",
      "Epoch 6/300\n",
      "15/15 [==============================] - 1s 46ms/step - loss: 0.2573 - val_loss: 0.0919\n",
      "Epoch 7/300\n",
      "15/15 [==============================] - 1s 33ms/step - loss: 0.2415 - val_loss: 0.0915\n",
      "Epoch 8/300\n",
      "15/15 [==============================] - 0s 32ms/step - loss: 0.2296 - val_loss: 0.0910\n",
      "Epoch 9/300\n",
      "15/15 [==============================] - 0s 31ms/step - loss: 0.2177 - val_loss: 0.0907\n",
      "Epoch 10/300\n",
      "15/15 [==============================] - 0s 29ms/step - loss: 0.2051 - val_loss: 0.0903\n",
      "Epoch 11/300\n",
      "15/15 [==============================] - 0s 33ms/step - loss: 0.1964 - val_loss: 0.0900\n",
      "Epoch 12/300\n",
      "15/15 [==============================] - 1s 49ms/step - loss: 0.1861 - val_loss: 0.0896\n",
      "Epoch 13/300\n",
      "15/15 [==============================] - 0s 32ms/step - loss: 0.1759 - val_loss: 0.0892\n",
      "Epoch 14/300\n",
      "15/15 [==============================] - 0s 30ms/step - loss: 0.1686 - val_loss: 0.0888\n",
      "Epoch 15/300\n",
      "15/15 [==============================] - 1s 34ms/step - loss: 0.1579 - val_loss: 0.0883\n",
      "Epoch 16/300\n",
      "15/15 [==============================] - 1s 35ms/step - loss: 0.1471 - val_loss: 0.0878\n",
      "Epoch 17/300\n",
      "15/15 [==============================] - 1s 36ms/step - loss: 0.1415 - val_loss: 0.0873\n",
      "Epoch 18/300\n",
      "15/15 [==============================] - 1s 33ms/step - loss: 0.1331 - val_loss: 0.0867\n",
      "Epoch 19/300\n",
      "15/15 [==============================] - 1s 35ms/step - loss: 0.1268 - val_loss: 0.0860\n",
      "Epoch 20/300\n",
      "15/15 [==============================] - 1s 37ms/step - loss: 0.1181 - val_loss: 0.0853\n",
      "Epoch 21/300\n",
      "15/15 [==============================] - 1s 39ms/step - loss: 0.1130 - val_loss: 0.0846\n",
      "Epoch 22/300\n",
      "15/15 [==============================] - 1s 36ms/step - loss: 0.1069 - val_loss: 0.0838\n",
      "Epoch 23/300\n",
      "15/15 [==============================] - 1s 35ms/step - loss: 0.0986 - val_loss: 0.0830\n",
      "Epoch 24/300\n",
      "15/15 [==============================] - 1s 34ms/step - loss: 0.0957 - val_loss: 0.0821\n",
      "Epoch 25/300\n",
      "15/15 [==============================] - 1s 34ms/step - loss: 0.0918 - val_loss: 0.0811\n",
      "Epoch 26/300\n",
      "15/15 [==============================] - 1s 35ms/step - loss: 0.0857 - val_loss: 0.0800\n",
      "Epoch 27/300\n",
      "15/15 [==============================] - 1s 35ms/step - loss: 0.0817 - val_loss: 0.0789\n",
      "Epoch 28/300\n",
      "15/15 [==============================] - 1s 37ms/step - loss: 0.0750 - val_loss: 0.0778\n",
      "Epoch 29/300\n",
      "15/15 [==============================] - 1s 35ms/step - loss: 0.0728 - val_loss: 0.0764\n",
      "Epoch 30/300\n",
      "15/15 [==============================] - 1s 37ms/step - loss: 0.0701 - val_loss: 0.0751\n",
      "Epoch 31/300\n",
      "15/15 [==============================] - 1s 41ms/step - loss: 0.0657 - val_loss: 0.0736\n",
      "Epoch 32/300\n",
      "15/15 [==============================] - 1s 47ms/step - loss: 0.0618 - val_loss: 0.0721\n",
      "Epoch 33/300\n",
      "15/15 [==============================] - 1s 37ms/step - loss: 0.0583 - val_loss: 0.0705\n",
      "Epoch 34/300\n",
      "15/15 [==============================] - 1s 36ms/step - loss: 0.0554 - val_loss: 0.0689\n",
      "Epoch 35/300\n",
      "15/15 [==============================] - 1s 34ms/step - loss: 0.0521 - val_loss: 0.0672\n",
      "Epoch 36/300\n",
      "15/15 [==============================] - 1s 54ms/step - loss: 0.0488 - val_loss: 0.0655\n",
      "Epoch 37/300\n",
      "15/15 [==============================] - 1s 36ms/step - loss: 0.0491 - val_loss: 0.0638\n",
      "Epoch 38/300\n",
      "15/15 [==============================] - 1s 36ms/step - loss: 0.0461 - val_loss: 0.0620\n",
      "Epoch 39/300\n",
      "15/15 [==============================] - 1s 35ms/step - loss: 0.0432 - val_loss: 0.0603\n",
      "Epoch 40/300\n",
      "15/15 [==============================] - 1s 34ms/step - loss: 0.0409 - val_loss: 0.0587\n",
      "Epoch 41/300\n",
      "15/15 [==============================] - 1s 34ms/step - loss: 0.0404 - val_loss: 0.0571\n",
      "Epoch 42/300\n",
      "15/15 [==============================] - 1s 44ms/step - loss: 0.0383 - val_loss: 0.0556\n",
      "Epoch 43/300\n",
      "15/15 [==============================] - 1s 36ms/step - loss: 0.0389 - val_loss: 0.0540\n",
      "Epoch 44/300\n",
      "15/15 [==============================] - 1s 36ms/step - loss: 0.0370 - val_loss: 0.0525\n",
      "Epoch 45/300\n",
      "15/15 [==============================] - 1s 37ms/step - loss: 0.0332 - val_loss: 0.0512\n",
      "Epoch 46/300\n",
      "15/15 [==============================] - 1s 39ms/step - loss: 0.0334 - val_loss: 0.0498\n",
      "Epoch 47/300\n",
      "15/15 [==============================] - 1s 34ms/step - loss: 0.0331 - val_loss: 0.0484\n",
      "Epoch 48/300\n",
      "15/15 [==============================] - 1s 36ms/step - loss: 0.0316 - val_loss: 0.0469\n",
      "Epoch 49/300\n",
      "15/15 [==============================] - 1s 37ms/step - loss: 0.0332 - val_loss: 0.0458\n",
      "Epoch 50/300\n",
      "15/15 [==============================] - 1s 38ms/step - loss: 0.0309 - val_loss: 0.0446\n",
      "Epoch 51/300\n",
      "15/15 [==============================] - 1s 40ms/step - loss: 0.0294 - val_loss: 0.0434\n",
      "Epoch 52/300\n",
      "15/15 [==============================] - 1s 34ms/step - loss: 0.0289 - val_loss: 0.0425\n",
      "Epoch 53/300\n",
      "15/15 [==============================] - 1s 39ms/step - loss: 0.0270 - val_loss: 0.0416\n",
      "Epoch 54/300\n",
      "15/15 [==============================] - 1s 36ms/step - loss: 0.0266 - val_loss: 0.0406\n",
      "Epoch 55/300\n",
      "15/15 [==============================] - 1s 34ms/step - loss: 0.0268 - val_loss: 0.0399\n",
      "Epoch 56/300\n",
      "15/15 [==============================] - 1s 38ms/step - loss: 0.0254 - val_loss: 0.0391\n",
      "Epoch 57/300\n",
      "15/15 [==============================] - 1s 43ms/step - loss: 0.0235 - val_loss: 0.0384\n",
      "Epoch 58/300\n",
      "15/15 [==============================] - 0s 33ms/step - loss: 0.0245 - val_loss: 0.0377\n",
      "Epoch 59/300\n",
      "15/15 [==============================] - 1s 36ms/step - loss: 0.0222 - val_loss: 0.0369\n",
      "Epoch 60/300\n",
      "15/15 [==============================] - 1s 34ms/step - loss: 0.0224 - val_loss: 0.0365\n",
      "Epoch 61/300\n",
      "15/15 [==============================] - 2s 120ms/step - loss: 0.0219 - val_loss: 0.0360\n",
      "Epoch 62/300\n",
      "15/15 [==============================] - 2s 112ms/step - loss: 0.0225 - val_loss: 0.0356\n",
      "Epoch 63/300\n",
      "15/15 [==============================] - 2s 105ms/step - loss: 0.0212 - val_loss: 0.0348\n",
      "Epoch 64/300\n",
      "15/15 [==============================] - 1s 94ms/step - loss: 0.0204 - val_loss: 0.0344\n",
      "Epoch 65/300\n",
      "15/15 [==============================] - 2s 141ms/step - loss: 0.0209 - val_loss: 0.0336\n",
      "Epoch 66/300\n",
      "15/15 [==============================] - 0s 29ms/step - loss: 0.0192 - val_loss: 0.0333\n",
      "Epoch 67/300\n",
      "15/15 [==============================] - 0s 22ms/step - loss: 0.0184 - val_loss: 0.0328\n",
      "Epoch 68/300\n",
      "15/15 [==============================] - 0s 30ms/step - loss: 0.0195 - val_loss: 0.0325\n",
      "Epoch 69/300\n",
      "15/15 [==============================] - 1s 100ms/step - loss: 0.0184 - val_loss: 0.0321\n",
      "Epoch 70/300\n",
      "15/15 [==============================] - 1s 52ms/step - loss: 0.0182 - val_loss: 0.0318\n",
      "Epoch 71/300\n",
      "15/15 [==============================] - 1s 35ms/step - loss: 0.0170 - val_loss: 0.0314\n",
      "Epoch 72/300\n",
      "15/15 [==============================] - 1s 71ms/step - loss: 0.0175 - val_loss: 0.0308\n",
      "Epoch 73/300\n",
      "15/15 [==============================] - 1s 61ms/step - loss: 0.0168 - val_loss: 0.0306\n",
      "Epoch 74/300\n",
      "15/15 [==============================] - 1s 37ms/step - loss: 0.0189 - val_loss: 0.0303\n",
      "Epoch 75/300\n",
      "15/15 [==============================] - 0s 32ms/step - loss: 0.0157 - val_loss: 0.0298\n",
      "Epoch 76/300\n",
      "15/15 [==============================] - 1s 36ms/step - loss: 0.0165 - val_loss: 0.0296\n",
      "Epoch 77/300\n",
      "15/15 [==============================] - 1s 45ms/step - loss: 0.0155 - val_loss: 0.0291\n",
      "Epoch 78/300\n",
      "15/15 [==============================] - 1s 33ms/step - loss: 0.0144 - val_loss: 0.0291\n",
      "Epoch 79/300\n",
      "15/15 [==============================] - 0s 20ms/step - loss: 0.0144 - val_loss: 0.0292\n",
      "Epoch 80/300\n",
      "15/15 [==============================] - 0s 33ms/step - loss: 0.0144 - val_loss: 0.0290\n",
      "Epoch 81/300\n",
      "15/15 [==============================] - 1s 34ms/step - loss: 0.0152 - val_loss: 0.0288\n",
      "Epoch 82/300\n"
     ]
    },
    {
     "name": "stdout",
     "output_type": "stream",
     "text": [
      "15/15 [==============================] - 1s 36ms/step - loss: 0.0130 - val_loss: 0.0286\n",
      "Epoch 83/300\n",
      "15/15 [==============================] - 1s 41ms/step - loss: 0.0142 - val_loss: 0.0284\n",
      "Epoch 84/300\n",
      "15/15 [==============================] - 1s 36ms/step - loss: 0.0125 - val_loss: 0.0279\n",
      "Epoch 85/300\n",
      "15/15 [==============================] - 1s 35ms/step - loss: 0.0137 - val_loss: 0.0278\n",
      "Epoch 86/300\n",
      "15/15 [==============================] - 1s 35ms/step - loss: 0.0122 - val_loss: 0.0277\n",
      "Epoch 87/300\n",
      "15/15 [==============================] - 1s 35ms/step - loss: 0.0125 - val_loss: 0.0275\n",
      "Epoch 88/300\n",
      "15/15 [==============================] - 0s 18ms/step - loss: 0.0140 - val_loss: 0.0275\n",
      "Epoch 89/300\n",
      "15/15 [==============================] - 1s 34ms/step - loss: 0.0117 - val_loss: 0.0274\n",
      "Epoch 90/300\n",
      "15/15 [==============================] - 0s 32ms/step - loss: 0.0112 - val_loss: 0.0273\n",
      "Epoch 91/300\n",
      "15/15 [==============================] - 1s 34ms/step - loss: 0.0123 - val_loss: 0.0272\n",
      "Epoch 92/300\n",
      "15/15 [==============================] - 1s 48ms/step - loss: 0.0123 - val_loss: 0.0270\n",
      "Epoch 93/300\n",
      "15/15 [==============================] - 1s 49ms/step - loss: 0.0101 - val_loss: 0.0268\n",
      "Epoch 94/300\n",
      "15/15 [==============================] - 1s 52ms/step - loss: 0.0123 - val_loss: 0.0266\n",
      "Epoch 95/300\n",
      "15/15 [==============================] - 1s 55ms/step - loss: 0.0110 - val_loss: 0.0266\n",
      "Epoch 96/300\n",
      "15/15 [==============================] - 1s 55ms/step - loss: 0.0113 - val_loss: 0.0266\n",
      "Epoch 97/300\n",
      "15/15 [==============================] - 1s 41ms/step - loss: 0.0103 - val_loss: 0.0263\n",
      "Epoch 98/300\n",
      "15/15 [==============================] - 1s 49ms/step - loss: 0.0108 - val_loss: 0.0262\n",
      "Epoch 99/300\n",
      "15/15 [==============================] - 1s 50ms/step - loss: 0.0108 - val_loss: 0.0261\n",
      "Epoch 100/300\n",
      "15/15 [==============================] - 1s 34ms/step - loss: 0.0103 - val_loss: 0.0263\n",
      "Epoch 101/300\n",
      "15/15 [==============================] - 0s 33ms/step - loss: 0.0107 - val_loss: 0.0260\n",
      "Epoch 102/300\n",
      "15/15 [==============================] - 1s 49ms/step - loss: 0.0106 - val_loss: 0.0257\n",
      "Epoch 103/300\n",
      "15/15 [==============================] - 1s 50ms/step - loss: 0.0097 - val_loss: 0.0255\n",
      "Epoch 104/300\n",
      "15/15 [==============================] - 1s 51ms/step - loss: 0.0100 - val_loss: 0.0253\n",
      "Epoch 105/300\n",
      "15/15 [==============================] - 1s 35ms/step - loss: 0.0095 - val_loss: 0.0255\n",
      "Epoch 106/300\n",
      "15/15 [==============================] - 0s 31ms/step - loss: 0.0095 - val_loss: 0.0254\n",
      "Epoch 107/300\n",
      "15/15 [==============================] - 0s 19ms/step - loss: 0.0094 - val_loss: 0.0253\n",
      "Epoch 108/300\n",
      "15/15 [==============================] - 0s 21ms/step - loss: 0.0088 - val_loss: 0.0254\n",
      "Epoch 109/300\n",
      "15/15 [==============================] - 1s 48ms/step - loss: 0.0091 - val_loss: 0.0253\n",
      "Epoch 110/300\n",
      "15/15 [==============================] - 1s 47ms/step - loss: 0.0096 - val_loss: 0.0251\n",
      "Epoch 111/300\n",
      "15/15 [==============================] - 1s 45ms/step - loss: 0.0099 - val_loss: 0.0249\n",
      "Epoch 112/300\n",
      "15/15 [==============================] - 1s 35ms/step - loss: 0.0090 - val_loss: 0.0250\n",
      "Epoch 113/300\n",
      "15/15 [==============================] - 0s 31ms/step - loss: 0.0095 - val_loss: 0.0251\n",
      "Epoch 114/300\n",
      "15/15 [==============================] - 0s 33ms/step - loss: 0.0093 - val_loss: 0.0248\n",
      "Epoch 115/300\n",
      "15/15 [==============================] - 1s 33ms/step - loss: 0.0085 - val_loss: 0.0248\n",
      "Epoch 116/300\n",
      "15/15 [==============================] - 1s 44ms/step - loss: 0.0087 - val_loss: 0.0245\n",
      "Epoch 117/300\n",
      "15/15 [==============================] - 1s 44ms/step - loss: 0.0083 - val_loss: 0.0243\n",
      "Epoch 118/300\n",
      "15/15 [==============================] - 1s 52ms/step - loss: 0.0091 - val_loss: 0.0241\n",
      "Epoch 119/300\n",
      "15/15 [==============================] - 1s 47ms/step - loss: 0.0088 - val_loss: 0.0240\n",
      "Epoch 120/300\n",
      "15/15 [==============================] - 1s 34ms/step - loss: 0.0086 - val_loss: 0.0241\n",
      "Epoch 121/300\n",
      "15/15 [==============================] - 1s 36ms/step - loss: 0.0089 - val_loss: 0.0240\n",
      "Epoch 122/300\n",
      "15/15 [==============================] - 1s 52ms/step - loss: 0.0093 - val_loss: 0.0238\n",
      "Epoch 123/300\n",
      "15/15 [==============================] - 1s 35ms/step - loss: 0.0094 - val_loss: 0.0238\n",
      "Epoch 124/300\n",
      "15/15 [==============================] - ETA: 0s - loss: 0.008 - 0s 20ms/step - loss: 0.0090 - val_loss: 0.0238\n",
      "Epoch 125/300\n",
      "15/15 [==============================] - 1s 45ms/step - loss: 0.0084 - val_loss: 0.0237\n",
      "Epoch 126/300\n",
      "15/15 [==============================] - 1s 50ms/step - loss: 0.0075 - val_loss: 0.0236\n",
      "Epoch 127/300\n",
      "15/15 [==============================] - 1s 47ms/step - loss: 0.0083 - val_loss: 0.0236\n",
      "Epoch 128/300\n",
      "15/15 [==============================] - 0s 29ms/step - loss: 0.0088 - val_loss: 0.0237\n",
      "Epoch 129/300\n",
      "15/15 [==============================] - 1s 38ms/step - loss: 0.0088 - val_loss: 0.0234\n",
      "Epoch 130/300\n",
      "15/15 [==============================] - 1s 53ms/step - loss: 0.0084 - val_loss: 0.0233\n",
      "Epoch 131/300\n",
      "15/15 [==============================] - 1s 52ms/step - loss: 0.0085 - val_loss: 0.0232\n",
      "Epoch 132/300\n",
      "15/15 [==============================] - 0s 23ms/step - loss: 0.0089 - val_loss: 0.0232\n",
      "Epoch 133/300\n",
      "15/15 [==============================] - 1s 35ms/step - loss: 0.0085 - val_loss: 0.0233\n",
      "Epoch 134/300\n",
      "15/15 [==============================] - 1s 55ms/step - loss: 0.0090 - val_loss: 0.0231\n",
      "Epoch 135/300\n",
      "15/15 [==============================] - 1s 35ms/step - loss: 0.0087 - val_loss: 0.0232\n",
      "Epoch 136/300\n",
      "15/15 [==============================] - 0s 23ms/step - loss: 0.0088 - val_loss: 0.0232\n",
      "Epoch 137/300\n",
      "15/15 [==============================] - 0s 33ms/step - loss: 0.0082 - val_loss: 0.0231\n",
      "Epoch 138/300\n",
      "15/15 [==============================] - 1s 80ms/step - loss: 0.0084 - val_loss: 0.0230\n",
      "Epoch 139/300\n",
      "15/15 [==============================] - 1s 45ms/step - loss: 0.0077 - val_loss: 0.0229\n",
      "Epoch 140/300\n",
      "15/15 [==============================] - 1s 36ms/step - loss: 0.0094 - val_loss: 0.0230\n",
      "Epoch 141/300\n",
      "15/15 [==============================] - 0s 31ms/step - loss: 0.0088 - val_loss: 0.0231\n",
      "Epoch 142/300\n",
      "15/15 [==============================] - 0s 31ms/step - loss: 0.0080 - val_loss: 0.0230\n",
      "Epoch 143/300\n",
      "15/15 [==============================] - 0s 30ms/step - loss: 0.0088 - val_loss: 0.0232\n",
      "Epoch 144/300\n",
      "15/15 [==============================] - 1s 40ms/step - loss: 0.0081 - val_loss: 0.0229\n",
      "Epoch 145/300\n",
      "15/15 [==============================] - 1s 46ms/step - loss: 0.0076 - val_loss: 0.0228\n",
      "Epoch 146/300\n",
      "15/15 [==============================] - 1s 48ms/step - loss: 0.0088 - val_loss: 0.0227\n",
      "Epoch 147/300\n",
      "15/15 [==============================] - 1s 49ms/step - loss: 0.0082 - val_loss: 0.0226\n",
      "Epoch 148/300\n",
      "15/15 [==============================] - 1s 49ms/step - loss: 0.0096 - val_loss: 0.0225\n",
      "Epoch 149/300\n",
      "15/15 [==============================] - 1s 35ms/step - loss: 0.0083 - val_loss: 0.0226\n",
      "Epoch 150/300\n",
      "15/15 [==============================] - 0s 21ms/step - loss: 0.0078 - val_loss: 0.0226\n",
      "Epoch 151/300\n",
      "15/15 [==============================] - 1s 52ms/step - loss: 0.0083 - val_loss: 0.0225\n",
      "Epoch 152/300\n",
      "15/15 [==============================] - 1s 48ms/step - loss: 0.0087 - val_loss: 0.0225\n",
      "Epoch 153/300\n",
      "15/15 [==============================] - 1s 46ms/step - loss: 0.0079 - val_loss: 0.0225\n",
      "Epoch 154/300\n",
      "15/15 [==============================] - 1s 48ms/step - loss: 0.0081 - val_loss: 0.0224\n",
      "Epoch 155/300\n",
      "15/15 [==============================] - 1s 50ms/step - loss: 0.0074 - val_loss: 0.0222\n",
      "Epoch 156/300\n",
      "15/15 [==============================] - 0s 33ms/step - loss: 0.0089 - val_loss: 0.0222\n",
      "Epoch 157/300\n",
      "15/15 [==============================] - 1s 54ms/step - loss: 0.0067 - val_loss: 0.0221\n",
      "Epoch 158/300\n",
      "15/15 [==============================] - 1s 53ms/step - loss: 0.0078 - val_loss: 0.0220\n",
      "Epoch 159/300\n",
      "15/15 [==============================] - 1s 51ms/step - loss: 0.0075 - val_loss: 0.0220\n",
      "Epoch 160/300\n",
      "15/15 [==============================] - 1s 50ms/step - loss: 0.0078 - val_loss: 0.0220\n",
      "Epoch 161/300\n",
      "15/15 [==============================] - 1s 52ms/step - loss: 0.0081 - val_loss: 0.0218\n",
      "Epoch 162/300\n",
      "15/15 [==============================] - 0s 24ms/step - loss: 0.0075 - val_loss: 0.0219\n",
      "Epoch 163/300\n",
      "15/15 [==============================] - 1s 36ms/step - loss: 0.0073 - val_loss: 0.0218\n",
      "Epoch 164/300\n",
      "15/15 [==============================] - 1s 47ms/step - loss: 0.0083 - val_loss: 0.0218\n",
      "Epoch 165/300\n",
      "15/15 [==============================] - 1s 45ms/step - loss: 0.0081 - val_loss: 0.0217\n",
      "Epoch 166/300\n",
      "15/15 [==============================] - 1s 52ms/step - loss: 0.0086 - val_loss: 0.0217\n",
      "Epoch 167/300\n",
      "15/15 [==============================] - 1s 37ms/step - loss: 0.0086 - val_loss: 0.0217\n",
      "Epoch 168/300\n",
      "15/15 [==============================] - 1s 35ms/step - loss: 0.0082 - val_loss: 0.0217\n",
      "Epoch 169/300\n",
      "15/15 [==============================] - 1s 37ms/step - loss: 0.0077 - val_loss: 0.0215\n",
      "Epoch 170/300\n",
      "15/15 [==============================] - 1s 59ms/step - loss: 0.0087 - val_loss: 0.0214\n",
      "Epoch 171/300\n",
      "15/15 [==============================] - 0s 19ms/step - loss: 0.0075 - val_loss: 0.0215\n",
      "Epoch 172/300\n",
      "15/15 [==============================] - 0s 20ms/step - loss: 0.0073 - val_loss: 0.0215\n",
      "Epoch 173/300\n",
      "15/15 [==============================] - 0s 19ms/step - loss: 0.0068 - val_loss: 0.0215\n",
      "Epoch 174/300\n",
      "15/15 [==============================] - 0s 19ms/step - loss: 0.0075 - val_loss: 0.0215\n",
      "Epoch 175/300\n",
      "15/15 [==============================] - 1s 37ms/step - loss: 0.0080 - val_loss: 0.0214\n",
      "Epoch 176/300\n",
      "15/15 [==============================] - 2s 141ms/step - loss: 0.0085 - val_loss: 0.0213\n",
      "Epoch 177/300\n",
      "15/15 [==============================] - 1s 35ms/step - loss: 0.0082 - val_loss: 0.0213\n",
      "Epoch 178/300\n",
      "15/15 [==============================] - 0s 20ms/step - loss: 0.0100 - val_loss: 0.0213\n",
      "Epoch 179/300\n",
      "15/15 [==============================] - 1s 34ms/step - loss: 0.0080 - val_loss: 0.0214\n",
      "Epoch 180/300\n",
      "15/15 [==============================] - 0s 32ms/step - loss: 0.0077 - val_loss: 0.0214\n",
      "Epoch 181/300\n",
      "15/15 [==============================] - 0s 30ms/step - loss: 0.0073 - val_loss: 0.0214\n",
      "Epoch 182/300\n",
      "15/15 [==============================] - 0s 18ms/step - loss: 0.0072 - val_loss: 0.0213\n",
      "Epoch 183/300\n",
      "15/15 [==============================] - 1s 52ms/step - loss: 0.0069 - val_loss: 0.0212\n",
      "Epoch 184/300\n",
      "15/15 [==============================] - 0s 30ms/step - loss: 0.0070 - val_loss: 0.0212\n",
      "Epoch 185/300\n",
      "15/15 [==============================] - 0s 19ms/step - loss: 0.0073 - val_loss: 0.0213\n",
      "Epoch 186/300\n",
      "15/15 [==============================] - 1s 36ms/step - loss: 0.0073 - val_loss: 0.0211\n",
      "Epoch 187/300\n",
      "15/15 [==============================] - 0s 32ms/step - loss: 0.0083 - val_loss: 0.0212\n",
      "Epoch 188/300\n",
      "15/15 [==============================] - 0s 32ms/step - loss: 0.0079 - val_loss: 0.0212\n",
      "Epoch 189/300\n",
      "15/15 [==============================] - 1s 46ms/step - loss: 0.0074 - val_loss: 0.0211\n",
      "Epoch 190/300\n",
      "15/15 [==============================] - 0s 31ms/step - loss: 0.0075 - val_loss: 0.0211\n",
      "Epoch 191/300\n",
      "15/15 [==============================] - 1s 34ms/step - loss: 0.0064 - val_loss: 0.0211\n",
      "Epoch 192/300\n",
      "15/15 [==============================] - 1s 50ms/step - loss: 0.0072 - val_loss: 0.0209\n",
      "Epoch 193/300\n",
      "15/15 [==============================] - 1s 45ms/step - loss: 0.0076 - val_loss: 0.0209\n",
      "Epoch 194/300\n",
      "15/15 [==============================] - 1s 34ms/step - loss: 0.0081 - val_loss: 0.0210\n",
      "Epoch 195/300\n",
      "15/15 [==============================] - 0s 33ms/step - loss: 0.0076 - val_loss: 0.0209\n",
      "Epoch 196/300\n",
      "15/15 [==============================] - 1s 36ms/step - loss: 0.0076 - val_loss: 0.0209\n",
      "Epoch 197/300\n",
      "15/15 [==============================] - 1s 35ms/step - loss: 0.0070 - val_loss: 0.0211\n",
      "Epoch 198/300\n",
      "15/15 [==============================] - 0s 32ms/step - loss: 0.0073 - val_loss: 0.0211\n",
      "Epoch 199/300\n",
      "15/15 [==============================] - 1s 41ms/step - loss: 0.0061 - val_loss: 0.0209\n",
      "Epoch 200/300\n",
      "15/15 [==============================] - 0s 32ms/step - loss: 0.0064 - val_loss: 0.0209\n",
      "Epoch 201/300\n",
      "15/15 [==============================] - 0s 30ms/step - loss: 0.0072 - val_loss: 0.0208\n",
      "Epoch 202/300\n",
      "15/15 [==============================] - 1s 48ms/step - loss: 0.0069 - val_loss: 0.0208\n",
      "Epoch 203/300\n",
      "15/15 [==============================] - 0s 32ms/step - loss: 0.0070 - val_loss: 0.0208\n",
      "Epoch 204/300\n",
      "15/15 [==============================] - 1s 35ms/step - loss: 0.0070 - val_loss: 0.0208\n",
      "Epoch 205/300\n",
      "15/15 [==============================] - 1s 51ms/step - loss: 0.0070 - val_loss: 0.0207\n",
      "Epoch 206/300\n",
      "15/15 [==============================] - 0s 32ms/step - loss: 0.0062 - val_loss: 0.0208\n",
      "Epoch 207/300\n",
      "15/15 [==============================] - 0s 18ms/step - loss: 0.0082 - val_loss: 0.0209\n",
      "Epoch 208/300\n",
      "15/15 [==============================] - 0s 30ms/step - loss: 0.0076 - val_loss: 0.0209\n",
      "Epoch 209/300\n",
      "15/15 [==============================] - 0s 19ms/step - loss: 0.0066 - val_loss: 0.0208\n",
      "Epoch 210/300\n",
      "15/15 [==============================] - 0s 30ms/step - loss: 0.0074 - val_loss: 0.0208\n",
      "Epoch 211/300\n",
      "15/15 [==============================] - 0s 18ms/step - loss: 0.0072 - val_loss: 0.0209\n",
      "Epoch 212/300\n",
      "15/15 [==============================] - 0s 30ms/step - loss: 0.0065 - val_loss: 0.0208\n",
      "Epoch 213/300\n",
      "15/15 [==============================] - 1s 37ms/step - loss: 0.0061 - val_loss: 0.0207\n",
      "Epoch 214/300\n",
      "15/15 [==============================] - 0s 31ms/step - loss: 0.0067 - val_loss: 0.0208\n",
      "Epoch 215/300\n",
      "15/15 [==============================] - 0s 31ms/step - loss: 0.0075 - val_loss: 0.0208\n",
      "Epoch 216/300\n",
      "15/15 [==============================] - 0s 18ms/step - loss: 0.0070 - val_loss: 0.0209\n",
      "Epoch 217/300\n",
      "15/15 [==============================] - 0s 17ms/step - loss: 0.0069 - val_loss: 0.0210\n",
      "Epoch 218/300\n",
      "15/15 [==============================] - 0s 19ms/step - loss: 0.0073 - val_loss: 0.0210\n",
      "Epoch 219/300\n",
      "15/15 [==============================] - 0s 32ms/step - loss: 0.0071 - val_loss: 0.0210\n",
      "Epoch 220/300\n",
      "15/15 [==============================] - 0s 30ms/step - loss: 0.0069 - val_loss: 0.0209\n",
      "Epoch 221/300\n",
      "15/15 [==============================] - 0s 17ms/step - loss: 0.0074 - val_loss: 0.0209\n",
      "Epoch 222/300\n",
      "15/15 [==============================] - 0s 18ms/step - loss: 0.0074 - val_loss: 0.0209\n",
      "Epoch 223/300\n",
      "15/15 [==============================] - 0s 31ms/step - loss: 0.0079 - val_loss: 0.0208\n",
      "Epoch 224/300\n",
      "15/15 [==============================] - 0s 30ms/step - loss: 0.0076 - val_loss: 0.0208\n",
      "Epoch 225/300\n",
      "15/15 [==============================] - 0s 18ms/step - loss: 0.0065 - val_loss: 0.0208\n",
      "Epoch 226/300\n",
      "15/15 [==============================] - 0s 17ms/step - loss: 0.0074 - val_loss: 0.0209\n",
      "Epoch 227/300\n",
      "15/15 [==============================] - 0s 18ms/step - loss: 0.0065 - val_loss: 0.0208\n",
      "Epoch 228/300\n",
      "15/15 [==============================] - 0s 31ms/step - loss: 0.0072 - val_loss: 0.0209\n",
      "Epoch 229/300\n",
      "15/15 [==============================] - 0s 32ms/step - loss: 0.0067 - val_loss: 0.0209\n",
      "Epoch 230/300\n",
      "15/15 [==============================] - 0s 32ms/step - loss: 0.0078 - val_loss: 0.0209\n",
      "Epoch 231/300\n",
      "15/15 [==============================] - 0s 24ms/step - loss: 0.0071 - val_loss: 0.0208\n",
      "Epoch 232/300\n",
      "15/15 [==============================] - 0s 18ms/step - loss: 0.0069 - val_loss: 0.0207\n",
      "Epoch 233/300\n",
      "15/15 [==============================] - 0s 30ms/step - loss: 0.0063 - val_loss: 0.0207\n",
      "Epoch 234/300\n",
      "15/15 [==============================] - 0s 17ms/step - loss: 0.0083 - val_loss: 0.0207\n",
      "Epoch 235/300\n",
      "15/15 [==============================] - 0s 18ms/step - loss: 0.0080 - val_loss: 0.0208\n",
      "Epoch 236/300\n",
      "15/15 [==============================] - 0s 32ms/step - loss: 0.0061 - val_loss: 0.0208\n",
      "Epoch 237/300\n",
      "15/15 [==============================] - 0s 30ms/step - loss: 0.0059 - val_loss: 0.0208\n",
      "Epoch 238/300\n",
      "15/15 [==============================] - 0s 18ms/step - loss: 0.0070 - val_loss: 0.0208\n",
      "Epoch 239/300\n",
      "15/15 [==============================] - 0s 31ms/step - loss: 0.0065 - val_loss: 0.0208\n",
      "Epoch 240/300\n",
      "15/15 [==============================] - 0s 32ms/step - loss: 0.0065 - val_loss: 0.0207\n",
      "Epoch 241/300\n",
      "15/15 [==============================] - 1s 52ms/step - loss: 0.0060 - val_loss: 0.0206\n",
      "Epoch 242/300\n"
     ]
    },
    {
     "name": "stdout",
     "output_type": "stream",
     "text": [
      "15/15 [==============================] - 1s 46ms/step - loss: 0.0067 - val_loss: 0.0206\n",
      "Epoch 243/300\n",
      "15/15 [==============================] - 0s 32ms/step - loss: 0.0066 - val_loss: 0.0206\n",
      "Epoch 244/300\n",
      "15/15 [==============================] - 0s 31ms/step - loss: 0.0063 - val_loss: 0.0207\n",
      "Epoch 245/300\n",
      "15/15 [==============================] - 0s 18ms/step - loss: 0.0069 - val_loss: 0.0208\n",
      "Epoch 246/300\n",
      "15/15 [==============================] - 0s 30ms/step - loss: 0.0070 - val_loss: 0.0208\n",
      "Epoch 247/300\n",
      "15/15 [==============================] - 0s 18ms/step - loss: 0.0078 - val_loss: 0.0207\n",
      "Epoch 248/300\n",
      "15/15 [==============================] - 0s 31ms/step - loss: 0.0070 - val_loss: 0.0206\n",
      "Epoch 249/300\n",
      "15/15 [==============================] - 0s 31ms/step - loss: 0.0065 - val_loss: 0.0208\n",
      "Epoch 250/300\n",
      "15/15 [==============================] - 0s 32ms/step - loss: 0.0066 - val_loss: 0.0208\n",
      "Epoch 251/300\n",
      "15/15 [==============================] - 0s 31ms/step - loss: 0.0059 - val_loss: 0.0207\n",
      "Epoch 252/300\n",
      "15/15 [==============================] - 0s 32ms/step - loss: 0.0074 - val_loss: 0.0207\n",
      "Epoch 253/300\n",
      "15/15 [==============================] - 0s 32ms/step - loss: 0.0059 - val_loss: 0.0207\n",
      "Epoch 254/300\n",
      "15/15 [==============================] - 0s 30ms/step - loss: 0.0062 - val_loss: 0.0207\n",
      "Epoch 255/300\n",
      "15/15 [==============================] - 0s 18ms/step - loss: 0.0065 - val_loss: 0.0208\n",
      "Epoch 256/300\n",
      "15/15 [==============================] - 0s 30ms/step - loss: 0.0060 - val_loss: 0.0208\n",
      "Epoch 257/300\n",
      "15/15 [==============================] - 0s 17ms/step - loss: 0.0087 - val_loss: 0.0207\n",
      "Epoch 258/300\n",
      "15/15 [==============================] - 0s 18ms/step - loss: 0.0075 - val_loss: 0.0209\n",
      "Epoch 259/300\n",
      "15/15 [==============================] - 0s 31ms/step - loss: 0.0066 - val_loss: 0.0209\n",
      "Epoch 260/300\n",
      "15/15 [==============================] - 0s 32ms/step - loss: 0.0068 - val_loss: 0.0210\n",
      "Epoch 261/300\n",
      "15/15 [==============================] - 1s 36ms/step - loss: 0.0060 - val_loss: 0.0210\n",
      "Epoch 262/300\n",
      "15/15 [==============================] - 0s 32ms/step - loss: 0.0068 - val_loss: 0.0210\n",
      "Epoch 263/300\n",
      "15/15 [==============================] - 0s 33ms/step - loss: 0.0068 - val_loss: 0.0209\n",
      "Epoch 264/300\n",
      "15/15 [==============================] - 0s 19ms/step - loss: 0.0071 - val_loss: 0.0209\n",
      "Epoch 265/300\n",
      "15/15 [==============================] - 1s 37ms/step - loss: 0.0064 - val_loss: 0.0210\n",
      "Epoch 266/300\n",
      "15/15 [==============================] - 1s 34ms/step - loss: 0.0072 - val_loss: 0.0210\n",
      "Epoch 267/300\n",
      "15/15 [==============================] - 1s 35ms/step - loss: 0.0070 - val_loss: 0.0209\n",
      "Epoch 268/300\n",
      "15/15 [==============================] - 0s 23ms/step - loss: 0.0056 - val_loss: 0.0210\n",
      "Epoch 269/300\n",
      "15/15 [==============================] - 0s 19ms/step - loss: 0.0063 - val_loss: 0.0210\n",
      "Epoch 270/300\n",
      "15/15 [==============================] - 1s 34ms/step - loss: 0.0061 - val_loss: 0.0209\n",
      "Epoch 271/300\n",
      "15/15 [==============================] - 0s 24ms/step - loss: 0.0064 - val_loss: 0.0210\n",
      "Epoch 272/300\n",
      "15/15 [==============================] - 1s 39ms/step - loss: 0.0064 - val_loss: 0.0210\n",
      "Epoch 273/300\n",
      "15/15 [==============================] - 1s 38ms/step - loss: 0.0069 - val_loss: 0.0210\n",
      "Epoch 274/300\n",
      "15/15 [==============================] - 0s 30ms/step - loss: 0.0061 - val_loss: 0.0210\n",
      "Epoch 275/300\n",
      "15/15 [==============================] - 0s 18ms/step - loss: 0.0063 - val_loss: 0.0211\n",
      "Epoch 276/300\n",
      "15/15 [==============================] - 0s 30ms/step - loss: 0.0061 - val_loss: 0.0212\n",
      "Epoch 277/300\n",
      "15/15 [==============================] - 0s 18ms/step - loss: 0.0059 - val_loss: 0.0212\n",
      "Epoch 278/300\n",
      "15/15 [==============================] - 0s 18ms/step - loss: 0.0053 - val_loss: 0.0212\n",
      "Epoch 279/300\n",
      "15/15 [==============================] - 0s 18ms/step - loss: 0.0056 - val_loss: 0.0212\n",
      "Epoch 280/300\n",
      "15/15 [==============================] - 0s 18ms/step - loss: 0.0065 - val_loss: 0.0213\n",
      "Epoch 281/300\n",
      "15/15 [==============================] - 0s 30ms/step - loss: 0.0065 - val_loss: 0.0211\n",
      "Epoch 282/300\n",
      "15/15 [==============================] - 0s 18ms/step - loss: 0.0059 - val_loss: 0.0211\n",
      "Epoch 283/300\n",
      "15/15 [==============================] - 0s 31ms/step - loss: 0.0059 - val_loss: 0.0211\n",
      "Epoch 284/300\n",
      "15/15 [==============================] - 0s 18ms/step - loss: 0.0057 - val_loss: 0.0210\n",
      "Epoch 285/300\n",
      "15/15 [==============================] - 0s 30ms/step - loss: 0.0075 - val_loss: 0.0211\n",
      "Epoch 286/300\n",
      "15/15 [==============================] - 0s 17ms/step - loss: 0.0067 - val_loss: 0.0211\n",
      "Epoch 287/300\n",
      "15/15 [==============================] - 0s 18ms/step - loss: 0.0072 - val_loss: 0.0211\n",
      "Epoch 288/300\n",
      "15/15 [==============================] - 0s 30ms/step - loss: 0.0064 - val_loss: 0.0211\n",
      "Epoch 289/300\n",
      "15/15 [==============================] - 0s 20ms/step - loss: 0.0064 - val_loss: 0.0211\n",
      "Epoch 290/300\n",
      "15/15 [==============================] - 0s 18ms/step - loss: 0.0065 - val_loss: 0.0211\n",
      "Epoch 291/300\n",
      "15/15 [==============================] - 0s 20ms/step - loss: 0.0068 - val_loss: 0.0211\n",
      "Epoch 292/300\n",
      "15/15 [==============================] - 0s 30ms/step - loss: 0.0065 - val_loss: 0.0212\n",
      "Epoch 293/300\n",
      "15/15 [==============================] - 0s 18ms/step - loss: 0.0063 - val_loss: 0.0212\n",
      "Epoch 294/300\n",
      "15/15 [==============================] - 0s 31ms/step - loss: 0.0066 - val_loss: 0.0213\n",
      "Epoch 295/300\n",
      "15/15 [==============================] - 0s 17ms/step - loss: 0.0058 - val_loss: 0.0213\n",
      "Epoch 296/300\n",
      "15/15 [==============================] - 0s 17ms/step - loss: 0.0057 - val_loss: 0.0214\n",
      "Epoch 297/300\n",
      "15/15 [==============================] - 0s 19ms/step - loss: 0.0059 - val_loss: 0.0214\n",
      "Epoch 298/300\n",
      "15/15 [==============================] - 0s 32ms/step - loss: 0.0066 - val_loss: 0.0213\n",
      "Epoch 299/300\n",
      "15/15 [==============================] - 0s 29ms/step - loss: 0.0067 - val_loss: 0.0214\n",
      "Epoch 300/300\n",
      "15/15 [==============================] - 0s 20ms/step - loss: 0.0063 - val_loss: 0.0215\n",
      "Model: \"sequential_5\"\n",
      "_________________________________________________________________\n",
      "Layer (type)                 Output Shape              Param #   \n",
      "=================================================================\n",
      "conv1d_10 (Conv1D)           (None, 8, 64)             832       \n",
      "_________________________________________________________________\n",
      "conv1d_11 (Conv1D)           (None, 6, 64)             12352     \n",
      "_________________________________________________________________\n",
      "batch_normalization_5 (Batch (None, 6, 64)             256       \n",
      "_________________________________________________________________\n",
      "activation_5 (Activation)    (None, 6, 64)             0         \n",
      "_________________________________________________________________\n",
      "average_pooling1d_5 (Average (None, 3, 64)             0         \n",
      "_________________________________________________________________\n",
      "dropout_15 (Dropout)         (None, 3, 64)             0         \n",
      "_________________________________________________________________\n",
      "lstm_10 (LSTM)               (None, 3, 50)             23000     \n",
      "_________________________________________________________________\n",
      "dropout_16 (Dropout)         (None, 3, 50)             0         \n",
      "_________________________________________________________________\n",
      "lstm_11 (LSTM)               (None, 60)                26640     \n",
      "_________________________________________________________________\n",
      "dropout_17 (Dropout)         (None, 60)                0         \n",
      "_________________________________________________________________\n",
      "dense_10 (Dense)             (None, 1)                 61        \n",
      "=================================================================\n",
      "Total params: 63,141\n",
      "Trainable params: 63,013\n",
      "Non-trainable params: 128\n",
      "_________________________________________________________________\n"
     ]
    },
    {
     "data": {
      "image/png": "[encoded data removed]",
      "text/plain": [
       "<IPython.core.display.Image object>"
      ]
     },
     "execution_count": 23,
     "metadata": {},
     "output_type": "execute_result"
    },
    {
     "data": {
      "text/plain": [
       "19"
      ]
     },
     "execution_count": 23,
     "metadata": {},
     "output_type": "execute_result"
    },
    {
     "data": {
      "text/plain": [
       "11"
      ]
     },
     "execution_count": 23,
     "metadata": {},
     "output_type": "execute_result"
    },
    {
     "data": {
      "text/plain": [
       "12882"
      ]
     },
     "execution_count": 23,
     "metadata": {},
     "output_type": "execute_result"
    },
    {
     "data": {
      "text/plain": [
       "17"
      ]
     },
     "execution_count": 23,
     "metadata": {},
     "output_type": "execute_result"
    },
    {
     "data": {
      "text/plain": [
       "6"
      ]
     },
     "execution_count": 23,
     "metadata": {},
     "output_type": "execute_result"
    },
    {
     "data": {
      "text/plain": [
       "762"
      ]
     },
     "execution_count": 23,
     "metadata": {},
     "output_type": "execute_result"
    },
    {
     "data": {
      "text/plain": [
       "19"
      ]
     },
     "execution_count": 23,
     "metadata": {},
     "output_type": "execute_result"
    },
    {
     "data": {
      "text/plain": [
       "12"
      ]
     },
     "execution_count": 23,
     "metadata": {},
     "output_type": "execute_result"
    },
    {
     "data": {
      "text/plain": [
       "1518"
      ]
     },
     "execution_count": 23,
     "metadata": {},
     "output_type": "execute_result"
    },
    {
     "data": {
      "text/plain": [
       "17"
      ]
     },
     "execution_count": 23,
     "metadata": {},
     "output_type": "execute_result"
    },
    {
     "data": {
      "text/plain": [
       "6"
      ]
     },
     "execution_count": 23,
     "metadata": {},
     "output_type": "execute_result"
    },
    {
     "data": {
      "text/plain": [
       "977"
      ]
     },
     "execution_count": 23,
     "metadata": {},
     "output_type": "execute_result"
    },
    {
     "data": {
      "text/plain": [
       "30"
      ]
     },
     "execution_count": 23,
     "metadata": {},
     "output_type": "execute_result"
    },
    {
     "data": {
      "text/plain": [
       "6"
      ]
     },
     "execution_count": 23,
     "metadata": {},
     "output_type": "execute_result"
    },
    {
     "data": {
      "text/plain": [
       "707"
      ]
     },
     "execution_count": 23,
     "metadata": {},
     "output_type": "execute_result"
    },
    {
     "data": {
      "text/plain": [
       "29"
      ]
     },
     "execution_count": 23,
     "metadata": {},
     "output_type": "execute_result"
    },
    {
     "data": {
      "text/plain": [
       "6"
      ]
     },
     "execution_count": 23,
     "metadata": {},
     "output_type": "execute_result"
    },
    {
     "data": {
      "text/plain": [
       "1041"
      ]
     },
     "execution_count": 23,
     "metadata": {},
     "output_type": "execute_result"
    },
    {
     "data": {
      "text/plain": [
       "30"
      ]
     },
     "execution_count": 23,
     "metadata": {},
     "output_type": "execute_result"
    },
    {
     "data": {
      "text/plain": [
       "10"
      ]
     },
     "execution_count": 23,
     "metadata": {},
     "output_type": "execute_result"
    },
    {
     "data": {
      "text/plain": [
       "490"
      ]
     },
     "execution_count": 23,
     "metadata": {},
     "output_type": "execute_result"
    },
    {
     "data": {
      "text/plain": [
       "40"
      ]
     },
     "execution_count": 23,
     "metadata": {},
     "output_type": "execute_result"
    },
    {
     "data": {
      "text/plain": [
       "10"
      ]
     },
     "execution_count": 23,
     "metadata": {},
     "output_type": "execute_result"
    },
    {
     "data": {
      "text/plain": [
       "491"
      ]
     },
     "execution_count": 23,
     "metadata": {},
     "output_type": "execute_result"
    },
    {
     "data": {
      "text/plain": [
       "28"
      ]
     },
     "execution_count": 23,
     "metadata": {},
     "output_type": "execute_result"
    },
    {
     "data": {
      "text/plain": [
       "7"
      ]
     },
     "execution_count": 23,
     "metadata": {},
     "output_type": "execute_result"
    },
    {
     "data": {
      "text/plain": [
       "3251"
      ]
     },
     "execution_count": 23,
     "metadata": {},
     "output_type": "execute_result"
    },
    {
     "data": {
      "text/plain": [
       "30"
      ]
     },
     "execution_count": 23,
     "metadata": {},
     "output_type": "execute_result"
    },
    {
     "data": {
      "text/plain": [
       "10"
      ]
     },
     "execution_count": 23,
     "metadata": {},
     "output_type": "execute_result"
    },
    {
     "data": {
      "text/plain": [
       "491"
      ]
     },
     "execution_count": 23,
     "metadata": {},
     "output_type": "execute_result"
    },
    {
     "data": {
      "text/plain": [
       "40"
      ]
     },
     "execution_count": 23,
     "metadata": {},
     "output_type": "execute_result"
    },
    {
     "data": {
      "text/plain": [
       "10"
      ]
     },
     "execution_count": 23,
     "metadata": {},
     "output_type": "execute_result"
    },
    {
     "data": {
      "text/plain": [
       "492"
      ]
     },
     "execution_count": 23,
     "metadata": {},
     "output_type": "execute_result"
    },
    {
     "data": {
      "text/plain": [
       "28"
      ]
     },
     "execution_count": 23,
     "metadata": {},
     "output_type": "execute_result"
    },
    {
     "data": {
      "text/plain": [
       "7"
      ]
     },
     "execution_count": 23,
     "metadata": {},
     "output_type": "execute_result"
    },
    {
     "data": {
      "text/plain": [
       "3901"
      ]
     },
     "execution_count": 23,
     "metadata": {},
     "output_type": "execute_result"
    },
    {
     "data": {
      "text/plain": [
       "18"
      ]
     },
     "execution_count": 23,
     "metadata": {},
     "output_type": "execute_result"
    },
    {
     "data": {
      "text/plain": [
       "8"
      ]
     },
     "execution_count": 23,
     "metadata": {},
     "output_type": "execute_result"
    },
    {
     "data": {
      "text/plain": [
       "901"
      ]
     },
     "execution_count": 23,
     "metadata": {},
     "output_type": "execute_result"
    },
    {
     "data": {
      "text/plain": [
       "16"
      ]
     },
     "execution_count": 23,
     "metadata": {},
     "output_type": "execute_result"
    },
    {
     "data": {
      "text/plain": [
       "5"
      ]
     },
     "execution_count": 23,
     "metadata": {},
     "output_type": "execute_result"
    },
    {
     "data": {
      "text/plain": [
       "13"
      ]
     },
     "execution_count": 23,
     "metadata": {},
     "output_type": "execute_result"
    }
   ],
   "source": [
    "import os\n",
    "from keras.preprocessing import sequence\n",
    "from keras.models import Sequential\n",
    "from keras.layers import Dense, Dropout, Activation,BatchNormalization\n",
    "from keras.layers import Embedding\n",
    "from keras.layers import LSTM\n",
    "from keras.layers import Conv1D, MaxPooling1D,Flatten,AveragePooling1D\n",
    "from tensorflow.keras import Model\n",
    "from tensorflow import keras\n",
    "\n",
    "\n",
    "# Convolution\n",
    "kernel_size = 3\n",
    "filters = 64\n",
    "pool_size = 2\n",
    "\n",
    "\n",
    "# Training\n",
    "batch_size = 64\n",
    "epochs = 300\n",
    "\n",
    "model = Sequential()\n",
    "\n",
    "model.add(Conv1D(filters, kernel_size,padding='valid', activation='relu',  strides=1))                                      \n",
    "model.add(Conv1D(filters, kernel_size,padding='valid', activation='relu', strides=1))\n",
    "\n",
    "model.add(BatchNormalization()) # BN层\n",
    "model.add(Activation('relu'))    # 激活层  \n",
    "\n",
    "model.add(AveragePooling1D(pool_size=pool_size))\n",
    "model.add(Dropout(0.2))\n",
    "\n",
    "# model.add(Flatten())\n",
    "# model.add(keras.layers.Reshape((832, 1)))\n",
    "\n",
    "model.add(LSTM(50,return_sequences=True)) \n",
    "model.add(Dropout(0.2))\n",
    "model.add(LSTM(60))  #第二层\n",
    "model.add(Dropout(0.2))\n",
    "model.add(Dense(1))\n",
    "# model.add(Activation('sigmoid'))\n",
    "\n",
    "model.compile(optimizer=tf.keras.optimizers.Adam(lr = 1e-5),\n",
    "              loss='mean_squared_error')  # 损失函数用均方误差\n",
    "\n",
    "#该应用只观测loss数值，不观测准确率，所以删去metrics选项，一会在每个epoch迭代显示时只显示loss值\n",
    "checkpoint_save_path = \"./checkpoint/CMM-LSTM/CNN-LSTM_nation_debt.ckpt\"\n",
    "\n",
    "if os.path.exists(checkpoint_save_path + '.index'):\n",
    "    print('-------------load the model-----------------')\n",
    "    model.load_weights(checkpoint_save_path)\n",
    "\n",
    "cp_callback = tf.keras.callbacks.ModelCheckpoint(filepath=checkpoint_save_path,\n",
    "                                                 save_weights_only=True,\n",
    "                                                 save_best_only=True,\n",
    "                                                 monitor='val_loss')\n",
    "\n",
    "print('Train...')\n",
    "history = model.fit(x_train, y_train,batch_size=batch_size,epochs=epochs,\n",
    "                    validation_data=(x_valid, y_valid),validation_freq=1,callbacks=[cp_callback])\n",
    "model.summary()\n",
    "\n",
    "keras.utils.plot_model(model, \"data/shape_info_by_cnn-lstm.png\", show_shapes=True)\n",
    "\n",
    "\n",
    "file = open('./data/weights_of_nation_debt_by_cnn-lstm.txt', 'w')  # 参数提取\n",
    "for v in model.trainable_variables:\n",
    "    file.write(str(v.name) + '\\n')\n",
    "    file.write(str(v.shape) + '\\n')\n",
    "    file.write(str(v.numpy()) + '\\n')\n",
    "file.close()"
   ]
  },
  {
   "cell_type": "code",
   "execution_count": 24,
   "metadata": {},
   "outputs": [
    {
     "data": {
      "text/plain": [
       "[<matplotlib.lines.Line2D at 0x15a0423f048>]"
      ]
     },
     "execution_count": 24,
     "metadata": {},
     "output_type": "execute_result"
    },
    {
     "data": {
      "text/plain": [
       "[<matplotlib.lines.Line2D at 0x15a73ec2bc8>]"
      ]
     },
     "execution_count": 24,
     "metadata": {},
     "output_type": "execute_result"
    },
    {
     "data": {
      "text/plain": [
       "Text(0.5, 1.0, 'Training and Validation Loss')"
      ]
     },
     "execution_count": 24,
     "metadata": {},
     "output_type": "execute_result"
    },
    {
     "data": {
      "text/plain": [
       "<matplotlib.legend.Legend at 0x15a04205c08>"
      ]
     },
     "execution_count": 24,
     "metadata": {},
     "output_type": "execute_result"
    },
    {
     "data": {
      "image/png": "[encoded data removed]",
      "text/plain": [
       "<Figure size 432x288 with 1 Axes>"
      ]
     },
     "metadata": {
      "needs_background": "light"
     },
     "output_type": "display_data"
    }
   ],
   "source": [
    "loss = history.history['loss']\n",
    "val_loss = history.history['val_loss']\n",
    "\n",
    "plt.plot(loss, label='Training Loss')\n",
    "plt.plot(val_loss, label='Validation Loss') #验证集用来选则最佳的超参数的值\n",
    "plt.title('Training and Validation Loss')\n",
    "plt.legend()\n",
    "plt.show()"
   ]
  },
  {
   "cell_type": "code",
   "execution_count": 27,
   "metadata": {},
   "outputs": [
    {
     "data": {
      "text/plain": [
       "<Figure size 432x288 with 0 Axes>"
      ]
     },
     "execution_count": 27,
     "metadata": {},
     "output_type": "execute_result"
    },
    {
     "data": {
      "text/plain": [
       "[<matplotlib.lines.Line2D at 0x15a04529e88>]"
      ]
     },
     "execution_count": 27,
     "metadata": {},
     "output_type": "execute_result"
    },
    {
     "data": {
      "text/plain": [
       "[<matplotlib.lines.Line2D at 0x15a0422b648>]"
      ]
     },
     "execution_count": 27,
     "metadata": {},
     "output_type": "execute_result"
    },
    {
     "data": {
      "text/plain": [
       "Text(0.5, 1.0, 'national debt Price Prediction')"
      ]
     },
     "execution_count": 27,
     "metadata": {},
     "output_type": "execute_result"
    },
    {
     "data": {
      "text/plain": [
       "Text(0.5, 0, 'Time')"
      ]
     },
     "execution_count": 27,
     "metadata": {},
     "output_type": "execute_result"
    },
    {
     "data": {
      "text/plain": [
       "Text(0, 0.5, 'national debt Price')"
      ]
     },
     "execution_count": 27,
     "metadata": {},
     "output_type": "execute_result"
    },
    {
     "data": {
      "text/plain": [
       "<matplotlib.legend.Legend at 0x15a04529a08>"
      ]
     },
     "execution_count": 27,
     "metadata": {},
     "output_type": "execute_result"
    },
    {
     "data": {
      "image/png": "[encoded data removed]",
      "text/plain": [
       "<Figure size 432x288 with 1 Axes>"
      ]
     },
     "metadata": {},
     "output_type": "display_data"
    },
    {
     "name": "stdout",
     "output_type": "stream",
     "text": [
      "均方误差: 0.002275\n",
      "均方根误差: 0.047698\n",
      "平均绝对误差: 0.036638\n"
     ]
    }
   ],
   "source": [
    "# 测试集输入模型进行预测\n",
    "predicted_stock_price = model.predict(x_test)\n",
    "# 对预测数据还原---从（0，1）反归一化到原始范围\n",
    "predicted_stock_price = sc_for_visual.inverse_transform(predicted_stock_price)\n",
    "# 对真实数据还原---从（0，1）反归一化到原始范围\n",
    "real_stock_price = sc_for_visual.inverse_transform(y_test_for_visual[10:])\n",
    "# 画出真实数据和预测数据的对比曲线\n",
    "# 画出真实数据和预测数据的对比曲线\n",
    "plt.figure(facecolor='white')\n",
    "plt.plot(real_stock_price, color='red', label='national debt Price')\n",
    "plt.plot(predicted_stock_price, color='blue', label='Predicted by CNN-LSTM')\n",
    "plt.title('national debt Price Prediction')\n",
    "plt.xlabel('Time')\n",
    "plt.ylabel('national debt Price')\n",
    "plt.legend()\n",
    "plt.show()\n",
    "\n",
    "##########evaluate##############\n",
    "# calculate MSE 均方误差 ---> E[(预测值-真实值)^2] (预测值减真实值求平方后求均值)\n",
    "mse = mean_squared_error(predicted_stock_price, real_stock_price)\n",
    "# calculate RMSE 均方根误差--->sqrt[MSE]    (对均方误差开方)\n",
    "rmse = math.sqrt(mean_squared_error(predicted_stock_price, real_stock_price))\n",
    "# calculate MAE 平均绝对误差----->E[|预测值-真实值|](预测值减真实值求绝对值后求均值）\n",
    "mae = mean_absolute_error(predicted_stock_price, real_stock_price)\n",
    "print('均方误差: %.6f' % mse)\n",
    "print('均方根误差: %.6f' % rmse)\n",
    "print('平均绝对误差: %.6f' % mae)"
   ]
  },
  {
   "cell_type": "code",
   "execution_count": 26,
   "metadata": {},
   "outputs": [
    {
     "name": "stdout",
     "output_type": "stream",
     "text": [
      "0.9409247627682897\n"
     ]
    }
   ],
   "source": [
    "from sklearn.metrics import explained_variance_score\n",
    "import seaborn as sns\n",
    "\n",
    "cm = explained_variance_score(real_stock_price, predicted_stock_price)\n",
    "\n",
    "print(cm )"
   ]
  },
  {
   "cell_type": "code",
   "execution_count": null,
   "metadata": {},
   "outputs": [],
   "source": []
  }
 ],
 "metadata": {
  "kernelspec": {
   "display_name": "Python 3",
   "language": "python",
   "name": "python3"
  },
  "language_info": {
   "codemirror_mode": {
    "name": "ipython",
    "version": 3
   },
   "file_extension": ".py",
   "mimetype": "text/x-python",
   "name": "python",
   "nbconvert_exporter": "python",
   "pygments_lexer": "ipython3",
   "version": "3.7.4"
  }
 },
 "nbformat": 4,
 "nbformat_minor": 2
}
