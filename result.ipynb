{
 "cells": [
  {
   "cell_type": "code",
   "execution_count": 1,
   "metadata": {},
   "outputs": [],
   "source": [
    "from IPython.core.interactiveshell import InteractiveShell  #执行该代码可以使得当前nb支持多输出\n",
    "InteractiveShell.ast_node_interactivity = \"all\" \n",
    "import numpy as np\n",
    "from datetime import datetime\n",
    "import pandas as pd \n",
    "import matplotlib.pyplot as plt\n",
    "plt.rcParams['font.sans-serif'] = ['SimHei']\n",
    "plt.rcParams['axes.unicode_minus'] = False \n",
    "from mpl_toolkits.mplot3d import Axes3D\n",
    "\n",
    "import tensorflow as tf\n",
    "from tensorflow.keras.layers import Dropout, Dense, LSTM\n",
    "import os\n",
    "from sklearn.preprocessing import MinMaxScaler\n",
    "from sklearn.metrics import mean_squared_error, mean_absolute_error\n",
    "import math\n",
    "\n",
    "pd.options.display.max_rows = 8  \n",
    "%matplotlib inline"
   ]
  },
  {
   "cell_type": "code",
   "execution_count": 7,
   "metadata": {},
   "outputs": [],
   "source": [
    "import PIL.Image as Image\n",
    "import os\n",
    "\n",
    "IMAGES_PATH = r'img/'  # 图片集来源地址\n",
    "IMAGES_FORMAT = ['.png']  # 图片格式'.jpg', '.JPG'\n",
    "IMAGE_SIZE = 1000  # 每张小图片的大小\n",
    "IMAGE_ROW = 2  # 图片间隔，也就是合并成一张图后，一共有几行\n",
    "IMAGE_COLUMN = 2  # 图片间隔，也就是合并成一张图后，一共有几列\n",
    "IMAGE_SAVE_PATH = r'img/pred_combine.png'  # 图片转换后的地址\n",
    "\n",
    "# 获取图片集地址下的所有图片名称\n",
    "image_names = [name for name in os.listdir(IMAGES_PATH) for item in IMAGES_FORMAT if\n",
    "               os.path.splitext(name)[1] == item]\n",
    "\n",
    "# 简单的对于参数的设定和实际图片集的大小进行数量判断\n",
    "if len(image_names) != IMAGE_ROW * IMAGE_COLUMN:\n",
    "    raise ValueError(\"合成图片的参数和要求的数量不能匹配！\")\n",
    "\n",
    "\n",
    "# 定义图像拼接函数\n",
    "def image_compose():\n",
    "    to_image = Image.new('RGB', (IMAGE_COLUMN * IMAGE_SIZE, IMAGE_ROW * IMAGE_SIZE))  # 创建一个新图\n",
    "    # 循环遍历，把每张图片按顺序粘贴到对应位置上\n",
    "    for y in range(1, IMAGE_ROW + 1):\n",
    "        for x in range(1, IMAGE_COLUMN + 1):\n",
    "            from_image = Image.open(IMAGES_PATH + image_names[IMAGE_COLUMN * (y - 1) + x - 1]).resize(\n",
    "                (IMAGE_SIZE, IMAGE_SIZE), Image.ANTIALIAS)\n",
    "            to_image.paste(from_image, ((x - 1) * IMAGE_SIZE, (y - 1) * IMAGE_SIZE))\n",
    "    return to_image.save(IMAGE_SAVE_PATH)  # 保存新图\n",
    "\n",
    "\n",
    "image_compose()  # 调用函数这里插入代码片"
   ]
  },
  {
   "cell_type": "code",
   "execution_count": null,
   "metadata": {},
   "outputs": [],
   "source": []
  }
 ],
 "metadata": {
  "kernelspec": {
   "display_name": "Python 3",
   "language": "python",
   "name": "python3"
  },
  "language_info": {
   "codemirror_mode": {
    "name": "ipython",
    "version": 3
   },
   "file_extension": ".py",
   "mimetype": "text/x-python",
   "name": "python",
   "nbconvert_exporter": "python",
   "pygments_lexer": "ipython3",
   "version": "3.7.4"
  }
 },
 "nbformat": 4,
 "nbformat_minor": 2
}
