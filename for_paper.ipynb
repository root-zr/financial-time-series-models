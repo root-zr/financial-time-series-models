{
 "cells": [
  {
   "cell_type": "code",
   "execution_count": 1,
   "metadata": {},
   "outputs": [],
   "source": [
    "from IPython.core.interactiveshell import InteractiveShell  #执行该代码可以使得当前nb支持多输出\n",
    "InteractiveShell.ast_node_interactivity = \"all\" \n",
    "import numpy as np\n",
    "from datetime import datetime\n",
    "import pandas as pd \n",
    "import matplotlib.pyplot as plt\n",
    "plt.rcParams['font.sans-serif'] = ['SimHei']\n",
    "plt.rcParams['axes.unicode_minus'] = False \n",
    "from mpl_toolkits.mplot3d import Axes3D\n",
    "\n",
    "import tensorflow as tf\n",
    "from tensorflow.keras.layers import Dropout, Dense, LSTM\n",
    "import os\n",
    "from sklearn.preprocessing import MinMaxScaler\n",
    "from sklearn.metrics import mean_squared_error, mean_absolute_error\n",
    "import math\n",
    "\n",
    "pd.options.display.max_rows = 8  \n",
    "%matplotlib inline"
   ]
  },
  {
   "cell_type": "markdown",
   "metadata": {},
   "source": [
    "确定训练集，验证集和测试集的日期"
   ]
  },
  {
   "cell_type": "code",
   "execution_count": 3,
   "metadata": {
    "scrolled": true
   },
   "outputs": [
    {
     "data": {
      "text/html": [
       "<div>\n",
       "<style scoped>\n",
       "    .dataframe tbody tr th:only-of-type {\n",
       "        vertical-align: middle;\n",
       "    }\n",
       "\n",
       "    .dataframe tbody tr th {\n",
       "        vertical-align: top;\n",
       "    }\n",
       "\n",
       "    .dataframe thead th {\n",
       "        text-align: right;\n",
       "    }\n",
       "</style>\n",
       "<table border=\"1\" class=\"dataframe\">\n",
       "  <thead>\n",
       "    <tr style=\"text-align: right;\">\n",
       "      <th></th>\n",
       "      <th>开盘</th>\n",
       "      <th>收盘</th>\n",
       "      <th>高</th>\n",
       "      <th>低</th>\n",
       "      <th>涨跌幅</th>\n",
       "    </tr>\n",
       "    <tr>\n",
       "      <th>日期</th>\n",
       "      <th></th>\n",
       "      <th></th>\n",
       "      <th></th>\n",
       "      <th></th>\n",
       "      <th></th>\n",
       "    </tr>\n",
       "  </thead>\n",
       "  <tbody>\n",
       "    <tr>\n",
       "      <td>2016/1/21</td>\n",
       "      <td>2.683</td>\n",
       "      <td>2.700</td>\n",
       "      <td>2.703</td>\n",
       "      <td>2.680</td>\n",
       "      <td>0.78%</td>\n",
       "    </tr>\n",
       "    <tr>\n",
       "      <td>2016/1/22</td>\n",
       "      <td>2.705</td>\n",
       "      <td>2.689</td>\n",
       "      <td>2.705</td>\n",
       "      <td>2.682</td>\n",
       "      <td>-0.41%</td>\n",
       "    </tr>\n",
       "    <tr>\n",
       "      <td>2016/1/25</td>\n",
       "      <td>2.750</td>\n",
       "      <td>2.694</td>\n",
       "      <td>2.750</td>\n",
       "      <td>2.680</td>\n",
       "      <td>0.19%</td>\n",
       "    </tr>\n",
       "    <tr>\n",
       "      <td>2016/1/26</td>\n",
       "      <td>2.703</td>\n",
       "      <td>2.738</td>\n",
       "      <td>2.740</td>\n",
       "      <td>2.690</td>\n",
       "      <td>1.63%</td>\n",
       "    </tr>\n",
       "    <tr>\n",
       "      <td>2016/1/27</td>\n",
       "      <td>2.763</td>\n",
       "      <td>2.774</td>\n",
       "      <td>2.783</td>\n",
       "      <td>2.763</td>\n",
       "      <td>1.31%</td>\n",
       "    </tr>\n",
       "  </tbody>\n",
       "</table>\n",
       "</div>"
      ],
      "text/plain": [
       "              开盘     收盘      高      低     涨跌幅\n",
       "日期                                           \n",
       "2016/1/21  2.683  2.700  2.703  2.680   0.78%\n",
       "2016/1/22  2.705  2.689  2.705  2.682  -0.41%\n",
       "2016/1/25  2.750  2.694  2.750  2.680   0.19%\n",
       "2016/1/26  2.703  2.738  2.740  2.690   1.63%\n",
       "2016/1/27  2.763  2.774  2.783  2.763   1.31%"
      ]
     },
     "execution_count": 3,
     "metadata": {},
     "output_type": "execute_result"
    },
    {
     "data": {
      "text/html": [
       "<div>\n",
       "<style scoped>\n",
       "    .dataframe tbody tr th:only-of-type {\n",
       "        vertical-align: middle;\n",
       "    }\n",
       "\n",
       "    .dataframe tbody tr th {\n",
       "        vertical-align: top;\n",
       "    }\n",
       "\n",
       "    .dataframe thead th {\n",
       "        text-align: right;\n",
       "    }\n",
       "</style>\n",
       "<table border=\"1\" class=\"dataframe\">\n",
       "  <thead>\n",
       "    <tr style=\"text-align: right;\">\n",
       "      <th></th>\n",
       "      <th>开盘</th>\n",
       "      <th>收盘</th>\n",
       "      <th>高</th>\n",
       "      <th>低</th>\n",
       "    </tr>\n",
       "  </thead>\n",
       "  <tbody>\n",
       "    <tr>\n",
       "      <td>count</td>\n",
       "      <td>1563.000000</td>\n",
       "      <td>1563.000000</td>\n",
       "      <td>1563.000000</td>\n",
       "      <td>1563.000000</td>\n",
       "    </tr>\n",
       "    <tr>\n",
       "      <td>mean</td>\n",
       "      <td>3.041862</td>\n",
       "      <td>3.022280</td>\n",
       "      <td>3.049060</td>\n",
       "      <td>3.010074</td>\n",
       "    </tr>\n",
       "    <tr>\n",
       "      <td>std</td>\n",
       "      <td>0.419688</td>\n",
       "      <td>0.420101</td>\n",
       "      <td>0.418939</td>\n",
       "      <td>0.420670</td>\n",
       "    </tr>\n",
       "    <tr>\n",
       "      <td>min</td>\n",
       "      <td>1.740000</td>\n",
       "      <td>1.740000</td>\n",
       "      <td>1.740000</td>\n",
       "      <td>1.740000</td>\n",
       "    </tr>\n",
       "    <tr>\n",
       "      <td>25%</td>\n",
       "      <td>2.746000</td>\n",
       "      <td>2.712000</td>\n",
       "      <td>2.750000</td>\n",
       "      <td>2.697000</td>\n",
       "    </tr>\n",
       "    <tr>\n",
       "      <td>50%</td>\n",
       "      <td>3.012000</td>\n",
       "      <td>2.993000</td>\n",
       "      <td>3.018000</td>\n",
       "      <td>2.983000</td>\n",
       "    </tr>\n",
       "    <tr>\n",
       "      <td>75%</td>\n",
       "      <td>3.261000</td>\n",
       "      <td>3.234000</td>\n",
       "      <td>3.269000</td>\n",
       "      <td>3.219000</td>\n",
       "    </tr>\n",
       "    <tr>\n",
       "      <td>max</td>\n",
       "      <td>4.000000</td>\n",
       "      <td>3.968000</td>\n",
       "      <td>4.000000</td>\n",
       "      <td>3.952000</td>\n",
       "    </tr>\n",
       "  </tbody>\n",
       "</table>\n",
       "</div>"
      ],
      "text/plain": [
       "                开盘           收盘            高            低\n",
       "count  1563.000000  1563.000000  1563.000000  1563.000000\n",
       "mean      3.041862     3.022280     3.049060     3.010074\n",
       "std       0.419688     0.420101     0.418939     0.420670\n",
       "min       1.740000     1.740000     1.740000     1.740000\n",
       "25%       2.746000     2.712000     2.750000     2.697000\n",
       "50%       3.012000     2.993000     3.018000     2.983000\n",
       "75%       3.261000     3.234000     3.269000     3.219000\n",
       "max       4.000000     3.968000     4.000000     3.952000"
      ]
     },
     "execution_count": 3,
     "metadata": {},
     "output_type": "execute_result"
    },
    {
     "data": {
      "text/html": [
       "<div>\n",
       "<style scoped>\n",
       "    .dataframe tbody tr th:only-of-type {\n",
       "        vertical-align: middle;\n",
       "    }\n",
       "\n",
       "    .dataframe tbody tr th {\n",
       "        vertical-align: top;\n",
       "    }\n",
       "\n",
       "    .dataframe thead th {\n",
       "        text-align: right;\n",
       "    }\n",
       "</style>\n",
       "<table border=\"1\" class=\"dataframe\">\n",
       "  <thead>\n",
       "    <tr style=\"text-align: right;\">\n",
       "      <th></th>\n",
       "      <th>开盘</th>\n",
       "      <th>收盘</th>\n",
       "      <th>高</th>\n",
       "      <th>低</th>\n",
       "      <th>涨跌幅</th>\n",
       "    </tr>\n",
       "    <tr>\n",
       "      <th>日期</th>\n",
       "      <th></th>\n",
       "      <th></th>\n",
       "      <th></th>\n",
       "      <th></th>\n",
       "      <th></th>\n",
       "    </tr>\n",
       "  </thead>\n",
       "  <tbody>\n",
       "    <tr>\n",
       "      <td>2016/1/21</td>\n",
       "      <td>2.683</td>\n",
       "      <td>2.700</td>\n",
       "      <td>2.703</td>\n",
       "      <td>2.680</td>\n",
       "      <td>0.0078</td>\n",
       "    </tr>\n",
       "    <tr>\n",
       "      <td>2016/1/22</td>\n",
       "      <td>2.705</td>\n",
       "      <td>2.689</td>\n",
       "      <td>2.705</td>\n",
       "      <td>2.682</td>\n",
       "      <td>-0.0041</td>\n",
       "    </tr>\n",
       "    <tr>\n",
       "      <td>2016/1/25</td>\n",
       "      <td>2.750</td>\n",
       "      <td>2.694</td>\n",
       "      <td>2.750</td>\n",
       "      <td>2.680</td>\n",
       "      <td>0.0019</td>\n",
       "    </tr>\n",
       "    <tr>\n",
       "      <td>2016/1/26</td>\n",
       "      <td>2.703</td>\n",
       "      <td>2.738</td>\n",
       "      <td>2.740</td>\n",
       "      <td>2.690</td>\n",
       "      <td>0.0163</td>\n",
       "    </tr>\n",
       "    <tr>\n",
       "      <td>2016/1/27</td>\n",
       "      <td>2.763</td>\n",
       "      <td>2.774</td>\n",
       "      <td>2.783</td>\n",
       "      <td>2.763</td>\n",
       "      <td>0.0131</td>\n",
       "    </tr>\n",
       "  </tbody>\n",
       "</table>\n",
       "</div>"
      ],
      "text/plain": [
       "              开盘     收盘      高      低     涨跌幅\n",
       "日期                                           \n",
       "2016/1/21  2.683  2.700  2.703  2.680  0.0078\n",
       "2016/1/22  2.705  2.689  2.705  2.682 -0.0041\n",
       "2016/1/25  2.750  2.694  2.750  2.680  0.0019\n",
       "2016/1/26  2.703  2.738  2.740  2.690  0.0163\n",
       "2016/1/27  2.763  2.774  2.783  2.763  0.0131"
      ]
     },
     "execution_count": 3,
     "metadata": {},
     "output_type": "execute_result"
    }
   ],
   "source": [
    "national_debt = pd.read_csv('data/national_debt_5y.csv',index_col = 0,encoding = 'gb2312')  # 读取股票文件\n",
    "national_debt.head()\n",
    "national_debt.describe()\n",
    "\n",
    "national_debt['涨跌幅'] = national_debt['涨跌幅'].str.strip(\"%\").astype(float)/100\n",
    "national_debt.head()"
   ]
  },
  {
   "cell_type": "code",
   "execution_count": 7,
   "metadata": {},
   "outputs": [
    {
     "data": {
      "text/plain": [
       "开盘     2.6830\n",
       "收盘     2.7000\n",
       "高      2.7030\n",
       "低      2.6800\n",
       "涨跌幅    0.0078\n",
       "Name: 2016/1/21, dtype: float64"
      ]
     },
     "execution_count": 7,
     "metadata": {},
     "output_type": "execute_result"
    },
    {
     "data": {
      "text/plain": [
       "开盘     2.9660\n",
       "收盘     2.9630\n",
       "高      2.9660\n",
       "低      2.9580\n",
       "涨跌幅   -0.0007\n",
       "Name: 2019/9/27, dtype: float64"
      ]
     },
     "execution_count": 7,
     "metadata": {},
     "output_type": "execute_result"
    },
    {
     "data": {
      "text/plain": [
       "开盘     3.168\n",
       "收盘     3.105\n",
       "高      3.168\n",
       "低      3.098\n",
       "涨跌幅   -0.008\n",
       "Name: 2020/12/10, dtype: float64"
      ]
     },
     "execution_count": 7,
     "metadata": {},
     "output_type": "execute_result"
    },
    {
     "data": {
      "text/plain": [
       "开盘     2.500\n",
       "收盘     2.506\n",
       "高      2.520\n",
       "低      2.497\n",
       "涨跌幅    0.000\n",
       "Name: 2022/2/21, dtype: float64"
      ]
     },
     "execution_count": 7,
     "metadata": {},
     "output_type": "execute_result"
    }
   ],
   "source": [
    "national_debt.iloc[0,0:]\n",
    "national_debt.iloc[1563 - 600,0:]\n",
    "national_debt.iloc[1563 - 300,0:]\n",
    "national_debt.iloc[1562,0:]"
   ]
  },
  {
   "cell_type": "markdown",
   "metadata": {},
   "source": [
    "将多张图片合为一张"
   ]
  },
  {
   "cell_type": "code",
   "execution_count": 3,
   "metadata": {},
   "outputs": [],
   "source": [
    "import PIL.Image as Image\n",
    "import os\n",
    "\n",
    "IMAGES_PATH = r'img/combine/'  # 图片集来源地址\n",
    "IMAGES_FORMAT = ['.png']  # 图片格式'.jpg', '.JPG'\n",
    "IMAGE_SIZE = 1000  # 每张小图片的大小\n",
    "IMAGE_ROW = 1  # 图片间隔，也就是合并成一张图后，一共有几行\n",
    "IMAGE_COLUMN = 2  # 图片间隔，也就是合并成一张图后，一共有几列\n",
    "IMAGE_SAVE_PATH = r'img/combine/pred_combine.png'  # 图片转换后的地址\n",
    "\n",
    "# 获取图片集地址下的所有图片名称\n",
    "image_names = [name for name in os.listdir(IMAGES_PATH) for item in IMAGES_FORMAT if\n",
    "               os.path.splitext(name)[1] == item]\n",
    "\n",
    "# 简单的对于参数的设定和实际图片集的大小进行数量判断\n",
    "if len(image_names) != IMAGE_ROW * IMAGE_COLUMN:\n",
    "    raise ValueError(\"合成图片的参数和要求的数量不能匹配！\")\n",
    "\n",
    "\n",
    "# 定义图像拼接函数\n",
    "def image_compose():\n",
    "    to_image = Image.new('RGB', (IMAGE_COLUMN * IMAGE_SIZE, IMAGE_ROW * IMAGE_SIZE))  # 创建一个新图\n",
    "    # 循环遍历，把每张图片按顺序粘贴到对应位置上\n",
    "    for y in range(1, IMAGE_ROW + 1):\n",
    "        for x in range(1, IMAGE_COLUMN + 1):\n",
    "            from_image = Image.open(IMAGES_PATH + image_names[IMAGE_COLUMN * (y - 1) + x - 1]).resize(\n",
    "                (IMAGE_SIZE, IMAGE_SIZE), Image.ANTIALIAS)\n",
    "            to_image.paste(from_image, ((x - 1) * IMAGE_SIZE, (y - 1) * IMAGE_SIZE))\n",
    "    return to_image.save(IMAGE_SAVE_PATH)  # 保存新图\n",
    "\n",
    "\n",
    "image_compose()  # 调用函数这里插入代码片"
   ]
  },
  {
   "cell_type": "markdown",
   "metadata": {},
   "source": [
    "作出常见激活函数的图像"
   ]
  },
  {
   "cell_type": "code",
   "execution_count": 39,
   "metadata": {},
   "outputs": [
    {
     "data": {
      "text/plain": [
       "<matplotlib.axes._subplots.AxesSubplot at 0x29d82ac95c8>"
      ]
     },
     "execution_count": 39,
     "metadata": {},
     "output_type": "execute_result"
    },
    {
     "data": {
      "text/plain": [
       "Text(6.283185307179586, 0.1, 'x')"
      ]
     },
     "execution_count": 39,
     "metadata": {},
     "output_type": "execute_result"
    },
    {
     "data": {
      "text/plain": [
       "Text(-0.5, 1.0, 'y')"
      ]
     },
     "execution_count": 39,
     "metadata": {},
     "output_type": "execute_result"
    },
    {
     "data": {
      "text/plain": [
       "(-10, 10)"
      ]
     },
     "execution_count": 39,
     "metadata": {},
     "output_type": "execute_result"
    },
    {
     "data": {
      "text/plain": [
       "(-0.2, 1)"
      ]
     },
     "execution_count": 39,
     "metadata": {},
     "output_type": "execute_result"
    },
    {
     "data": {
      "text/plain": [
       "[<matplotlib.axis.YTick at 0x29d82bc7b48>,\n",
       " <matplotlib.axis.YTick at 0x29d82bc7108>,\n",
       " <matplotlib.axis.YTick at 0x29d82bba9c8>]"
      ]
     },
     "execution_count": 39,
     "metadata": {},
     "output_type": "execute_result"
    },
    {
     "data": {
      "text/plain": [
       "[<matplotlib.lines.Line2D at 0x29d82ad45c8>]"
      ]
     },
     "execution_count": 39,
     "metadata": {},
     "output_type": "execute_result"
    },
    {
     "data": {
      "image/png": "[encoded data removed]",
      "text/plain": [
       "<Figure size 720x360 with 1 Axes>"
      ]
     },
     "metadata": {
      "needs_background": "light"
     },
     "output_type": "display_data"
    }
   ],
   "source": [
    "import math\n",
    "import numpy as np \n",
    "import matplotlib.pyplot as plt \n",
    "import mpl_toolkits.axisartist as axisartist #导入坐标轴加工模块\n",
    "\n",
    "fig=plt.figure(figsize=(10,5)) #新建画布\n",
    "ax=axisartist.Subplot(fig,111) #使用axisartist.Subplot方法创建一个绘图区对象ax\n",
    "fig.add_axes(ax) #将绘图区对象添加到画布中\n",
    "\n",
    "ax.axis[:].set_visible(False) #隐藏原来的实线矩形\n",
    "\n",
    "ax.axis[\"x\"]=ax.new_floating_axis(0,0,axis_direction=\"bottom\") #添加x轴\n",
    "ax.axis[\"y\"]=ax.new_floating_axis(1,0,axis_direction=\"bottom\") #添加y轴\n",
    "\n",
    "ax.axis[\"x\"].set_axisline_style(\"->\",size=1.0) #给x坐标轴加箭头\n",
    "ax.axis[\"y\"].set_axisline_style(\"->\",size=1.0) #给y坐标轴加箭头\n",
    "ax.annotate(s='x' ,xy=(2*math.pi,0) ,xytext=(2*math.pi,0.1)) #标注x轴\n",
    "ax.annotate(s='y' ,xy=(0,1.0) ,xytext=(-0.5,1.0)) #标注y轴\n",
    "\n",
    "plt.xlim(-10, 10) #设置横坐标范围\n",
    "plt.ylim(-0.2, 1) #设置纵坐标范围\n",
    "# ax.set_xticks([]) #设置x轴刻度\n",
    "ax.set_yticks([0, 0.5, 1]) #设置y轴刻度\n",
    "\n",
    "# 手写 sigmoid 函数,\n",
    "# def sigmoid(x): \n",
    "#     return 1 / (1 + np.exp(-x))\n",
    "\n",
    "x = np.linspace(-10, 10, 100) \n",
    "# 直接调用tf.nn.sigmoid(x)\n",
    "plt.plot(x,tf.nn.sigmoid(x),color=\"blue\")\n",
    "plt.show() "
   ]
  },
  {
   "cell_type": "code",
   "execution_count": 40,
   "metadata": {},
   "outputs": [
    {
     "data": {
      "text/plain": [
       "<matplotlib.axes._subplots.AxesSubplot at 0x29d82a5e8c8>"
      ]
     },
     "execution_count": 40,
     "metadata": {},
     "output_type": "execute_result"
    },
    {
     "data": {
      "text/plain": [
       "Text(6.283185307179586, 0.1, 'x')"
      ]
     },
     "execution_count": 40,
     "metadata": {},
     "output_type": "execute_result"
    },
    {
     "data": {
      "text/plain": [
       "Text(-0.5, 1.0, 'y')"
      ]
     },
     "execution_count": 40,
     "metadata": {},
     "output_type": "execute_result"
    },
    {
     "data": {
      "text/plain": [
       "(-10, 10)"
      ]
     },
     "execution_count": 40,
     "metadata": {},
     "output_type": "execute_result"
    },
    {
     "data": {
      "text/plain": [
       "(-1, 1)"
      ]
     },
     "execution_count": 40,
     "metadata": {},
     "output_type": "execute_result"
    },
    {
     "data": {
      "text/plain": [
       "[<matplotlib.axis.YTick at 0x29d82c3b308>,\n",
       " <matplotlib.axis.YTick at 0x29d82c33848>,\n",
       " <matplotlib.axis.YTick at 0x29d828ec588>]"
      ]
     },
     "execution_count": 40,
     "metadata": {},
     "output_type": "execute_result"
    },
    {
     "data": {
      "text/plain": [
       "[<matplotlib.lines.Line2D at 0x29d82c22348>]"
      ]
     },
     "execution_count": 40,
     "metadata": {},
     "output_type": "execute_result"
    },
    {
     "data": {
      "image/png": "[encoded data removed]",
      "text/plain": [
       "<Figure size 720x360 with 1 Axes>"
      ]
     },
     "metadata": {
      "needs_background": "light"
     },
     "output_type": "display_data"
    }
   ],
   "source": [
    "fig=plt.figure(figsize=(10,5)) #新建画布\n",
    "ax=axisartist.Subplot(fig,111) #使用axisartist.Subplot方法创建一个绘图区对象ax\n",
    "fig.add_axes(ax) #将绘图区对象添加到画布中\n",
    "\n",
    "ax.axis[:].set_visible(False) #隐藏原来的实线矩形\n",
    "\n",
    "ax.axis[\"x\"]=ax.new_floating_axis(0,0,axis_direction=\"bottom\") #添加x轴\n",
    "ax.axis[\"y\"]=ax.new_floating_axis(1,0,axis_direction=\"bottom\") #添加y轴\n",
    "\n",
    "ax.axis[\"x\"].set_axisline_style(\"->\",size=1.0) #给x坐标轴加箭头\n",
    "ax.axis[\"y\"].set_axisline_style(\"->\",size=1.0) #给y坐标轴加箭头\n",
    "ax.annotate(s='x' ,xy=(2*math.pi,0) ,xytext=(2*math.pi,0.1)) #标注x轴\n",
    "ax.annotate(s='y' ,xy=(0,1.0) ,xytext=(-0.5,1.0)) #标注y轴\n",
    "\n",
    "plt.xlim(-10, 10) #设置横坐标范围\n",
    "plt.ylim(-1, 1) #设置纵坐标范围\n",
    "# ax.set_xticks([]) #设置x轴刻度\n",
    "ax.set_yticks([-1, 0, 1]) #设置y轴刻度\n",
    "\n",
    "\n",
    "# def tanh(x): \n",
    "#     return 2*sigmoid(2*x)-1\n",
    "\n",
    "x = np.linspace(-10, 10, 100) \n",
    "\n",
    "plt.plot(x,tf.nn.tanh(x),color=\"blue\")\n",
    "plt.show() "
   ]
  },
  {
   "cell_type": "code",
   "execution_count": 42,
   "metadata": {},
   "outputs": [
    {
     "data": {
      "text/plain": [
       "<matplotlib.axes._subplots.AxesSubplot at 0x29d82c22bc8>"
      ]
     },
     "execution_count": 42,
     "metadata": {},
     "output_type": "execute_result"
    },
    {
     "data": {
      "text/plain": [
       "Text(6.283185307179586, 0.1, 'x')"
      ]
     },
     "execution_count": 42,
     "metadata": {},
     "output_type": "execute_result"
    },
    {
     "data": {
      "text/plain": [
       "Text(-0.5, 1.0, 'y')"
      ]
     },
     "execution_count": 42,
     "metadata": {},
     "output_type": "execute_result"
    },
    {
     "data": {
      "text/plain": [
       "(-10, 10)"
      ]
     },
     "execution_count": 42,
     "metadata": {},
     "output_type": "execute_result"
    },
    {
     "data": {
      "text/plain": [
       "(-5, 10)"
      ]
     },
     "execution_count": 42,
     "metadata": {},
     "output_type": "execute_result"
    },
    {
     "data": {
      "text/plain": [
       "[<matplotlib.lines.Line2D at 0x29d82ce2f48>]"
      ]
     },
     "execution_count": 42,
     "metadata": {},
     "output_type": "execute_result"
    },
    {
     "data": {
      "image/png": "[encoded data removed]",
      "text/plain": [
       "<Figure size 720x360 with 1 Axes>"
      ]
     },
     "metadata": {
      "needs_background": "light"
     },
     "output_type": "display_data"
    }
   ],
   "source": [
    "fig=plt.figure(figsize=(10,5)) #新建画布\n",
    "ax=axisartist.Subplot(fig,111) #使用axisartist.Subplot方法创建一个绘图区对象ax\n",
    "fig.add_axes(ax) #将绘图区对象添加到画布中\n",
    "\n",
    "ax.axis[:].set_visible(False) #隐藏原来的实线矩形\n",
    "\n",
    "ax.axis[\"x\"]=ax.new_floating_axis(0,0,axis_direction=\"bottom\") #添加x轴\n",
    "ax.axis[\"y\"]=ax.new_floating_axis(1,0,axis_direction=\"bottom\") #添加y轴\n",
    "\n",
    "ax.axis[\"x\"].set_axisline_style(\"->\",size=1.0) #给x坐标轴加箭头\n",
    "ax.axis[\"y\"].set_axisline_style(\"->\",size=1.0) #给y坐标轴加箭头\n",
    "ax.annotate(s='x' ,xy=(2*math.pi,0) ,xytext=(2*math.pi,0.1)) #标注x轴\n",
    "ax.annotate(s='y' ,xy=(0,1.0) ,xytext=(-0.5,1.0)) #标注y轴\n",
    "\n",
    "plt.xlim(-10, 10) #设置横坐标范围\n",
    "plt.ylim(-5, 10) #设置纵坐标范围\n",
    "# ax.set_xticks([]) #设置x轴刻度\n",
    "#ax.set_yticks([-1, 0, 1]) #设置y轴刻度\n",
    "\n",
    "def relu(x): \n",
    "    return np.where(x >= 0, x, 0)\n",
    "\n",
    "x = np.linspace(-10, 10, 100) \n",
    "\n",
    "plt.plot(x,relu(x),color=\"blue\")\n",
    "plt.show() "
   ]
  },
  {
   "cell_type": "code",
   "execution_count": null,
   "metadata": {},
   "outputs": [],
   "source": []
  }
 ],
 "metadata": {
  "kernelspec": {
   "display_name": "Python 3",
   "language": "python",
   "name": "python3"
  },
  "language_info": {
   "codemirror_mode": {
    "name": "ipython",
    "version": 3
   },
   "file_extension": ".py",
   "mimetype": "text/x-python",
   "name": "python",
   "nbconvert_exporter": "python",
   "pygments_lexer": "ipython3",
   "version": "3.7.4"
  }
 },
 "nbformat": 4,
 "nbformat_minor": 2
}
