{
 "cells": [
  {
   "cell_type": "code",
   "execution_count": 11,
   "metadata": {},
   "outputs": [],
   "source": [
    "from IPython.core.interactiveshell import InteractiveShell  #执行该代码可以使得当前nb支持多输出\n",
    "InteractiveShell.ast_node_interactivity = \"all\" \n",
    "import numpy as np\n",
    "from datetime import datetime\n",
    "import pandas as pd \n",
    "import matplotlib.pyplot as plt\n",
    "plt.rcParams['font.sans-serif'] = ['SimHei']\n",
    "plt.rcParams['axes.unicode_minus'] = False \n",
    "from mpl_toolkits.mplot3d import Axes3D\n",
    "\n",
    "import tensorflow as tf\n",
    "from tensorflow.keras.layers import Dropout, Dense, LSTM\n",
    "import os\n",
    "from sklearn.preprocessing import MinMaxScaler\n",
    "from sklearn.metrics import mean_squared_error, mean_absolute_error\n",
    "import math\n",
    "\n",
    "pd.options.display.max_rows = 8  \n",
    "%matplotlib inline"
   ]
  },
  {
   "cell_type": "markdown",
   "metadata": {},
   "source": [
    "读取数据"
   ]
  },
  {
   "cell_type": "code",
   "execution_count": 12,
   "metadata": {
    "scrolled": true
   },
   "outputs": [
    {
     "data": {
      "text/html": [
       "<div>\n",
       "<style scoped>\n",
       "    .dataframe tbody tr th:only-of-type {\n",
       "        vertical-align: middle;\n",
       "    }\n",
       "\n",
       "    .dataframe tbody tr th {\n",
       "        vertical-align: top;\n",
       "    }\n",
       "\n",
       "    .dataframe thead th {\n",
       "        text-align: right;\n",
       "    }\n",
       "</style>\n",
       "<table border=\"1\" class=\"dataframe\">\n",
       "  <thead>\n",
       "    <tr style=\"text-align: right;\">\n",
       "      <th></th>\n",
       "      <th>开盘</th>\n",
       "      <th>收盘</th>\n",
       "      <th>高</th>\n",
       "      <th>低</th>\n",
       "      <th>涨跌幅</th>\n",
       "    </tr>\n",
       "    <tr>\n",
       "      <th>日期</th>\n",
       "      <th></th>\n",
       "      <th></th>\n",
       "      <th></th>\n",
       "      <th></th>\n",
       "      <th></th>\n",
       "    </tr>\n",
       "  </thead>\n",
       "  <tbody>\n",
       "    <tr>\n",
       "      <td>2016/1/21</td>\n",
       "      <td>2.683</td>\n",
       "      <td>2.700</td>\n",
       "      <td>2.703</td>\n",
       "      <td>2.680</td>\n",
       "      <td>0.0078</td>\n",
       "    </tr>\n",
       "    <tr>\n",
       "      <td>2016/1/22</td>\n",
       "      <td>2.705</td>\n",
       "      <td>2.689</td>\n",
       "      <td>2.705</td>\n",
       "      <td>2.682</td>\n",
       "      <td>-0.0041</td>\n",
       "    </tr>\n",
       "    <tr>\n",
       "      <td>2016/1/25</td>\n",
       "      <td>2.750</td>\n",
       "      <td>2.694</td>\n",
       "      <td>2.750</td>\n",
       "      <td>2.680</td>\n",
       "      <td>0.0019</td>\n",
       "    </tr>\n",
       "    <tr>\n",
       "      <td>2016/1/26</td>\n",
       "      <td>2.703</td>\n",
       "      <td>2.738</td>\n",
       "      <td>2.740</td>\n",
       "      <td>2.690</td>\n",
       "      <td>0.0163</td>\n",
       "    </tr>\n",
       "    <tr>\n",
       "      <td>2016/1/27</td>\n",
       "      <td>2.763</td>\n",
       "      <td>2.774</td>\n",
       "      <td>2.783</td>\n",
       "      <td>2.763</td>\n",
       "      <td>0.0131</td>\n",
       "    </tr>\n",
       "  </tbody>\n",
       "</table>\n",
       "</div>"
      ],
      "text/plain": [
       "              开盘     收盘      高      低     涨跌幅\n",
       "日期                                           \n",
       "2016/1/21  2.683  2.700  2.703  2.680  0.0078\n",
       "2016/1/22  2.705  2.689  2.705  2.682 -0.0041\n",
       "2016/1/25  2.750  2.694  2.750  2.680  0.0019\n",
       "2016/1/26  2.703  2.738  2.740  2.690  0.0163\n",
       "2016/1/27  2.763  2.774  2.783  2.763  0.0131"
      ]
     },
     "execution_count": 12,
     "metadata": {},
     "output_type": "execute_result"
    },
    {
     "data": {
      "text/html": [
       "<div>\n",
       "<style scoped>\n",
       "    .dataframe tbody tr th:only-of-type {\n",
       "        vertical-align: middle;\n",
       "    }\n",
       "\n",
       "    .dataframe tbody tr th {\n",
       "        vertical-align: top;\n",
       "    }\n",
       "\n",
       "    .dataframe thead th {\n",
       "        text-align: right;\n",
       "    }\n",
       "</style>\n",
       "<table border=\"1\" class=\"dataframe\">\n",
       "  <thead>\n",
       "    <tr style=\"text-align: right;\">\n",
       "      <th></th>\n",
       "      <th>开盘</th>\n",
       "      <th>收盘</th>\n",
       "      <th>高</th>\n",
       "      <th>低</th>\n",
       "      <th>涨跌幅</th>\n",
       "    </tr>\n",
       "  </thead>\n",
       "  <tbody>\n",
       "    <tr>\n",
       "      <td>count</td>\n",
       "      <td>1563.000000</td>\n",
       "      <td>1563.000000</td>\n",
       "      <td>1563.000000</td>\n",
       "      <td>1563.000000</td>\n",
       "      <td>1.563000e+03</td>\n",
       "    </tr>\n",
       "    <tr>\n",
       "      <td>mean</td>\n",
       "      <td>3.041862</td>\n",
       "      <td>3.022280</td>\n",
       "      <td>3.049060</td>\n",
       "      <td>3.010074</td>\n",
       "      <td>4.478567e-07</td>\n",
       "    </tr>\n",
       "    <tr>\n",
       "      <td>std</td>\n",
       "      <td>0.419688</td>\n",
       "      <td>0.420101</td>\n",
       "      <td>0.418939</td>\n",
       "      <td>0.420670</td>\n",
       "      <td>9.475657e-03</td>\n",
       "    </tr>\n",
       "    <tr>\n",
       "      <td>min</td>\n",
       "      <td>1.740000</td>\n",
       "      <td>1.740000</td>\n",
       "      <td>1.740000</td>\n",
       "      <td>1.740000</td>\n",
       "      <td>-5.850000e-02</td>\n",
       "    </tr>\n",
       "    <tr>\n",
       "      <td>25%</td>\n",
       "      <td>2.746000</td>\n",
       "      <td>2.712000</td>\n",
       "      <td>2.750000</td>\n",
       "      <td>2.697000</td>\n",
       "      <td>-4.350000e-03</td>\n",
       "    </tr>\n",
       "    <tr>\n",
       "      <td>50%</td>\n",
       "      <td>3.012000</td>\n",
       "      <td>2.993000</td>\n",
       "      <td>3.018000</td>\n",
       "      <td>2.983000</td>\n",
       "      <td>0.000000e+00</td>\n",
       "    </tr>\n",
       "    <tr>\n",
       "      <td>75%</td>\n",
       "      <td>3.261000</td>\n",
       "      <td>3.234000</td>\n",
       "      <td>3.269000</td>\n",
       "      <td>3.219000</td>\n",
       "      <td>4.300000e-03</td>\n",
       "    </tr>\n",
       "    <tr>\n",
       "      <td>max</td>\n",
       "      <td>4.000000</td>\n",
       "      <td>3.968000</td>\n",
       "      <td>4.000000</td>\n",
       "      <td>3.952000</td>\n",
       "      <td>6.070000e-02</td>\n",
       "    </tr>\n",
       "  </tbody>\n",
       "</table>\n",
       "</div>"
      ],
      "text/plain": [
       "                开盘           收盘            高            低           涨跌幅\n",
       "count  1563.000000  1563.000000  1563.000000  1563.000000  1.563000e+03\n",
       "mean      3.041862     3.022280     3.049060     3.010074  4.478567e-07\n",
       "std       0.419688     0.420101     0.418939     0.420670  9.475657e-03\n",
       "min       1.740000     1.740000     1.740000     1.740000 -5.850000e-02\n",
       "25%       2.746000     2.712000     2.750000     2.697000 -4.350000e-03\n",
       "50%       3.012000     2.993000     3.018000     2.983000  0.000000e+00\n",
       "75%       3.261000     3.234000     3.269000     3.219000  4.300000e-03\n",
       "max       4.000000     3.968000     4.000000     3.952000  6.070000e-02"
      ]
     },
     "execution_count": 12,
     "metadata": {},
     "output_type": "execute_result"
    }
   ],
   "source": [
    "national_debt = pd.read_csv('data/national_debt_5y.csv',header=0,index_col = 0,encoding = 'gb2312')  # 读取股票文件\n",
    "national_debt['涨跌幅'] = national_debt['涨跌幅'].str.strip(\"%\").astype(float)/100\n",
    "national_debt.head()\n",
    "national_debt.describe()"
   ]
  },
  {
   "cell_type": "markdown",
   "metadata": {},
   "source": [
    "开盘价原始数据可视化"
   ]
  },
  {
   "cell_type": "code",
   "execution_count": 13,
   "metadata": {},
   "outputs": [
    {
     "data": {
      "text/plain": [
       "<Figure size 432x288 with 0 Axes>"
      ]
     },
     "metadata": {},
     "output_type": "display_data"
    },
    {
     "data": {
      "image/png": "[encoded data removed]",
      "text/plain": [
       "<Figure size 432x288 with 1 Axes>"
      ]
     },
     "metadata": {
      "needs_background": "light"
     },
     "output_type": "display_data"
    }
   ],
   "source": [
    "def draw_ts(timeSeries):\n",
    "    f = plt.figure(facecolor='white')\n",
    "    timeSeries.plot(color='blue')\n",
    "    plt.show()\n",
    "    \n",
    "draw_ts(pd.DataFrame(national_debt['开盘']))"
   ]
  },
  {
   "cell_type": "markdown",
   "metadata": {},
   "source": [
    "数据预处理"
   ]
  },
  {
   "cell_type": "code",
   "execution_count": 14,
   "metadata": {},
   "outputs": [
    {
     "data": {
      "text/plain": [
       "array([[0.41725664, 0.43087971, 0.42610619, 0.42495479, 0.55620805],\n",
       "       [0.42699115, 0.42594255, 0.42699115, 0.42585895, 0.45637584],\n",
       "       [0.44690265, 0.42818671, 0.44690265, 0.42495479, 0.50671141],\n",
       "       ...,\n",
       "       [0.63716814, 0.62926391, 0.63716814, 0.62748644, 0.50922819],\n",
       "       [0.6300885 , 0.61804309, 0.6300885 , 0.61754069, 0.42365772],\n",
       "       [0.62035398, 0.62387792, 0.62035398, 0.61618445, 0.52600671]])"
      ]
     },
     "execution_count": 14,
     "metadata": {},
     "output_type": "execute_result"
    }
   ],
   "source": [
    "# 前(1563-200=1363)天的开盘价作为训练集,表格从0开始计数，,0:1 是提取[0:1)列，前闭后开\n",
    "training_set = national_debt.iloc[0:1563 - 300,0:].values  \n",
    "# 后200天的开盘价作为测试集\n",
    "test_set = national_debt.iloc[1563 - 300:1563, 0:].values  \n",
    "\n",
    "\n",
    "# 归一化\n",
    "sc = MinMaxScaler(feature_range=(0, 1))  # 定义归一化：归一化到(0，1)之间\n",
    "training_set_scaled = sc.fit_transform(training_set)  # 求得训练集的最大值，最小值这些训练集固有的属性，并在训练集上进行归一化\n",
    "training_set_scaled\n",
    "test_set = sc.transform(test_set)  # 利用训练集的属性对测试集进行归一化\n",
    "\n",
    "#对开盘价数据进行归一化，方便后续可视化展示\n",
    "sc_for_visual = MinMaxScaler(feature_range=(0, 1))  \n",
    "y_test_for_visual_scaled = sc_for_visual.fit_transform(national_debt.iloc[0:1563 - 300, 0:1].values ) \n",
    "y_test_for_visual = sc_for_visual.transform(national_debt.iloc[1563 - 300:1563, 0:1].values )"
   ]
  },
  {
   "cell_type": "markdown",
   "metadata": {},
   "source": [
    "得到训练集和测试集的数据"
   ]
  },
  {
   "cell_type": "code",
   "execution_count": 40,
   "metadata": {
    "scrolled": true
   },
   "outputs": [
    {
     "name": "stdout",
     "output_type": "stream",
     "text": [
      "[[[[0.43087971]\n",
      "   [0.42610619]\n",
      "   [0.42495479]\n",
      "   [0.55620805]]\n",
      "\n",
      "  [[0.42594255]\n",
      "   [0.42699115]\n",
      "   [0.42585895]\n",
      "   [0.45637584]]\n",
      "\n",
      "  [[0.42818671]\n",
      "   [0.44690265]\n",
      "   [0.42495479]\n",
      "   [0.50671141]]\n",
      "\n",
      "  ...\n",
      "\n",
      "  [[0.40888689]\n",
      "   [0.40309735]\n",
      "   [0.39466546]\n",
      "   [0.64177852]]\n",
      "\n",
      "  [[0.41876122]\n",
      "   [0.42389381]\n",
      "   [0.40596745]\n",
      "   [0.56040268]]\n",
      "\n",
      "  [[0.42728905]\n",
      "   [0.42477876]\n",
      "   [0.42495479]\n",
      "   [0.55033557]]]\n",
      "\n",
      "\n",
      " [[[0.42594255]\n",
      "   [0.42699115]\n",
      "   [0.42585895]\n",
      "   [0.45637584]]\n",
      "\n",
      "  [[0.42818671]\n",
      "   [0.44690265]\n",
      "   [0.42495479]\n",
      "   [0.50671141]]\n",
      "\n",
      "  [[0.44793537]\n",
      "   [0.44247788]\n",
      "   [0.42947559]\n",
      "   [0.62751678]]\n",
      "\n",
      "  ...\n",
      "\n",
      "  [[0.41876122]\n",
      "   [0.42389381]\n",
      "   [0.40596745]\n",
      "   [0.56040268]]\n",
      "\n",
      "  [[0.42728905]\n",
      "   [0.42477876]\n",
      "   [0.42495479]\n",
      "   [0.55033557]]\n",
      "\n",
      "  [[0.42055655]\n",
      "   [0.42477876]\n",
      "   [0.42359855]\n",
      "   [0.44379195]]]\n",
      "\n",
      "\n",
      " [[[0.42818671]\n",
      "   [0.44690265]\n",
      "   [0.42495479]\n",
      "   [0.50671141]]\n",
      "\n",
      "  [[0.44793537]\n",
      "   [0.44247788]\n",
      "   [0.42947559]\n",
      "   [0.62751678]]\n",
      "\n",
      "  [[0.46409336]\n",
      "   [0.46150442]\n",
      "   [0.4624774 ]\n",
      "   [0.60067114]]\n",
      "\n",
      "  ...\n",
      "\n",
      "  [[0.42728905]\n",
      "   [0.42477876]\n",
      "   [0.42495479]\n",
      "   [0.55033557]]\n",
      "\n",
      "  [[0.42055655]\n",
      "   [0.42477876]\n",
      "   [0.42359855]\n",
      "   [0.44379195]]\n",
      "\n",
      "  [[0.42055655]\n",
      "   [0.42345133]\n",
      "   [0.42359855]\n",
      "   [0.49077181]]]\n",
      "\n",
      "\n",
      " ...\n",
      "\n",
      "\n",
      " [[[0.61175943]\n",
      "   [0.62831858]\n",
      "   [0.61437613]\n",
      "   [0.45050336]]\n",
      "\n",
      "  [[0.58797127]\n",
      "   [0.60929204]\n",
      "   [0.58996383]\n",
      "   [0.34731544]]\n",
      "\n",
      "  [[0.57450628]\n",
      "   [0.58097345]\n",
      "   [0.5664557 ]\n",
      "   [0.40855705]]\n",
      "\n",
      "  ...\n",
      "\n",
      "  [[0.62387792]\n",
      "   [0.6159292 ]\n",
      "   [0.61392405]\n",
      "   [0.58305369]]\n",
      "\n",
      "  [[0.62926391]\n",
      "   [0.62522124]\n",
      "   [0.62206148]\n",
      "   [0.52265101]]\n",
      "\n",
      "  [[0.62612208]\n",
      "   [0.63053097]\n",
      "   [0.62296564]\n",
      "   [0.47231544]]]\n",
      "\n",
      "\n",
      " [[[0.58797127]\n",
      "   [0.60929204]\n",
      "   [0.58996383]\n",
      "   [0.34731544]]\n",
      "\n",
      "  [[0.57450628]\n",
      "   [0.58097345]\n",
      "   [0.5664557 ]\n",
      "   [0.40855705]]\n",
      "\n",
      "  [[0.57540395]\n",
      "   [0.57964602]\n",
      "   [0.56871609]\n",
      "   [0.4966443 ]]\n",
      "\n",
      "  ...\n",
      "\n",
      "  [[0.62926391]\n",
      "   [0.62522124]\n",
      "   [0.62206148]\n",
      "   [0.52265101]]\n",
      "\n",
      "  [[0.62612208]\n",
      "   [0.63053097]\n",
      "   [0.62296564]\n",
      "   [0.47231544]]\n",
      "\n",
      "  [[0.62926391]\n",
      "   [0.63716814]\n",
      "   [0.62748644]\n",
      "   [0.50922819]]]\n",
      "\n",
      "\n",
      " [[[0.57450628]\n",
      "   [0.58097345]\n",
      "   [0.5664557 ]\n",
      "   [0.40855705]]\n",
      "\n",
      "  [[0.57540395]\n",
      "   [0.57964602]\n",
      "   [0.56871609]\n",
      "   [0.4966443 ]]\n",
      "\n",
      "  [[0.58662478]\n",
      "   [0.59955752]\n",
      "   [0.58996383]\n",
      "   [0.56040268]]\n",
      "\n",
      "  ...\n",
      "\n",
      "  [[0.62612208]\n",
      "   [0.63053097]\n",
      "   [0.62296564]\n",
      "   [0.47231544]]\n",
      "\n",
      "  [[0.62926391]\n",
      "   [0.63716814]\n",
      "   [0.62748644]\n",
      "   [0.50922819]]\n",
      "\n",
      "  [[0.61804309]\n",
      "   [0.6300885 ]\n",
      "   [0.61754069]\n",
      "   [0.42365772]]]]\n"
     ]
    }
   ],
   "source": [
    "x_train = []\n",
    "y_train = []\n",
    "\n",
    "x_test = []\n",
    "y_test = []\n",
    "\n",
    "# 利用for循环，遍历整个训练集，提取训练集中连续60天的开盘价作为输入特征x_train，第61天的数据作为标签\n",
    "for i in range(60, len(training_set_scaled)):\n",
    "    x_train.append(training_set_scaled[i - 60:i, 1:]) \n",
    "    y_train.append(training_set_scaled[i, 0])\n",
    "\n",
    "\n",
    "# 将训练集由list格式变为array格式\n",
    "x_train, y_train = np.array(x_train), np.array(y_train)\n",
    "x_train = np.reshape(x_train, (x_train.shape[0], 60,4,1))\n",
    "print(x_train)\n",
    "\n",
    "\n",
    "# 测试集：csv表格中后200天数据\n",
    "# 利用for循环，遍历整个测试集，提取测试集中连续60天的开盘价作为输入特征x_train，\n",
    "# 第61天的数据作为标签，for循环共构建200-60=140组数据。\n",
    "for i in range(60, len(test_set)):\n",
    "    x_test.append(test_set[i - 60:i,1:])\n",
    "    y_test.append(test_set[i, 0])\n",
    "    \n",
    "# 给数据增加一个维度，使数据和网络结构匹配\n",
    "x_test, y_test = np.array(x_test), np.array(y_test)\n",
    "x_test = np.reshape(x_test, (x_test.shape[0], 60,4,1))\n"
   ]
  },
  {
   "cell_type": "markdown",
   "metadata": {},
   "source": [
    "训练模型"
   ]
  },
  {
   "cell_type": "code",
   "execution_count": 50,
   "metadata": {
    "scrolled": true
   },
   "outputs": [
    {
     "name": "stdout",
     "output_type": "stream",
     "text": [
      "Epoch 1/50\n",
      "38/38 [==============================] - 1s 36ms/step - loss: 3.3817 - val_loss: 0.2082\n",
      "Epoch 2/50\n",
      "38/38 [==============================] - 1s 35ms/step - loss: 0.1973 - val_loss: 0.1849\n",
      "Epoch 3/50\n",
      "38/38 [==============================] - 2s 65ms/step - loss: 0.1073 - val_loss: 0.1546\n",
      "Epoch 4/50\n",
      "38/38 [==============================] - 2s 42ms/step - loss: 0.0913 - val_loss: 0.1245\n",
      "Epoch 5/50\n",
      "38/38 [==============================] - 2s 47ms/step - loss: 0.0854 - val_loss: 0.0933\n",
      "Epoch 6/50\n",
      "38/38 [==============================] - 1s 34ms/step - loss: 0.0692 - val_loss: 0.0701\n",
      "Epoch 7/50\n",
      "38/38 [==============================] - 2s 53ms/step - loss: 0.0607 - val_loss: 0.0463\n",
      "Epoch 8/50\n",
      "38/38 [==============================] - 2s 54ms/step - loss: 0.0494 - val_loss: 0.0298\n",
      "Epoch 9/50\n",
      "38/38 [==============================] - 2s 55ms/step - loss: 0.0482 - val_loss: 0.0168\n",
      "Epoch 10/50\n",
      "38/38 [==============================] - 3s 77ms/step - loss: 0.0378 - val_loss: 0.0089\n",
      "Epoch 11/50\n",
      "38/38 [==============================] - 2s 57ms/step - loss: 0.0357 - val_loss: 0.0057\n",
      "Epoch 12/50\n",
      "38/38 [==============================] - 2s 65ms/step - loss: 0.0335 - val_loss: 0.0049\n",
      "Epoch 13/50\n",
      "38/38 [==============================] - 2s 57ms/step - loss: 0.0281 - val_loss: 0.0051\n",
      "Epoch 14/50\n",
      "38/38 [==============================] - 2s 53ms/step - loss: 0.0267 - val_loss: 0.0049\n",
      "Epoch 15/50\n",
      "38/38 [==============================] - 2s 53ms/step - loss: 0.0254 - val_loss: 0.0037\n",
      "Epoch 16/50\n",
      "38/38 [==============================] - 2s 59ms/step - loss: 0.0226 - val_loss: 0.0027\n",
      "Epoch 17/50\n",
      "38/38 [==============================] - 3s 70ms/step - loss: 0.0220 - val_loss: 0.0023\n",
      "Epoch 18/50\n",
      "38/38 [==============================] - 2s 43ms/step - loss: 0.0202 - val_loss: 0.0055\n",
      "Epoch 19/50\n",
      "38/38 [==============================] - 2s 45ms/step - loss: 0.0205 - val_loss: 0.0035\n",
      "Epoch 20/50\n",
      "38/38 [==============================] - 2s 41ms/step - loss: 0.0205 - val_loss: 0.0024\n",
      "Epoch 21/50\n",
      "38/38 [==============================] - 1s 38ms/step - loss: 0.0204 - val_loss: 0.0044\n",
      "Epoch 22/50\n",
      "38/38 [==============================] - 1s 21ms/step - loss: 0.0200 - val_loss: 0.0081\n",
      "Epoch 23/50\n",
      "38/38 [==============================] - 1s 20ms/step - loss: 0.0192 - val_loss: 0.0043\n",
      "Epoch 24/50\n",
      "38/38 [==============================] - 1s 21ms/step - loss: 0.0202 - val_loss: 0.0032\n",
      "Epoch 25/50\n",
      "38/38 [==============================] - 1s 29ms/step - loss: 0.0196 - val_loss: 0.0042\n",
      "Epoch 26/50\n",
      "38/38 [==============================] - 2s 43ms/step - loss: 0.0184 - val_loss: 0.0041\n",
      "Epoch 27/50\n",
      "38/38 [==============================] - 2s 42ms/step - loss: 0.0188 - val_loss: 0.0027\n",
      "Epoch 28/50\n",
      "38/38 [==============================] - 2s 42ms/step - loss: 0.0184 - val_loss: 0.0032\n",
      "Epoch 29/50\n",
      "38/38 [==============================] - 2s 40ms/step - loss: 0.0171 - val_loss: 0.0045\n",
      "Epoch 30/50\n",
      "38/38 [==============================] - 2s 41ms/step - loss: 0.0171 - val_loss: 0.0033\n",
      "Epoch 31/50\n",
      "38/38 [==============================] - 2s 40ms/step - loss: 0.0167 - val_loss: 0.0039\n",
      "Epoch 32/50\n",
      "38/38 [==============================] - 2s 42ms/step - loss: 0.0188 - val_loss: 0.0043\n",
      "Epoch 33/50\n",
      "38/38 [==============================] - 3s 67ms/step - loss: 0.0169 - val_loss: 0.0013\n",
      "Epoch 34/50\n",
      "38/38 [==============================] - 1s 20ms/step - loss: 0.0166 - val_loss: 0.0016\n",
      "Epoch 35/50\n",
      "38/38 [==============================] - 1s 21ms/step - loss: 0.0161 - val_loss: 0.0044\n",
      "Epoch 36/50\n",
      "38/38 [==============================] - 1s 21ms/step - loss: 0.0163 - val_loss: 0.0021\n",
      "Epoch 37/50\n",
      "38/38 [==============================] - 1s 21ms/step - loss: 0.0155 - val_loss: 0.0016\n",
      "Epoch 38/50\n",
      "38/38 [==============================] - 1s 28ms/step - loss: 0.0162 - val_loss: 0.0058\n",
      "Epoch 39/50\n",
      "38/38 [==============================] - 2s 42ms/step - loss: 0.0164 - val_loss: 0.0047\n",
      "Epoch 40/50\n",
      "38/38 [==============================] - 2s 40ms/step - loss: 0.0163 - val_loss: 0.0015\n",
      "Epoch 41/50\n",
      "38/38 [==============================] - 2s 41ms/step - loss: 0.0165 - val_loss: 0.0017\n",
      "Epoch 42/50\n",
      "38/38 [==============================] - 2s 41ms/step - loss: 0.0156 - val_loss: 0.0076\n",
      "Epoch 43/50\n",
      "38/38 [==============================] - 2s 40ms/step - loss: 0.0155 - val_loss: 0.0036\n",
      "Epoch 44/50\n",
      "38/38 [==============================] - 2s 42ms/step - loss: 0.0152 - val_loss: 0.0033\n",
      "Epoch 45/50\n",
      "38/38 [==============================] - 2s 40ms/step - loss: 0.0144 - val_loss: 0.0053\n",
      "Epoch 46/50\n",
      "38/38 [==============================] - 2s 48ms/step - loss: 0.0142 - val_loss: 0.0012\n",
      "Epoch 47/50\n",
      "38/38 [==============================] - 2s 40ms/step - loss: 0.0152 - val_loss: 0.0038\n",
      "Epoch 48/50\n",
      "38/38 [==============================] - 2s 40ms/step - loss: 0.0147 - val_loss: 0.0050\n",
      "Epoch 49/50\n",
      "38/38 [==============================] - 2s 40ms/step - loss: 0.0151 - val_loss: 0.0039\n",
      "Epoch 50/50\n",
      "38/38 [==============================] - 2s 41ms/step - loss: 0.0135 - val_loss: 0.0018\n",
      "Model: \"sequential_16\"\n",
      "_________________________________________________________________\n",
      "Layer (type)                 Output Shape              Param #   \n",
      "=================================================================\n",
      "conv2d_16 (Conv2D)           (None, 60, 4, 64)         640       \n",
      "_________________________________________________________________\n",
      "batch_normalization_20 (Batc (None, 60, 4, 64)         256       \n",
      "_________________________________________________________________\n",
      "activation_20 (Activation)   (None, 60, 4, 64)         0         \n",
      "_________________________________________________________________\n",
      "max_pooling2d_15 (MaxPooling (None, 30, 2, 64)         0         \n",
      "_________________________________________________________________\n",
      "conv2d_17 (Conv2D)           (None, 30, 2, 64)         36928     \n",
      "_________________________________________________________________\n",
      "batch_normalization_21 (Batc (None, 30, 2, 64)         256       \n",
      "_________________________________________________________________\n",
      "activation_21 (Activation)   (None, 30, 2, 64)         0         \n",
      "_________________________________________________________________\n",
      "max_pooling2d_16 (MaxPooling (None, 15, 1, 64)         0         \n",
      "_________________________________________________________________\n",
      "dropout_25 (Dropout)         (None, 15, 1, 64)         0         \n",
      "_________________________________________________________________\n",
      "flatten_7 (Flatten)          (None, 960)               0         \n",
      "_________________________________________________________________\n",
      "dense_32 (Dense)             (None, 128)               123008    \n",
      "_________________________________________________________________\n",
      "dropout_26 (Dropout)         (None, 128)               0         \n",
      "_________________________________________________________________\n",
      "dense_33 (Dense)             (None, 60)                7740      \n",
      "_________________________________________________________________\n",
      "dropout_27 (Dropout)         (None, 60)                0         \n",
      "_________________________________________________________________\n",
      "dense_34 (Dense)             (None, 1)                 61        \n",
      "=================================================================\n",
      "Total params: 168,889\n",
      "Trainable params: 168,633\n",
      "Non-trainable params: 256\n",
      "_________________________________________________________________\n"
     ]
    },
    {
     "data": {
      "text/plain": [
       "19"
      ]
     },
     "execution_count": 50,
     "metadata": {},
     "output_type": "execute_result"
    },
    {
     "data": {
      "text/plain": [
       "14"
      ]
     },
     "execution_count": 50,
     "metadata": {},
     "output_type": "execute_result"
    },
    {
     "data": {
      "text/plain": [
       "7405"
      ]
     },
     "execution_count": 50,
     "metadata": {},
     "output_type": "execute_result"
    },
    {
     "data": {
      "text/plain": [
       "17"
      ]
     },
     "execution_count": 50,
     "metadata": {},
     "output_type": "execute_result"
    },
    {
     "data": {
      "text/plain": [
       "6"
      ]
     },
     "execution_count": 50,
     "metadata": {},
     "output_type": "execute_result"
    },
    {
     "data": {
      "text/plain": [
       "1041"
      ]
     },
     "execution_count": 50,
     "metadata": {},
     "output_type": "execute_result"
    },
    {
     "data": {
      "text/plain": [
       "31"
      ]
     },
     "execution_count": 50,
     "metadata": {},
     "output_type": "execute_result"
    },
    {
     "data": {
      "text/plain": [
       "6"
      ]
     },
     "execution_count": 50,
     "metadata": {},
     "output_type": "execute_result"
    },
    {
     "data": {
      "text/plain": [
       "707"
      ]
     },
     "execution_count": 50,
     "metadata": {},
     "output_type": "execute_result"
    },
    {
     "data": {
      "text/plain": [
       "30"
      ]
     },
     "execution_count": 50,
     "metadata": {},
     "output_type": "execute_result"
    },
    {
     "data": {
      "text/plain": [
       "6"
      ]
     },
     "execution_count": 50,
     "metadata": {},
     "output_type": "execute_result"
    },
    {
     "data": {
      "text/plain": [
       "777"
      ]
     },
     "execution_count": 50,
     "metadata": {},
     "output_type": "execute_result"
    },
    {
     "data": {
      "text/plain": [
       "19"
      ]
     },
     "execution_count": 50,
     "metadata": {},
     "output_type": "execute_result"
    },
    {
     "data": {
      "text/plain": [
       "15"
      ]
     },
     "execution_count": 50,
     "metadata": {},
     "output_type": "execute_result"
    },
    {
     "data": {
      "text/plain": [
       "4675"
      ]
     },
     "execution_count": 50,
     "metadata": {},
     "output_type": "execute_result"
    },
    {
     "data": {
      "text/plain": [
       "17"
      ]
     },
     "execution_count": 50,
     "metadata": {},
     "output_type": "execute_result"
    },
    {
     "data": {
      "text/plain": [
       "6"
      ]
     },
     "execution_count": 50,
     "metadata": {},
     "output_type": "execute_result"
    },
    {
     "data": {
      "text/plain": [
       "779"
      ]
     },
     "execution_count": 50,
     "metadata": {},
     "output_type": "execute_result"
    },
    {
     "data": {
      "text/plain": [
       "31"
      ]
     },
     "execution_count": 50,
     "metadata": {},
     "output_type": "execute_result"
    },
    {
     "data": {
      "text/plain": [
       "6"
      ]
     },
     "execution_count": 50,
     "metadata": {},
     "output_type": "execute_result"
    },
    {
     "data": {
      "text/plain": [
       "713"
      ]
     },
     "execution_count": 50,
     "metadata": {},
     "output_type": "execute_result"
    },
    {
     "data": {
      "text/plain": [
       "30"
      ]
     },
     "execution_count": 50,
     "metadata": {},
     "output_type": "execute_result"
    },
    {
     "data": {
      "text/plain": [
       "6"
      ]
     },
     "execution_count": 50,
     "metadata": {},
     "output_type": "execute_result"
    },
    {
     "data": {
      "text/plain": [
       "780"
      ]
     },
     "execution_count": 50,
     "metadata": {},
     "output_type": "execute_result"
    },
    {
     "data": {
      "text/plain": [
       "18"
      ]
     },
     "execution_count": 50,
     "metadata": {},
     "output_type": "execute_result"
    },
    {
     "data": {
      "text/plain": [
       "11"
      ]
     },
     "execution_count": 50,
     "metadata": {},
     "output_type": "execute_result"
    },
    {
     "data": {
      "text/plain": [
       "600"
      ]
     },
     "execution_count": 50,
     "metadata": {},
     "output_type": "execute_result"
    },
    {
     "data": {
      "text/plain": [
       "16"
      ]
     },
     "execution_count": 50,
     "metadata": {},
     "output_type": "execute_result"
    },
    {
     "data": {
      "text/plain": [
       "7"
      ]
     },
     "execution_count": 50,
     "metadata": {},
     "output_type": "execute_result"
    },
    {
     "data": {
      "text/plain": [
       "1556"
      ]
     },
     "execution_count": 50,
     "metadata": {},
     "output_type": "execute_result"
    },
    {
     "data": {
      "text/plain": [
       "18"
      ]
     },
     "execution_count": 50,
     "metadata": {},
     "output_type": "execute_result"
    },
    {
     "data": {
      "text/plain": [
       "10"
      ]
     },
     "execution_count": 50,
     "metadata": {},
     "output_type": "execute_result"
    },
    {
     "data": {
      "text/plain": [
       "490"
      ]
     },
     "execution_count": 50,
     "metadata": {},
     "output_type": "execute_result"
    },
    {
     "data": {
      "text/plain": [
       "16"
      ]
     },
     "execution_count": 50,
     "metadata": {},
     "output_type": "execute_result"
    },
    {
     "data": {
      "text/plain": [
       "6"
      ]
     },
     "execution_count": 50,
     "metadata": {},
     "output_type": "execute_result"
    },
    {
     "data": {
      "text/plain": [
       "731"
      ]
     },
     "execution_count": 50,
     "metadata": {},
     "output_type": "execute_result"
    },
    {
     "data": {
      "text/plain": [
       "18"
      ]
     },
     "execution_count": 50,
     "metadata": {},
     "output_type": "execute_result"
    },
    {
     "data": {
      "text/plain": [
       "8"
      ]
     },
     "execution_count": 50,
     "metadata": {},
     "output_type": "execute_result"
    },
    {
     "data": {
      "text/plain": [
       "901"
      ]
     },
     "execution_count": 50,
     "metadata": {},
     "output_type": "execute_result"
    },
    {
     "data": {
      "text/plain": [
       "16"
      ]
     },
     "execution_count": 50,
     "metadata": {},
     "output_type": "execute_result"
    },
    {
     "data": {
      "text/plain": [
       "5"
      ]
     },
     "execution_count": 50,
     "metadata": {},
     "output_type": "execute_result"
    },
    {
     "data": {
      "text/plain": [
       "13"
      ]
     },
     "execution_count": 50,
     "metadata": {},
     "output_type": "execute_result"
    }
   ],
   "source": [
    "import os\n",
    "from keras.preprocessing import sequence\n",
    "from keras.models import Sequential\n",
    "from keras.layers import Dense, Dropout, Activation,BatchNormalization\n",
    "from keras.layers import Conv1D, MaxPooling1D,Conv2D,MaxPooling2D,Flatten\n",
    "from tensorflow.keras import Model\n",
    "\n",
    "\n",
    "# Convolution\n",
    "kernel_size = 3\n",
    "filters = 64\n",
    "pool_size = 2\n",
    "\n",
    "\n",
    "# Training\n",
    "batch_size = 64\n",
    "epochs = 55\n",
    "\n",
    "model = Sequential()\n",
    "\n",
    "model.add(Conv2D(filters,\n",
    "                 kernel_size,\n",
    "                 padding='same',\n",
    "                 activation='relu',\n",
    "                 strides=1,\n",
    "                 input_shape=(60,4,1)))\n",
    "\n",
    "model.add(BatchNormalization()) # BN层\n",
    "model.add(Activation('relu'))    # 激活层  \n",
    "model.add(MaxPooling2D(pool_size=pool_size))\n",
    "\n",
    "model.add(Conv2D(filters,kernel_size,padding='same', activation='relu',\n",
    "                 strides=1, input_shape=(60,4,1)))\n",
    "model.add(BatchNormalization()) # BN层                                       \n",
    "model.add(Activation('relu'))    # 激活层  \n",
    "model.add(MaxPooling2D(pool_size=pool_size))\n",
    "model.add(Dropout(0.2))\n",
    "\n",
    "model.add(Flatten())\n",
    "model.add(Dense(128, activation='relu')) \n",
    "model.add(Dropout(0.2))\n",
    "model.add(Dense(60))  #第二层\n",
    "model.add(Dropout(0.2))\n",
    "model.add(Dense(1, activation='linear'))\n",
    "\n",
    "model.compile(optimizer=tf.keras.optimizers.Adam(0.001),\n",
    "              loss='mean_squared_error')  # 损失函数用均方误差\n",
    "\n",
    "checkpoint_save_path = \"./checkpoint/CNN_nation_debt.ckpt\"\n",
    "if os.path.exists(checkpoint_save_path + '.index'):\n",
    "    print('-------------load the model-----------------')\n",
    "    model.load_weights(checkpoint_save_path)\n",
    "\n",
    "cp_callback = tf.keras.callbacks.ModelCheckpoint(filepath=checkpoint_save_path,\n",
    "                                                 save_weights_only=True,\n",
    "                                                 save_best_only=True)\n",
    "\n",
    "history = model.fit(x_train, y_train, batch_size=32, epochs=50, validation_data=(x_test, y_test), validation_freq=1,\n",
    "                    callbacks=[cp_callback])\n",
    "model.summary()\n",
    "\n",
    "# print(model.trainable_variables)\n",
    "file = open('./data/weights_of_nation_debt_by_cnn.txt', 'w')\n",
    "for v in model.trainable_variables:\n",
    "    file.write(str(v.name) + '\\n')\n",
    "    file.write(str(v.shape) + '\\n')\n",
    "    file.write(str(v.numpy()) + '\\n')\n",
    "file.close()"
   ]
  },
  {
   "cell_type": "code",
   "execution_count": 51,
   "metadata": {},
   "outputs": [
    {
     "data": {
      "text/plain": [
       "[<matplotlib.lines.Line2D at 0x1aea47eb708>]"
      ]
     },
     "execution_count": 51,
     "metadata": {},
     "output_type": "execute_result"
    },
    {
     "data": {
      "text/plain": [
       "[<matplotlib.lines.Line2D at 0x1aeaca3e308>]"
      ]
     },
     "execution_count": 51,
     "metadata": {},
     "output_type": "execute_result"
    },
    {
     "data": {
      "text/plain": [
       "Text(0.5, 1.0, 'Training and Validation Loss')"
      ]
     },
     "execution_count": 51,
     "metadata": {},
     "output_type": "execute_result"
    },
    {
     "data": {
      "text/plain": [
       "<matplotlib.legend.Legend at 0x1aeadfa2548>"
      ]
     },
     "execution_count": 51,
     "metadata": {},
     "output_type": "execute_result"
    },
    {
     "data": {
      "image/png": "[encoded data removed]",
      "text/plain": [
       "<Figure size 432x288 with 1 Axes>"
      ]
     },
     "metadata": {
      "needs_background": "light"
     },
     "output_type": "display_data"
    }
   ],
   "source": [
    "loss = history.history['loss']\n",
    "val_loss = history.history['val_loss']\n",
    "\n",
    "plt.plot(loss, label='Training Loss')\n",
    "plt.plot(val_loss, label='Validation Loss') #验证集用来选则最佳的超参数的值\n",
    "plt.title('Training and Validation Loss')\n",
    "plt.legend()\n",
    "plt.show()"
   ]
  },
  {
   "cell_type": "code",
   "execution_count": 52,
   "metadata": {},
   "outputs": [
    {
     "data": {
      "text/plain": [
       "[<matplotlib.lines.Line2D at 0x1aeaca0a248>]"
      ]
     },
     "execution_count": 52,
     "metadata": {},
     "output_type": "execute_result"
    },
    {
     "data": {
      "text/plain": [
       "[<matplotlib.lines.Line2D at 0x1aeae0d4048>]"
      ]
     },
     "execution_count": 52,
     "metadata": {},
     "output_type": "execute_result"
    },
    {
     "data": {
      "text/plain": [
       "Text(0.5, 1.0, 'national debt Price Prediction')"
      ]
     },
     "execution_count": 52,
     "metadata": {},
     "output_type": "execute_result"
    },
    {
     "data": {
      "text/plain": [
       "Text(0.5, 0, 'Time')"
      ]
     },
     "execution_count": 52,
     "metadata": {},
     "output_type": "execute_result"
    },
    {
     "data": {
      "text/plain": [
       "Text(0, 0.5, 'national debt Price')"
      ]
     },
     "execution_count": 52,
     "metadata": {},
     "output_type": "execute_result"
    },
    {
     "data": {
      "text/plain": [
       "<matplotlib.legend.Legend at 0x1aeadf9c3c8>"
      ]
     },
     "execution_count": 52,
     "metadata": {},
     "output_type": "execute_result"
    },
    {
     "data": {
      "image/png": "[encoded data removed]",
      "text/plain": [
       "<Figure size 432x288 with 1 Axes>"
      ]
     },
     "metadata": {
      "needs_background": "light"
     },
     "output_type": "display_data"
    },
    {
     "name": "stdout",
     "output_type": "stream",
     "text": [
      "均方误差: 0.009286\n",
      "均方根误差: 0.096362\n",
      "平均绝对误差: 0.080379\n"
     ]
    }
   ],
   "source": [
    "# 测试集输入模型进行预测\n",
    "predicted_stock_price = model.predict(x_test)\n",
    "\n",
    "# 对预测数据还原---从（0，1）反归一化到原始范围\n",
    "predicted_stock_price = sc_for_visual.inverse_transform(predicted_stock_price)\n",
    "\n",
    "# 对真实数据还原---从（0，1）反归一化到原始范围\n",
    "real_stock_price = sc_for_visual.inverse_transform(y_test_for_visual[60:])\n",
    "# 画出真实数据和预测数据的对比曲线\n",
    "# 画出真实数据和预测数据的对比曲线\n",
    "plt.plot(real_stock_price, color='red', label='national debt Price')\n",
    "plt.plot(predicted_stock_price, color='blue', label='Predicted by CNN')\n",
    "plt.title('national debt Price Prediction')\n",
    "plt.xlabel('Time')\n",
    "plt.ylabel('national debt Price')\n",
    "plt.legend()\n",
    "plt.show()\n",
    "\n",
    "##########evaluate##############\n",
    "# calculate MSE 均方误差 ---> E[(预测值-真实值)^2] (预测值减真实值求平方后求均值)\n",
    "mse = mean_squared_error(predicted_stock_price, real_stock_price)\n",
    "# calculate RMSE 均方根误差--->sqrt[MSE]    (对均方误差开方)\n",
    "rmse = math.sqrt(mean_squared_error(predicted_stock_price, real_stock_price))\n",
    "# calculate MAE 平均绝对误差----->E[|预测值-真实值|](预测值减真实值求绝对值后求均值）\n",
    "mae = mean_absolute_error(predicted_stock_price, real_stock_price)\n",
    "print('均方误差: %.6f' % mse)\n",
    "print('均方根误差: %.6f' % rmse)\n",
    "print('平均绝对误差: %.6f' % mae)"
   ]
  },
  {
   "cell_type": "code",
   "execution_count": 53,
   "metadata": {},
   "outputs": [
    {
     "name": "stdout",
     "output_type": "stream",
     "text": [
      "0.8083122052811925\n"
     ]
    }
   ],
   "source": [
    "from sklearn.metrics import explained_variance_score\n",
    "import seaborn as sns\n",
    "\n",
    "cm = explained_variance_score(real_stock_price, predicted_stock_price)\n",
    "\n",
    "print(cm )"
   ]
  },
  {
   "cell_type": "code",
   "execution_count": null,
   "metadata": {},
   "outputs": [],
   "source": []
  }
 ],
 "metadata": {
  "kernelspec": {
   "display_name": "Python 3",
   "language": "python",
   "name": "python3"
  },
  "language_info": {
   "codemirror_mode": {
    "name": "ipython",
    "version": 3
   },
   "file_extension": ".py",
   "mimetype": "text/x-python",
   "name": "python",
   "nbconvert_exporter": "python",
   "pygments_lexer": "ipython3",
   "version": "3.7.4"
  }
 },
 "nbformat": 4,
 "nbformat_minor": 2
}
