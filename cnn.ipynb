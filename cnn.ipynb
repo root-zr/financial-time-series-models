{
 "cells": [
  {
   "cell_type": "code",
   "execution_count": 1,
   "metadata": {},
   "outputs": [],
   "source": [
    "from IPython.core.interactiveshell import InteractiveShell  #执行该代码可以使得当前nb支持多输出\n",
    "InteractiveShell.ast_node_interactivity = \"all\" \n",
    "import numpy as np\n",
    "from datetime import datetime\n",
    "import pandas as pd \n",
    "import matplotlib.pyplot as plt\n",
    "plt.rcParams['font.sans-serif'] = ['SimHei']\n",
    "plt.rcParams['axes.unicode_minus'] = False \n",
    "from mpl_toolkits.mplot3d import Axes3D\n",
    "\n",
    "import tensorflow as tf\n",
    "from tensorflow.keras.layers import Dropout, Dense, LSTM\n",
    "import os\n",
    "from sklearn.preprocessing import MinMaxScaler\n",
    "from sklearn.metrics import mean_squared_error, mean_absolute_error\n",
    "import math\n",
    "\n",
    "pd.options.display.max_rows = 8  \n",
    "%matplotlib inline"
   ]
  },
  {
   "cell_type": "markdown",
   "metadata": {},
   "source": [
    "读取数据"
   ]
  },
  {
   "cell_type": "code",
   "execution_count": 2,
   "metadata": {
    "scrolled": true
   },
   "outputs": [
    {
     "data": {
      "text/html": [
       "<div>\n",
       "<style scoped>\n",
       "    .dataframe tbody tr th:only-of-type {\n",
       "        vertical-align: middle;\n",
       "    }\n",
       "\n",
       "    .dataframe tbody tr th {\n",
       "        vertical-align: top;\n",
       "    }\n",
       "\n",
       "    .dataframe thead th {\n",
       "        text-align: right;\n",
       "    }\n",
       "</style>\n",
       "<table border=\"1\" class=\"dataframe\">\n",
       "  <thead>\n",
       "    <tr style=\"text-align: right;\">\n",
       "      <th></th>\n",
       "      <th>开盘</th>\n",
       "      <th>收盘</th>\n",
       "      <th>高</th>\n",
       "      <th>低</th>\n",
       "      <th>涨跌幅</th>\n",
       "      <th>on</th>\n",
       "    </tr>\n",
       "    <tr>\n",
       "      <th>日期</th>\n",
       "      <th></th>\n",
       "      <th></th>\n",
       "      <th></th>\n",
       "      <th></th>\n",
       "      <th></th>\n",
       "      <th></th>\n",
       "    </tr>\n",
       "  </thead>\n",
       "  <tbody>\n",
       "    <tr>\n",
       "      <td>2016/1/21</td>\n",
       "      <td>2.683</td>\n",
       "      <td>2.700</td>\n",
       "      <td>2.703</td>\n",
       "      <td>2.680</td>\n",
       "      <td>0.0078</td>\n",
       "      <td>2.014</td>\n",
       "    </tr>\n",
       "    <tr>\n",
       "      <td>2016/1/22</td>\n",
       "      <td>2.705</td>\n",
       "      <td>2.689</td>\n",
       "      <td>2.705</td>\n",
       "      <td>2.682</td>\n",
       "      <td>-0.0041</td>\n",
       "      <td>2.028</td>\n",
       "    </tr>\n",
       "    <tr>\n",
       "      <td>2016/1/25</td>\n",
       "      <td>2.750</td>\n",
       "      <td>2.694</td>\n",
       "      <td>2.750</td>\n",
       "      <td>2.680</td>\n",
       "      <td>0.0019</td>\n",
       "      <td>2.009</td>\n",
       "    </tr>\n",
       "    <tr>\n",
       "      <td>2016/1/26</td>\n",
       "      <td>2.703</td>\n",
       "      <td>2.738</td>\n",
       "      <td>2.740</td>\n",
       "      <td>2.690</td>\n",
       "      <td>0.0163</td>\n",
       "      <td>1.997</td>\n",
       "    </tr>\n",
       "    <tr>\n",
       "      <td>2016/1/27</td>\n",
       "      <td>2.763</td>\n",
       "      <td>2.774</td>\n",
       "      <td>2.783</td>\n",
       "      <td>2.763</td>\n",
       "      <td>0.0131</td>\n",
       "      <td>1.995</td>\n",
       "    </tr>\n",
       "  </tbody>\n",
       "</table>\n",
       "</div>"
      ],
      "text/plain": [
       "              开盘     收盘      高      低     涨跌幅     on\n",
       "日期                                                  \n",
       "2016/1/21  2.683  2.700  2.703  2.680  0.0078  2.014\n",
       "2016/1/22  2.705  2.689  2.705  2.682 -0.0041  2.028\n",
       "2016/1/25  2.750  2.694  2.750  2.680  0.0019  2.009\n",
       "2016/1/26  2.703  2.738  2.740  2.690  0.0163  1.997\n",
       "2016/1/27  2.763  2.774  2.783  2.763  0.0131  1.995"
      ]
     },
     "execution_count": 2,
     "metadata": {},
     "output_type": "execute_result"
    },
    {
     "data": {
      "text/html": [
       "<div>\n",
       "<style scoped>\n",
       "    .dataframe tbody tr th:only-of-type {\n",
       "        vertical-align: middle;\n",
       "    }\n",
       "\n",
       "    .dataframe tbody tr th {\n",
       "        vertical-align: top;\n",
       "    }\n",
       "\n",
       "    .dataframe thead th {\n",
       "        text-align: right;\n",
       "    }\n",
       "</style>\n",
       "<table border=\"1\" class=\"dataframe\">\n",
       "  <thead>\n",
       "    <tr style=\"text-align: right;\">\n",
       "      <th></th>\n",
       "      <th>开盘</th>\n",
       "      <th>收盘</th>\n",
       "      <th>高</th>\n",
       "      <th>低</th>\n",
       "      <th>涨跌幅</th>\n",
       "      <th>on</th>\n",
       "    </tr>\n",
       "  </thead>\n",
       "  <tbody>\n",
       "    <tr>\n",
       "      <td>count</td>\n",
       "      <td>1563.000000</td>\n",
       "      <td>1563.000000</td>\n",
       "      <td>1563.000000</td>\n",
       "      <td>1563.000000</td>\n",
       "      <td>1.563000e+03</td>\n",
       "      <td>1563.000000</td>\n",
       "    </tr>\n",
       "    <tr>\n",
       "      <td>mean</td>\n",
       "      <td>3.041862</td>\n",
       "      <td>3.022280</td>\n",
       "      <td>3.049060</td>\n",
       "      <td>3.010074</td>\n",
       "      <td>4.478567e-07</td>\n",
       "      <td>2.157164</td>\n",
       "    </tr>\n",
       "    <tr>\n",
       "      <td>std</td>\n",
       "      <td>0.419688</td>\n",
       "      <td>0.420101</td>\n",
       "      <td>0.418939</td>\n",
       "      <td>0.420670</td>\n",
       "      <td>9.475657e-03</td>\n",
       "      <td>0.478818</td>\n",
       "    </tr>\n",
       "    <tr>\n",
       "      <td>min</td>\n",
       "      <td>1.740000</td>\n",
       "      <td>1.740000</td>\n",
       "      <td>1.740000</td>\n",
       "      <td>1.740000</td>\n",
       "      <td>-5.850000e-02</td>\n",
       "      <td>0.602000</td>\n",
       "    </tr>\n",
       "    <tr>\n",
       "      <td>25%</td>\n",
       "      <td>2.746000</td>\n",
       "      <td>2.712000</td>\n",
       "      <td>2.750000</td>\n",
       "      <td>2.697000</td>\n",
       "      <td>-4.350000e-03</td>\n",
       "      <td>1.946000</td>\n",
       "    </tr>\n",
       "    <tr>\n",
       "      <td>50%</td>\n",
       "      <td>3.012000</td>\n",
       "      <td>2.993000</td>\n",
       "      <td>3.018000</td>\n",
       "      <td>2.983000</td>\n",
       "      <td>0.000000e+00</td>\n",
       "      <td>2.172000</td>\n",
       "    </tr>\n",
       "    <tr>\n",
       "      <td>75%</td>\n",
       "      <td>3.261000</td>\n",
       "      <td>3.234000</td>\n",
       "      <td>3.269000</td>\n",
       "      <td>3.219000</td>\n",
       "      <td>4.300000e-03</td>\n",
       "      <td>2.559800</td>\n",
       "    </tr>\n",
       "    <tr>\n",
       "      <td>max</td>\n",
       "      <td>4.000000</td>\n",
       "      <td>3.968000</td>\n",
       "      <td>4.000000</td>\n",
       "      <td>3.952000</td>\n",
       "      <td>6.070000e-02</td>\n",
       "      <td>3.282000</td>\n",
       "    </tr>\n",
       "  </tbody>\n",
       "</table>\n",
       "</div>"
      ],
      "text/plain": [
       "                开盘           收盘            高            低           涨跌幅  \\\n",
       "count  1563.000000  1563.000000  1563.000000  1563.000000  1.563000e+03   \n",
       "mean      3.041862     3.022280     3.049060     3.010074  4.478567e-07   \n",
       "std       0.419688     0.420101     0.418939     0.420670  9.475657e-03   \n",
       "min       1.740000     1.740000     1.740000     1.740000 -5.850000e-02   \n",
       "25%       2.746000     2.712000     2.750000     2.697000 -4.350000e-03   \n",
       "50%       3.012000     2.993000     3.018000     2.983000  0.000000e+00   \n",
       "75%       3.261000     3.234000     3.269000     3.219000  4.300000e-03   \n",
       "max       4.000000     3.968000     4.000000     3.952000  6.070000e-02   \n",
       "\n",
       "                on  \n",
       "count  1563.000000  \n",
       "mean      2.157164  \n",
       "std       0.478818  \n",
       "min       0.602000  \n",
       "25%       1.946000  \n",
       "50%       2.172000  \n",
       "75%       2.559800  \n",
       "max       3.282000  "
      ]
     },
     "execution_count": 2,
     "metadata": {},
     "output_type": "execute_result"
    }
   ],
   "source": [
    "national_debt = pd.read_csv('data/shibor_nation_debt.csv',header=0,index_col = 0,encoding = 'gb2312')  # 读取股票文件\n",
    "national_debt['涨跌幅'] = national_debt['涨跌幅'].str.strip(\"%\").astype(float)/100\n",
    "national_debt.head()\n",
    "national_debt.describe()"
   ]
  },
  {
   "cell_type": "markdown",
   "metadata": {},
   "source": [
    "开盘价原始数据可视化"
   ]
  },
  {
   "cell_type": "code",
   "execution_count": 3,
   "metadata": {},
   "outputs": [
    {
     "data": {
      "text/plain": [
       "<Figure size 432x288 with 0 Axes>"
      ]
     },
     "metadata": {},
     "output_type": "display_data"
    },
    {
     "data": {
      "image/png": "[encoded data removed]",
      "text/plain": [
       "<Figure size 432x288 with 1 Axes>"
      ]
     },
     "metadata": {
      "needs_background": "light"
     },
     "output_type": "display_data"
    }
   ],
   "source": [
    "def draw_ts(timeSeries):\n",
    "    f = plt.figure(facecolor='white')\n",
    "    timeSeries.plot(color='blue')\n",
    "    plt.show()\n",
    "    \n",
    "draw_ts(pd.DataFrame(national_debt['开盘']))"
   ]
  },
  {
   "cell_type": "markdown",
   "metadata": {},
   "source": [
    "数据预处理"
   ]
  },
  {
   "cell_type": "code",
   "execution_count": 4,
   "metadata": {},
   "outputs": [],
   "source": [
    "# 前(1563-600=1263)天的开盘价作为训练集,表格从0开始计数，,0:1 是提取[0:1)列，前闭后开\n",
    "training_set = national_debt.iloc[0:1563 - 600,0:].values  \n",
    "\n",
    "#中间300天的数据作为验证集\n",
    "valid_set= national_debt.iloc[1563 - 600:1563 - 300, 0:].values  \n",
    "\n",
    "# 后300天的开盘价作为测试集\n",
    "test_set = national_debt.iloc[1563 - 300:1563, 0:].values  \n",
    "\n",
    "# 归一化\n",
    "sc = MinMaxScaler(feature_range=(0, 1))  # 定义归一化：归一化到(0，1)之间\n",
    "training_set_scaled = sc.fit_transform(training_set)  # 求得训练集的最大值，最小值这些训练集固有的属性，并在训练集上进行归一化\n",
    "valid_set = sc.transform(valid_set)\n",
    "test_set = sc.transform(test_set)  # 利用训练集的属性对测试集进行归一化\n",
    "\n",
    "#对开盘价数据进行归一化，方便后续可视化展示\n",
    "sc_for_visual = MinMaxScaler(feature_range=(0, 1))  \n",
    "y_test_for_visual_scaled = sc_for_visual.fit_transform(national_debt.iloc[0:1563 - 600, 0:1].values ) \n",
    "y_test_for_visual = sc_for_visual.transform(national_debt.iloc[1563 - 300:1563, 0:1].values )"
   ]
  },
  {
   "cell_type": "markdown",
   "metadata": {},
   "source": [
    "得到训练集和测试集的数据"
   ]
  },
  {
   "cell_type": "code",
   "execution_count": 5,
   "metadata": {
    "scrolled": true
   },
   "outputs": [
    {
     "name": "stdout",
     "output_type": "stream",
     "text": [
      "[[[0.18613607 0.16322581 0.18825782 0.49134615 0.54317549]\n",
      "  [0.17907574 0.16451613 0.18953414 0.37692308 0.54967502]\n",
      "  [0.18228498 0.19354839 0.18825782 0.43461538 0.54085422]\n",
      "  [0.21052632 0.18709677 0.19463944 0.57307692 0.53528319]\n",
      "  [0.23363286 0.21483871 0.24122527 0.54230769 0.53435469]]\n",
      "\n",
      " [[0.17907574 0.16451613 0.18953414 0.37692308 0.54967502]\n",
      "  [0.18228498 0.19354839 0.18825782 0.43461538 0.54085422]\n",
      "  [0.21052632 0.18709677 0.19463944 0.57307692 0.53528319]\n",
      "  [0.23363286 0.21483871 0.24122527 0.54230769 0.53435469]\n",
      "  [0.24775353 0.22322581 0.24569241 0.49230769 0.53296193]]\n",
      "\n",
      " [[0.18228498 0.19354839 0.18825782 0.43461538 0.54085422]\n",
      "  [0.21052632 0.18709677 0.19463944 0.57307692 0.53528319]\n",
      "  [0.23363286 0.21483871 0.24122527 0.54230769 0.53435469]\n",
      "  [0.24775353 0.22322581 0.24569241 0.49230769 0.53296193]\n",
      "  [0.24326059 0.22580645 0.25654116 0.39230769 0.53156917]]\n",
      "\n",
      " ...\n",
      "\n",
      " [[0.3491656  0.3316129  0.35992342 0.41634615 0.79897864]\n",
      "  [0.35301669 0.32903226 0.35609445 0.43557692 0.83054782]\n",
      "  [0.35686778 0.33612903 0.35928526 0.43557692 0.87883008]\n",
      "  [0.35879332 0.33935484 0.37141034 0.42596154 0.88300836]\n",
      "  [0.34531451 0.32258065 0.34779834 0.34807692 0.88904364]]\n",
      "\n",
      " [[0.35301669 0.32903226 0.35609445 0.43557692 0.83054782]\n",
      "  [0.35686778 0.33612903 0.35928526 0.43557692 0.87883008]\n",
      "  [0.35879332 0.33935484 0.37141034 0.42596154 0.88300836]\n",
      "  [0.34531451 0.32258065 0.34779834 0.34807692 0.88904364]\n",
      "  [0.34403081 0.32580645 0.35609445 0.40961538 0.70798514]]\n",
      "\n",
      " [[0.35686778 0.33612903 0.35928526 0.43557692 0.87883008]\n",
      "  [0.35879332 0.33935484 0.37141034 0.42596154 0.88300836]\n",
      "  [0.34531451 0.32258065 0.34779834 0.34807692 0.88904364]\n",
      "  [0.34403081 0.32580645 0.35609445 0.40961538 0.70798514]\n",
      "  [0.35622593 0.33225806 0.35928526 0.47788462 0.55803157]]]\n"
     ]
    }
   ],
   "source": [
    "x_train = []\n",
    "y_train = []\n",
    "\n",
    "x_valid = []\n",
    "y_valid = []\n",
    "\n",
    "x_test = []\n",
    "y_test = []\n",
    "\n",
    "# 利用for循环，遍历整个训练集，提取训练集中连续10天的开盘价作为输入特征x_train，第11天的数据作为标签\n",
    "for i in range(5, len(training_set_scaled)):\n",
    "    x_train.append(training_set_scaled[i - 5:i, 1:]) \n",
    "    y_train.append(training_set_scaled[i, 0])\n",
    "\n",
    "\n",
    "# 将训练集由list格式变为array格式\n",
    "x_train, y_train = np.array(x_train), np.array(y_train)\n",
    "x_train = np.reshape(x_train, (x_train.shape[0], 5,5))\n",
    "print(x_train)\n",
    "\n",
    "#验证集\n",
    "for i in range(5, len(valid_set)):\n",
    "    x_valid.append(valid_set[i - 5:i,1:])\n",
    "    y_valid.append(valid_set[i, 0])\n",
    "x_valid, y_valid = np.array(x_valid), np.array(y_valid)\n",
    "x_valid = np.reshape(x_valid, (x_valid.shape[0], 5,5))\n",
    "\n",
    "\n",
    "# 测试集：csv表格中后300天数据\n",
    "# 利用for循环，遍历整个测试集，提取测试集中连续10天的开盘价作为输入特征x_train，\n",
    "# 第11天的数据作为标签，for循环共构建300-10=290组数据。\n",
    "for i in range(5, len(test_set)):\n",
    "    x_test.append(test_set[i - 5:i,1:])\n",
    "    y_test.append(test_set[i, 0])\n",
    "# 测试集变array并reshape为符合CNN和RNN输入要求：\n",
    "#RNN: [送入样本数， 循环核时间展开步数， 每个时间步输入特征个数]\n",
    "x_test, y_test = np.array(x_test), np.array(y_test)\n",
    "x_test = np.reshape(x_test, (x_test.shape[0],5,5))"
   ]
  },
  {
   "cell_type": "markdown",
   "metadata": {},
   "source": [
    "训练模型"
   ]
  },
  {
   "cell_type": "code",
   "execution_count": 7,
   "metadata": {
    "scrolled": true
   },
   "outputs": [
    {
     "data": {
      "text/plain": [
       "<tensorflow.python.keras.layers.normalization_v2.BatchNormalization at 0x1fa92f88788>"
      ]
     },
     "execution_count": 7,
     "metadata": {},
     "output_type": "execute_result"
    },
    {
     "data": {
      "text/plain": [
       "<tensorflow.python.keras.layers.core.Activation at 0x1fa92cf4a48>"
      ]
     },
     "execution_count": 7,
     "metadata": {},
     "output_type": "execute_result"
    },
    {
     "data": {
      "text/plain": [
       "<tensorflow.python.keras.layers.normalization_v2.BatchNormalization at 0x1fa92f6f388>"
      ]
     },
     "execution_count": 7,
     "metadata": {},
     "output_type": "execute_result"
    },
    {
     "data": {
      "text/plain": [
       "<tensorflow.python.keras.layers.core.Activation at 0x1fa92f7e388>"
      ]
     },
     "execution_count": 7,
     "metadata": {},
     "output_type": "execute_result"
    },
    {
     "data": {
      "text/plain": [
       "<tensorflow.python.keras.layers.normalization_v2.BatchNormalization at 0x1fa93524d88>"
      ]
     },
     "execution_count": 7,
     "metadata": {},
     "output_type": "execute_result"
    },
    {
     "data": {
      "text/plain": [
       "<tensorflow.python.keras.layers.core.Activation at 0x1fa92f75088>"
      ]
     },
     "execution_count": 7,
     "metadata": {},
     "output_type": "execute_result"
    },
    {
     "name": "stdout",
     "output_type": "stream",
     "text": [
      "Model: \"outputs\"\n",
      "__________________________________________________________________________________________________\n",
      "Layer (type)                    Output Shape         Param #     Connected to                     \n",
      "==================================================================================================\n",
      "input (InputLayer)              [(None, 5, 5)]       0                                            \n",
      "__________________________________________________________________________________________________\n",
      "max_pooling1d (MaxPooling1D)    (None, 1, 5)         0           input[0][0]                      \n",
      "__________________________________________________________________________________________________\n",
      "conv1d_1 (Conv1D)               (None, 5, 64)        384         input[0][0]                      \n",
      "__________________________________________________________________________________________________\n",
      "conv1d_2 (Conv1D)               (None, 5, 64)        384         input[0][0]                      \n",
      "__________________________________________________________________________________________________\n",
      "conv1d (Conv1D)                 (None, 5, 64)        384         input[0][0]                      \n",
      "__________________________________________________________________________________________________\n",
      "conv1d_3 (Conv1D)               (None, 1, 64)        384         max_pooling1d[0][0]              \n",
      "__________________________________________________________________________________________________\n",
      "conv1d_4 (Conv1D)               (None, 3, 64)        12352       conv1d_1[0][0]                   \n",
      "__________________________________________________________________________________________________\n",
      "conv1d_5 (Conv1D)               (None, 1, 64)        20544       conv1d_2[0][0]                   \n",
      "__________________________________________________________________________________________________\n",
      "tf_op_layer_concat (TensorFlowO [(None, 10, 64)]     0           conv1d[0][0]                     \n",
      "                                                                 conv1d_3[0][0]                   \n",
      "                                                                 conv1d_4[0][0]                   \n",
      "                                                                 conv1d_5[0][0]                   \n",
      "__________________________________________________________________________________________________\n",
      "flatten (Flatten)               (None, 640)          0           tf_op_layer_concat[0][0]         \n",
      "__________________________________________________________________________________________________\n",
      "dense (Dense)                   (None, 128)          82048       flatten[0][0]                    \n",
      "__________________________________________________________________________________________________\n",
      "dropout (Dropout)               (None, 128)          0           dense[0][0]                      \n",
      "__________________________________________________________________________________________________\n",
      "dense_1 (Dense)                 (None, 60)           7740        dropout[0][0]                    \n",
      "__________________________________________________________________________________________________\n",
      "dropout_1 (Dropout)             (None, 60)           0           dense_1[0][0]                    \n",
      "__________________________________________________________________________________________________\n",
      "dense_2 (Dense)                 (None, 1)            61          dropout_1[0][0]                  \n",
      "==================================================================================================\n",
      "Total params: 124,281\n",
      "Trainable params: 124,281\n",
      "Non-trainable params: 0\n",
      "__________________________________________________________________________________________________\n"
     ]
    }
   ],
   "source": [
    "import os\n",
    "from keras.preprocessing import sequence\n",
    "from keras.models import Sequential\n",
    "from keras.layers import Dense, Dropout, Activation,BatchNormalization\n",
    "from keras.layers import Conv1D, MaxPooling1D,Conv2D,MaxPooling2D,Flatten\n",
    "from tensorflow.keras import Model\n",
    "from tensorflow import keras\n",
    "from tensorflow.keras import layers\n",
    "\n",
    "inputs = keras.Input(shape=(5, 5), name=\"input\")\n",
    "\n",
    "conv_1 = layers.Conv1D(filters=64, kernel_size=1,activation='relu', strides=1)(inputs)\n",
    "\n",
    "inputs_pool_1 = layers.MaxPooling1D(pool_size = 3)(inputs)\n",
    "inputs_conv1_3 = layers.Conv1D(filters=64, kernel_size=1,activation='relu', strides=1)(inputs)\n",
    "inputs_conv1_5 = layers.Conv1D(filters=64, kernel_size=1,activation='relu', strides=1)(inputs)\n",
    "\n",
    "conv_pool_1 = layers.Conv1D(filters=64, kernel_size=1,activation='relu', strides=1)(tf.convert_to_tensor(inputs_pool_1))\n",
    "BatchNormalization() \n",
    "Activation('relu') \n",
    "\n",
    "conv1_3 = layers.Conv1D(filters=64, kernel_size=3,activation='relu', strides=1)(inputs_conv1_3)\n",
    "BatchNormalization() \n",
    "Activation('relu') \n",
    "\n",
    "conv1_5 = layers.Conv1D(filters=64, kernel_size=5,activation='relu', strides=1)(inputs_conv1_5)\n",
    "BatchNormalization()\n",
    "Activation('relu')  \n",
    "\n",
    "cnn_output = tf.concat([conv_1,conv_pool_1,conv1_3,conv1_5], 1)\n",
    "x = layers.Flatten()(cnn_output)\n",
    "x = layers.Dense(128, activation='relu')(x)\n",
    "x = layers.Dropout(0.2)(x)\n",
    "x = layers.Dense(60)(x)\n",
    "x = layers.Dropout(0.2)(x)\n",
    "outputs = layers.Dense(1, activation='linear')(x)\n",
    "\n",
    "model = keras.Model(inputs, outputs, name=\"outputs\")\n",
    "model.summary()"
   ]
  },
  {
   "cell_type": "code",
   "execution_count": 8,
   "metadata": {
    "scrolled": true
   },
   "outputs": [
    {
     "name": "stdout",
     "output_type": "stream",
     "text": [
      "Epoch 1/100\n",
      "30/30 [==============================] - 0s 14ms/step - loss: 0.0491 - val_loss: 0.0105\n",
      "Epoch 2/100\n",
      "30/30 [==============================] - 0s 3ms/step - loss: 0.0105 - val_loss: 0.0131\n",
      "Epoch 3/100\n",
      "30/30 [==============================] - 0s 3ms/step - loss: 0.0081 - val_loss: 0.0139\n",
      "Epoch 4/100\n",
      "30/30 [==============================] - 0s 3ms/step - loss: 0.0069 - val_loss: 0.0137\n",
      "Epoch 5/100\n",
      "30/30 [==============================] - 0s 3ms/step - loss: 0.0065 - val_loss: 0.0145\n",
      "Epoch 6/100\n",
      "30/30 [==============================] - 0s 3ms/step - loss: 0.0066 - val_loss: 0.0148\n",
      "Epoch 7/100\n",
      "30/30 [==============================] - 0s 3ms/step - loss: 0.0057 - val_loss: 0.0163\n",
      "Epoch 8/100\n",
      "30/30 [==============================] - 0s 3ms/step - loss: 0.0049 - val_loss: 0.0170\n",
      "Epoch 9/100\n",
      "30/30 [==============================] - 0s 3ms/step - loss: 0.0059 - val_loss: 0.0163\n",
      "Epoch 10/100\n",
      "30/30 [==============================] - 0s 3ms/step - loss: 0.0063 - val_loss: 0.0164\n",
      "Epoch 11/100\n",
      "30/30 [==============================] - 0s 3ms/step - loss: 0.0050 - val_loss: 0.0160\n",
      "Epoch 12/100\n",
      "30/30 [==============================] - 0s 3ms/step - loss: 0.0058 - val_loss: 0.0145\n",
      "Epoch 13/100\n",
      "30/30 [==============================] - 0s 3ms/step - loss: 0.0051 - val_loss: 0.0155\n",
      "Epoch 14/100\n",
      "30/30 [==============================] - 0s 3ms/step - loss: 0.0040 - val_loss: 0.0173\n",
      "Epoch 15/100\n",
      "30/30 [==============================] - 0s 3ms/step - loss: 0.0055 - val_loss: 0.0159\n",
      "Epoch 16/100\n",
      "30/30 [==============================] - 0s 3ms/step - loss: 0.0042 - val_loss: 0.0190\n",
      "Epoch 17/100\n",
      "30/30 [==============================] - 0s 3ms/step - loss: 0.0041 - val_loss: 0.0155\n",
      "Epoch 18/100\n",
      "30/30 [==============================] - 0s 3ms/step - loss: 0.0039 - val_loss: 0.0127\n",
      "Epoch 19/100\n",
      "30/30 [==============================] - 0s 3ms/step - loss: 0.0040 - val_loss: 0.0155\n",
      "Epoch 20/100\n",
      "30/30 [==============================] - 0s 3ms/step - loss: 0.0035 - val_loss: 0.0157\n",
      "Epoch 21/100\n",
      "30/30 [==============================] - 0s 3ms/step - loss: 0.0035 - val_loss: 0.0187\n",
      "Epoch 22/100\n",
      "30/30 [==============================] - 0s 3ms/step - loss: 0.0032 - val_loss: 0.0128\n",
      "Epoch 23/100\n",
      "30/30 [==============================] - 0s 3ms/step - loss: 0.0033 - val_loss: 0.0131\n",
      "Epoch 24/100\n",
      "30/30 [==============================] - 0s 3ms/step - loss: 0.0039 - val_loss: 0.0125\n",
      "Epoch 25/100\n",
      "30/30 [==============================] - 1s 22ms/step - loss: 0.0035 - val_loss: 0.0096\n",
      "Epoch 26/100\n",
      "30/30 [==============================] - 0s 3ms/step - loss: 0.0042 - val_loss: 0.0122\n",
      "Epoch 27/100\n",
      "30/30 [==============================] - 0s 3ms/step - loss: 0.0030 - val_loss: 0.0115\n",
      "Epoch 28/100\n",
      "30/30 [==============================] - 0s 3ms/step - loss: 0.0035 - val_loss: 0.0153\n",
      "Epoch 29/100\n",
      "30/30 [==============================] - 0s 3ms/step - loss: 0.0035 - val_loss: 0.0115\n",
      "Epoch 30/100\n",
      "30/30 [==============================] - 0s 9ms/step - loss: 0.0032 - val_loss: 0.0086\n",
      "Epoch 31/100\n",
      "30/30 [==============================] - 0s 3ms/step - loss: 0.0032 - val_loss: 0.0096\n",
      "Epoch 32/100\n",
      "30/30 [==============================] - 0s 9ms/step - loss: 0.0030 - val_loss: 0.0070\n",
      "Epoch 33/100\n",
      "30/30 [==============================] - 0s 3ms/step - loss: 0.0030 - val_loss: 0.0160\n",
      "Epoch 34/100\n",
      "30/30 [==============================] - 0s 3ms/step - loss: 0.0033 - val_loss: 0.0073\n",
      "Epoch 35/100\n",
      "30/30 [==============================] - 0s 3ms/step - loss: 0.0034 - val_loss: 0.0137\n",
      "Epoch 36/100\n",
      "30/30 [==============================] - 0s 9ms/step - loss: 0.0033 - val_loss: 0.0054\n",
      "Epoch 37/100\n",
      "30/30 [==============================] - 0s 3ms/step - loss: 0.0032 - val_loss: 0.0055\n",
      "Epoch 38/100\n",
      "30/30 [==============================] - 0s 3ms/step - loss: 0.0030 - val_loss: 0.0082\n",
      "Epoch 39/100\n",
      "30/30 [==============================] - 0s 3ms/step - loss: 0.0030 - val_loss: 0.0136\n",
      "Epoch 40/100\n",
      "30/30 [==============================] - 0s 3ms/step - loss: 0.0033 - val_loss: 0.0079\n",
      "Epoch 41/100\n",
      "30/30 [==============================] - 0s 9ms/step - loss: 0.0030 - val_loss: 0.0045\n",
      "Epoch 42/100\n",
      "30/30 [==============================] - 0s 3ms/step - loss: 0.0030 - val_loss: 0.0093\n",
      "Epoch 43/100\n",
      "30/30 [==============================] - 0s 3ms/step - loss: 0.0032 - val_loss: 0.0077\n",
      "Epoch 44/100\n",
      "30/30 [==============================] - 0s 10ms/step - loss: 0.0028 - val_loss: 0.0044\n",
      "Epoch 45/100\n",
      "30/30 [==============================] - 0s 3ms/step - loss: 0.0029 - val_loss: 0.0055\n",
      "Epoch 46/100\n",
      "30/30 [==============================] - 0s 3ms/step - loss: 0.0039 - val_loss: 0.0059\n",
      "Epoch 47/100\n",
      "30/30 [==============================] - 0s 3ms/step - loss: 0.0032 - val_loss: 0.0092\n",
      "Epoch 48/100\n",
      "30/30 [==============================] - 0s 3ms/step - loss: 0.0028 - val_loss: 0.0057\n",
      "Epoch 49/100\n",
      "30/30 [==============================] - 0s 3ms/step - loss: 0.0027 - val_loss: 0.0072\n",
      "Epoch 50/100\n",
      "30/30 [==============================] - 0s 3ms/step - loss: 0.0026 - val_loss: 0.0072\n",
      "Epoch 51/100\n",
      "30/30 [==============================] - 0s 3ms/step - loss: 0.0024 - val_loss: 0.0053\n",
      "Epoch 52/100\n",
      "30/30 [==============================] - 0s 3ms/step - loss: 0.0024 - val_loss: 0.0063\n",
      "Epoch 53/100\n",
      "30/30 [==============================] - 0s 3ms/step - loss: 0.0026 - val_loss: 0.0044\n",
      "Epoch 54/100\n",
      "30/30 [==============================] - 0s 9ms/step - loss: 0.0028 - val_loss: 0.0035\n",
      "Epoch 55/100\n",
      "30/30 [==============================] - 0s 3ms/step - loss: 0.0030 - val_loss: 0.0062\n",
      "Epoch 56/100\n",
      "30/30 [==============================] - 0s 3ms/step - loss: 0.0024 - val_loss: 0.0063\n",
      "Epoch 57/100\n",
      "30/30 [==============================] - 0s 3ms/step - loss: 0.0028 - val_loss: 0.0049\n",
      "Epoch 58/100\n",
      "30/30 [==============================] - 0s 3ms/step - loss: 0.0025 - val_loss: 0.0050\n",
      "Epoch 59/100\n",
      "30/30 [==============================] - 0s 3ms/step - loss: 0.0028 - val_loss: 0.0127\n",
      "Epoch 60/100\n",
      "30/30 [==============================] - 0s 3ms/step - loss: 0.0033 - val_loss: 0.0055\n",
      "Epoch 61/100\n",
      "30/30 [==============================] - 0s 3ms/step - loss: 0.0029 - val_loss: 0.0057\n",
      "Epoch 62/100\n",
      "30/30 [==============================] - 0s 3ms/step - loss: 0.0028 - val_loss: 0.0069\n",
      "Epoch 63/100\n",
      "30/30 [==============================] - 0s 3ms/step - loss: 0.0028 - val_loss: 0.0051\n",
      "Epoch 64/100\n",
      "30/30 [==============================] - 0s 3ms/step - loss: 0.0025 - val_loss: 0.0045\n",
      "Epoch 65/100\n",
      "30/30 [==============================] - 0s 3ms/step - loss: 0.0023 - val_loss: 0.0062\n",
      "Epoch 66/100\n",
      "30/30 [==============================] - 0s 3ms/step - loss: 0.0024 - val_loss: 0.0041\n",
      "Epoch 67/100\n",
      "30/30 [==============================] - 0s 3ms/step - loss: 0.0026 - val_loss: 0.0048\n",
      "Epoch 68/100\n",
      "30/30 [==============================] - 0s 3ms/step - loss: 0.0027 - val_loss: 0.0062\n",
      "Epoch 69/100\n",
      "30/30 [==============================] - 0s 3ms/step - loss: 0.0029 - val_loss: 0.0040\n",
      "Epoch 70/100\n",
      "30/30 [==============================] - 0s 3ms/step - loss: 0.0027 - val_loss: 0.0074\n",
      "Epoch 71/100\n",
      "30/30 [==============================] - 0s 3ms/step - loss: 0.0027 - val_loss: 0.0061\n",
      "Epoch 72/100\n",
      "30/30 [==============================] - 0s 3ms/step - loss: 0.0028 - val_loss: 0.0057\n",
      "Epoch 73/100\n",
      "30/30 [==============================] - 0s 3ms/step - loss: 0.0022 - val_loss: 0.0061\n",
      "Epoch 74/100\n",
      "30/30 [==============================] - 0s 3ms/step - loss: 0.0022 - val_loss: 0.0049\n",
      "Epoch 75/100\n",
      "30/30 [==============================] - 0s 3ms/step - loss: 0.0023 - val_loss: 0.0050\n",
      "Epoch 76/100\n",
      "30/30 [==============================] - 0s 3ms/step - loss: 0.0025 - val_loss: 0.0059\n",
      "Epoch 77/100\n",
      "30/30 [==============================] - 0s 3ms/step - loss: 0.0023 - val_loss: 0.0067\n",
      "Epoch 78/100\n",
      "30/30 [==============================] - 0s 3ms/step - loss: 0.0024 - val_loss: 0.0067\n",
      "Epoch 79/100\n",
      "30/30 [==============================] - 0s 3ms/step - loss: 0.0021 - val_loss: 0.0058\n",
      "Epoch 80/100\n",
      "30/30 [==============================] - 0s 3ms/step - loss: 0.0025 - val_loss: 0.0058\n",
      "Epoch 81/100\n",
      "30/30 [==============================] - 0s 3ms/step - loss: 0.0022 - val_loss: 0.0044\n",
      "Epoch 82/100\n",
      "30/30 [==============================] - 0s 3ms/step - loss: 0.0021 - val_loss: 0.0065\n"
     ]
    },
    {
     "name": "stdout",
     "output_type": "stream",
     "text": [
      "Epoch 83/100\n",
      "30/30 [==============================] - 0s 3ms/step - loss: 0.0024 - val_loss: 0.0050\n",
      "Epoch 84/100\n",
      "30/30 [==============================] - 0s 3ms/step - loss: 0.0024 - val_loss: 0.0048\n",
      "Epoch 85/100\n",
      "30/30 [==============================] - 0s 3ms/step - loss: 0.0023 - val_loss: 0.0052\n",
      "Epoch 86/100\n",
      "30/30 [==============================] - 0s 3ms/step - loss: 0.0023 - val_loss: 0.0041\n",
      "Epoch 87/100\n",
      "30/30 [==============================] - 0s 3ms/step - loss: 0.0029 - val_loss: 0.0054\n",
      "Epoch 88/100\n",
      "30/30 [==============================] - 0s 3ms/step - loss: 0.0025 - val_loss: 0.0086\n",
      "Epoch 89/100\n",
      "30/30 [==============================] - 0s 3ms/step - loss: 0.0025 - val_loss: 0.0056\n",
      "Epoch 90/100\n",
      "30/30 [==============================] - 0s 3ms/step - loss: 0.0026 - val_loss: 0.0060\n",
      "Epoch 91/100\n",
      "30/30 [==============================] - 0s 3ms/step - loss: 0.0021 - val_loss: 0.0047\n",
      "Epoch 92/100\n",
      "30/30 [==============================] - 0s 3ms/step - loss: 0.0020 - val_loss: 0.0064\n",
      "Epoch 93/100\n",
      "30/30 [==============================] - 0s 3ms/step - loss: 0.0025 - val_loss: 0.0064\n",
      "Epoch 94/100\n",
      "30/30 [==============================] - 0s 3ms/step - loss: 0.0023 - val_loss: 0.0112\n",
      "Epoch 95/100\n",
      "30/30 [==============================] - 0s 3ms/step - loss: 0.0022 - val_loss: 0.0052\n",
      "Epoch 96/100\n",
      "30/30 [==============================] - 0s 3ms/step - loss: 0.0022 - val_loss: 0.0039\n",
      "Epoch 97/100\n",
      "30/30 [==============================] - 0s 3ms/step - loss: 0.0022 - val_loss: 0.0071\n",
      "Epoch 98/100\n",
      "30/30 [==============================] - 0s 3ms/step - loss: 0.0022 - val_loss: 0.0095\n",
      "Epoch 99/100\n",
      "30/30 [==============================] - 0s 3ms/step - loss: 0.0022 - val_loss: 0.0080\n",
      "Epoch 100/100\n",
      "30/30 [==============================] - 0s 3ms/step - loss: 0.0021 - val_loss: 0.0073\n",
      "Model: \"outputs\"\n",
      "__________________________________________________________________________________________________\n",
      "Layer (type)                    Output Shape         Param #     Connected to                     \n",
      "==================================================================================================\n",
      "input (InputLayer)              [(None, 5, 5)]       0                                            \n",
      "__________________________________________________________________________________________________\n",
      "max_pooling1d (MaxPooling1D)    (None, 1, 5)         0           input[0][0]                      \n",
      "__________________________________________________________________________________________________\n",
      "conv1d_1 (Conv1D)               (None, 5, 64)        384         input[0][0]                      \n",
      "__________________________________________________________________________________________________\n",
      "conv1d_2 (Conv1D)               (None, 5, 64)        384         input[0][0]                      \n",
      "__________________________________________________________________________________________________\n",
      "conv1d (Conv1D)                 (None, 5, 64)        384         input[0][0]                      \n",
      "__________________________________________________________________________________________________\n",
      "conv1d_3 (Conv1D)               (None, 1, 64)        384         max_pooling1d[0][0]              \n",
      "__________________________________________________________________________________________________\n",
      "conv1d_4 (Conv1D)               (None, 3, 64)        12352       conv1d_1[0][0]                   \n",
      "__________________________________________________________________________________________________\n",
      "conv1d_5 (Conv1D)               (None, 1, 64)        20544       conv1d_2[0][0]                   \n",
      "__________________________________________________________________________________________________\n",
      "tf_op_layer_concat (TensorFlowO [(None, 10, 64)]     0           conv1d[0][0]                     \n",
      "                                                                 conv1d_3[0][0]                   \n",
      "                                                                 conv1d_4[0][0]                   \n",
      "                                                                 conv1d_5[0][0]                   \n",
      "__________________________________________________________________________________________________\n",
      "flatten (Flatten)               (None, 640)          0           tf_op_layer_concat[0][0]         \n",
      "__________________________________________________________________________________________________\n",
      "dense (Dense)                   (None, 128)          82048       flatten[0][0]                    \n",
      "__________________________________________________________________________________________________\n",
      "dropout (Dropout)               (None, 128)          0           dense[0][0]                      \n",
      "__________________________________________________________________________________________________\n",
      "dense_1 (Dense)                 (None, 60)           7740        dropout[0][0]                    \n",
      "__________________________________________________________________________________________________\n",
      "dropout_1 (Dropout)             (None, 60)           0           dense_1[0][0]                    \n",
      "__________________________________________________________________________________________________\n",
      "dense_2 (Dense)                 (None, 1)            61          dropout_1[0][0]                  \n",
      "==================================================================================================\n",
      "Total params: 124,281\n",
      "Trainable params: 124,281\n",
      "Non-trainable params: 0\n",
      "__________________________________________________________________________________________________\n"
     ]
    },
    {
     "data": {
      "text/plain": [
       "18"
      ]
     },
     "execution_count": 8,
     "metadata": {},
     "output_type": "execute_result"
    },
    {
     "data": {
      "text/plain": [
       "11"
      ]
     },
     "execution_count": 8,
     "metadata": {},
     "output_type": "execute_result"
    },
    {
     "data": {
      "text/plain": [
       "4033"
      ]
     },
     "execution_count": 8,
     "metadata": {},
     "output_type": "execute_result"
    },
    {
     "data": {
      "text/plain": [
       "16"
      ]
     },
     "execution_count": 8,
     "metadata": {},
     "output_type": "execute_result"
    },
    {
     "data": {
      "text/plain": [
       "6"
      ]
     },
     "execution_count": 8,
     "metadata": {},
     "output_type": "execute_result"
    },
    {
     "data": {
      "text/plain": [
       "756"
      ]
     },
     "execution_count": 8,
     "metadata": {},
     "output_type": "execute_result"
    },
    {
     "data": {
      "text/plain": [
       "18"
      ]
     },
     "execution_count": 8,
     "metadata": {},
     "output_type": "execute_result"
    },
    {
     "data": {
      "text/plain": [
       "11"
      ]
     },
     "execution_count": 8,
     "metadata": {},
     "output_type": "execute_result"
    },
    {
     "data": {
      "text/plain": [
       "4030"
      ]
     },
     "execution_count": 8,
     "metadata": {},
     "output_type": "execute_result"
    },
    {
     "data": {
      "text/plain": [
       "16"
      ]
     },
     "execution_count": 8,
     "metadata": {},
     "output_type": "execute_result"
    },
    {
     "data": {
      "text/plain": [
       "6"
      ]
     },
     "execution_count": 8,
     "metadata": {},
     "output_type": "execute_result"
    },
    {
     "data": {
      "text/plain": [
       "771"
      ]
     },
     "execution_count": 8,
     "metadata": {},
     "output_type": "execute_result"
    },
    {
     "data": {
      "text/plain": [
       "16"
      ]
     },
     "execution_count": 8,
     "metadata": {},
     "output_type": "execute_result"
    },
    {
     "data": {
      "text/plain": [
       "11"
      ]
     },
     "execution_count": 8,
     "metadata": {},
     "output_type": "execute_result"
    },
    {
     "data": {
      "text/plain": [
       "4034"
      ]
     },
     "execution_count": 8,
     "metadata": {},
     "output_type": "execute_result"
    },
    {
     "data": {
      "text/plain": [
       "14"
      ]
     },
     "execution_count": 8,
     "metadata": {},
     "output_type": "execute_result"
    },
    {
     "data": {
      "text/plain": [
       "6"
      ]
     },
     "execution_count": 8,
     "metadata": {},
     "output_type": "execute_result"
    },
    {
     "data": {
      "text/plain": [
       "771"
      ]
     },
     "execution_count": 8,
     "metadata": {},
     "output_type": "execute_result"
    },
    {
     "data": {
      "text/plain": [
       "18"
      ]
     },
     "execution_count": 8,
     "metadata": {},
     "output_type": "execute_result"
    },
    {
     "data": {
      "text/plain": [
       "11"
      ]
     },
     "execution_count": 8,
     "metadata": {},
     "output_type": "execute_result"
    },
    {
     "data": {
      "text/plain": [
       "4031"
      ]
     },
     "execution_count": 8,
     "metadata": {},
     "output_type": "execute_result"
    },
    {
     "data": {
      "text/plain": [
       "16"
      ]
     },
     "execution_count": 8,
     "metadata": {},
     "output_type": "execute_result"
    },
    {
     "data": {
      "text/plain": [
       "6"
      ]
     },
     "execution_count": 8,
     "metadata": {},
     "output_type": "execute_result"
    },
    {
     "data": {
      "text/plain": [
       "772"
      ]
     },
     "execution_count": 8,
     "metadata": {},
     "output_type": "execute_result"
    },
    {
     "data": {
      "text/plain": [
       "18"
      ]
     },
     "execution_count": 8,
     "metadata": {},
     "output_type": "execute_result"
    },
    {
     "data": {
      "text/plain": [
       "12"
      ]
     },
     "execution_count": 8,
     "metadata": {},
     "output_type": "execute_result"
    },
    {
     "data": {
      "text/plain": [
       "1517"
      ]
     },
     "execution_count": 8,
     "metadata": {},
     "output_type": "execute_result"
    },
    {
     "data": {
      "text/plain": [
       "16"
      ]
     },
     "execution_count": 8,
     "metadata": {},
     "output_type": "execute_result"
    },
    {
     "data": {
      "text/plain": [
       "6"
      ]
     },
     "execution_count": 8,
     "metadata": {},
     "output_type": "execute_result"
    },
    {
     "data": {
      "text/plain": [
       "780"
      ]
     },
     "execution_count": 8,
     "metadata": {},
     "output_type": "execute_result"
    },
    {
     "data": {
      "text/plain": [
       "18"
      ]
     },
     "execution_count": 8,
     "metadata": {},
     "output_type": "execute_result"
    },
    {
     "data": {
      "text/plain": [
       "12"
      ]
     },
     "execution_count": 8,
     "metadata": {},
     "output_type": "execute_result"
    },
    {
     "data": {
      "text/plain": [
       "2524"
      ]
     },
     "execution_count": 8,
     "metadata": {},
     "output_type": "execute_result"
    },
    {
     "data": {
      "text/plain": [
       "16"
      ]
     },
     "execution_count": 8,
     "metadata": {},
     "output_type": "execute_result"
    },
    {
     "data": {
      "text/plain": [
       "6"
      ]
     },
     "execution_count": 8,
     "metadata": {},
     "output_type": "execute_result"
    },
    {
     "data": {
      "text/plain": [
       "771"
      ]
     },
     "execution_count": 8,
     "metadata": {},
     "output_type": "execute_result"
    },
    {
     "data": {
      "text/plain": [
       "15"
      ]
     },
     "execution_count": 8,
     "metadata": {},
     "output_type": "execute_result"
    },
    {
     "data": {
      "text/plain": [
       "11"
      ]
     },
     "execution_count": 8,
     "metadata": {},
     "output_type": "execute_result"
    },
    {
     "data": {
      "text/plain": [
       "491"
      ]
     },
     "execution_count": 8,
     "metadata": {},
     "output_type": "execute_result"
    },
    {
     "data": {
      "text/plain": [
       "13"
      ]
     },
     "execution_count": 8,
     "metadata": {},
     "output_type": "execute_result"
    },
    {
     "data": {
      "text/plain": [
       "7"
      ]
     },
     "execution_count": 8,
     "metadata": {},
     "output_type": "execute_result"
    },
    {
     "data": {
      "text/plain": [
       "1525"
      ]
     },
     "execution_count": 8,
     "metadata": {},
     "output_type": "execute_result"
    },
    {
     "data": {
      "text/plain": [
       "17"
      ]
     },
     "execution_count": 8,
     "metadata": {},
     "output_type": "execute_result"
    },
    {
     "data": {
      "text/plain": [
       "10"
      ]
     },
     "execution_count": 8,
     "metadata": {},
     "output_type": "execute_result"
    },
    {
     "data": {
      "text/plain": [
       "490"
      ]
     },
     "execution_count": 8,
     "metadata": {},
     "output_type": "execute_result"
    },
    {
     "data": {
      "text/plain": [
       "15"
      ]
     },
     "execution_count": 8,
     "metadata": {},
     "output_type": "execute_result"
    },
    {
     "data": {
      "text/plain": [
       "6"
      ]
     },
     "execution_count": 8,
     "metadata": {},
     "output_type": "execute_result"
    },
    {
     "data": {
      "text/plain": [
       "730"
      ]
     },
     "execution_count": 8,
     "metadata": {},
     "output_type": "execute_result"
    },
    {
     "data": {
      "text/plain": [
       "17"
      ]
     },
     "execution_count": 8,
     "metadata": {},
     "output_type": "execute_result"
    },
    {
     "data": {
      "text/plain": [
       "8"
      ]
     },
     "execution_count": 8,
     "metadata": {},
     "output_type": "execute_result"
    },
    {
     "data": {
      "text/plain": [
       "901"
      ]
     },
     "execution_count": 8,
     "metadata": {},
     "output_type": "execute_result"
    },
    {
     "data": {
      "text/plain": [
       "15"
      ]
     },
     "execution_count": 8,
     "metadata": {},
     "output_type": "execute_result"
    },
    {
     "data": {
      "text/plain": [
       "5"
      ]
     },
     "execution_count": 8,
     "metadata": {},
     "output_type": "execute_result"
    },
    {
     "data": {
      "text/plain": [
       "13"
      ]
     },
     "execution_count": 8,
     "metadata": {},
     "output_type": "execute_result"
    }
   ],
   "source": [
    "model.compile(optimizer=tf.keras.optimizers.Adam(0.001),\n",
    "              loss='mean_squared_error')  # 损失函数用均方误差\n",
    "\n",
    "checkpoint_save_path = \"./checkpoint/CNN/CNN_nation_debt.ckpt\"\n",
    "if os.path.exists(checkpoint_save_path + '.index'):\n",
    "    print('-------------load the model-----------------')\n",
    "    model.load_weights(checkpoint_save_path)\n",
    "\n",
    "cp_callback = tf.keras.callbacks.ModelCheckpoint(filepath=checkpoint_save_path,\n",
    "                                                 save_weights_only=True,\n",
    "                                                 save_best_only=True)\n",
    "\n",
    "history = model.fit(x_train, y_train, batch_size=32, epochs=100, validation_data=(x_valid, y_valid), validation_freq=1,\n",
    "                    callbacks=[cp_callback])\n",
    "model.summary()\n",
    "\n",
    "# print(model.trainable_variables)\n",
    "file = open('./data/weights_of_nation_debt_by_cnn.txt', 'w')\n",
    "for v in model.trainable_variables:\n",
    "    file.write(str(v.name) + '\\n')\n",
    "    file.write(str(v.shape) + '\\n')\n",
    "    file.write(str(v.numpy()) + '\\n')\n",
    "file.close()"
   ]
  },
  {
   "cell_type": "code",
   "execution_count": 9,
   "metadata": {},
   "outputs": [
    {
     "data": {
      "text/plain": [
       "[<matplotlib.lines.Line2D at 0x1fa96046f88>]"
      ]
     },
     "execution_count": 9,
     "metadata": {},
     "output_type": "execute_result"
    },
    {
     "data": {
      "text/plain": [
       "[<matplotlib.lines.Line2D at 0x1fa93861948>]"
      ]
     },
     "execution_count": 9,
     "metadata": {},
     "output_type": "execute_result"
    },
    {
     "data": {
      "text/plain": [
       "Text(0.5, 1.0, 'Training and Validation Loss')"
      ]
     },
     "execution_count": 9,
     "metadata": {},
     "output_type": "execute_result"
    },
    {
     "data": {
      "text/plain": [
       "<matplotlib.legend.Legend at 0x1fa960cd8c8>"
      ]
     },
     "execution_count": 9,
     "metadata": {},
     "output_type": "execute_result"
    },
    {
     "data": {
      "image/png": "[encoded data removed]",
      "text/plain": [
       "<Figure size 432x288 with 1 Axes>"
      ]
     },
     "metadata": {
      "needs_background": "light"
     },
     "output_type": "display_data"
    }
   ],
   "source": [
    "loss = history.history['loss']\n",
    "val_loss = history.history['val_loss']\n",
    "\n",
    "plt.plot(loss, label='Training Loss')\n",
    "plt.plot(val_loss, label='Validation Loss') #验证集用来选则最佳的超参数的值\n",
    "plt.title('Training and Validation Loss')\n",
    "plt.legend()\n",
    "plt.show()"
   ]
  },
  {
   "cell_type": "code",
   "execution_count": 10,
   "metadata": {},
   "outputs": [
    {
     "data": {
      "text/plain": [
       "<Figure size 432x288 with 0 Axes>"
      ]
     },
     "execution_count": 10,
     "metadata": {},
     "output_type": "execute_result"
    },
    {
     "data": {
      "text/plain": [
       "[<matplotlib.lines.Line2D at 0x1fa9615ed08>]"
      ]
     },
     "execution_count": 10,
     "metadata": {},
     "output_type": "execute_result"
    },
    {
     "data": {
      "text/plain": [
       "[<matplotlib.lines.Line2D at 0x1fa93583f88>]"
      ]
     },
     "execution_count": 10,
     "metadata": {},
     "output_type": "execute_result"
    },
    {
     "data": {
      "text/plain": [
       "Text(0.5, 1.0, 'national debt Price Prediction')"
      ]
     },
     "execution_count": 10,
     "metadata": {},
     "output_type": "execute_result"
    },
    {
     "data": {
      "text/plain": [
       "Text(0.5, 0, 'Time')"
      ]
     },
     "execution_count": 10,
     "metadata": {},
     "output_type": "execute_result"
    },
    {
     "data": {
      "text/plain": [
       "Text(0, 0.5, 'national debt Price')"
      ]
     },
     "execution_count": 10,
     "metadata": {},
     "output_type": "execute_result"
    },
    {
     "data": {
      "text/plain": [
       "<matplotlib.legend.Legend at 0x1fa9618d348>"
      ]
     },
     "execution_count": 10,
     "metadata": {},
     "output_type": "execute_result"
    },
    {
     "data": {
      "image/png": "[encoded data removed]",
      "text/plain": [
       "<Figure size 432x288 with 1 Axes>"
      ]
     },
     "metadata": {},
     "output_type": "display_data"
    },
    {
     "name": "stdout",
     "output_type": "stream",
     "text": [
      "均方误差: 0.001579\n",
      "均方根误差: 0.039743\n",
      "平均绝对误差: 0.028925\n"
     ]
    }
   ],
   "source": [
    "# 测试集输入模型进行预测\n",
    "predicted_stock_price = model.predict(x_test)\n",
    "\n",
    "# 对预测数据还原---从（0，1）反归一化到原始范围\n",
    "predicted_stock_price = sc_for_visual.inverse_transform(predicted_stock_price)\n",
    "\n",
    "# 对真实数据还原---从（0，1）反归一化到原始范围\n",
    "real_stock_price = sc_for_visual.inverse_transform(y_test_for_visual[5:])\n",
    "# 画出真实数据和预测数据的对比曲线\n",
    "# 画出真实数据和预测数据的对比曲线\n",
    "plt.figure(facecolor='white')\n",
    "plt.plot(real_stock_price, color='red', label='national debt Price')\n",
    "plt.plot(predicted_stock_price, color='blue', label='Predicted by CNN')\n",
    "plt.title('national debt Price Prediction')\n",
    "plt.xlabel('Time')\n",
    "plt.ylabel('national debt Price')\n",
    "plt.legend(loc='best')\n",
    "plt.show()\n",
    "\n",
    "##########evaluate##############\n",
    "# calculate MSE 均方误差 ---> E[(预测值-真实值)^2] (预测值减真实值求平方后求均值)\n",
    "mse = mean_squared_error(predicted_stock_price, real_stock_price)\n",
    "# calculate RMSE 均方根误差--->sqrt[MSE]    (对均方误差开方)\n",
    "rmse = math.sqrt(mean_squared_error(predicted_stock_price, real_stock_price))\n",
    "# calculate MAE 平均绝对误差----->E[|预测值-真实值|](预测值减真实值求绝对值后求均值）\n",
    "mae = mean_absolute_error(predicted_stock_price, real_stock_price)\n",
    "print('均方误差: %.6f' % mse)\n",
    "print('均方根误差: %.6f' % rmse)\n",
    "print('平均绝对误差: %.6f' % mae)"
   ]
  },
  {
   "cell_type": "code",
   "execution_count": 11,
   "metadata": {},
   "outputs": [
    {
     "name": "stdout",
     "output_type": "stream",
     "text": [
      "0.959496842678786\n"
     ]
    }
   ],
   "source": [
    "from sklearn.metrics import explained_variance_score\n",
    "import seaborn as sns\n",
    "\n",
    "cm = explained_variance_score(real_stock_price, predicted_stock_price)\n",
    "\n",
    "print(cm )"
   ]
  },
  {
   "cell_type": "markdown",
   "metadata": {},
   "source": [
    "# 将数据用于分类"
   ]
  },
  {
   "cell_type": "code",
   "execution_count": 2,
   "metadata": {
    "scrolled": true
   },
   "outputs": [
    {
     "data": {
      "text/html": [
       "<div>\n",
       "<style scoped>\n",
       "    .dataframe tbody tr th:only-of-type {\n",
       "        vertical-align: middle;\n",
       "    }\n",
       "\n",
       "    .dataframe tbody tr th {\n",
       "        vertical-align: top;\n",
       "    }\n",
       "\n",
       "    .dataframe thead th {\n",
       "        text-align: right;\n",
       "    }\n",
       "</style>\n",
       "<table border=\"1\" class=\"dataframe\">\n",
       "  <thead>\n",
       "    <tr style=\"text-align: right;\">\n",
       "      <th></th>\n",
       "      <th>开盘</th>\n",
       "      <th>收盘</th>\n",
       "      <th>高</th>\n",
       "      <th>低</th>\n",
       "      <th>涨跌幅</th>\n",
       "      <th>on</th>\n",
       "    </tr>\n",
       "    <tr>\n",
       "      <th>日期</th>\n",
       "      <th></th>\n",
       "      <th></th>\n",
       "      <th></th>\n",
       "      <th></th>\n",
       "      <th></th>\n",
       "      <th></th>\n",
       "    </tr>\n",
       "  </thead>\n",
       "  <tbody>\n",
       "    <tr>\n",
       "      <td>2016/1/21</td>\n",
       "      <td>2.683</td>\n",
       "      <td>2.700</td>\n",
       "      <td>2.703</td>\n",
       "      <td>2.680</td>\n",
       "      <td>0.78%</td>\n",
       "      <td>2.014</td>\n",
       "    </tr>\n",
       "    <tr>\n",
       "      <td>2016/1/22</td>\n",
       "      <td>2.705</td>\n",
       "      <td>2.689</td>\n",
       "      <td>2.705</td>\n",
       "      <td>2.682</td>\n",
       "      <td>-0.41%</td>\n",
       "      <td>2.028</td>\n",
       "    </tr>\n",
       "    <tr>\n",
       "      <td>2016/1/25</td>\n",
       "      <td>2.750</td>\n",
       "      <td>2.694</td>\n",
       "      <td>2.750</td>\n",
       "      <td>2.680</td>\n",
       "      <td>0.19%</td>\n",
       "      <td>2.009</td>\n",
       "    </tr>\n",
       "    <tr>\n",
       "      <td>2016/1/26</td>\n",
       "      <td>2.703</td>\n",
       "      <td>2.738</td>\n",
       "      <td>2.740</td>\n",
       "      <td>2.690</td>\n",
       "      <td>1.63%</td>\n",
       "      <td>1.997</td>\n",
       "    </tr>\n",
       "    <tr>\n",
       "      <td>2016/1/27</td>\n",
       "      <td>2.763</td>\n",
       "      <td>2.774</td>\n",
       "      <td>2.783</td>\n",
       "      <td>2.763</td>\n",
       "      <td>1.31%</td>\n",
       "      <td>1.995</td>\n",
       "    </tr>\n",
       "  </tbody>\n",
       "</table>\n",
       "</div>"
      ],
      "text/plain": [
       "              开盘     收盘      高      低     涨跌幅     on\n",
       "日期                                                  \n",
       "2016/1/21  2.683  2.700  2.703  2.680   0.78%  2.014\n",
       "2016/1/22  2.705  2.689  2.705  2.682  -0.41%  2.028\n",
       "2016/1/25  2.750  2.694  2.750  2.680   0.19%  2.009\n",
       "2016/1/26  2.703  2.738  2.740  2.690   1.63%  1.997\n",
       "2016/1/27  2.763  2.774  2.783  2.763   1.31%  1.995"
      ]
     },
     "execution_count": 2,
     "metadata": {},
     "output_type": "execute_result"
    },
    {
     "data": {
      "text/html": [
       "<div>\n",
       "<style scoped>\n",
       "    .dataframe tbody tr th:only-of-type {\n",
       "        vertical-align: middle;\n",
       "    }\n",
       "\n",
       "    .dataframe tbody tr th {\n",
       "        vertical-align: top;\n",
       "    }\n",
       "\n",
       "    .dataframe thead th {\n",
       "        text-align: right;\n",
       "    }\n",
       "</style>\n",
       "<table border=\"1\" class=\"dataframe\">\n",
       "  <thead>\n",
       "    <tr style=\"text-align: right;\">\n",
       "      <th></th>\n",
       "      <th>开盘</th>\n",
       "      <th>收盘</th>\n",
       "      <th>高</th>\n",
       "      <th>低</th>\n",
       "      <th>on</th>\n",
       "    </tr>\n",
       "  </thead>\n",
       "  <tbody>\n",
       "    <tr>\n",
       "      <td>count</td>\n",
       "      <td>1563.000000</td>\n",
       "      <td>1563.000000</td>\n",
       "      <td>1563.000000</td>\n",
       "      <td>1563.000000</td>\n",
       "      <td>1563.000000</td>\n",
       "    </tr>\n",
       "    <tr>\n",
       "      <td>mean</td>\n",
       "      <td>3.041862</td>\n",
       "      <td>3.022280</td>\n",
       "      <td>3.049060</td>\n",
       "      <td>3.010074</td>\n",
       "      <td>2.157164</td>\n",
       "    </tr>\n",
       "    <tr>\n",
       "      <td>std</td>\n",
       "      <td>0.419688</td>\n",
       "      <td>0.420101</td>\n",
       "      <td>0.418939</td>\n",
       "      <td>0.420670</td>\n",
       "      <td>0.478818</td>\n",
       "    </tr>\n",
       "    <tr>\n",
       "      <td>min</td>\n",
       "      <td>1.740000</td>\n",
       "      <td>1.740000</td>\n",
       "      <td>1.740000</td>\n",
       "      <td>1.740000</td>\n",
       "      <td>0.602000</td>\n",
       "    </tr>\n",
       "    <tr>\n",
       "      <td>25%</td>\n",
       "      <td>2.746000</td>\n",
       "      <td>2.712000</td>\n",
       "      <td>2.750000</td>\n",
       "      <td>2.697000</td>\n",
       "      <td>1.946000</td>\n",
       "    </tr>\n",
       "    <tr>\n",
       "      <td>50%</td>\n",
       "      <td>3.012000</td>\n",
       "      <td>2.993000</td>\n",
       "      <td>3.018000</td>\n",
       "      <td>2.983000</td>\n",
       "      <td>2.172000</td>\n",
       "    </tr>\n",
       "    <tr>\n",
       "      <td>75%</td>\n",
       "      <td>3.261000</td>\n",
       "      <td>3.234000</td>\n",
       "      <td>3.269000</td>\n",
       "      <td>3.219000</td>\n",
       "      <td>2.559800</td>\n",
       "    </tr>\n",
       "    <tr>\n",
       "      <td>max</td>\n",
       "      <td>4.000000</td>\n",
       "      <td>3.968000</td>\n",
       "      <td>4.000000</td>\n",
       "      <td>3.952000</td>\n",
       "      <td>3.282000</td>\n",
       "    </tr>\n",
       "  </tbody>\n",
       "</table>\n",
       "</div>"
      ],
      "text/plain": [
       "                开盘           收盘            高            低           on\n",
       "count  1563.000000  1563.000000  1563.000000  1563.000000  1563.000000\n",
       "mean      3.041862     3.022280     3.049060     3.010074     2.157164\n",
       "std       0.419688     0.420101     0.418939     0.420670     0.478818\n",
       "min       1.740000     1.740000     1.740000     1.740000     0.602000\n",
       "25%       2.746000     2.712000     2.750000     2.697000     1.946000\n",
       "50%       3.012000     2.993000     3.018000     2.983000     2.172000\n",
       "75%       3.261000     3.234000     3.269000     3.219000     2.559800\n",
       "max       4.000000     3.968000     4.000000     3.952000     3.282000"
      ]
     },
     "execution_count": 2,
     "metadata": {},
     "output_type": "execute_result"
    },
    {
     "data": {
      "text/html": [
       "<div>\n",
       "<style scoped>\n",
       "    .dataframe tbody tr th:only-of-type {\n",
       "        vertical-align: middle;\n",
       "    }\n",
       "\n",
       "    .dataframe tbody tr th {\n",
       "        vertical-align: top;\n",
       "    }\n",
       "\n",
       "    .dataframe thead th {\n",
       "        text-align: right;\n",
       "    }\n",
       "</style>\n",
       "<table border=\"1\" class=\"dataframe\">\n",
       "  <thead>\n",
       "    <tr style=\"text-align: right;\">\n",
       "      <th></th>\n",
       "      <th>开盘</th>\n",
       "      <th>收盘</th>\n",
       "      <th>高</th>\n",
       "      <th>低</th>\n",
       "      <th>涨跌幅</th>\n",
       "      <th>on</th>\n",
       "    </tr>\n",
       "    <tr>\n",
       "      <th>日期</th>\n",
       "      <th></th>\n",
       "      <th></th>\n",
       "      <th></th>\n",
       "      <th></th>\n",
       "      <th></th>\n",
       "      <th></th>\n",
       "    </tr>\n",
       "  </thead>\n",
       "  <tbody>\n",
       "    <tr>\n",
       "      <td>2016/1/21</td>\n",
       "      <td>2.683</td>\n",
       "      <td>2.700</td>\n",
       "      <td>2.703</td>\n",
       "      <td>2.680</td>\n",
       "      <td>0.0078</td>\n",
       "      <td>2.014</td>\n",
       "    </tr>\n",
       "    <tr>\n",
       "      <td>2016/1/22</td>\n",
       "      <td>2.705</td>\n",
       "      <td>2.689</td>\n",
       "      <td>2.705</td>\n",
       "      <td>2.682</td>\n",
       "      <td>-0.0041</td>\n",
       "      <td>2.028</td>\n",
       "    </tr>\n",
       "    <tr>\n",
       "      <td>2016/1/25</td>\n",
       "      <td>2.750</td>\n",
       "      <td>2.694</td>\n",
       "      <td>2.750</td>\n",
       "      <td>2.680</td>\n",
       "      <td>0.0019</td>\n",
       "      <td>2.009</td>\n",
       "    </tr>\n",
       "    <tr>\n",
       "      <td>2016/1/26</td>\n",
       "      <td>2.703</td>\n",
       "      <td>2.738</td>\n",
       "      <td>2.740</td>\n",
       "      <td>2.690</td>\n",
       "      <td>0.0163</td>\n",
       "      <td>1.997</td>\n",
       "    </tr>\n",
       "    <tr>\n",
       "      <td>2016/1/27</td>\n",
       "      <td>2.763</td>\n",
       "      <td>2.774</td>\n",
       "      <td>2.783</td>\n",
       "      <td>2.763</td>\n",
       "      <td>0.0131</td>\n",
       "      <td>1.995</td>\n",
       "    </tr>\n",
       "  </tbody>\n",
       "</table>\n",
       "</div>"
      ],
      "text/plain": [
       "              开盘     收盘      高      低     涨跌幅     on\n",
       "日期                                                  \n",
       "2016/1/21  2.683  2.700  2.703  2.680  0.0078  2.014\n",
       "2016/1/22  2.705  2.689  2.705  2.682 -0.0041  2.028\n",
       "2016/1/25  2.750  2.694  2.750  2.680  0.0019  2.009\n",
       "2016/1/26  2.703  2.738  2.740  2.690  0.0163  1.997\n",
       "2016/1/27  2.763  2.774  2.783  2.763  0.0131  1.995"
      ]
     },
     "execution_count": 2,
     "metadata": {},
     "output_type": "execute_result"
    }
   ],
   "source": [
    "national_debt = pd.read_csv('data/shibor_nation_debt.csv',index_col = 0,encoding = 'gb2312')  # 读取股票文件\n",
    "national_debt.head()\n",
    "national_debt.describe()\n",
    "\n",
    "national_debt['涨跌幅'] = national_debt['涨跌幅'].str.strip(\"%\").astype(float)/100\n",
    "national_debt.head()"
   ]
  },
  {
   "cell_type": "markdown",
   "metadata": {},
   "source": [
    "数据可以根据开盘价的涨跌来进行分类，分为涨(1)和跌(0)，然后进行有监督的分类预测"
   ]
  },
  {
   "cell_type": "code",
   "execution_count": 3,
   "metadata": {
    "scrolled": true
   },
   "outputs": [
    {
     "name": "stdout",
     "output_type": "stream",
     "text": [
      "              开盘     收盘      高      低     涨跌幅     on  is_up\n",
      "日期                                                         \n",
      "2016/1/21  2.683  2.700  2.703  2.680  0.0078  2.014      0\n",
      "2016/1/22  2.705  2.689  2.705  2.682 -0.0041  2.028      1\n",
      "2016/1/25  2.750  2.694  2.750  2.680  0.0019  2.009      1\n",
      "2016/1/26  2.703  2.738  2.740  2.690  0.0163  1.997      0\n",
      "...          ...    ...    ...    ...     ...    ...    ...\n",
      "2022/2/16  2.559  2.500  2.559  2.498 -0.0048  1.942      0\n",
      "2022/2/17  2.526  2.482  2.526  2.478 -0.0072  1.855      0\n",
      "2022/2/18  2.511  2.505  2.511  2.479  0.0093  2.110      0\n",
      "2022/2/21  2.500  2.506  2.520  2.497  0.0000  2.195      0\n",
      "\n",
      "[1563 rows x 7 columns]\n"
     ]
    },
    {
     "name": "stderr",
     "output_type": "stream",
     "text": [
      "D:\\Anaconda3\\Anaconda3\\lib\\site-packages\\ipykernel_launcher.py:5: SettingWithCopyWarning: \n",
      "A value is trying to be set on a copy of a slice from a DataFrame\n",
      "\n",
      "See the caveats in the documentation: http://pandas.pydata.org/pandas-docs/stable/user_guide/indexing.html#returning-a-view-versus-a-copy\n",
      "  \"\"\"\n"
     ]
    },
    {
     "data": {
      "text/html": [
       "<div>\n",
       "<style scoped>\n",
       "    .dataframe tbody tr th:only-of-type {\n",
       "        vertical-align: middle;\n",
       "    }\n",
       "\n",
       "    .dataframe tbody tr th {\n",
       "        vertical-align: top;\n",
       "    }\n",
       "\n",
       "    .dataframe thead th {\n",
       "        text-align: right;\n",
       "    }\n",
       "</style>\n",
       "<table border=\"1\" class=\"dataframe\">\n",
       "  <thead>\n",
       "    <tr style=\"text-align: right;\">\n",
       "      <th></th>\n",
       "      <th>is_up</th>\n",
       "      <th>收盘</th>\n",
       "      <th>高</th>\n",
       "      <th>低</th>\n",
       "      <th>涨跌幅</th>\n",
       "      <th>on</th>\n",
       "    </tr>\n",
       "    <tr>\n",
       "      <th>日期</th>\n",
       "      <th></th>\n",
       "      <th></th>\n",
       "      <th></th>\n",
       "      <th></th>\n",
       "      <th></th>\n",
       "      <th></th>\n",
       "    </tr>\n",
       "  </thead>\n",
       "  <tbody>\n",
       "    <tr>\n",
       "      <td>2016/1/21</td>\n",
       "      <td>0</td>\n",
       "      <td>2.700</td>\n",
       "      <td>2.703</td>\n",
       "      <td>2.680</td>\n",
       "      <td>0.0078</td>\n",
       "      <td>2.014</td>\n",
       "    </tr>\n",
       "    <tr>\n",
       "      <td>2016/1/22</td>\n",
       "      <td>1</td>\n",
       "      <td>2.689</td>\n",
       "      <td>2.705</td>\n",
       "      <td>2.682</td>\n",
       "      <td>-0.0041</td>\n",
       "      <td>2.028</td>\n",
       "    </tr>\n",
       "    <tr>\n",
       "      <td>2016/1/25</td>\n",
       "      <td>1</td>\n",
       "      <td>2.694</td>\n",
       "      <td>2.750</td>\n",
       "      <td>2.680</td>\n",
       "      <td>0.0019</td>\n",
       "      <td>2.009</td>\n",
       "    </tr>\n",
       "    <tr>\n",
       "      <td>2016/1/26</td>\n",
       "      <td>0</td>\n",
       "      <td>2.738</td>\n",
       "      <td>2.740</td>\n",
       "      <td>2.690</td>\n",
       "      <td>0.0163</td>\n",
       "      <td>1.997</td>\n",
       "    </tr>\n",
       "    <tr>\n",
       "      <td>...</td>\n",
       "      <td>...</td>\n",
       "      <td>...</td>\n",
       "      <td>...</td>\n",
       "      <td>...</td>\n",
       "      <td>...</td>\n",
       "      <td>...</td>\n",
       "    </tr>\n",
       "    <tr>\n",
       "      <td>2022/2/16</td>\n",
       "      <td>0</td>\n",
       "      <td>2.500</td>\n",
       "      <td>2.559</td>\n",
       "      <td>2.498</td>\n",
       "      <td>-0.0048</td>\n",
       "      <td>1.942</td>\n",
       "    </tr>\n",
       "    <tr>\n",
       "      <td>2022/2/17</td>\n",
       "      <td>0</td>\n",
       "      <td>2.482</td>\n",
       "      <td>2.526</td>\n",
       "      <td>2.478</td>\n",
       "      <td>-0.0072</td>\n",
       "      <td>1.855</td>\n",
       "    </tr>\n",
       "    <tr>\n",
       "      <td>2022/2/18</td>\n",
       "      <td>0</td>\n",
       "      <td>2.505</td>\n",
       "      <td>2.511</td>\n",
       "      <td>2.479</td>\n",
       "      <td>0.0093</td>\n",
       "      <td>2.110</td>\n",
       "    </tr>\n",
       "    <tr>\n",
       "      <td>2022/2/21</td>\n",
       "      <td>0</td>\n",
       "      <td>2.506</td>\n",
       "      <td>2.520</td>\n",
       "      <td>2.497</td>\n",
       "      <td>0.0000</td>\n",
       "      <td>2.195</td>\n",
       "    </tr>\n",
       "  </tbody>\n",
       "</table>\n",
       "<p>1563 rows × 6 columns</p>\n",
       "</div>"
      ],
      "text/plain": [
       "           is_up     收盘      高      低     涨跌幅     on\n",
       "日期                                                  \n",
       "2016/1/21      0  2.700  2.703  2.680  0.0078  2.014\n",
       "2016/1/22      1  2.689  2.705  2.682 -0.0041  2.028\n",
       "2016/1/25      1  2.694  2.750  2.680  0.0019  2.009\n",
       "2016/1/26      0  2.738  2.740  2.690  0.0163  1.997\n",
       "...          ...    ...    ...    ...     ...    ...\n",
       "2022/2/16      0  2.500  2.559  2.498 -0.0048  1.942\n",
       "2022/2/17      0  2.482  2.526  2.478 -0.0072  1.855\n",
       "2022/2/18      0  2.505  2.511  2.479  0.0093  2.110\n",
       "2022/2/21      0  2.506  2.520  2.497  0.0000  2.195\n",
       "\n",
       "[1563 rows x 6 columns]"
      ]
     },
     "execution_count": 3,
     "metadata": {},
     "output_type": "execute_result"
    }
   ],
   "source": [
    "national_debt['is_up'] = 0\n",
    "\n",
    "for index,value in enumerate(national_debt['开盘']):\n",
    "    if (index > 0 and value > national_debt['开盘'][index - 1]):\n",
    "        national_debt['is_up'][index] = 1\n",
    "           \n",
    "print(national_debt)\n",
    "national_debt = national_debt[['is_up', '收盘', '高', '低', '涨跌幅', 'on']]\n",
    "national_debt"
   ]
  },
  {
   "cell_type": "code",
   "execution_count": 4,
   "metadata": {},
   "outputs": [],
   "source": [
    "#这里归一化的时候不归一化标签列\n",
    "training_set = national_debt.iloc[1:1563 - 600,0:].values  \n",
    "\n",
    "valid_set= national_debt.iloc[1563 - 600:1563 - 300, 0:].values  \n",
    "\n",
    "test_set = national_debt.iloc[1563 - 300:1563, 0:].values  \n",
    "\n",
    "sc = MinMaxScaler(feature_range=(0, 1)) \n",
    "training_set_scaled = sc.fit_transform(training_set)\n",
    "training_set_scaled[:,0] = training_set[:,0]\n",
    "valid_set = sc.transform(valid_set)\n",
    "valid_set[:,0] = valid_set[:,0]\n",
    "test_set = sc.transform(test_set)  \n",
    "test_set[:,0] = test_set[:,0]"
   ]
  },
  {
   "cell_type": "code",
   "execution_count": 5,
   "metadata": {
    "scrolled": true
   },
   "outputs": [
    {
     "name": "stdout",
     "output_type": "stream",
     "text": [
      "[[[0.17907574 0.16451613 0.18953414 0.37692308 0.54967502]\n",
      "  [0.18228498 0.19354839 0.18825782 0.43461538 0.54085422]\n",
      "  [0.21052632 0.18709677 0.19463944 0.57307692 0.53528319]\n",
      "  [0.23363286 0.21483871 0.24122527 0.54230769 0.53435469]\n",
      "  [0.24775353 0.22322581 0.24569241 0.49230769 0.53296193]]\n",
      "\n",
      " [[0.18228498 0.19354839 0.18825782 0.43461538 0.54085422]\n",
      "  [0.21052632 0.18709677 0.19463944 0.57307692 0.53528319]\n",
      "  [0.23363286 0.21483871 0.24122527 0.54230769 0.53435469]\n",
      "  [0.24775353 0.22322581 0.24569241 0.49230769 0.53296193]\n",
      "  [0.24326059 0.22580645 0.25654116 0.39230769 0.53156917]]\n",
      "\n",
      " [[0.21052632 0.18709677 0.19463944 0.57307692 0.53528319]\n",
      "  [0.23363286 0.21483871 0.24122527 0.54230769 0.53435469]\n",
      "  [0.24775353 0.22322581 0.24569241 0.49230769 0.53296193]\n",
      "  [0.24326059 0.22580645 0.25654116 0.39230769 0.53156917]\n",
      "  [0.22400513 0.21935484 0.20102106 0.3125     0.53064067]]\n",
      "\n",
      " ...\n",
      "\n",
      " [[0.3491656  0.3316129  0.35992342 0.41634615 0.79897864]\n",
      "  [0.35301669 0.32903226 0.35609445 0.43557692 0.83054782]\n",
      "  [0.35686778 0.33612903 0.35928526 0.43557692 0.87883008]\n",
      "  [0.35879332 0.33935484 0.37141034 0.42596154 0.88300836]\n",
      "  [0.34531451 0.32258065 0.34779834 0.34807692 0.88904364]]\n",
      "\n",
      " [[0.35301669 0.32903226 0.35609445 0.43557692 0.83054782]\n",
      "  [0.35686778 0.33612903 0.35928526 0.43557692 0.87883008]\n",
      "  [0.35879332 0.33935484 0.37141034 0.42596154 0.88300836]\n",
      "  [0.34531451 0.32258065 0.34779834 0.34807692 0.88904364]\n",
      "  [0.34403081 0.32580645 0.35609445 0.40961538 0.70798514]]\n",
      "\n",
      " [[0.35686778 0.33612903 0.35928526 0.43557692 0.87883008]\n",
      "  [0.35879332 0.33935484 0.37141034 0.42596154 0.88300836]\n",
      "  [0.34531451 0.32258065 0.34779834 0.34807692 0.88904364]\n",
      "  [0.34403081 0.32580645 0.35609445 0.40961538 0.70798514]\n",
      "  [0.35622593 0.33225806 0.35928526 0.47788462 0.55803157]]]\n",
      "[1. 0. 0. 0. 1. 0. 0. 1. 0. 0. 0. 1. 1. 1. 0. 0. 0. 1. 1. 0. 0. 0. 1. 1.\n",
      " 0. 1. 0. 0. 0. 0. 1. 1. 0. 0. 0. 1. 0. 0. 0. 0. 0. 1. 0. 0. 1. 0. 1. 1.\n",
      " 1. 0. 1. 1. 1. 1. 0. 0. 1. 1. 0. 1. 1. 0. 0. 0. 0. 1. 0. 1. 0. 0. 1. 0.\n",
      " 0. 1. 0. 1. 1. 1. 1. 1. 0. 0. 1. 1. 0. 0. 1. 0. 1. 0. 1. 0. 1. 1. 0. 1.\n",
      " 0. 0. 0. 1. 1. 0. 1. 0. 0. 0. 1. 0. 0. 0. 1. 1. 0. 0. 0. 0. 1. 0. 1. 1.\n",
      " 0. 0. 0. 1. 0. 1. 0. 1. 1. 0. 0. 1. 0. 1. 1. 0. 0. 1. 1. 0. 0. 0. 0. 1.\n",
      " 0. 0. 1. 1. 1. 0. 1. 1. 1. 0. 0. 1. 0. 0. 1. 0. 1. 0. 1. 0. 1. 1. 0. 0.\n",
      " 1. 1. 1. 0. 0. 1. 0. 0. 0. 1. 0. 0. 1. 0. 0. 0. 1. 0. 1. 0. 1. 0. 1. 0.\n",
      " 0. 0. 0. 1. 0. 1. 0. 1. 0. 1. 1. 0. 1. 0. 1. 1. 1. 0. 1. 1. 0. 1. 1. 1.\n",
      " 1. 0. 0. 1. 0. 1. 0. 1. 1. 0. 0. 1. 1. 0. 0. 0. 1. 1. 1. 1. 1. 1. 1. 0.\n",
      " 0. 0. 1. 0. 0. 0. 0. 1. 1. 1. 0. 0. 0. 1. 1. 0. 1. 0. 1. 0. 0. 1. 0. 1.\n",
      " 1. 1. 0. 1. 1. 0. 0. 0. 1. 0. 0. 0. 1. 0. 0. 0. 1. 0. 0. 1. 0. 0. 1. 1.\n",
      " 1. 0. 1. 1. 0. 1. 0. 0. 1. 0. 1. 1. 0. 1. 1. 1. 0. 0. 1. 1. 0. 1. 1. 0.\n",
      " 1. 0. 1. 1. 0. 1. 1. 1. 1. 1. 1. 1. 1. 1. 1. 0. 1. 0. 0. 1. 1. 1. 1. 1.\n",
      " 1. 1. 1. 1. 1. 1. 0. 0. 1. 1. 1. 1. 1. 0. 0. 0. 1. 0. 0. 1. 0. 1. 0. 1.\n",
      " 0. 1. 0. 1. 0. 1. 0. 0. 0. 1. 1. 1. 0. 0. 0. 1. 1. 0. 1. 1. 1. 0. 0. 0.\n",
      " 0. 1. 1. 0. 1. 1. 0. 1. 1. 0. 0. 0. 1. 1. 1. 0. 0. 1. 0. 1. 0. 0. 1. 1.\n",
      " 1. 1. 1. 0. 0. 0. 1. 0. 1. 0. 0. 1. 0. 1. 1. 1. 0. 0. 0. 1. 0. 0. 0. 1.\n",
      " 0. 0. 1. 1. 0. 1. 1. 0. 1. 0. 0. 1. 1. 1. 1. 0. 0. 1. 0. 1. 1. 0. 1. 0.\n",
      " 1. 1. 1. 0. 1. 0. 0. 1. 1. 0. 1. 1. 1. 0. 0. 1. 0. 1. 0. 1. 0. 0. 1. 1.\n",
      " 1. 1. 0. 0. 0. 0. 1. 0. 1. 1. 1. 0. 1. 1. 1. 0. 0. 1. 0. 0. 1. 0. 1. 0.\n",
      " 1. 0. 0. 0. 1. 0. 1. 0. 1. 1. 0. 0. 1. 1. 1. 0. 1. 1. 0. 0. 0. 1. 0. 1.\n",
      " 1. 0. 1. 1. 1. 0. 0. 0. 1. 0. 0. 0. 1. 0. 1. 0. 1. 0. 1. 0. 0. 0. 0. 1.\n",
      " 1. 0. 1. 1. 0. 0. 0. 0. 1. 0. 1. 1. 0. 0. 0. 1. 1. 0. 1. 1. 0. 0. 0. 0.\n",
      " 1. 0. 1. 1. 0. 0. 0. 0. 0. 0. 0. 0. 0. 0. 0. 0. 0. 0. 1. 1. 0. 0. 1. 0.\n",
      " 1. 1. 0. 0. 0. 0. 0. 1. 0. 1. 0. 1. 1. 1. 1. 1. 1. 0. 0. 0. 1. 1. 1. 1.\n",
      " 0. 1. 1. 1. 0. 1. 0. 0. 1. 1. 0. 0. 0. 1. 1. 0. 0. 1. 0. 1. 0. 0. 0. 0.\n",
      " 0. 0. 0. 1. 1. 0. 0. 0. 1. 0. 0. 1. 0. 1. 0. 1. 0. 0. 0. 0. 1. 0. 1. 0.\n",
      " 1. 1. 1. 1. 1. 0. 1. 1. 1. 1. 1. 0. 0. 0. 1. 0. 1. 0. 1. 1. 1. 1. 1. 0.\n",
      " 1. 1. 0. 0. 1. 0. 0. 1. 1. 0. 0. 1. 0. 0. 0. 1. 0. 1. 0. 0. 0. 0. 1. 1.\n",
      " 0. 1. 1. 0. 1. 0. 0. 0. 1. 0. 1. 0. 0. 0. 0. 1. 1. 0. 0. 0. 0. 0. 0. 1.\n",
      " 1. 1. 0. 1. 0. 0. 1. 0. 0. 0. 1. 0. 0. 0. 0. 0. 1. 0. 1. 1. 1. 0. 0. 0.\n",
      " 1. 1. 0. 1. 1. 0. 0. 0. 1. 0. 0. 1. 0. 0. 1. 0. 1. 0. 0. 1. 1. 0. 0. 0.\n",
      " 1. 0. 1. 0. 0. 0. 0. 1. 0. 0. 1. 1. 0. 1. 1. 1. 1. 1. 1. 1. 0. 1. 0. 0.\n",
      " 1. 0. 0. 0. 1. 1. 0. 0. 1. 0. 1. 0. 0. 0. 0. 1. 0. 0. 1. 1. 1. 1. 0. 1.\n",
      " 1. 0. 1. 0. 1. 1. 1. 0. 0. 0. 1. 0. 0. 1. 1. 0. 0. 0. 0. 0. 1. 1. 1. 1.\n",
      " 1. 1. 0. 0. 1. 1. 1. 0. 1. 0. 0. 0. 0. 0. 1. 1. 0. 1. 1. 0. 0. 0. 0. 0.\n",
      " 1. 0. 1. 1. 1. 1. 0. 1. 0. 0. 0. 1. 0. 1. 0. 0. 0. 1. 1. 0. 0. 0. 0. 0.\n",
      " 1. 1. 0. 1. 0. 1. 0. 0. 0. 1. 0. 0. 0. 1. 1. 0. 1. 0. 1. 0. 1. 1. 0. 1.\n",
      " 0. 1. 0. 0. 1. 1. 0. 0. 0. 1. 1. 0. 1. 0. 0. 1. 1. 0. 1. 1. 1.]\n"
     ]
    }
   ],
   "source": [
    "x_train = []\n",
    "y_train = []\n",
    "\n",
    "x_valid = []\n",
    "y_valid = []\n",
    "\n",
    "x_test = []\n",
    "y_test = []\n",
    "\n",
    "for i in range(5, len(training_set_scaled)):\n",
    "    x_train.append(training_set_scaled[i - 5:i, 1:]) \n",
    "    y_train.append(training_set_scaled[i, 0])\n",
    "\n",
    "\n",
    "x_train, y_train = np.array(x_train), np.array(y_train)\n",
    "x_train = np.reshape(x_train, (x_train.shape[0], 5,5))\n",
    "print(x_train)\n",
    "\n",
    "for i in range(5, len(valid_set)):\n",
    "    x_valid.append(valid_set[i - 5:i,1:])\n",
    "    y_valid.append(valid_set[i, 0])\n",
    "x_valid, y_valid = np.array(x_valid), np.array(y_valid)\n",
    "x_valid = np.reshape(x_valid, (x_valid.shape[0], 5,5))\n",
    "\n",
    "\n",
    "\n",
    "for i in range(5, len(test_set)):\n",
    "    x_test.append(test_set[i - 5:i,1:])\n",
    "    y_test.append(test_set[i, 0])\n",
    "\n",
    "x_test, y_test = np.array(x_test), np.array(y_test)\n",
    "x_test = np.reshape(x_test, (x_test.shape[0],5,5))\n",
    "\n",
    "print(y_train)"
   ]
  },
  {
   "cell_type": "code",
   "execution_count": 6,
   "metadata": {
    "scrolled": true
   },
   "outputs": [
    {
     "data": {
      "text/plain": [
       "<tensorflow.python.keras.layers.normalization_v2.BatchNormalization at 0x160d5bb5cc8>"
      ]
     },
     "execution_count": 6,
     "metadata": {},
     "output_type": "execute_result"
    },
    {
     "data": {
      "text/plain": [
       "<tensorflow.python.keras.layers.core.Activation at 0x160d5af2248>"
      ]
     },
     "execution_count": 6,
     "metadata": {},
     "output_type": "execute_result"
    },
    {
     "data": {
      "text/plain": [
       "<tensorflow.python.keras.layers.normalization_v2.BatchNormalization at 0x160d5bbfb88>"
      ]
     },
     "execution_count": 6,
     "metadata": {},
     "output_type": "execute_result"
    },
    {
     "data": {
      "text/plain": [
       "<tensorflow.python.keras.layers.core.Activation at 0x160d5bbfb08>"
      ]
     },
     "execution_count": 6,
     "metadata": {},
     "output_type": "execute_result"
    },
    {
     "data": {
      "text/plain": [
       "<tensorflow.python.keras.layers.normalization_v2.BatchNormalization at 0x160d6fdd908>"
      ]
     },
     "execution_count": 6,
     "metadata": {},
     "output_type": "execute_result"
    },
    {
     "data": {
      "text/plain": [
       "<tensorflow.python.keras.layers.core.Activation at 0x160d5af2248>"
      ]
     },
     "execution_count": 6,
     "metadata": {},
     "output_type": "execute_result"
    },
    {
     "name": "stdout",
     "output_type": "stream",
     "text": [
      "Model: \"outputs\"\n",
      "__________________________________________________________________________________________________\n",
      "Layer (type)                    Output Shape         Param #     Connected to                     \n",
      "==================================================================================================\n",
      "input (InputLayer)              [(None, 5, 5)]       0                                            \n",
      "__________________________________________________________________________________________________\n",
      "max_pooling1d (MaxPooling1D)    (None, 1, 5)         0           input[0][0]                      \n",
      "__________________________________________________________________________________________________\n",
      "conv1d_1 (Conv1D)               (None, 5, 64)        384         input[0][0]                      \n",
      "__________________________________________________________________________________________________\n",
      "conv1d_2 (Conv1D)               (None, 5, 64)        384         input[0][0]                      \n",
      "__________________________________________________________________________________________________\n",
      "conv1d (Conv1D)                 (None, 5, 64)        384         input[0][0]                      \n",
      "__________________________________________________________________________________________________\n",
      "conv1d_3 (Conv1D)               (None, 1, 64)        384         max_pooling1d[0][0]              \n",
      "__________________________________________________________________________________________________\n",
      "conv1d_4 (Conv1D)               (None, 3, 64)        12352       conv1d_1[0][0]                   \n",
      "__________________________________________________________________________________________________\n",
      "conv1d_5 (Conv1D)               (None, 1, 64)        20544       conv1d_2[0][0]                   \n",
      "__________________________________________________________________________________________________\n",
      "tf_op_layer_concat (TensorFlowO [(None, 10, 64)]     0           conv1d[0][0]                     \n",
      "                                                                 conv1d_3[0][0]                   \n",
      "                                                                 conv1d_4[0][0]                   \n",
      "                                                                 conv1d_5[0][0]                   \n",
      "__________________________________________________________________________________________________\n",
      "flatten (Flatten)               (None, 640)          0           tf_op_layer_concat[0][0]         \n",
      "__________________________________________________________________________________________________\n",
      "dense (Dense)                   (None, 128)          82048       flatten[0][0]                    \n",
      "__________________________________________________________________________________________________\n",
      "dropout (Dropout)               (None, 128)          0           dense[0][0]                      \n",
      "__________________________________________________________________________________________________\n",
      "dense_1 (Dense)                 (None, 60)           7740        dropout[0][0]                    \n",
      "__________________________________________________________________________________________________\n",
      "dropout_1 (Dropout)             (None, 60)           0           dense_1[0][0]                    \n",
      "__________________________________________________________________________________________________\n",
      "dense_2 (Dense)                 (None, 2)            122         dropout_1[0][0]                  \n",
      "==================================================================================================\n",
      "Total params: 124,342\n",
      "Trainable params: 124,342\n",
      "Non-trainable params: 0\n",
      "__________________________________________________________________________________________________\n"
     ]
    }
   ],
   "source": [
    "import os\n",
    "from keras.preprocessing import sequence\n",
    "from keras.models import Sequential\n",
    "from keras.layers import Dense, Dropout, Activation,BatchNormalization\n",
    "from keras.layers import Conv1D, MaxPooling1D,Conv2D,MaxPooling2D,Flatten\n",
    "from tensorflow.keras import Model\n",
    "from tensorflow import keras\n",
    "from tensorflow.keras import layers\n",
    "\n",
    "inputs = keras.Input(shape=(5, 5), name=\"input\")\n",
    "\n",
    "conv_1 = layers.Conv1D(filters=64, kernel_size=1,activation='relu', strides=1)(inputs)\n",
    "\n",
    "inputs_pool_1 = layers.MaxPooling1D(pool_size = 3)(inputs)\n",
    "inputs_conv1_3 = layers.Conv1D(filters=64, kernel_size=1,activation='relu', strides=1)(inputs)\n",
    "inputs_conv1_5 = layers.Conv1D(filters=64, kernel_size=1,activation='relu', strides=1)(inputs)\n",
    "\n",
    "conv_pool_1 = layers.Conv1D(filters=64, kernel_size=1,activation='relu', strides=1)(tf.convert_to_tensor(inputs_pool_1))\n",
    "BatchNormalization() \n",
    "Activation('relu') \n",
    "\n",
    "conv1_3 = layers.Conv1D(filters=64, kernel_size=3,activation='relu', strides=1)(inputs_conv1_3)\n",
    "BatchNormalization() \n",
    "Activation('relu') \n",
    "\n",
    "conv1_5 = layers.Conv1D(filters=64, kernel_size=5,activation='relu', strides=1)(inputs_conv1_5)\n",
    "BatchNormalization()\n",
    "Activation('relu')  \n",
    "\n",
    "cnn_output = tf.concat([conv_1,conv_pool_1,conv1_3,conv1_5], 1)\n",
    "x = layers.Flatten()(cnn_output)\n",
    "x = layers.Dense(128, activation='relu')(x)\n",
    "x = layers.Dropout(0.2)(x)\n",
    "x = layers.Dense(60)(x)\n",
    "x = layers.Dropout(0.2)(x)\n",
    "outputs = layers.Dense(2, activation='softmax')(x)\n",
    "\n",
    "model = keras.Model(inputs, outputs, name=\"outputs\")\n",
    "model.summary()"
   ]
  },
  {
   "cell_type": "code",
   "execution_count": 13,
   "metadata": {
    "scrolled": true
   },
   "outputs": [
    {
     "name": "stdout",
     "output_type": "stream",
     "text": [
      "Epoch 1/100\n",
      "15/15 [==============================] - 0s 14ms/step - loss: 0.4230 - sparse_categorical_accuracy: 0.8025 - val_loss: 2.6209 - val_sparse_categorical_accuracy: 0.6102\n",
      "Epoch 2/100\n",
      "15/15 [==============================] - 0s 5ms/step - loss: 0.4041 - sparse_categorical_accuracy: 0.8088 - val_loss: 2.7489 - val_sparse_categorical_accuracy: 0.6034\n",
      "Epoch 3/100\n",
      "15/15 [==============================] - 0s 4ms/step - loss: 0.3878 - sparse_categorical_accuracy: 0.8150 - val_loss: 2.7423 - val_sparse_categorical_accuracy: 0.6034\n",
      "Epoch 4/100\n",
      "15/15 [==============================] - 0s 4ms/step - loss: 0.3898 - sparse_categorical_accuracy: 0.8245 - val_loss: 2.8916 - val_sparse_categorical_accuracy: 0.6034\n",
      "Epoch 5/100\n",
      "15/15 [==============================] - 0s 3ms/step - loss: 0.3857 - sparse_categorical_accuracy: 0.8265 - val_loss: 3.0027 - val_sparse_categorical_accuracy: 0.6000\n",
      "Epoch 6/100\n",
      "15/15 [==============================] - 0s 4ms/step - loss: 0.3783 - sparse_categorical_accuracy: 0.8286 - val_loss: 3.1380 - val_sparse_categorical_accuracy: 0.6136\n",
      "Epoch 7/100\n",
      "15/15 [==============================] - 0s 4ms/step - loss: 0.3889 - sparse_categorical_accuracy: 0.8140 - val_loss: 3.1054 - val_sparse_categorical_accuracy: 0.6000\n",
      "Epoch 8/100\n",
      "15/15 [==============================] - 0s 4ms/step - loss: 0.3787 - sparse_categorical_accuracy: 0.8245 - val_loss: 3.2636 - val_sparse_categorical_accuracy: 0.6305\n",
      "Epoch 9/100\n",
      "15/15 [==============================] - 0s 3ms/step - loss: 0.3652 - sparse_categorical_accuracy: 0.8276 - val_loss: 3.6209 - val_sparse_categorical_accuracy: 0.5932\n",
      "Epoch 10/100\n",
      "15/15 [==============================] - 0s 3ms/step - loss: 0.3647 - sparse_categorical_accuracy: 0.8224 - val_loss: 3.5777 - val_sparse_categorical_accuracy: 0.6136\n",
      "Epoch 11/100\n",
      "15/15 [==============================] - 0s 4ms/step - loss: 0.3643 - sparse_categorical_accuracy: 0.8286 - val_loss: 3.7481 - val_sparse_categorical_accuracy: 0.6136\n",
      "Epoch 12/100\n",
      "15/15 [==============================] - 0s 5ms/step - loss: 0.3588 - sparse_categorical_accuracy: 0.8276 - val_loss: 3.7446 - val_sparse_categorical_accuracy: 0.6102\n",
      "Epoch 13/100\n",
      "15/15 [==============================] - 0s 5ms/step - loss: 0.3600 - sparse_categorical_accuracy: 0.8339 - val_loss: 3.8670 - val_sparse_categorical_accuracy: 0.6000\n",
      "Epoch 14/100\n",
      "15/15 [==============================] - 0s 3ms/step - loss: 0.3479 - sparse_categorical_accuracy: 0.8359 - val_loss: 3.9746 - val_sparse_categorical_accuracy: 0.6034\n",
      "Epoch 15/100\n",
      "15/15 [==============================] - 0s 4ms/step - loss: 0.3742 - sparse_categorical_accuracy: 0.8171 - val_loss: 3.9540 - val_sparse_categorical_accuracy: 0.5864\n",
      "Epoch 16/100\n",
      "15/15 [==============================] - 0s 5ms/step - loss: 0.3758 - sparse_categorical_accuracy: 0.8213 - val_loss: 4.0250 - val_sparse_categorical_accuracy: 0.6000\n",
      "Epoch 17/100\n",
      "15/15 [==============================] - 0s 4ms/step - loss: 0.3678 - sparse_categorical_accuracy: 0.8328 - val_loss: 4.0475 - val_sparse_categorical_accuracy: 0.6068\n",
      "Epoch 18/100\n",
      "15/15 [==============================] - 0s 4ms/step - loss: 0.3557 - sparse_categorical_accuracy: 0.8359 - val_loss: 4.1899 - val_sparse_categorical_accuracy: 0.6068\n",
      "Epoch 19/100\n",
      "15/15 [==============================] - 0s 4ms/step - loss: 0.3819 - sparse_categorical_accuracy: 0.8171 - val_loss: 4.1653 - val_sparse_categorical_accuracy: 0.5898\n",
      "Epoch 20/100\n",
      "15/15 [==============================] - 0s 4ms/step - loss: 0.3446 - sparse_categorical_accuracy: 0.8443 - val_loss: 4.1850 - val_sparse_categorical_accuracy: 0.5932\n",
      "Epoch 21/100\n",
      "15/15 [==============================] - 0s 4ms/step - loss: 0.3478 - sparse_categorical_accuracy: 0.8307 - val_loss: 4.3016 - val_sparse_categorical_accuracy: 0.5898\n",
      "Epoch 22/100\n",
      "15/15 [==============================] - 0s 4ms/step - loss: 0.3308 - sparse_categorical_accuracy: 0.8454 - val_loss: 4.5318 - val_sparse_categorical_accuracy: 0.6000\n",
      "Epoch 23/100\n",
      "15/15 [==============================] - 0s 4ms/step - loss: 0.3456 - sparse_categorical_accuracy: 0.8339 - val_loss: 4.3773 - val_sparse_categorical_accuracy: 0.5898\n",
      "Epoch 24/100\n",
      "15/15 [==============================] - 0s 4ms/step - loss: 0.3489 - sparse_categorical_accuracy: 0.8349 - val_loss: 4.5516 - val_sparse_categorical_accuracy: 0.6102\n",
      "Epoch 25/100\n",
      "15/15 [==============================] - 0s 4ms/step - loss: 0.3364 - sparse_categorical_accuracy: 0.8412 - val_loss: 4.5415 - val_sparse_categorical_accuracy: 0.5966\n",
      "Epoch 26/100\n",
      "15/15 [==============================] - 0s 4ms/step - loss: 0.3317 - sparse_categorical_accuracy: 0.8401 - val_loss: 4.6276 - val_sparse_categorical_accuracy: 0.5966\n",
      "Epoch 27/100\n",
      "15/15 [==============================] - 0s 4ms/step - loss: 0.3302 - sparse_categorical_accuracy: 0.8370 - val_loss: 4.7031 - val_sparse_categorical_accuracy: 0.5932\n",
      "Epoch 28/100\n",
      "15/15 [==============================] - 0s 4ms/step - loss: 0.3153 - sparse_categorical_accuracy: 0.8558 - val_loss: 4.9340 - val_sparse_categorical_accuracy: 0.5797\n",
      "Epoch 29/100\n",
      "15/15 [==============================] - 0s 4ms/step - loss: 0.3215 - sparse_categorical_accuracy: 0.8307 - val_loss: 4.9903 - val_sparse_categorical_accuracy: 0.6136\n",
      "Epoch 30/100\n",
      "15/15 [==============================] - 0s 4ms/step - loss: 0.3213 - sparse_categorical_accuracy: 0.8527 - val_loss: 5.1243 - val_sparse_categorical_accuracy: 0.5898\n",
      "Epoch 31/100\n",
      "15/15 [==============================] - 0s 4ms/step - loss: 0.3144 - sparse_categorical_accuracy: 0.8506 - val_loss: 5.2894 - val_sparse_categorical_accuracy: 0.5932\n",
      "Epoch 32/100\n",
      "15/15 [==============================] - 0s 4ms/step - loss: 0.3355 - sparse_categorical_accuracy: 0.8380 - val_loss: 5.6164 - val_sparse_categorical_accuracy: 0.5966\n",
      "Epoch 33/100\n",
      "15/15 [==============================] - 0s 3ms/step - loss: 0.3232 - sparse_categorical_accuracy: 0.8433 - val_loss: 5.3965 - val_sparse_categorical_accuracy: 0.6068\n",
      "Epoch 34/100\n",
      "15/15 [==============================] - 0s 4ms/step - loss: 0.3165 - sparse_categorical_accuracy: 0.8600 - val_loss: 5.6492 - val_sparse_categorical_accuracy: 0.6000\n",
      "Epoch 35/100\n",
      "15/15 [==============================] - 0s 4ms/step - loss: 0.3389 - sparse_categorical_accuracy: 0.8339 - val_loss: 5.5965 - val_sparse_categorical_accuracy: 0.5864\n",
      "Epoch 36/100\n",
      "15/15 [==============================] - 0s 4ms/step - loss: 0.3381 - sparse_categorical_accuracy: 0.8422 - val_loss: 5.6620 - val_sparse_categorical_accuracy: 0.6068\n",
      "Epoch 37/100\n",
      "15/15 [==============================] - 0s 4ms/step - loss: 0.3009 - sparse_categorical_accuracy: 0.8589 - val_loss: 5.7907 - val_sparse_categorical_accuracy: 0.6203\n",
      "Epoch 38/100\n",
      "15/15 [==============================] - 0s 3ms/step - loss: 0.3033 - sparse_categorical_accuracy: 0.8527 - val_loss: 5.9218 - val_sparse_categorical_accuracy: 0.6000\n",
      "Epoch 39/100\n",
      "15/15 [==============================] - 0s 4ms/step - loss: 0.2894 - sparse_categorical_accuracy: 0.8694 - val_loss: 6.3417 - val_sparse_categorical_accuracy: 0.6034\n",
      "Epoch 40/100\n",
      "15/15 [==============================] - 0s 4ms/step - loss: 0.2975 - sparse_categorical_accuracy: 0.8652 - val_loss: 6.4635 - val_sparse_categorical_accuracy: 0.6034\n",
      "Epoch 41/100\n",
      "15/15 [==============================] - 0s 4ms/step - loss: 0.3035 - sparse_categorical_accuracy: 0.8621 - val_loss: 6.5977 - val_sparse_categorical_accuracy: 0.6169\n",
      "Epoch 42/100\n",
      "15/15 [==============================] - 0s 5ms/step - loss: 0.3104 - sparse_categorical_accuracy: 0.8600 - val_loss: 6.4715 - val_sparse_categorical_accuracy: 0.6034\n",
      "Epoch 43/100\n",
      "15/15 [==============================] - 0s 5ms/step - loss: 0.2837 - sparse_categorical_accuracy: 0.8621 - val_loss: 6.6395 - val_sparse_categorical_accuracy: 0.6203\n",
      "Epoch 44/100\n",
      "15/15 [==============================] - 0s 4ms/step - loss: 0.2689 - sparse_categorical_accuracy: 0.8777 - val_loss: 6.8550 - val_sparse_categorical_accuracy: 0.6068\n",
      "Epoch 45/100\n",
      "15/15 [==============================] - 0s 4ms/step - loss: 0.2765 - sparse_categorical_accuracy: 0.8683 - val_loss: 7.0883 - val_sparse_categorical_accuracy: 0.6034\n",
      "Epoch 46/100\n"
     ]
    },
    {
     "name": "stdout",
     "output_type": "stream",
     "text": [
      "15/15 [==============================] - 0s 4ms/step - loss: 0.2906 - sparse_categorical_accuracy: 0.8621 - val_loss: 6.9586 - val_sparse_categorical_accuracy: 0.5932\n",
      "Epoch 47/100\n",
      "15/15 [==============================] - 0s 4ms/step - loss: 0.3055 - sparse_categorical_accuracy: 0.8642 - val_loss: 6.9053 - val_sparse_categorical_accuracy: 0.6136\n",
      "Epoch 48/100\n",
      "15/15 [==============================] - 0s 4ms/step - loss: 0.2713 - sparse_categorical_accuracy: 0.8746 - val_loss: 7.3530 - val_sparse_categorical_accuracy: 0.6136\n",
      "Epoch 49/100\n",
      "15/15 [==============================] - 0s 4ms/step - loss: 0.2508 - sparse_categorical_accuracy: 0.8924 - val_loss: 7.7691 - val_sparse_categorical_accuracy: 0.6136\n",
      "Epoch 50/100\n",
      "15/15 [==============================] - 0s 4ms/step - loss: 0.2633 - sparse_categorical_accuracy: 0.8851 - val_loss: 7.8717 - val_sparse_categorical_accuracy: 0.6102\n",
      "Epoch 51/100\n",
      "15/15 [==============================] - 0s 4ms/step - loss: 0.2907 - sparse_categorical_accuracy: 0.8694 - val_loss: 7.8459 - val_sparse_categorical_accuracy: 0.5831\n",
      "Epoch 52/100\n",
      "15/15 [==============================] - 0s 4ms/step - loss: 0.3301 - sparse_categorical_accuracy: 0.8485 - val_loss: 7.7747 - val_sparse_categorical_accuracy: 0.5932\n",
      "Epoch 53/100\n",
      "15/15 [==============================] - 0s 4ms/step - loss: 0.2901 - sparse_categorical_accuracy: 0.8704 - val_loss: 7.6437 - val_sparse_categorical_accuracy: 0.6136\n",
      "Epoch 54/100\n",
      "15/15 [==============================] - 0s 4ms/step - loss: 0.2634 - sparse_categorical_accuracy: 0.8788 - val_loss: 7.9586 - val_sparse_categorical_accuracy: 0.5831\n",
      "Epoch 55/100\n",
      "15/15 [==============================] - 0s 4ms/step - loss: 0.2632 - sparse_categorical_accuracy: 0.8830 - val_loss: 8.3659 - val_sparse_categorical_accuracy: 0.6068\n",
      "Epoch 56/100\n",
      "15/15 [==============================] - 0s 4ms/step - loss: 0.2661 - sparse_categorical_accuracy: 0.8798 - val_loss: 8.1130 - val_sparse_categorical_accuracy: 0.5966\n",
      "Epoch 57/100\n",
      "15/15 [==============================] - 0s 4ms/step - loss: 0.2759 - sparse_categorical_accuracy: 0.8746 - val_loss: 8.7426 - val_sparse_categorical_accuracy: 0.6000\n",
      "Epoch 58/100\n",
      "15/15 [==============================] - 0s 4ms/step - loss: 0.2409 - sparse_categorical_accuracy: 0.8903 - val_loss: 8.4925 - val_sparse_categorical_accuracy: 0.5932\n",
      "Epoch 59/100\n",
      "15/15 [==============================] - 0s 4ms/step - loss: 0.2639 - sparse_categorical_accuracy: 0.8924 - val_loss: 8.9553 - val_sparse_categorical_accuracy: 0.5864\n",
      "Epoch 60/100\n",
      "15/15 [==============================] - 0s 3ms/step - loss: 0.2553 - sparse_categorical_accuracy: 0.8798 - val_loss: 9.0487 - val_sparse_categorical_accuracy: 0.5966\n",
      "Epoch 61/100\n",
      "15/15 [==============================] - 0s 4ms/step - loss: 0.2553 - sparse_categorical_accuracy: 0.8798 - val_loss: 9.3280 - val_sparse_categorical_accuracy: 0.5831\n",
      "Epoch 62/100\n",
      "15/15 [==============================] - 0s 4ms/step - loss: 0.2548 - sparse_categorical_accuracy: 0.8986 - val_loss: 9.4776 - val_sparse_categorical_accuracy: 0.5763\n",
      "Epoch 63/100\n",
      "15/15 [==============================] - 0s 4ms/step - loss: 0.2713 - sparse_categorical_accuracy: 0.8746 - val_loss: 9.4067 - val_sparse_categorical_accuracy: 0.5763\n",
      "Epoch 64/100\n",
      "15/15 [==============================] - 0s 4ms/step - loss: 0.2459 - sparse_categorical_accuracy: 0.8934 - val_loss: 9.4814 - val_sparse_categorical_accuracy: 0.5797\n",
      "Epoch 65/100\n",
      "15/15 [==============================] - 0s 4ms/step - loss: 0.2479 - sparse_categorical_accuracy: 0.8913 - val_loss: 9.5166 - val_sparse_categorical_accuracy: 0.5932\n",
      "Epoch 66/100\n",
      "15/15 [==============================] - 0s 4ms/step - loss: 0.2411 - sparse_categorical_accuracy: 0.8945 - val_loss: 9.8476 - val_sparse_categorical_accuracy: 0.5966\n",
      "Epoch 67/100\n",
      "15/15 [==============================] - 0s 5ms/step - loss: 0.2439 - sparse_categorical_accuracy: 0.8851 - val_loss: 9.8437 - val_sparse_categorical_accuracy: 0.6068\n",
      "Epoch 68/100\n",
      "15/15 [==============================] - 0s 4ms/step - loss: 0.2349 - sparse_categorical_accuracy: 0.8997 - val_loss: 10.1900 - val_sparse_categorical_accuracy: 0.5864\n",
      "Epoch 69/100\n",
      "15/15 [==============================] - 0s 4ms/step - loss: 0.2431 - sparse_categorical_accuracy: 0.8851 - val_loss: 10.6987 - val_sparse_categorical_accuracy: 0.5932\n",
      "Epoch 70/100\n",
      "15/15 [==============================] - 0s 4ms/step - loss: 0.2229 - sparse_categorical_accuracy: 0.8945 - val_loss: 10.7383 - val_sparse_categorical_accuracy: 0.5966\n",
      "Epoch 71/100\n",
      "15/15 [==============================] - 0s 4ms/step - loss: 0.2202 - sparse_categorical_accuracy: 0.9007 - val_loss: 10.7086 - val_sparse_categorical_accuracy: 0.6034\n",
      "Epoch 72/100\n",
      "15/15 [==============================] - 0s 4ms/step - loss: 0.2362 - sparse_categorical_accuracy: 0.8997 - val_loss: 11.1807 - val_sparse_categorical_accuracy: 0.5966\n",
      "Epoch 73/100\n",
      "15/15 [==============================] - 0s 4ms/step - loss: 0.2068 - sparse_categorical_accuracy: 0.9154 - val_loss: 11.1975 - val_sparse_categorical_accuracy: 0.6068\n",
      "Epoch 74/100\n",
      "15/15 [==============================] - 0s 4ms/step - loss: 0.2136 - sparse_categorical_accuracy: 0.9091 - val_loss: 11.4695 - val_sparse_categorical_accuracy: 0.5932\n",
      "Epoch 75/100\n",
      "15/15 [==============================] - 0s 4ms/step - loss: 0.1984 - sparse_categorical_accuracy: 0.9175 - val_loss: 11.4264 - val_sparse_categorical_accuracy: 0.5932\n",
      "Epoch 76/100\n",
      "15/15 [==============================] - 0s 3ms/step - loss: 0.2185 - sparse_categorical_accuracy: 0.9060 - val_loss: 11.9425 - val_sparse_categorical_accuracy: 0.5932\n",
      "Epoch 77/100\n",
      "15/15 [==============================] - 0s 4ms/step - loss: 0.2182 - sparse_categorical_accuracy: 0.8976 - val_loss: 12.2255 - val_sparse_categorical_accuracy: 0.5932\n",
      "Epoch 78/100\n",
      "15/15 [==============================] - 0s 4ms/step - loss: 0.2220 - sparse_categorical_accuracy: 0.8934 - val_loss: 12.5342 - val_sparse_categorical_accuracy: 0.5729\n",
      "Epoch 79/100\n",
      "15/15 [==============================] - 0s 3ms/step - loss: 0.2178 - sparse_categorical_accuracy: 0.9049 - val_loss: 12.4339 - val_sparse_categorical_accuracy: 0.5763\n",
      "Epoch 80/100\n",
      "15/15 [==============================] - 0s 4ms/step - loss: 0.2033 - sparse_categorical_accuracy: 0.9122 - val_loss: 12.6523 - val_sparse_categorical_accuracy: 0.5966\n",
      "Epoch 81/100\n",
      "15/15 [==============================] - 0s 4ms/step - loss: 0.2208 - sparse_categorical_accuracy: 0.9049 - val_loss: 12.6239 - val_sparse_categorical_accuracy: 0.5864\n",
      "Epoch 82/100\n",
      "15/15 [==============================] - 0s 4ms/step - loss: 0.2179 - sparse_categorical_accuracy: 0.9039 - val_loss: 13.3594 - val_sparse_categorical_accuracy: 0.5932\n",
      "Epoch 83/100\n",
      "15/15 [==============================] - 0s 4ms/step - loss: 0.2389 - sparse_categorical_accuracy: 0.8955 - val_loss: 11.8226 - val_sparse_categorical_accuracy: 0.5864\n",
      "Epoch 84/100\n",
      "15/15 [==============================] - 0s 4ms/step - loss: 0.2324 - sparse_categorical_accuracy: 0.8986 - val_loss: 12.7631 - val_sparse_categorical_accuracy: 0.6000\n",
      "Epoch 85/100\n",
      "15/15 [==============================] - 0s 4ms/step - loss: 0.2217 - sparse_categorical_accuracy: 0.8997 - val_loss: 12.8923 - val_sparse_categorical_accuracy: 0.5864\n",
      "Epoch 86/100\n",
      "15/15 [==============================] - 0s 4ms/step - loss: 0.2195 - sparse_categorical_accuracy: 0.9007 - val_loss: 13.4501 - val_sparse_categorical_accuracy: 0.5932\n",
      "Epoch 87/100\n",
      "15/15 [==============================] - 0s 3ms/step - loss: 0.2061 - sparse_categorical_accuracy: 0.8986 - val_loss: 12.9698 - val_sparse_categorical_accuracy: 0.6000\n",
      "Epoch 88/100\n",
      "15/15 [==============================] - 0s 4ms/step - loss: 0.2196 - sparse_categorical_accuracy: 0.9154 - val_loss: 13.5318 - val_sparse_categorical_accuracy: 0.5729\n",
      "Epoch 89/100\n",
      "15/15 [==============================] - 0s 4ms/step - loss: 0.1965 - sparse_categorical_accuracy: 0.9101 - val_loss: 13.9441 - val_sparse_categorical_accuracy: 0.5898\n",
      "Epoch 90/100\n",
      "15/15 [==============================] - 0s 4ms/step - loss: 0.1893 - sparse_categorical_accuracy: 0.9248 - val_loss: 14.2915 - val_sparse_categorical_accuracy: 0.5695\n",
      "Epoch 91/100\n"
     ]
    },
    {
     "name": "stdout",
     "output_type": "stream",
     "text": [
      "15/15 [==============================] - 0s 3ms/step - loss: 0.1736 - sparse_categorical_accuracy: 0.9300 - val_loss: 14.2478 - val_sparse_categorical_accuracy: 0.5729\n",
      "Epoch 92/100\n",
      "15/15 [==============================] - 0s 4ms/step - loss: 0.1726 - sparse_categorical_accuracy: 0.9310 - val_loss: 13.9504 - val_sparse_categorical_accuracy: 0.5831\n",
      "Epoch 93/100\n",
      "15/15 [==============================] - 0s 4ms/step - loss: 0.1874 - sparse_categorical_accuracy: 0.9195 - val_loss: 14.3375 - val_sparse_categorical_accuracy: 0.5831\n",
      "Epoch 94/100\n",
      "15/15 [==============================] - 0s 5ms/step - loss: 0.1757 - sparse_categorical_accuracy: 0.9310 - val_loss: 14.5435 - val_sparse_categorical_accuracy: 0.5864\n",
      "Epoch 95/100\n",
      "15/15 [==============================] - 0s 4ms/step - loss: 0.1826 - sparse_categorical_accuracy: 0.9289 - val_loss: 14.5287 - val_sparse_categorical_accuracy: 0.5763\n",
      "Epoch 96/100\n",
      "15/15 [==============================] - 0s 4ms/step - loss: 0.2158 - sparse_categorical_accuracy: 0.8997 - val_loss: 14.4238 - val_sparse_categorical_accuracy: 0.5695\n",
      "Epoch 97/100\n",
      "15/15 [==============================] - 0s 4ms/step - loss: 0.2059 - sparse_categorical_accuracy: 0.9060 - val_loss: 14.6349 - val_sparse_categorical_accuracy: 0.5864\n",
      "Epoch 98/100\n",
      "15/15 [==============================] - 0s 4ms/step - loss: 0.1946 - sparse_categorical_accuracy: 0.9122 - val_loss: 14.9878 - val_sparse_categorical_accuracy: 0.5932\n",
      "Epoch 99/100\n",
      "15/15 [==============================] - 0s 4ms/step - loss: 0.1953 - sparse_categorical_accuracy: 0.9195 - val_loss: 14.7083 - val_sparse_categorical_accuracy: 0.5797\n",
      "Epoch 100/100\n",
      "15/15 [==============================] - 0s 4ms/step - loss: 0.2058 - sparse_categorical_accuracy: 0.9060 - val_loss: 14.8623 - val_sparse_categorical_accuracy: 0.5864\n",
      "Model: \"outputs\"\n",
      "__________________________________________________________________________________________________\n",
      "Layer (type)                    Output Shape         Param #     Connected to                     \n",
      "==================================================================================================\n",
      "input (InputLayer)              [(None, 5, 5)]       0                                            \n",
      "__________________________________________________________________________________________________\n",
      "max_pooling1d (MaxPooling1D)    (None, 1, 5)         0           input[0][0]                      \n",
      "__________________________________________________________________________________________________\n",
      "conv1d_1 (Conv1D)               (None, 5, 64)        384         input[0][0]                      \n",
      "__________________________________________________________________________________________________\n",
      "conv1d_2 (Conv1D)               (None, 5, 64)        384         input[0][0]                      \n",
      "__________________________________________________________________________________________________\n",
      "conv1d (Conv1D)                 (None, 5, 64)        384         input[0][0]                      \n",
      "__________________________________________________________________________________________________\n",
      "conv1d_3 (Conv1D)               (None, 1, 64)        384         max_pooling1d[0][0]              \n",
      "__________________________________________________________________________________________________\n",
      "conv1d_4 (Conv1D)               (None, 3, 64)        12352       conv1d_1[0][0]                   \n",
      "__________________________________________________________________________________________________\n",
      "conv1d_5 (Conv1D)               (None, 1, 64)        20544       conv1d_2[0][0]                   \n",
      "__________________________________________________________________________________________________\n",
      "tf_op_layer_concat (TensorFlowO [(None, 10, 64)]     0           conv1d[0][0]                     \n",
      "                                                                 conv1d_3[0][0]                   \n",
      "                                                                 conv1d_4[0][0]                   \n",
      "                                                                 conv1d_5[0][0]                   \n",
      "__________________________________________________________________________________________________\n",
      "flatten (Flatten)               (None, 640)          0           tf_op_layer_concat[0][0]         \n",
      "__________________________________________________________________________________________________\n",
      "dense (Dense)                   (None, 128)          82048       flatten[0][0]                    \n",
      "__________________________________________________________________________________________________\n",
      "dropout (Dropout)               (None, 128)          0           dense[0][0]                      \n",
      "__________________________________________________________________________________________________\n",
      "dense_1 (Dense)                 (None, 60)           7740        dropout[0][0]                    \n",
      "__________________________________________________________________________________________________\n",
      "dropout_1 (Dropout)             (None, 60)           0           dense_1[0][0]                    \n",
      "__________________________________________________________________________________________________\n",
      "dense_2 (Dense)                 (None, 2)            122         dropout_1[0][0]                  \n",
      "==================================================================================================\n",
      "Total params: 124,342\n",
      "Trainable params: 124,342\n",
      "Non-trainable params: 0\n",
      "__________________________________________________________________________________________________\n"
     ]
    }
   ],
   "source": [
    "model.compile(optimizer='adam',\n",
    "              loss=tf.keras.losses.SparseCategoricalCrossentropy(from_logits=False),\n",
    "              metrics=['sparse_categorical_accuracy'])\n",
    "\n",
    "history = model.fit(x_train, y_train, batch_size=64, epochs=100, validation_data=(x_valid, y_valid), validation_freq=1)\n",
    "\n",
    "model.summary()"
   ]
  },
  {
   "cell_type": "code",
   "execution_count": 14,
   "metadata": {
    "scrolled": true
   },
   "outputs": [
    {
     "data": {
      "text/plain": [
       "[<matplotlib.lines.Line2D at 0x160d9ba8188>]"
      ]
     },
     "execution_count": 14,
     "metadata": {},
     "output_type": "execute_result"
    },
    {
     "data": {
      "text/plain": [
       "[<matplotlib.lines.Line2D at 0x160dac18d48>]"
      ]
     },
     "execution_count": 14,
     "metadata": {},
     "output_type": "execute_result"
    },
    {
     "data": {
      "text/plain": [
       "Text(0.5, 1.0, 'Training and Validation Accuracy')"
      ]
     },
     "execution_count": 14,
     "metadata": {},
     "output_type": "execute_result"
    },
    {
     "data": {
      "text/plain": [
       "<matplotlib.legend.Legend at 0x160dac18ec8>"
      ]
     },
     "execution_count": 14,
     "metadata": {},
     "output_type": "execute_result"
    },
    {
     "data": {
      "image/png": "[encoded data removed]",
      "text/plain": [
       "<Figure size 432x288 with 1 Axes>"
      ]
     },
     "metadata": {
      "needs_background": "light"
     },
     "output_type": "display_data"
    },
    {
     "data": {
      "text/plain": [
       "[<matplotlib.lines.Line2D at 0x160dac81488>]"
      ]
     },
     "execution_count": 14,
     "metadata": {},
     "output_type": "execute_result"
    },
    {
     "data": {
      "text/plain": [
       "[<matplotlib.lines.Line2D at 0x160dac38dc8>]"
      ]
     },
     "execution_count": 14,
     "metadata": {},
     "output_type": "execute_result"
    },
    {
     "data": {
      "text/plain": [
       "Text(0.5, 1.0, 'Training and Validation Loss')"
      ]
     },
     "execution_count": 14,
     "metadata": {},
     "output_type": "execute_result"
    },
    {
     "data": {
      "text/plain": [
       "<matplotlib.legend.Legend at 0x160dac62a88>"
      ]
     },
     "execution_count": 14,
     "metadata": {},
     "output_type": "execute_result"
    },
    {
     "data": {
      "image/png": "[encoded data removed]",
      "text/plain": [
       "<Figure size 432x288 with 1 Axes>"
      ]
     },
     "metadata": {
      "needs_background": "light"
     },
     "output_type": "display_data"
    }
   ],
   "source": [
    "# 显示训练集和验证集的acc和loss曲线\n",
    "acc = history.history['sparse_categorical_accuracy']\n",
    "val_acc = history.history['val_sparse_categorical_accuracy']\n",
    "loss = history.history['loss']\n",
    "val_loss = history.history['val_loss']\n",
    "\n",
    "plt.plot(acc, label='Training Accuracy')\n",
    "plt.plot(val_acc, label='Validation Accuracy')\n",
    "plt.title('Training and Validation Accuracy')\n",
    "plt.legend()\n",
    "plt.show()\n",
    "\n",
    "plt.plot(loss, label='Training Loss')\n",
    "plt.plot(val_loss, label='Validation Loss')\n",
    "plt.title('Training and Validation Loss')\n",
    "plt.legend()\n",
    "plt.show()"
   ]
  },
  {
   "cell_type": "code",
   "execution_count": 15,
   "metadata": {},
   "outputs": [
    {
     "data": {
      "text/plain": [
       "array([[124,  48],\n",
       "       [ 43,  80]], dtype=int64)"
      ]
     },
     "execution_count": 15,
     "metadata": {},
     "output_type": "execute_result"
    }
   ],
   "source": [
    "from sklearn.metrics import confusion_matrix\n",
    "# 测试集输入模型进行预测\n",
    "predicted= model.predict(x_test)\n",
    "\n",
    "predicted_final = []\n",
    "for item in predicted:\n",
    "    if (item[0] < item[1]):\n",
    "        predicted_final.append(1)\n",
    "    else:\n",
    "        predicted_final.append(0)\n",
    "confusion_matrix(y_test, predicted_final)"
   ]
  },
  {
   "cell_type": "code",
   "execution_count": 16,
   "metadata": {},
   "outputs": [],
   "source": [
    "def cm_plot(y, yp): #编写混淆矩阵可视化函数\n",
    "\n",
    "    from sklearn.metrics import confusion_matrix #导入混淆矩阵函数\n",
    "\n",
    "    cm = confusion_matrix(y, yp) #混淆矩阵\n",
    "\n",
    "    import matplotlib.pyplot as plt #导入作图库\n",
    "    plt.matshow(cm,interpolation='nearest',cmap=plt.cm.Greens) #画混淆矩阵图，配色风格使用cm.coolwarm,其余可选的有cm.Greens,cm.Paired等\n",
    "    plt.colorbar() #颜色标签\n",
    "\n",
    "#     for x in range(len(cm)): #数据标签\n",
    "#         for y in range(len(cm)):\n",
    "#             plt.annotate(cm[x,y], xy=(x, y), horizontalalignment='center', verticalalignment='center')\n",
    "        \n",
    "    # Loop over data dimensions and create text annotations.\n",
    "    fmt = 'd'\n",
    "    thresh = cm.max() / 1.5\n",
    "    for i in range(cm.shape[0]):\n",
    "        for j in range(cm.shape[1]):\n",
    "             plt.text(j, i, format(cm[i, j], fmt),\n",
    "                    ha=\"center\", va=\"center\",\n",
    "                    color=\"snow\" if cm[i, j] > thresh else \"orange\",\n",
    "                    size=26)\n",
    "\n",
    "    plt.ylabel('True label') #坐标轴标签\n",
    "    plt.xlabel('Predicted label') #坐标轴标签\n",
    "#     plt.figure(figsize=(12,6))\n",
    "    plt.show()"
   ]
  },
  {
   "cell_type": "code",
   "execution_count": 17,
   "metadata": {},
   "outputs": [
    {
     "data": {
      "image/png": "[encoded data removed]",
      "text/plain": [
       "<Figure size 288x288 with 2 Axes>"
      ]
     },
     "metadata": {
      "needs_background": "light"
     },
     "output_type": "display_data"
    },
    {
     "name": "stdout",
     "output_type": "stream",
     "text": [
      "0.6915254237288135\n"
     ]
    }
   ],
   "source": [
    "cm_plot(y_test,predicted_final)\n",
    "from sklearn.metrics import accuracy_score\n",
    "\n",
    "# 准确率\n",
    "print(accuracy_score(y_test,predicted_final))"
   ]
  },
  {
   "cell_type": "code",
   "execution_count": 18,
   "metadata": {},
   "outputs": [
    {
     "data": {
      "text/plain": [
       "<sklearn.metrics._plot.confusion_matrix.ConfusionMatrixDisplay at 0x160dabd5cc8>"
      ]
     },
     "execution_count": 18,
     "metadata": {},
     "output_type": "execute_result"
    },
    {
     "data": {
      "image/png": "[encoded data removed]",
      "text/plain": [
       "<Figure size 432x288 with 2 Axes>"
      ]
     },
     "metadata": {
      "needs_background": "light"
     },
     "output_type": "display_data"
    }
   ],
   "source": [
    "from sklearn.metrics import ConfusionMatrixDisplay\n",
    "\n",
    "cm = confusion_matrix(y_test,predicted_final) #混淆矩阵\n",
    "labels=[\"down\", \"up\"]\n",
    "disp = ConfusionMatrixDisplay(confusion_matrix=cm, display_labels=labels)\n",
    "disp.plot(\n",
    "    include_values=True,            # 混淆矩阵每个单元格上显示具体数值\n",
    "    cmap=\"Greens\",                 \n",
    "    ax=None,                        \n",
    "    xticks_rotation=\"horizontal\",   \n",
    "    values_format=\"d\"               # 显示的数值格式\n",
    ")\n",
    "plt.show()"
   ]
  },
  {
   "cell_type": "code",
   "execution_count": null,
   "metadata": {},
   "outputs": [],
   "source": []
  }
 ],
 "metadata": {
  "kernelspec": {
   "display_name": "Python 3",
   "language": "python",
   "name": "python3"
  },
  "language_info": {
   "codemirror_mode": {
    "name": "ipython",
    "version": 3
   },
   "file_extension": ".py",
   "mimetype": "text/x-python",
   "name": "python",
   "nbconvert_exporter": "python",
   "pygments_lexer": "ipython3",
   "version": "3.7.4"
  }
 },
 "nbformat": 4,
 "nbformat_minor": 2
}
