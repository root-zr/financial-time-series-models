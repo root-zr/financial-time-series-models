{
 "cells": [
  {
   "cell_type": "code",
   "execution_count": 1,
   "metadata": {},
   "outputs": [],
   "source": [
    "from IPython.core.interactiveshell import InteractiveShell  #执行该代码可以使得当前nb支持多输出\n",
    "InteractiveShell.ast_node_interactivity = \"all\" \n",
    "import numpy as np\n",
    "from datetime import datetime\n",
    "import pandas as pd \n",
    "import matplotlib.pyplot as plt\n",
    "plt.rcParams['font.sans-serif'] = ['SimHei']\n",
    "plt.rcParams['axes.unicode_minus'] = False \n",
    "from mpl_toolkits.mplot3d import Axes3D\n",
    "\n",
    "import tensorflow as tf\n",
    "from tensorflow.keras.layers import Dropout, Dense, LSTM\n",
    "import os\n",
    "from sklearn.preprocessing import MinMaxScaler\n",
    "from sklearn.metrics import mean_squared_error, mean_absolute_error\n",
    "import math\n",
    "\n",
    "pd.options.display.max_rows = 8  \n",
    "%matplotlib inline"
   ]
  },
  {
   "cell_type": "markdown",
   "metadata": {},
   "source": [
    "读取数据"
   ]
  },
  {
   "cell_type": "code",
   "execution_count": 2,
   "metadata": {
    "scrolled": true
   },
   "outputs": [
    {
     "data": {
      "text/html": [
       "<div>\n",
       "<style scoped>\n",
       "    .dataframe tbody tr th:only-of-type {\n",
       "        vertical-align: middle;\n",
       "    }\n",
       "\n",
       "    .dataframe tbody tr th {\n",
       "        vertical-align: top;\n",
       "    }\n",
       "\n",
       "    .dataframe thead th {\n",
       "        text-align: right;\n",
       "    }\n",
       "</style>\n",
       "<table border=\"1\" class=\"dataframe\">\n",
       "  <thead>\n",
       "    <tr style=\"text-align: right;\">\n",
       "      <th></th>\n",
       "      <th>开盘</th>\n",
       "      <th>收盘</th>\n",
       "      <th>高</th>\n",
       "      <th>低</th>\n",
       "      <th>涨跌幅</th>\n",
       "      <th>on</th>\n",
       "    </tr>\n",
       "    <tr>\n",
       "      <th>日期</th>\n",
       "      <th></th>\n",
       "      <th></th>\n",
       "      <th></th>\n",
       "      <th></th>\n",
       "      <th></th>\n",
       "      <th></th>\n",
       "    </tr>\n",
       "  </thead>\n",
       "  <tbody>\n",
       "    <tr>\n",
       "      <td>2016/1/21</td>\n",
       "      <td>2.683</td>\n",
       "      <td>2.700</td>\n",
       "      <td>2.703</td>\n",
       "      <td>2.680</td>\n",
       "      <td>0.0078</td>\n",
       "      <td>2.014</td>\n",
       "    </tr>\n",
       "    <tr>\n",
       "      <td>2016/1/22</td>\n",
       "      <td>2.705</td>\n",
       "      <td>2.689</td>\n",
       "      <td>2.705</td>\n",
       "      <td>2.682</td>\n",
       "      <td>-0.0041</td>\n",
       "      <td>2.028</td>\n",
       "    </tr>\n",
       "    <tr>\n",
       "      <td>2016/1/25</td>\n",
       "      <td>2.750</td>\n",
       "      <td>2.694</td>\n",
       "      <td>2.750</td>\n",
       "      <td>2.680</td>\n",
       "      <td>0.0019</td>\n",
       "      <td>2.009</td>\n",
       "    </tr>\n",
       "    <tr>\n",
       "      <td>2016/1/26</td>\n",
       "      <td>2.703</td>\n",
       "      <td>2.738</td>\n",
       "      <td>2.740</td>\n",
       "      <td>2.690</td>\n",
       "      <td>0.0163</td>\n",
       "      <td>1.997</td>\n",
       "    </tr>\n",
       "    <tr>\n",
       "      <td>2016/1/27</td>\n",
       "      <td>2.763</td>\n",
       "      <td>2.774</td>\n",
       "      <td>2.783</td>\n",
       "      <td>2.763</td>\n",
       "      <td>0.0131</td>\n",
       "      <td>1.995</td>\n",
       "    </tr>\n",
       "  </tbody>\n",
       "</table>\n",
       "</div>"
      ],
      "text/plain": [
       "              开盘     收盘      高      低     涨跌幅     on\n",
       "日期                                                  \n",
       "2016/1/21  2.683  2.700  2.703  2.680  0.0078  2.014\n",
       "2016/1/22  2.705  2.689  2.705  2.682 -0.0041  2.028\n",
       "2016/1/25  2.750  2.694  2.750  2.680  0.0019  2.009\n",
       "2016/1/26  2.703  2.738  2.740  2.690  0.0163  1.997\n",
       "2016/1/27  2.763  2.774  2.783  2.763  0.0131  1.995"
      ]
     },
     "execution_count": 2,
     "metadata": {},
     "output_type": "execute_result"
    },
    {
     "data": {
      "text/html": [
       "<div>\n",
       "<style scoped>\n",
       "    .dataframe tbody tr th:only-of-type {\n",
       "        vertical-align: middle;\n",
       "    }\n",
       "\n",
       "    .dataframe tbody tr th {\n",
       "        vertical-align: top;\n",
       "    }\n",
       "\n",
       "    .dataframe thead th {\n",
       "        text-align: right;\n",
       "    }\n",
       "</style>\n",
       "<table border=\"1\" class=\"dataframe\">\n",
       "  <thead>\n",
       "    <tr style=\"text-align: right;\">\n",
       "      <th></th>\n",
       "      <th>开盘</th>\n",
       "      <th>收盘</th>\n",
       "      <th>高</th>\n",
       "      <th>低</th>\n",
       "      <th>涨跌幅</th>\n",
       "      <th>on</th>\n",
       "    </tr>\n",
       "  </thead>\n",
       "  <tbody>\n",
       "    <tr>\n",
       "      <td>count</td>\n",
       "      <td>1563.000000</td>\n",
       "      <td>1563.000000</td>\n",
       "      <td>1563.000000</td>\n",
       "      <td>1563.000000</td>\n",
       "      <td>1.563000e+03</td>\n",
       "      <td>1563.000000</td>\n",
       "    </tr>\n",
       "    <tr>\n",
       "      <td>mean</td>\n",
       "      <td>3.041862</td>\n",
       "      <td>3.022280</td>\n",
       "      <td>3.049060</td>\n",
       "      <td>3.010074</td>\n",
       "      <td>4.478567e-07</td>\n",
       "      <td>2.157164</td>\n",
       "    </tr>\n",
       "    <tr>\n",
       "      <td>std</td>\n",
       "      <td>0.419688</td>\n",
       "      <td>0.420101</td>\n",
       "      <td>0.418939</td>\n",
       "      <td>0.420670</td>\n",
       "      <td>9.475657e-03</td>\n",
       "      <td>0.478818</td>\n",
       "    </tr>\n",
       "    <tr>\n",
       "      <td>min</td>\n",
       "      <td>1.740000</td>\n",
       "      <td>1.740000</td>\n",
       "      <td>1.740000</td>\n",
       "      <td>1.740000</td>\n",
       "      <td>-5.850000e-02</td>\n",
       "      <td>0.602000</td>\n",
       "    </tr>\n",
       "    <tr>\n",
       "      <td>25%</td>\n",
       "      <td>2.746000</td>\n",
       "      <td>2.712000</td>\n",
       "      <td>2.750000</td>\n",
       "      <td>2.697000</td>\n",
       "      <td>-4.350000e-03</td>\n",
       "      <td>1.946000</td>\n",
       "    </tr>\n",
       "    <tr>\n",
       "      <td>50%</td>\n",
       "      <td>3.012000</td>\n",
       "      <td>2.993000</td>\n",
       "      <td>3.018000</td>\n",
       "      <td>2.983000</td>\n",
       "      <td>0.000000e+00</td>\n",
       "      <td>2.172000</td>\n",
       "    </tr>\n",
       "    <tr>\n",
       "      <td>75%</td>\n",
       "      <td>3.261000</td>\n",
       "      <td>3.234000</td>\n",
       "      <td>3.269000</td>\n",
       "      <td>3.219000</td>\n",
       "      <td>4.300000e-03</td>\n",
       "      <td>2.559800</td>\n",
       "    </tr>\n",
       "    <tr>\n",
       "      <td>max</td>\n",
       "      <td>4.000000</td>\n",
       "      <td>3.968000</td>\n",
       "      <td>4.000000</td>\n",
       "      <td>3.952000</td>\n",
       "      <td>6.070000e-02</td>\n",
       "      <td>3.282000</td>\n",
       "    </tr>\n",
       "  </tbody>\n",
       "</table>\n",
       "</div>"
      ],
      "text/plain": [
       "                开盘           收盘            高            低           涨跌幅  \\\n",
       "count  1563.000000  1563.000000  1563.000000  1563.000000  1.563000e+03   \n",
       "mean      3.041862     3.022280     3.049060     3.010074  4.478567e-07   \n",
       "std       0.419688     0.420101     0.418939     0.420670  9.475657e-03   \n",
       "min       1.740000     1.740000     1.740000     1.740000 -5.850000e-02   \n",
       "25%       2.746000     2.712000     2.750000     2.697000 -4.350000e-03   \n",
       "50%       3.012000     2.993000     3.018000     2.983000  0.000000e+00   \n",
       "75%       3.261000     3.234000     3.269000     3.219000  4.300000e-03   \n",
       "max       4.000000     3.968000     4.000000     3.952000  6.070000e-02   \n",
       "\n",
       "                on  \n",
       "count  1563.000000  \n",
       "mean      2.157164  \n",
       "std       0.478818  \n",
       "min       0.602000  \n",
       "25%       1.946000  \n",
       "50%       2.172000  \n",
       "75%       2.559800  \n",
       "max       3.282000  "
      ]
     },
     "execution_count": 2,
     "metadata": {},
     "output_type": "execute_result"
    }
   ],
   "source": [
    "national_debt = pd.read_csv('data/shibor_nation_debt.csv',header=0,index_col = 0,encoding = 'gb2312')  # 读取股票文件\n",
    "national_debt['涨跌幅'] = national_debt['涨跌幅'].str.strip(\"%\").astype(float)/100\n",
    "national_debt.head()\n",
    "national_debt.describe()"
   ]
  },
  {
   "cell_type": "markdown",
   "metadata": {},
   "source": [
    "开盘价原始数据可视化"
   ]
  },
  {
   "cell_type": "code",
   "execution_count": 3,
   "metadata": {},
   "outputs": [
    {
     "data": {
      "text/plain": [
       "<Figure size 432x288 with 0 Axes>"
      ]
     },
     "metadata": {},
     "output_type": "display_data"
    },
    {
     "data": {
      "image/png": "[encoded data removed]",
      "text/plain": [
       "<Figure size 864x576 with 1 Axes>"
      ]
     },
     "metadata": {
      "needs_background": "light"
     },
     "output_type": "display_data"
    }
   ],
   "source": [
    "def draw_ts(timeSeries):\n",
    "    f = plt.figure(facecolor='white')\n",
    "    timeSeries.plot(color='blue',figsize=(12,8))\n",
    "    plt.show()\n",
    "    \n",
    "draw_ts(pd.DataFrame(national_debt['开盘']))"
   ]
  },
  {
   "cell_type": "markdown",
   "metadata": {},
   "source": [
    "数据预处理"
   ]
  },
  {
   "cell_type": "code",
   "execution_count": 4,
   "metadata": {},
   "outputs": [],
   "source": [
    "# 前(1563-600=963)天的开盘价作为训练集,表格从0开始计数，,0:1 是提取[0:1)列，前闭后开\n",
    "training_set = national_debt.iloc[0:1563 - 600,0:].values  \n",
    "\n",
    "#中间300天的数据作为验证集\n",
    "valid_set= national_debt.iloc[1563 - 600:1563 - 300, 0:].values  \n",
    "\n",
    "# 后300天的开盘价作为测试集\n",
    "test_set = national_debt.iloc[1563 - 300:1563, 0:].values  \n",
    "\n",
    "# 归一化\n",
    "sc = MinMaxScaler(feature_range=(0, 1))  # 定义归一化：归一化到(0，1)之间\n",
    "training_set_scaled = sc.fit_transform(training_set)  # 求得训练集的最大值，最小值这些训练集固有的属性，并在训练集上进行归一化\n",
    "valid_set = sc.transform(valid_set)\n",
    "test_set = sc.transform(test_set)  # 利用训练集的属性对测试集进行归一化\n",
    "\n",
    "#对开盘价数据进行归一化，方便后续可视化展示\n",
    "sc_for_visual = MinMaxScaler(feature_range=(0, 1))  \n",
    "y_test_for_visual_scaled = sc_for_visual.fit_transform(national_debt.iloc[0:1563 - 600, 0:1].values ) \n",
    "y_test_for_visual = sc_for_visual.transform(national_debt.iloc[1563 - 300:1563, 0:1].values )"
   ]
  },
  {
   "cell_type": "markdown",
   "metadata": {},
   "source": [
    "得到训练集和测试集的数据"
   ]
  },
  {
   "cell_type": "code",
   "execution_count": 5,
   "metadata": {
    "scrolled": true
   },
   "outputs": [
    {
     "name": "stdout",
     "output_type": "stream",
     "text": [
      "[[[0.18613607 0.16322581 0.18825782 0.49134615 0.54317549]\n",
      "  [0.17907574 0.16451613 0.18953414 0.37692308 0.54967502]\n",
      "  [0.18228498 0.19354839 0.18825782 0.43461538 0.54085422]\n",
      "  [0.21052632 0.18709677 0.19463944 0.57307692 0.53528319]\n",
      "  [0.23363286 0.21483871 0.24122527 0.54230769 0.53435469]]\n",
      "\n",
      " [[0.17907574 0.16451613 0.18953414 0.37692308 0.54967502]\n",
      "  [0.18228498 0.19354839 0.18825782 0.43461538 0.54085422]\n",
      "  [0.21052632 0.18709677 0.19463944 0.57307692 0.53528319]\n",
      "  [0.23363286 0.21483871 0.24122527 0.54230769 0.53435469]\n",
      "  [0.24775353 0.22322581 0.24569241 0.49230769 0.53296193]]\n",
      "\n",
      " [[0.18228498 0.19354839 0.18825782 0.43461538 0.54085422]\n",
      "  [0.21052632 0.18709677 0.19463944 0.57307692 0.53528319]\n",
      "  [0.23363286 0.21483871 0.24122527 0.54230769 0.53435469]\n",
      "  [0.24775353 0.22322581 0.24569241 0.49230769 0.53296193]\n",
      "  [0.24326059 0.22580645 0.25654116 0.39230769 0.53156917]]\n",
      "\n",
      " ...\n",
      "\n",
      " [[0.3491656  0.3316129  0.35992342 0.41634615 0.79897864]\n",
      "  [0.35301669 0.32903226 0.35609445 0.43557692 0.83054782]\n",
      "  [0.35686778 0.33612903 0.35928526 0.43557692 0.87883008]\n",
      "  [0.35879332 0.33935484 0.37141034 0.42596154 0.88300836]\n",
      "  [0.34531451 0.32258065 0.34779834 0.34807692 0.88904364]]\n",
      "\n",
      " [[0.35301669 0.32903226 0.35609445 0.43557692 0.83054782]\n",
      "  [0.35686778 0.33612903 0.35928526 0.43557692 0.87883008]\n",
      "  [0.35879332 0.33935484 0.37141034 0.42596154 0.88300836]\n",
      "  [0.34531451 0.32258065 0.34779834 0.34807692 0.88904364]\n",
      "  [0.34403081 0.32580645 0.35609445 0.40961538 0.70798514]]\n",
      "\n",
      " [[0.35686778 0.33612903 0.35928526 0.43557692 0.87883008]\n",
      "  [0.35879332 0.33935484 0.37141034 0.42596154 0.88300836]\n",
      "  [0.34531451 0.32258065 0.34779834 0.34807692 0.88904364]\n",
      "  [0.34403081 0.32580645 0.35609445 0.40961538 0.70798514]\n",
      "  [0.35622593 0.33225806 0.35928526 0.47788462 0.55803157]]]\n"
     ]
    }
   ],
   "source": [
    "x_train = []\n",
    "y_train = []\n",
    "\n",
    "x_valid = []\n",
    "y_valid = []\n",
    "\n",
    "x_test = []\n",
    "y_test = []\n",
    "\n",
    "# 利用for循环，遍历整个训练集，提取训练集中连续10天的开盘价作为输入特征x_train，第11天的数据作为标签\n",
    "for i in range(5, len(training_set_scaled)):\n",
    "    x_train.append(training_set_scaled[i - 5:i, 1:]) \n",
    "    y_train.append(training_set_scaled[i, 0])\n",
    "\n",
    "\n",
    "# 将训练集由list格式变为array格式\n",
    "x_train, y_train = np.array(x_train), np.array(y_train)\n",
    "x_train = np.reshape(x_train, (x_train.shape[0], 5,5))\n",
    "print(x_train)\n",
    "\n",
    "#验证集\n",
    "for i in range(5, len(valid_set)):\n",
    "    x_valid.append(valid_set[i - 5:i,1:])\n",
    "    y_valid.append(valid_set[i, 0])\n",
    "x_valid, y_valid = np.array(x_valid), np.array(y_valid)\n",
    "x_valid = np.reshape(x_valid, (x_valid.shape[0], 5,5))\n",
    "\n",
    "\n",
    "# 测试集：csv表格中后300天数据\n",
    "# 利用for循环，遍历整个测试集，提取测试集中连续10天的开盘价作为输入特征x_train，\n",
    "# 第11天的数据作为标签，for循环共构建300-10=290组数据。\n",
    "for i in range(5, len(test_set)):\n",
    "    x_test.append(test_set[i - 5:i,1:])\n",
    "    y_test.append(test_set[i, 0])\n",
    "# 测试集变array并reshape为符合CNN和RNN输入要求：\n",
    "#RNN: [送入样本数， 循环核时间展开步数， 每个时间步输入特征个数]\n",
    "x_test, y_test = np.array(x_test), np.array(y_test)\n",
    "x_test = np.reshape(x_test, (x_test.shape[0], 5,5))\n"
   ]
  },
  {
   "cell_type": "markdown",
   "metadata": {},
   "source": [
    "训练模型"
   ]
  },
  {
   "cell_type": "code",
   "execution_count": 6,
   "metadata": {
    "scrolled": true
   },
   "outputs": [
    {
     "name": "stdout",
     "output_type": "stream",
     "text": [
      "Epoch 1/100\n",
      "15/15 [==============================] - 1s 81ms/step - loss: 0.0863 - val_loss: 0.0400\n",
      "Epoch 2/100\n",
      "15/15 [==============================] - 0s 19ms/step - loss: 0.0189 - val_loss: 0.0114\n",
      "Epoch 3/100\n",
      "15/15 [==============================] - 0s 22ms/step - loss: 0.0071 - val_loss: 0.0036\n",
      "Epoch 4/100\n",
      "15/15 [==============================] - 0s 18ms/step - loss: 0.0048 - val_loss: 0.0028\n",
      "Epoch 5/100\n",
      "15/15 [==============================] - 0s 7ms/step - loss: 0.0047 - val_loss: 0.0031\n",
      "Epoch 6/100\n",
      "15/15 [==============================] - 0s 7ms/step - loss: 0.0039 - val_loss: 0.0031\n",
      "Epoch 7/100\n",
      "15/15 [==============================] - 0s 7ms/step - loss: 0.0037 - val_loss: 0.0028\n",
      "Epoch 8/100\n",
      "15/15 [==============================] - 0s 7ms/step - loss: 0.0039 - val_loss: 0.0029\n",
      "Epoch 9/100\n",
      "15/15 [==============================] - 0s 19ms/step - loss: 0.0035 - val_loss: 0.0027\n",
      "Epoch 10/100\n",
      "15/15 [==============================] - 0s 7ms/step - loss: 0.0037 - val_loss: 0.0029\n",
      "Epoch 11/100\n",
      "15/15 [==============================] - 0s 18ms/step - loss: 0.0032 - val_loss: 0.0025\n",
      "Epoch 12/100\n",
      "15/15 [==============================] - 0s 17ms/step - loss: 0.0031 - val_loss: 0.0024\n",
      "Epoch 13/100\n",
      "15/15 [==============================] - 0s 7ms/step - loss: 0.0035 - val_loss: 0.0025\n",
      "Epoch 14/100\n",
      "15/15 [==============================] - 0s 19ms/step - loss: 0.0028 - val_loss: 0.0023\n",
      "Epoch 15/100\n",
      "15/15 [==============================] - 0s 7ms/step - loss: 0.0025 - val_loss: 0.0023\n",
      "Epoch 16/100\n",
      "15/15 [==============================] - 0s 18ms/step - loss: 0.0027 - val_loss: 0.0021\n",
      "Epoch 17/100\n",
      "15/15 [==============================] - 0s 7ms/step - loss: 0.0027 - val_loss: 0.0022\n",
      "Epoch 18/100\n",
      "15/15 [==============================] - 0s 20ms/step - loss: 0.0029 - val_loss: 0.0020\n",
      "Epoch 19/100\n",
      "15/15 [==============================] - 0s 7ms/step - loss: 0.0026 - val_loss: 0.0021\n",
      "Epoch 20/100\n",
      "15/15 [==============================] - 0s 7ms/step - loss: 0.0026 - val_loss: 0.0020\n",
      "Epoch 21/100\n",
      "15/15 [==============================] - 0s 7ms/step - loss: 0.0028 - val_loss: 0.0021\n",
      "Epoch 22/100\n",
      "15/15 [==============================] - 0s 18ms/step - loss: 0.0026 - val_loss: 0.0019\n",
      "Epoch 23/100\n",
      "15/15 [==============================] - 0s 18ms/step - loss: 0.0023 - val_loss: 0.0018\n",
      "Epoch 24/100\n",
      "15/15 [==============================] - 0s 7ms/step - loss: 0.0024 - val_loss: 0.0019\n",
      "Epoch 25/100\n",
      "15/15 [==============================] - 0s 19ms/step - loss: 0.0022 - val_loss: 0.0018\n",
      "Epoch 26/100\n",
      "15/15 [==============================] - 0s 7ms/step - loss: 0.0023 - val_loss: 0.0018\n",
      "Epoch 27/100\n",
      "15/15 [==============================] - 0s 17ms/step - loss: 0.0021 - val_loss: 0.0017\n",
      "Epoch 28/100\n",
      "15/15 [==============================] - 0s 17ms/step - loss: 0.0024 - val_loss: 0.0017\n",
      "Epoch 29/100\n",
      "15/15 [==============================] - 0s 7ms/step - loss: 0.0021 - val_loss: 0.0017\n",
      "Epoch 30/100\n",
      "15/15 [==============================] - 0s 18ms/step - loss: 0.0021 - val_loss: 0.0016\n",
      "Epoch 31/100\n",
      "15/15 [==============================] - 0s 7ms/step - loss: 0.0019 - val_loss: 0.0018\n",
      "Epoch 32/100\n",
      "15/15 [==============================] - 0s 18ms/step - loss: 0.0020 - val_loss: 0.0015\n",
      "Epoch 33/100\n",
      "15/15 [==============================] - 0s 7ms/step - loss: 0.0018 - val_loss: 0.0016\n",
      "Epoch 34/100\n",
      "15/15 [==============================] - 0s 7ms/step - loss: 0.0020 - val_loss: 0.0015\n",
      "Epoch 35/100\n",
      "15/15 [==============================] - 0s 7ms/step - loss: 0.0019 - val_loss: 0.0015\n",
      "Epoch 36/100\n",
      "15/15 [==============================] - 0s 7ms/step - loss: 0.0019 - val_loss: 0.0015\n",
      "Epoch 37/100\n",
      "15/15 [==============================] - 0s 7ms/step - loss: 0.0018 - val_loss: 0.0016\n",
      "Epoch 38/100\n",
      "15/15 [==============================] - 0s 7ms/step - loss: 0.0019 - val_loss: 0.0017\n",
      "Epoch 39/100\n",
      "15/15 [==============================] - 0s 17ms/step - loss: 0.0019 - val_loss: 0.0014\n",
      "Epoch 40/100\n",
      "15/15 [==============================] - 0s 7ms/step - loss: 0.0020 - val_loss: 0.0015\n",
      "Epoch 41/100\n",
      "15/15 [==============================] - 0s 18ms/step - loss: 0.0017 - val_loss: 0.0014\n",
      "Epoch 42/100\n",
      "15/15 [==============================] - 0s 7ms/step - loss: 0.0020 - val_loss: 0.0014\n",
      "Epoch 43/100\n",
      "15/15 [==============================] - 0s 19ms/step - loss: 0.0015 - val_loss: 0.0013\n",
      "Epoch 44/100\n",
      "15/15 [==============================] - 0s 19ms/step - loss: 0.0017 - val_loss: 0.0013\n",
      "Epoch 45/100\n",
      "15/15 [==============================] - 0s 7ms/step - loss: 0.0017 - val_loss: 0.0014\n",
      "Epoch 46/100\n",
      "15/15 [==============================] - 0s 7ms/step - loss: 0.0017 - val_loss: 0.0013\n",
      "Epoch 47/100\n",
      "15/15 [==============================] - 0s 18ms/step - loss: 0.0016 - val_loss: 0.0011\n",
      "Epoch 48/100\n",
      "15/15 [==============================] - 0s 7ms/step - loss: 0.0015 - val_loss: 0.0012\n",
      "Epoch 49/100\n",
      "15/15 [==============================] - 0s 7ms/step - loss: 0.0015 - val_loss: 0.0016\n",
      "Epoch 50/100\n",
      "15/15 [==============================] - 0s 7ms/step - loss: 0.0016 - val_loss: 0.0012\n",
      "Epoch 51/100\n",
      "15/15 [==============================] - 0s 7ms/step - loss: 0.0014 - val_loss: 0.0012\n",
      "Epoch 52/100\n",
      "15/15 [==============================] - 0s 7ms/step - loss: 0.0013 - val_loss: 0.0012\n",
      "Epoch 53/100\n",
      "15/15 [==============================] - 0s 19ms/step - loss: 0.0014 - val_loss: 0.0011\n",
      "Epoch 54/100\n",
      "15/15 [==============================] - 0s 7ms/step - loss: 0.0016 - val_loss: 0.0012\n",
      "Epoch 55/100\n",
      "15/15 [==============================] - 0s 6ms/step - loss: 0.0014 - val_loss: 0.0013\n",
      "Epoch 56/100\n",
      "15/15 [==============================] - 0s 7ms/step - loss: 0.0013 - val_loss: 0.0012\n",
      "Epoch 57/100\n",
      "15/15 [==============================] - 0s 7ms/step - loss: 0.0012 - val_loss: 0.0014\n",
      "Epoch 58/100\n",
      "15/15 [==============================] - 0s 7ms/step - loss: 0.0013 - val_loss: 0.0012\n",
      "Epoch 59/100\n",
      "15/15 [==============================] - 0s 7ms/step - loss: 0.0013 - val_loss: 0.0012\n",
      "Epoch 60/100\n",
      "15/15 [==============================] - 0s 18ms/step - loss: 0.0012 - val_loss: 0.0011\n",
      "Epoch 61/100\n",
      "15/15 [==============================] - 0s 19ms/step - loss: 0.0013 - val_loss: 0.0011\n",
      "Epoch 62/100\n",
      "15/15 [==============================] - 0s 8ms/step - loss: 0.0012 - val_loss: 0.0012\n",
      "Epoch 63/100\n",
      "15/15 [==============================] - 0s 7ms/step - loss: 0.0012 - val_loss: 0.0012\n",
      "Epoch 64/100\n",
      "15/15 [==============================] - 0s 7ms/step - loss: 0.0011 - val_loss: 0.0012\n",
      "Epoch 65/100\n",
      "15/15 [==============================] - 0s 19ms/step - loss: 0.0011 - val_loss: 0.0011\n",
      "Epoch 66/100\n",
      "15/15 [==============================] - 0s 7ms/step - loss: 0.0012 - val_loss: 0.0012\n",
      "Epoch 67/100\n",
      "15/15 [==============================] - 0s 19ms/step - loss: 0.0011 - val_loss: 0.0010\n",
      "Epoch 68/100\n",
      "15/15 [==============================] - 0s 7ms/step - loss: 0.0011 - val_loss: 0.0011\n",
      "Epoch 69/100\n",
      "15/15 [==============================] - 0s 17ms/step - loss: 0.0012 - val_loss: 9.9833e-04\n",
      "Epoch 70/100\n",
      "15/15 [==============================] - 0s 7ms/step - loss: 0.0013 - val_loss: 0.0011\n",
      "Epoch 71/100\n",
      "15/15 [==============================] - 0s 7ms/step - loss: 0.0013 - val_loss: 0.0012\n",
      "Epoch 72/100\n",
      "15/15 [==============================] - 0s 7ms/step - loss: 0.0013 - val_loss: 0.0011\n",
      "Epoch 73/100\n",
      "15/15 [==============================] - 0s 7ms/step - loss: 0.0011 - val_loss: 0.0010\n",
      "Epoch 74/100\n",
      "15/15 [==============================] - 0s 7ms/step - loss: 9.8761e-04 - val_loss: 0.0010\n",
      "Epoch 75/100\n",
      "15/15 [==============================] - 0s 7ms/step - loss: 9.7436e-04 - val_loss: 0.0012\n",
      "Epoch 76/100\n",
      "15/15 [==============================] - 0s 7ms/step - loss: 0.0011 - val_loss: 0.0012\n",
      "Epoch 77/100\n",
      "15/15 [==============================] - 0s 7ms/step - loss: 0.0011 - val_loss: 0.0011\n",
      "Epoch 78/100\n",
      "15/15 [==============================] - 0s 7ms/step - loss: 0.0011 - val_loss: 0.0012\n",
      "Epoch 79/100\n",
      "15/15 [==============================] - 0s 25ms/step - loss: 0.0012 - val_loss: 9.9051e-04\n",
      "Epoch 80/100\n",
      "15/15 [==============================] - 0s 18ms/step - loss: 9.1821e-04 - val_loss: 9.4247e-04\n",
      "Epoch 81/100\n",
      "15/15 [==============================] - 0s 7ms/step - loss: 0.0011 - val_loss: 0.0011\n",
      "Epoch 82/100\n"
     ]
    },
    {
     "name": "stdout",
     "output_type": "stream",
     "text": [
      "15/15 [==============================] - 0s 7ms/step - loss: 9.7316e-04 - val_loss: 0.0012\n",
      "Epoch 83/100\n",
      "15/15 [==============================] - 0s 20ms/step - loss: 9.5018e-04 - val_loss: 9.2904e-04\n",
      "Epoch 84/100\n",
      "15/15 [==============================] - 0s 7ms/step - loss: 8.8020e-04 - val_loss: 9.9884e-04\n",
      "Epoch 85/100\n",
      "15/15 [==============================] - 0s 7ms/step - loss: 8.5432e-04 - val_loss: 0.0011\n",
      "Epoch 86/100\n",
      "15/15 [==============================] - 0s 19ms/step - loss: 0.0010 - val_loss: 9.0643e-04\n",
      "Epoch 87/100\n",
      "15/15 [==============================] - 0s 7ms/step - loss: 9.6163e-04 - val_loss: 9.8194e-04\n",
      "Epoch 88/100\n",
      "15/15 [==============================] - 0s 6ms/step - loss: 9.0275e-04 - val_loss: 9.7838e-04\n",
      "Epoch 89/100\n",
      "15/15 [==============================] - 0s 7ms/step - loss: 9.2243e-04 - val_loss: 9.1848e-04\n",
      "Epoch 90/100\n",
      "15/15 [==============================] - 0s 7ms/step - loss: 8.7795e-04 - val_loss: 9.2957e-04\n",
      "Epoch 91/100\n",
      "15/15 [==============================] - 0s 19ms/step - loss: 8.4106e-04 - val_loss: 8.5597e-04\n",
      "Epoch 92/100\n",
      "15/15 [==============================] - 0s 7ms/step - loss: 8.7813e-04 - val_loss: 9.5375e-04\n",
      "Epoch 93/100\n",
      "15/15 [==============================] - 0s 7ms/step - loss: 8.7934e-04 - val_loss: 8.7290e-04\n",
      "Epoch 94/100\n",
      "15/15 [==============================] - 0s 7ms/step - loss: 9.3447e-04 - val_loss: 8.9908e-04\n",
      "Epoch 95/100\n",
      "15/15 [==============================] - 0s 7ms/step - loss: 9.2826e-04 - val_loss: 8.6864e-04\n",
      "Epoch 96/100\n",
      "15/15 [==============================] - 0s 7ms/step - loss: 9.0652e-04 - val_loss: 8.8073e-04\n",
      "Epoch 97/100\n",
      "15/15 [==============================] - 0s 7ms/step - loss: 8.7216e-04 - val_loss: 0.0010\n",
      "Epoch 98/100\n",
      "15/15 [==============================] - 0s 7ms/step - loss: 9.2207e-04 - val_loss: 8.5826e-04\n",
      "Epoch 99/100\n",
      "15/15 [==============================] - 0s 7ms/step - loss: 9.0969e-04 - val_loss: 9.8931e-04\n",
      "Epoch 100/100\n",
      "15/15 [==============================] - 0s 7ms/step - loss: 9.4623e-04 - val_loss: 0.0011\n",
      "Model: \"sequential\"\n",
      "_________________________________________________________________\n",
      "Layer (type)                 Output Shape              Param #   \n",
      "=================================================================\n",
      "lstm (LSTM)                  (None, 5, 50)             11200     \n",
      "_________________________________________________________________\n",
      "dropout (Dropout)            (None, 5, 50)             0         \n",
      "_________________________________________________________________\n",
      "lstm_1 (LSTM)                (None, 60)                26640     \n",
      "_________________________________________________________________\n",
      "dropout_1 (Dropout)          (None, 60)                0         \n",
      "_________________________________________________________________\n",
      "dense (Dense)                (None, 20)                1220      \n",
      "_________________________________________________________________\n",
      "dense_1 (Dense)              (None, 1)                 21        \n",
      "=================================================================\n",
      "Total params: 39,081\n",
      "Trainable params: 39,081\n",
      "Non-trainable params: 0\n",
      "_________________________________________________________________\n"
     ]
    },
    {
     "data": {
      "text/plain": [
       "24"
      ]
     },
     "execution_count": 6,
     "metadata": {},
     "output_type": "execute_result"
    },
    {
     "data": {
      "text/plain": [
       "9"
      ]
     },
     "execution_count": 6,
     "metadata": {},
     "output_type": "execute_result"
    },
    {
     "data": {
      "text/plain": [
       "16506"
      ]
     },
     "execution_count": 6,
     "metadata": {},
     "output_type": "execute_result"
    },
    {
     "data": {
      "text/plain": [
       "34"
      ]
     },
     "execution_count": 6,
     "metadata": {},
     "output_type": "execute_result"
    },
    {
     "data": {
      "text/plain": [
       "10"
      ]
     },
     "execution_count": 6,
     "metadata": {},
     "output_type": "execute_result"
    },
    {
     "data": {
      "text/plain": [
       "491"
      ]
     },
     "execution_count": 6,
     "metadata": {},
     "output_type": "execute_result"
    },
    {
     "data": {
      "text/plain": [
       "22"
      ]
     },
     "execution_count": 6,
     "metadata": {},
     "output_type": "execute_result"
    },
    {
     "data": {
      "text/plain": [
       "7"
      ]
     },
     "execution_count": 6,
     "metadata": {},
     "output_type": "execute_result"
    },
    {
     "data": {
      "text/plain": [
       "3251"
      ]
     },
     "execution_count": 6,
     "metadata": {},
     "output_type": "execute_result"
    },
    {
     "data": {
      "text/plain": [
       "28"
      ]
     },
     "execution_count": 6,
     "metadata": {},
     "output_type": "execute_result"
    },
    {
     "data": {
      "text/plain": [
       "10"
      ]
     },
     "execution_count": 6,
     "metadata": {},
     "output_type": "execute_result"
    },
    {
     "data": {
      "text/plain": [
       "492"
      ]
     },
     "execution_count": 6,
     "metadata": {},
     "output_type": "execute_result"
    },
    {
     "data": {
      "text/plain": [
       "38"
      ]
     },
     "execution_count": 6,
     "metadata": {},
     "output_type": "execute_result"
    },
    {
     "data": {
      "text/plain": [
       "10"
      ]
     },
     "execution_count": 6,
     "metadata": {},
     "output_type": "execute_result"
    },
    {
     "data": {
      "text/plain": [
       "491"
      ]
     },
     "execution_count": 6,
     "metadata": {},
     "output_type": "execute_result"
    },
    {
     "data": {
      "text/plain": [
       "26"
      ]
     },
     "execution_count": 6,
     "metadata": {},
     "output_type": "execute_result"
    },
    {
     "data": {
      "text/plain": [
       "7"
      ]
     },
     "execution_count": 6,
     "metadata": {},
     "output_type": "execute_result"
    },
    {
     "data": {
      "text/plain": [
       "3661"
      ]
     },
     "execution_count": 6,
     "metadata": {},
     "output_type": "execute_result"
    },
    {
     "data": {
      "text/plain": [
       "15"
      ]
     },
     "execution_count": 6,
     "metadata": {},
     "output_type": "execute_result"
    },
    {
     "data": {
      "text/plain": [
       "9"
      ]
     },
     "execution_count": 6,
     "metadata": {},
     "output_type": "execute_result"
    },
    {
     "data": {
      "text/plain": [
       "492"
      ]
     },
     "execution_count": 6,
     "metadata": {},
     "output_type": "execute_result"
    },
    {
     "data": {
      "text/plain": [
       "13"
      ]
     },
     "execution_count": 6,
     "metadata": {},
     "output_type": "execute_result"
    },
    {
     "data": {
      "text/plain": [
       "6"
      ]
     },
     "execution_count": 6,
     "metadata": {},
     "output_type": "execute_result"
    },
    {
     "data": {
      "text/plain": [
       "244"
      ]
     },
     "execution_count": 6,
     "metadata": {},
     "output_type": "execute_result"
    },
    {
     "data": {
      "text/plain": [
       "17"
      ]
     },
     "execution_count": 6,
     "metadata": {},
     "output_type": "execute_result"
    },
    {
     "data": {
      "text/plain": [
       "8"
      ]
     },
     "execution_count": 6,
     "metadata": {},
     "output_type": "execute_result"
    },
    {
     "data": {
      "text/plain": [
       "301"
      ]
     },
     "execution_count": 6,
     "metadata": {},
     "output_type": "execute_result"
    },
    {
     "data": {
      "text/plain": [
       "15"
      ]
     },
     "execution_count": 6,
     "metadata": {},
     "output_type": "execute_result"
    },
    {
     "data": {
      "text/plain": [
       "5"
      ]
     },
     "execution_count": 6,
     "metadata": {},
     "output_type": "execute_result"
    },
    {
     "data": {
      "text/plain": [
       "13"
      ]
     },
     "execution_count": 6,
     "metadata": {},
     "output_type": "execute_result"
    }
   ],
   "source": [
    "model = tf.keras.Sequential([\n",
    "    LSTM(50, return_sequences=True), #第一层记忆体的个数为50个，每个时间步推送ht到下一层\n",
    "    Dropout(0.2),\n",
    "    LSTM(60),  #第二层\n",
    "    Dropout(0.2),\n",
    "    Dense(20),\n",
    "    Dense(1) #输出知识ht+1的股票开盘价，所以是1\n",
    "])\n",
    "\n",
    "model.compile(optimizer=tf.keras.optimizers.Adam(0.001),\n",
    "              loss='mean_squared_error')  # 损失函数用均方误差\n",
    "\n",
    "#该应用只观测loss数值，不观测准确率，所以删去metrics选项，一会在每个epoch迭代显示时只显示loss值\n",
    "checkpoint_save_path = \"./checkpoint/LSTM/LSTM_stock.ckpt\"\n",
    "\n",
    "if os.path.exists(checkpoint_save_path + '.index'):\n",
    "    print('-------------load the model-----------------')\n",
    "    model.load_weights(checkpoint_save_path)\n",
    "\n",
    "cp_callback = tf.keras.callbacks.ModelCheckpoint(filepath=checkpoint_save_path,\n",
    "                                                 save_weights_only=True,\n",
    "                                                 save_best_only=True,\n",
    "                                                 monitor='val_loss')\n",
    "\n",
    "history = model.fit(x_train, y_train, batch_size=64, epochs=100, validation_data=(x_valid, y_valid), validation_freq=1,\n",
    "                    callbacks=[cp_callback])\n",
    "\n",
    "model.summary()\n",
    "\n",
    "file = open('./data/weights_of_nation_debt_by_lstm.txt', 'w')  # 参数提取\n",
    "for v in model.trainable_variables:\n",
    "    file.write(str(v.name) + '\\n')\n",
    "    file.write(str(v.shape) + '\\n')\n",
    "    file.write(str(v.numpy()) + '\\n')\n",
    "file.close()\n"
   ]
  },
  {
   "cell_type": "code",
   "execution_count": 7,
   "metadata": {},
   "outputs": [
    {
     "data": {
      "text/plain": [
       "[<matplotlib.lines.Line2D at 0x1e42d6969c8>]"
      ]
     },
     "execution_count": 7,
     "metadata": {},
     "output_type": "execute_result"
    },
    {
     "data": {
      "text/plain": [
       "[<matplotlib.lines.Line2D at 0x1e42d647b48>]"
      ]
     },
     "execution_count": 7,
     "metadata": {},
     "output_type": "execute_result"
    },
    {
     "data": {
      "text/plain": [
       "Text(0.5, 1.0, 'Training and Validation Loss')"
      ]
     },
     "execution_count": 7,
     "metadata": {},
     "output_type": "execute_result"
    },
    {
     "data": {
      "text/plain": [
       "<matplotlib.legend.Legend at 0x1e42d633d88>"
      ]
     },
     "execution_count": 7,
     "metadata": {},
     "output_type": "execute_result"
    },
    {
     "data": {
      "image/png": "[encoded data removed]",
      "text/plain": [
       "<Figure size 432x288 with 1 Axes>"
      ]
     },
     "metadata": {
      "needs_background": "light"
     },
     "output_type": "display_data"
    }
   ],
   "source": [
    "loss = history.history['loss']\n",
    "val_loss = history.history['val_loss']\n",
    "\n",
    "plt.plot(loss, label='Training Loss')\n",
    "plt.plot(val_loss, label='Validation Loss') #验证集用来选则最佳的超参数的值\n",
    "plt.title('Training and Validation Loss')\n",
    "plt.legend()\n",
    "plt.show()"
   ]
  },
  {
   "cell_type": "code",
   "execution_count": 8,
   "metadata": {},
   "outputs": [
    {
     "data": {
      "text/plain": [
       "<Figure size 432x288 with 0 Axes>"
      ]
     },
     "execution_count": 8,
     "metadata": {},
     "output_type": "execute_result"
    },
    {
     "data": {
      "text/plain": [
       "[<matplotlib.lines.Line2D at 0x1e42d810d88>]"
      ]
     },
     "execution_count": 8,
     "metadata": {},
     "output_type": "execute_result"
    },
    {
     "data": {
      "text/plain": [
       "[<matplotlib.lines.Line2D at 0x1e42d7f0288>]"
      ]
     },
     "execution_count": 8,
     "metadata": {},
     "output_type": "execute_result"
    },
    {
     "data": {
      "text/plain": [
       "Text(0.5, 1.0, 'national debt Price Prediction')"
      ]
     },
     "execution_count": 8,
     "metadata": {},
     "output_type": "execute_result"
    },
    {
     "data": {
      "text/plain": [
       "Text(0.5, 0, 'Time')"
      ]
     },
     "execution_count": 8,
     "metadata": {},
     "output_type": "execute_result"
    },
    {
     "data": {
      "text/plain": [
       "Text(0, 0.5, 'national debt Price')"
      ]
     },
     "execution_count": 8,
     "metadata": {},
     "output_type": "execute_result"
    },
    {
     "data": {
      "text/plain": [
       "<matplotlib.legend.Legend at 0x1e42d801a08>"
      ]
     },
     "execution_count": 8,
     "metadata": {},
     "output_type": "execute_result"
    },
    {
     "data": {
      "image/png": "[encoded data removed]",
      "text/plain": [
       "<Figure size 432x288 with 1 Axes>"
      ]
     },
     "metadata": {},
     "output_type": "display_data"
    },
    {
     "name": "stdout",
     "output_type": "stream",
     "text": [
      "均方误差: 0.001845\n",
      "均方根误差: 0.042954\n",
      "平均绝对误差: 0.032507\n"
     ]
    }
   ],
   "source": [
    "# 测试集输入模型进行预测\n",
    "predicted_stock_price = model.predict(x_test)\n",
    "\n",
    "# 对预测数据还原---从（0，1）反归一化到原始范围\n",
    "predicted_stock_price = sc_for_visual.inverse_transform(predicted_stock_price)\n",
    "\n",
    "# 对真实数据还原---从（0，1）反归一化到原始范围\n",
    "real_stock_price = sc_for_visual.inverse_transform(y_test_for_visual[5:])\n",
    "# 画出真实数据和预测数据的对比曲线\n",
    "# 画出真实数据和预测数据的对比曲线\n",
    "plt.figure(facecolor='white')\n",
    "plt.plot(real_stock_price, color='red', label='national debt Price')\n",
    "plt.plot(predicted_stock_price, color='blue', label='Predicted by LSTM')\n",
    "plt.title('national debt Price Prediction')\n",
    "plt.xlabel('Time')\n",
    "plt.ylabel('national debt Price')\n",
    "plt.legend()\n",
    "plt.show()\n",
    "\n",
    "##########evaluate##############\n",
    "# calculate MSE 均方误差 ---> E[(预测值-真实值)^2] (预测值减真实值求平方后求均值)\n",
    "mse = mean_squared_error(predicted_stock_price, real_stock_price)\n",
    "# calculate RMSE 均方根误差--->sqrt[MSE]    (对均方误差开方)\n",
    "rmse = math.sqrt(mean_squared_error(predicted_stock_price, real_stock_price))\n",
    "# calculate MAE 平均绝对误差----->E[|预测值-真实值|](预测值减真实值求绝对值后求均值）\n",
    "mae = mean_absolute_error(predicted_stock_price, real_stock_price)\n",
    "print('均方误差: %.6f' % mse)\n",
    "print('均方根误差: %.6f' % rmse)\n",
    "print('平均绝对误差: %.6f' % mae)"
   ]
  },
  {
   "cell_type": "code",
   "execution_count": 9,
   "metadata": {},
   "outputs": [
    {
     "name": "stdout",
     "output_type": "stream",
     "text": [
      "0.9688804223494277\n"
     ]
    }
   ],
   "source": [
    "from sklearn.metrics import explained_variance_score\n",
    "import seaborn as sns\n",
    "\n",
    "cm = explained_variance_score(real_stock_price, predicted_stock_price)\n",
    "\n",
    "\n",
    "print(cm )"
   ]
  },
  {
   "cell_type": "code",
   "execution_count": null,
   "metadata": {},
   "outputs": [],
   "source": []
  }
 ],
 "metadata": {
  "kernelspec": {
   "display_name": "Python 3",
   "language": "python",
   "name": "python3"
  },
  "language_info": {
   "codemirror_mode": {
    "name": "ipython",
    "version": 3
   },
   "file_extension": ".py",
   "mimetype": "text/x-python",
   "name": "python",
   "nbconvert_exporter": "python",
   "pygments_lexer": "ipython3",
   "version": "3.7.4"
  }
 },
 "nbformat": 4,
 "nbformat_minor": 2
}
