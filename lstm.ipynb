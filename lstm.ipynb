{
 "cells": [
  {
   "cell_type": "code",
   "execution_count": 1,
   "metadata": {},
   "outputs": [],
   "source": [
    "from IPython.core.interactiveshell import InteractiveShell  #执行该代码可以使得当前nb支持多输出\n",
    "InteractiveShell.ast_node_interactivity = \"all\" \n",
    "import numpy as np\n",
    "from datetime import datetime\n",
    "import pandas as pd \n",
    "import matplotlib.pyplot as plt\n",
    "from mpl_toolkits.mplot3d import Axes3D\n",
    "pd.options.display.max_rows = 8  \n",
    "%matplotlib inline"
   ]
  },
  {
   "cell_type": "code",
   "execution_count": 52,
   "metadata": {},
   "outputs": [
    {
     "data": {
      "text/html": [
       "<div>\n",
       "<style scoped>\n",
       "    .dataframe tbody tr th:only-of-type {\n",
       "        vertical-align: middle;\n",
       "    }\n",
       "\n",
       "    .dataframe tbody tr th {\n",
       "        vertical-align: top;\n",
       "    }\n",
       "\n",
       "    .dataframe thead th {\n",
       "        text-align: right;\n",
       "    }\n",
       "</style>\n",
       "<table border=\"1\" class=\"dataframe\">\n",
       "  <thead>\n",
       "    <tr style=\"text-align: right;\">\n",
       "      <th></th>\n",
       "      <th>date</th>\n",
       "      <th>open</th>\n",
       "      <th>close</th>\n",
       "      <th>high</th>\n",
       "      <th>low</th>\n",
       "      <th>volume</th>\n",
       "      <th>code</th>\n",
       "    </tr>\n",
       "  </thead>\n",
       "  <tbody>\n",
       "    <tr>\n",
       "      <td>74</td>\n",
       "      <td>2010-04-26</td>\n",
       "      <td>88.702</td>\n",
       "      <td>87.381</td>\n",
       "      <td>89.072</td>\n",
       "      <td>87.362</td>\n",
       "      <td>107036.13</td>\n",
       "      <td>600519</td>\n",
       "    </tr>\n",
       "    <tr>\n",
       "      <td>75</td>\n",
       "      <td>2010-04-27</td>\n",
       "      <td>87.355</td>\n",
       "      <td>84.841</td>\n",
       "      <td>87.355</td>\n",
       "      <td>84.681</td>\n",
       "      <td>58234.48</td>\n",
       "      <td>600519</td>\n",
       "    </tr>\n",
       "    <tr>\n",
       "      <td>76</td>\n",
       "      <td>2010-04-28</td>\n",
       "      <td>84.235</td>\n",
       "      <td>84.318</td>\n",
       "      <td>85.128</td>\n",
       "      <td>83.597</td>\n",
       "      <td>26287.43</td>\n",
       "      <td>600519</td>\n",
       "    </tr>\n",
       "    <tr>\n",
       "      <td>77</td>\n",
       "      <td>2010-04-29</td>\n",
       "      <td>84.592</td>\n",
       "      <td>85.671</td>\n",
       "      <td>86.315</td>\n",
       "      <td>84.592</td>\n",
       "      <td>34501.20</td>\n",
       "      <td>600519</td>\n",
       "    </tr>\n",
       "    <tr>\n",
       "      <td>...</td>\n",
       "      <td>...</td>\n",
       "      <td>...</td>\n",
       "      <td>...</td>\n",
       "      <td>...</td>\n",
       "      <td>...</td>\n",
       "      <td>...</td>\n",
       "      <td>...</td>\n",
       "    </tr>\n",
       "    <tr>\n",
       "      <td>2496</td>\n",
       "      <td>2020-04-21</td>\n",
       "      <td>1221.020</td>\n",
       "      <td>1200.000</td>\n",
       "      <td>1223.990</td>\n",
       "      <td>1193.000</td>\n",
       "      <td>29224.00</td>\n",
       "      <td>600519</td>\n",
       "    </tr>\n",
       "    <tr>\n",
       "      <td>2497</td>\n",
       "      <td>2020-04-22</td>\n",
       "      <td>1206.000</td>\n",
       "      <td>1244.500</td>\n",
       "      <td>1249.500</td>\n",
       "      <td>1202.220</td>\n",
       "      <td>44035.00</td>\n",
       "      <td>600519</td>\n",
       "    </tr>\n",
       "    <tr>\n",
       "      <td>2498</td>\n",
       "      <td>2020-04-23</td>\n",
       "      <td>1250.000</td>\n",
       "      <td>1252.260</td>\n",
       "      <td>1265.680</td>\n",
       "      <td>1247.770</td>\n",
       "      <td>26899.00</td>\n",
       "      <td>600519</td>\n",
       "    </tr>\n",
       "    <tr>\n",
       "      <td>2499</td>\n",
       "      <td>2020-04-24</td>\n",
       "      <td>1248.000</td>\n",
       "      <td>1250.560</td>\n",
       "      <td>1259.890</td>\n",
       "      <td>1235.180</td>\n",
       "      <td>19122.00</td>\n",
       "      <td>600519</td>\n",
       "    </tr>\n",
       "  </tbody>\n",
       "</table>\n",
       "<p>2426 rows × 7 columns</p>\n",
       "</div>"
      ],
      "text/plain": [
       "            date      open     close      high       low     volume    code\n",
       "74    2010-04-26    88.702    87.381    89.072    87.362  107036.13  600519\n",
       "75    2010-04-27    87.355    84.841    87.355    84.681   58234.48  600519\n",
       "76    2010-04-28    84.235    84.318    85.128    83.597   26287.43  600519\n",
       "77    2010-04-29    84.592    85.671    86.315    84.592   34501.20  600519\n",
       "...          ...       ...       ...       ...       ...        ...     ...\n",
       "2496  2020-04-21  1221.020  1200.000  1223.990  1193.000   29224.00  600519\n",
       "2497  2020-04-22  1206.000  1244.500  1249.500  1202.220   44035.00  600519\n",
       "2498  2020-04-23  1250.000  1252.260  1265.680  1247.770   26899.00  600519\n",
       "2499  2020-04-24  1248.000  1250.560  1259.890  1235.180   19122.00  600519\n",
       "\n",
       "[2426 rows x 7 columns]"
      ]
     },
     "execution_count": 52,
     "metadata": {},
     "output_type": "execute_result"
    }
   ],
   "source": [
    "import tensorflow as tf\n",
    "from tensorflow.keras.layers import Dropout, Dense, LSTM\n",
    "import matplotlib.pyplot as plt\n",
    "import os\n",
    "from sklearn.preprocessing import MinMaxScaler\n",
    "from sklearn.metrics import mean_squared_error, mean_absolute_error\n",
    "import math\n",
    "\n",
    "maotai = pd.read_csv('data/SH600519.csv',header=0, index_col=0)  # 读取股票文件\n",
    "maotai"
   ]
  },
  {
   "cell_type": "code",
   "execution_count": 53,
   "metadata": {
    "scrolled": true
   },
   "outputs": [
    {
     "data": {
      "text/plain": [
       "array([[0.011711  , 0.00961659, 0.01084418, 0.01042639, 0.35355593,\n",
       "        0.        ],\n",
       "       [0.00980951, 0.0060261 , 0.00842889, 0.00658403, 0.18031668,\n",
       "        0.        ],\n",
       "       [0.00540518, 0.00528679, 0.00529619, 0.00503046, 0.06690898,\n",
       "        0.        ],\n",
       "       ...,\n",
       "       [0.83272021, 0.83672993, 0.83904497, 0.83782707, 0.07708847,\n",
       "        0.        ],\n",
       "       [0.84059718, 0.84690772, 0.84899028, 0.84535127, 0.07648854,\n",
       "        0.        ],\n",
       "       [0.85205973, 0.84309105, 0.86176303, 0.85409366, 0.10174938,\n",
       "        0.        ]])"
      ]
     },
     "execution_count": 53,
     "metadata": {},
     "output_type": "execute_result"
    },
    {
     "data": {
      "text/plain": [
       "array([[0.00961659],\n",
       "       [0.0060261 ],\n",
       "       [0.00528679],\n",
       "       ...,\n",
       "       [0.83672993],\n",
       "       [0.84690772],\n",
       "       [0.84309105]])"
      ]
     },
     "execution_count": 53,
     "metadata": {},
     "output_type": "execute_result"
    }
   ],
   "source": [
    "training_set = maotai.iloc[0:2426 - 300, 1:].values  # 前(2426-300=2126)天的开盘价作为训练集,表格从0开始计数，2:3 是提取[2:3)列，前闭后开,故提取出C列开盘价\n",
    "test_set = maotai.iloc[2426 - 300:, 1:].values  # 后300天的开盘价作为测试集\n",
    "\n",
    "# 归一化\n",
    "sc = MinMaxScaler(feature_range=(0, 1))  # 定义归一化：归一化到(0，1)之间\n",
    "training_set_scaled = sc.fit_transform(training_set)  # 求得训练集的最大值，最小值这些训练集固有的属性，并在训练集上进行归一化\n",
    "training_set_scaled\n",
    "test_set = sc.transform(test_set)  # 利用训练集的属性对测试集进行归一化\n",
    "\n",
    "#为了方便可视化，对开盘价格单独进行归一化，后续可以进行反归一化\n",
    "sc2 = MinMaxScaler(feature_range=(0, 1))  # 定义归一化：归一化到(0，1)之间\n",
    "sc2.fit_transform( maotai.iloc[0:2426 - 300, 2:3].values)  # 求得训练集的最大值，最小值这些训练集固有的属性，并在训练集上进行归一化\n",
    "test_set2 = sc2.transform(maotai.iloc[2426 - 300:, 2:3].values)  # 利用训练集的属性对测试集进行归一化"
   ]
  },
  {
   "cell_type": "code",
   "execution_count": 54,
   "metadata": {
    "scrolled": true
   },
   "outputs": [
    {
     "name": "stdout",
     "output_type": "stream",
     "text": [
      "转化前的数据格式为：\n",
      "[[[0.11873236 0.11793419 0.1128658  0.08420595 0.        ]\n",
      "  [0.12234688 0.1229406  0.12245808 0.13654515 0.        ]\n",
      "  [0.1255642  0.12449359 0.12322483 0.11311604 0.        ]\n",
      "  ...\n",
      "  [0.19086742 0.19870219 0.18467386 0.27795045 0.        ]\n",
      "  [0.2038342  0.2052011  0.18930016 0.31440401 0.        ]\n",
      "  [0.19709848 0.20790195 0.19745496 0.24995267 0.        ]]\n",
      "\n",
      " [[0.98126863 0.99646358 0.99070153 0.14742548 0.        ]\n",
      "  [0.97460501 0.98897295 0.98589607 0.11262971 0.        ]\n",
      "  [0.97039678 0.97558828 0.97331992 0.09768833 0.        ]\n",
      "  ...\n",
      "  [0.85765094 0.85236634 0.83398615 0.14404246 0.        ]\n",
      "  [0.84874538 0.8614817  0.85770528 0.08892017 0.        ]\n",
      "  [0.85560125 0.85458891 0.85849353 0.07087266 0.        ]]\n",
      "\n",
      " [[0.10696712 0.10742058 0.10568414 0.1863533  0.        ]\n",
      "  [0.11018443 0.11063346 0.10865368 0.19473808 0.        ]\n",
      "  [0.11547971 0.11793419 0.1126107  0.19854708 0.        ]\n",
      "  ...\n",
      "  [0.18630579 0.18450726 0.17761401 0.14269706 0.        ]\n",
      "  [0.19100029 0.19619265 0.18869106 0.19997058 0.        ]\n",
      "  [0.19657122 0.19774564 0.19442522 0.14281066 0.        ]]\n",
      "\n",
      " ...\n",
      "\n",
      " [[0.13804895 0.14746908 0.13538966 0.23644544 0.        ]\n",
      "  [0.13933531 0.1399461  0.13867451 0.06794757 0.        ]\n",
      "  [0.13611517 0.14218836 0.13850826 0.06608034 0.        ]\n",
      "  ...\n",
      "  [0.13882076 0.13860552 0.14046885 0.04062426 0.        ]\n",
      "  [0.14303748 0.14253581 0.14082285 0.07205476 0.        ]\n",
      "  [0.1419787  0.14194219 0.1437322  0.030319   0.        ]]\n",
      "\n",
      " [[0.17561911 0.1782714  0.17749219 0.09912603 0.        ]\n",
      "  [0.18630579 0.18450726 0.17761401 0.14269706 0.        ]\n",
      "  [0.19100029 0.19619265 0.18869106 0.19997058 0.        ]\n",
      "  ...\n",
      "  [0.16157377 0.16307913 0.16184617 0.1129208  0.        ]\n",
      "  [0.16422141 0.16455053 0.16538899 0.11388636 0.        ]\n",
      "  [0.17143915 0.17043472 0.16474979 0.17414531 0.        ]]\n",
      "\n",
      " [[0.04597674 0.05063808 0.0467919  0.10662334 0.        ]\n",
      "  [0.05232372 0.05100944 0.0458417  0.11900172 0.        ]\n",
      "  [0.05256968 0.05187878 0.05241426 0.06659152 0.        ]\n",
      "  ...\n",
      "  [0.04305486 0.04591722 0.04286928 0.16289579 0.        ]\n",
      "  [0.04367401 0.0426551  0.04327487 0.04319791 0.        ]\n",
      "  [0.04396521 0.04378749 0.04353285 0.05481307 0.        ]]]\n",
      "转化后训练集的数据格式为：\n",
      "[[[0.11873236 0.11793419 0.1128658  0.08420595 0.        ]\n",
      "  [0.12234688 0.1229406  0.12245808 0.13654515 0.        ]\n",
      "  [0.1255642  0.12449359 0.12322483 0.11311604 0.        ]\n",
      "  ...\n",
      "  [0.19086742 0.19870219 0.18467386 0.27795045 0.        ]\n",
      "  [0.2038342  0.2052011  0.18930016 0.31440401 0.        ]\n",
      "  [0.19709848 0.20790195 0.19745496 0.24995267 0.        ]]\n",
      "\n",
      " [[0.98126863 0.99646358 0.99070153 0.14742548 0.        ]\n",
      "  [0.97460501 0.98897295 0.98589607 0.11262971 0.        ]\n",
      "  [0.97039678 0.97558828 0.97331992 0.09768833 0.        ]\n",
      "  ...\n",
      "  [0.85765094 0.85236634 0.83398615 0.14404246 0.        ]\n",
      "  [0.84874538 0.8614817  0.85770528 0.08892017 0.        ]\n",
      "  [0.85560125 0.85458891 0.85849353 0.07087266 0.        ]]\n",
      "\n",
      " [[0.10696712 0.10742058 0.10568414 0.1863533  0.        ]\n",
      "  [0.11018443 0.11063346 0.10865368 0.19473808 0.        ]\n",
      "  [0.11547971 0.11793419 0.1126107  0.19854708 0.        ]\n",
      "  ...\n",
      "  [0.18630579 0.18450726 0.17761401 0.14269706 0.        ]\n",
      "  [0.19100029 0.19619265 0.18869106 0.19997058 0.        ]\n",
      "  [0.19657122 0.19774564 0.19442522 0.14281066 0.        ]]\n",
      "\n",
      " ...\n",
      "\n",
      " [[0.13804895 0.14746908 0.13538966 0.23644544 0.        ]\n",
      "  [0.13933531 0.1399461  0.13867451 0.06794757 0.        ]\n",
      "  [0.13611517 0.14218836 0.13850826 0.06608034 0.        ]\n",
      "  ...\n",
      "  [0.13882076 0.13860552 0.14046885 0.04062426 0.        ]\n",
      "  [0.14303748 0.14253581 0.14082285 0.07205476 0.        ]\n",
      "  [0.1419787  0.14194219 0.1437322  0.030319   0.        ]]\n",
      "\n",
      " [[0.17561911 0.1782714  0.17749219 0.09912603 0.        ]\n",
      "  [0.18630579 0.18450726 0.17761401 0.14269706 0.        ]\n",
      "  [0.19100029 0.19619265 0.18869106 0.19997058 0.        ]\n",
      "  ...\n",
      "  [0.16157377 0.16307913 0.16184617 0.1129208  0.        ]\n",
      "  [0.16422141 0.16455053 0.16538899 0.11388636 0.        ]\n",
      "  [0.17143915 0.17043472 0.16474979 0.17414531 0.        ]]\n",
      "\n",
      " [[0.04597674 0.05063808 0.0467919  0.10662334 0.        ]\n",
      "  [0.05232372 0.05100944 0.0458417  0.11900172 0.        ]\n",
      "  [0.05256968 0.05187878 0.05241426 0.06659152 0.        ]\n",
      "  ...\n",
      "  [0.04305486 0.04591722 0.04286928 0.16289579 0.        ]\n",
      "  [0.04367401 0.0426551  0.04327487 0.04319791 0.        ]\n",
      "  [0.04396521 0.04378749 0.04353285 0.05481307 0.        ]]]\n"
     ]
    }
   ],
   "source": [
    "x_train = []\n",
    "y_train = []\n",
    "\n",
    "x_test = []\n",
    "y_test = []\n",
    "\n",
    "# 测试集：csv表格中前2426-300=2126天数据\n",
    "# 利用for循环，遍历整个训练集，提取训练集中连续60天的开盘价作为输入特征x_train，第61天的数据作为标签，for循环共构建2426-300-60=2066组数据。\n",
    "for i in range(60, len(training_set_scaled)):\n",
    "    x_train.append(training_set_scaled[i - 60:i, 1:]) #这里training_set_scaled仍然是二维数组，所以需要向里面添加一维数组\n",
    "    y_train.append(training_set_scaled[i, 0])\n",
    "# 对训练集进行打乱\n",
    "np.random.seed(7)\n",
    "np.random.shuffle(x_train)\n",
    "np.random.seed(7)\n",
    "np.random.shuffle(y_train)\n",
    "tf.random.set_seed(7)\n",
    "# 将训练集由list格式变为array格式\n",
    "x_train, y_train = np.array(x_train), np.array(y_train)\n",
    "print(\"转化前的数据格式为：\")\n",
    "print(x_train)\n",
    "\n",
    "# 使x_train符合RNN输入要求：[送入样本数， 循环核时间展开步数， 每个时间步输入特征个数]。\n",
    "# 此处整个数据集送入，送入样本数为x_train.shape[0]即2066组数据；输入60个开盘价，预测出第61天的开盘价，\n",
    "#循环核时间展开步数为60; 每个时间步送入的特征是某一天的开盘价，只有1个数据，故每个时间步输入特征个数为1\n",
    "x_train = np.reshape(x_train, (x_train.shape[0], 60, 5))\n",
    "print(\"转化后训练集的数据格式为：\")\n",
    "print(x_train)"
   ]
  },
  {
   "cell_type": "code",
   "execution_count": 55,
   "metadata": {},
   "outputs": [],
   "source": [
    "# 测试集：csv表格中后300天数据\n",
    "# 利用for循环，遍历整个测试集，提取测试集中连续60天的开盘价作为输入特征x_train，第61天的数据作为标签，for循环共构建300-60=240组数据。\n",
    "for i in range(60, len(test_set)):\n",
    "    x_test.append(test_set[i - 60:i, 1:])\n",
    "    y_test.append(test_set[i, 0])\n",
    "# 测试集变array并reshape为符合RNN输入要求：[送入样本数， 循环核时间展开步数， 每个时间步输入特征个数]\n",
    "x_test, y_test = np.array(x_test), np.array(y_test)\n",
    "x_test = np.reshape(x_test, (x_test.shape[0], 60, 5))"
   ]
  },
  {
   "cell_type": "code",
   "execution_count": 59,
   "metadata": {
    "scrolled": true
   },
   "outputs": [
    {
     "name": "stdout",
     "output_type": "stream",
     "text": [
      "Epoch 1/10\n",
      "33/33 [==============================] - 2s 65ms/step - loss: 0.0216 - val_loss: 0.0121\n",
      "Epoch 2/10\n",
      "33/33 [==============================] - 1s 42ms/step - loss: 0.0021 - val_loss: 0.0558\n",
      "Epoch 3/10\n",
      "33/33 [==============================] - 1s 41ms/step - loss: 0.0020 - val_loss: 0.0425\n",
      "Epoch 4/10\n",
      "33/33 [==============================] - 1s 41ms/step - loss: 0.0017 - val_loss: 0.0564\n",
      "Epoch 5/10\n",
      "33/33 [==============================] - 1s 41ms/step - loss: 0.0020 - val_loss: 0.0374\n",
      "Epoch 6/10\n",
      "33/33 [==============================] - 1s 42ms/step - loss: 0.0014 - val_loss: 0.0231\n",
      "Epoch 7/10\n",
      "33/33 [==============================] - 1s 42ms/step - loss: 0.0015 - val_loss: 0.0314\n",
      "Epoch 8/10\n",
      "33/33 [==============================] - 1s 43ms/step - loss: 0.0014 - val_loss: 0.0275\n",
      "Epoch 9/10\n",
      "33/33 [==============================] - 1s 42ms/step - loss: 0.0014 - val_loss: 0.0433\n",
      "Epoch 10/10\n",
      "33/33 [==============================] - 2s 51ms/step - loss: 0.0013 - val_loss: 0.0090\n",
      "Model: \"sequential_6\"\n",
      "_________________________________________________________________\n",
      "Layer (type)                 Output Shape              Param #   \n",
      "=================================================================\n",
      "lstm_12 (LSTM)               (None, 60, 50)            11200     \n",
      "_________________________________________________________________\n",
      "dropout_12 (Dropout)         (None, 60, 50)            0         \n",
      "_________________________________________________________________\n",
      "lstm_13 (LSTM)               (None, 60)                26640     \n",
      "_________________________________________________________________\n",
      "dropout_13 (Dropout)         (None, 60)                0         \n",
      "_________________________________________________________________\n",
      "dense_6 (Dense)              (None, 1)                 61        \n",
      "=================================================================\n",
      "Total params: 37,901\n",
      "Trainable params: 37,901\n",
      "Non-trainable params: 0\n",
      "_________________________________________________________________\n"
     ]
    },
    {
     "data": {
      "text/plain": [
       "30"
      ]
     },
     "execution_count": 59,
     "metadata": {},
     "output_type": "execute_result"
    },
    {
     "data": {
      "text/plain": [
       "9"
      ]
     },
     "execution_count": 59,
     "metadata": {},
     "output_type": "execute_result"
    },
    {
     "data": {
      "text/plain": [
       "12318"
      ]
     },
     "execution_count": 59,
     "metadata": {},
     "output_type": "execute_result"
    },
    {
     "data": {
      "text/plain": [
       "40"
      ]
     },
     "execution_count": 59,
     "metadata": {},
     "output_type": "execute_result"
    },
    {
     "data": {
      "text/plain": [
       "10"
      ]
     },
     "execution_count": 59,
     "metadata": {},
     "output_type": "execute_result"
    },
    {
     "data": {
      "text/plain": [
       "491"
      ]
     },
     "execution_count": 59,
     "metadata": {},
     "output_type": "execute_result"
    },
    {
     "data": {
      "text/plain": [
       "28"
      ]
     },
     "execution_count": 59,
     "metadata": {},
     "output_type": "execute_result"
    },
    {
     "data": {
      "text/plain": [
       "7"
      ]
     },
     "execution_count": 59,
     "metadata": {},
     "output_type": "execute_result"
    },
    {
     "data": {
      "text/plain": [
       "3251"
      ]
     },
     "execution_count": 59,
     "metadata": {},
     "output_type": "execute_result"
    },
    {
     "data": {
      "text/plain": [
       "30"
      ]
     },
     "execution_count": 59,
     "metadata": {},
     "output_type": "execute_result"
    },
    {
     "data": {
      "text/plain": [
       "10"
      ]
     },
     "execution_count": 59,
     "metadata": {},
     "output_type": "execute_result"
    },
    {
     "data": {
      "text/plain": [
       "491"
      ]
     },
     "execution_count": 59,
     "metadata": {},
     "output_type": "execute_result"
    },
    {
     "data": {
      "text/plain": [
       "40"
      ]
     },
     "execution_count": 59,
     "metadata": {},
     "output_type": "execute_result"
    },
    {
     "data": {
      "text/plain": [
       "10"
      ]
     },
     "execution_count": 59,
     "metadata": {},
     "output_type": "execute_result"
    },
    {
     "data": {
      "text/plain": [
       "492"
      ]
     },
     "execution_count": 59,
     "metadata": {},
     "output_type": "execute_result"
    },
    {
     "data": {
      "text/plain": [
       "28"
      ]
     },
     "execution_count": 59,
     "metadata": {},
     "output_type": "execute_result"
    },
    {
     "data": {
      "text/plain": [
       "7"
      ]
     },
     "execution_count": 59,
     "metadata": {},
     "output_type": "execute_result"
    },
    {
     "data": {
      "text/plain": [
       "3901"
      ]
     },
     "execution_count": 59,
     "metadata": {},
     "output_type": "execute_result"
    },
    {
     "data": {
      "text/plain": [
       "17"
      ]
     },
     "execution_count": 59,
     "metadata": {},
     "output_type": "execute_result"
    },
    {
     "data": {
      "text/plain": [
       "8"
      ]
     },
     "execution_count": 59,
     "metadata": {},
     "output_type": "execute_result"
    },
    {
     "data": {
      "text/plain": [
       "901"
      ]
     },
     "execution_count": 59,
     "metadata": {},
     "output_type": "execute_result"
    },
    {
     "data": {
      "text/plain": [
       "15"
      ]
     },
     "execution_count": 59,
     "metadata": {},
     "output_type": "execute_result"
    },
    {
     "data": {
      "text/plain": [
       "5"
      ]
     },
     "execution_count": 59,
     "metadata": {},
     "output_type": "execute_result"
    },
    {
     "data": {
      "text/plain": [
       "13"
      ]
     },
     "execution_count": 59,
     "metadata": {},
     "output_type": "execute_result"
    }
   ],
   "source": [
    "model = tf.keras.Sequential([\n",
    "    LSTM(50, return_sequences=True), #第一层记忆体的个数为50个，每个时间步推送ht到下一层\n",
    "    Dropout(0.2),\n",
    "    LSTM(60),  #第二层\n",
    "    Dropout(0.2),\n",
    "    Dense(1) #输出知识ht+1的股票开盘价，所以是1\n",
    "])\n",
    "\n",
    "model.compile(optimizer=tf.keras.optimizers.Adam(0.001),\n",
    "              loss='mean_squared_error')  # 损失函数用均方误差\n",
    "# 该应用只观测loss数值，不观测准确率，所以删去metrics选项，一会在每个epoch迭代显示时只显示loss值\n",
    "\n",
    "checkpoint_save_path = \"./checkpoint/LSTM_stock.ckpt\"\n",
    "\n",
    "# if os.path.exists(checkpoint_save_path + '.index'):\n",
    "#     print('-------------load the model-----------------')\n",
    "#     model.load_weights(checkpoint_save_path)\n",
    "\n",
    "cp_callback = tf.keras.callbacks.ModelCheckpoint(filepath=checkpoint_save_path,\n",
    "                                                 save_weights_only=True,\n",
    "                                                 save_best_only=True,\n",
    "                                                 monitor='val_loss')\n",
    "\n",
    "history = model.fit(x_train, y_train, batch_size=64, epochs=10, validation_data=(x_test, y_test), validation_freq=1,\n",
    "                    callbacks=[cp_callback])\n",
    "\n",
    "model.summary()\n",
    "\n",
    "file = open('./weights.txt', 'w')  # 参数提取\n",
    "for v in model.trainable_variables:\n",
    "    file.write(str(v.name) + '\\n')\n",
    "    file.write(str(v.shape) + '\\n')\n",
    "    file.write(str(v.numpy()) + '\\n')\n",
    "file.close()\n"
   ]
  },
  {
   "cell_type": "code",
   "execution_count": 60,
   "metadata": {},
   "outputs": [
    {
     "data": {
      "text/plain": [
       "[<matplotlib.lines.Line2D at 0x260cd903408>]"
      ]
     },
     "execution_count": 60,
     "metadata": {},
     "output_type": "execute_result"
    },
    {
     "data": {
      "text/plain": [
       "[<matplotlib.lines.Line2D at 0x260d67c37c8>]"
      ]
     },
     "execution_count": 60,
     "metadata": {},
     "output_type": "execute_result"
    },
    {
     "data": {
      "text/plain": [
       "Text(0.5, 1.0, 'Training and Validation Loss')"
      ]
     },
     "execution_count": 60,
     "metadata": {},
     "output_type": "execute_result"
    },
    {
     "data": {
      "text/plain": [
       "<matplotlib.legend.Legend at 0x260debad788>"
      ]
     },
     "execution_count": 60,
     "metadata": {},
     "output_type": "execute_result"
    },
    {
     "data": {
      "image/png": "[encoded data removed]",
      "text/plain": [
       "<Figure size 432x288 with 1 Axes>"
      ]
     },
     "metadata": {
      "needs_background": "light"
     },
     "output_type": "display_data"
    }
   ],
   "source": [
    "loss = history.history['loss']\n",
    "val_loss = history.history['val_loss']\n",
    "\n",
    "plt.plot(loss, label='Training Loss')\n",
    "plt.plot(val_loss, label='Validation Loss')\n",
    "plt.title('Training and Validation Loss')\n",
    "plt.legend()\n",
    "plt.show()"
   ]
  },
  {
   "cell_type": "code",
   "execution_count": 17,
   "metadata": {},
   "outputs": [
    {
     "name": "stdout",
     "output_type": "stream",
     "text": [
      "[[[0.84288404 0.8543997  0.85335102 0.84258523 0.08130216 0.        ]\n",
      "  [0.85345726 0.84167747 0.85084711 0.85405067 0.05417054 0.        ]\n",
      "  [0.84641315 0.86090218 0.85560173 0.85628643 0.103858   0.        ]\n",
      "  ...\n",
      "  [1.2223339  1.22193087 1.23580226 1.23957612 0.12721965 0.        ]\n",
      "  [1.22049876 1.26005516 1.27676512 1.22524432 0.16021565 0.        ]\n",
      "  [1.25296657 1.26292473 1.27108208 1.26553101 0.10118495 0.        ]]\n",
      "\n",
      " [[0.85345726 0.84167747 0.85084711 0.85405067 0.05417054 0.        ]\n",
      "  [0.84641315 0.86090218 0.85560173 0.85628643 0.103858   0.        ]\n",
      "  [0.87046756 0.86524187 0.86882462 0.87355625 0.08193403 0.        ]\n",
      "  ...\n",
      "  [1.22049876 1.26005516 1.27676512 1.22524432 0.16021565 0.        ]\n",
      "  [1.25296657 1.26292473 1.27108208 1.26553101 0.10118495 0.        ]\n",
      "  [1.19297171 1.16680119 1.20080378 1.16505076 0.45317532 0.        ]]\n",
      "\n",
      " [[0.84641315 0.86090218 0.85560173 0.85628643 0.103858   0.        ]\n",
      "  [0.87046756 0.86524187 0.86882462 0.87355625 0.08193403 0.        ]\n",
      "  [0.86758781 0.91136703 0.91172871 0.8715068  0.17998129 0.        ]\n",
      "  ...\n",
      "  [1.25296657 1.26292473 1.27108208 1.26553101 0.10118495 0.        ]\n",
      "  [1.19297171 1.16680119 1.20080378 1.16505076 0.45317532 0.        ]\n",
      "  [1.14748854 1.14418389 1.17117886 1.13240291 0.33154986 0.        ]]\n",
      "\n",
      " ...\n",
      "\n",
      " [[1.45604565 1.42831375 1.44959122 1.4359218  0.09922542 0.        ]\n",
      "  [1.41248232 1.40612052 1.41462087 1.42201995 0.09029041 0.        ]\n",
      "  [1.39695424 1.40641738 1.41040079 1.39777054 0.10209726 0.        ]\n",
      "  ...\n",
      "  [1.59458437 1.61914724 1.62219224 1.61221729 0.10936029 0.        ]\n",
      "  [1.61011245 1.6209849  1.61788777 1.62911448 0.05963733 0.        ]\n",
      "  [1.61014068 1.58239413 1.60732352 1.59500479 0.07733341 0.        ]]\n",
      "\n",
      " [[1.41248232 1.40612052 1.41462087 1.42201995 0.09029041 0.        ]\n",
      "  [1.39695424 1.40641738 1.41040079 1.39777054 0.10209726 0.        ]\n",
      "  [1.4054241  1.37431494 1.39914726 1.37142869 0.16339632 0.        ]\n",
      "  ...\n",
      "  [1.61011245 1.6209849  1.61788777 1.62911448 0.05963733 0.        ]\n",
      "  [1.61014068 1.58239413 1.60732352 1.59500479 0.07733341 0.        ]\n",
      "  [1.58893779 1.6452985  1.64320821 1.60821871 0.12991045 0.        ]]\n",
      "\n",
      " [[1.39695424 1.40641738 1.41040079 1.39777054 0.10209726 0.        ]\n",
      "  [1.4054241  1.37431494 1.39914726 1.37142869 0.16339632 0.        ]\n",
      "  [1.27696451 1.30521908 1.30726218 1.28973743 0.41179455 0.        ]\n",
      "  ...\n",
      "  [1.61014068 1.58239413 1.60732352 1.59500479 0.07733341 0.        ]\n",
      "  [1.58893779 1.6452985  1.64320821 1.60821871 0.12991045 0.        ]\n",
      "  [1.65105012 1.65626789 1.66596848 1.67350007 0.06907997 0.        ]]]\n"
     ]
    }
   ],
   "source": [
    "print(x_test)"
   ]
  },
  {
   "cell_type": "code",
   "execution_count": 61,
   "metadata": {},
   "outputs": [
    {
     "data": {
      "text/plain": [
       "[<matplotlib.lines.Line2D at 0x260ca862688>]"
      ]
     },
     "execution_count": 61,
     "metadata": {},
     "output_type": "execute_result"
    },
    {
     "data": {
      "text/plain": [
       "[<matplotlib.lines.Line2D at 0x260ceab3388>]"
      ]
     },
     "execution_count": 61,
     "metadata": {},
     "output_type": "execute_result"
    },
    {
     "data": {
      "text/plain": [
       "Text(0.5, 1.0, 'MaoTai Stock Price Prediction')"
      ]
     },
     "execution_count": 61,
     "metadata": {},
     "output_type": "execute_result"
    },
    {
     "data": {
      "text/plain": [
       "Text(0.5, 0, 'Time')"
      ]
     },
     "execution_count": 61,
     "metadata": {},
     "output_type": "execute_result"
    },
    {
     "data": {
      "text/plain": [
       "Text(0, 0.5, 'MaoTai Stock Price')"
      ]
     },
     "execution_count": 61,
     "metadata": {},
     "output_type": "execute_result"
    },
    {
     "data": {
      "text/plain": [
       "<matplotlib.legend.Legend at 0x260ca8838c8>"
      ]
     },
     "execution_count": 61,
     "metadata": {},
     "output_type": "execute_result"
    },
    {
     "data": {
      "image/png": "[encoded data removed]",
      "text/plain": [
       "<Figure size 432x288 with 1 Axes>"
      ]
     },
     "metadata": {
      "needs_background": "light"
     },
     "output_type": "display_data"
    },
    {
     "name": "stdout",
     "output_type": "stream",
     "text": [
      "均方误差: 4953.677815\n",
      "均方根误差: 70.382369\n",
      "平均绝对误差: 59.612014\n"
     ]
    }
   ],
   "source": [
    "################## predict ######################\n",
    "# 测试集输入模型进行预测\n",
    "predicted_stock_price = model.predict(x_test)\n",
    "\n",
    "# 对预测数据还原---从（0，1）反归一化到原始范围\n",
    "predicted_stock_price = sc2.inverse_transform(predicted_stock_price)\n",
    "# 对真实数据还原---从（0，1）反归一化到原始范围\n",
    "real_stock_price = sc2.inverse_transform(test_set2[60:])\n",
    "\n",
    "# 画出真实数据和预测数据的对比曲线\n",
    "plt.plot(real_stock_price, color='red', label='MaoTai Stock Price')\n",
    "plt.plot(predicted_stock_price, color='blue', label='Predicted MaoTai Stock Price')\n",
    "plt.title('MaoTai Stock Price Prediction')\n",
    "plt.xlabel('Time')\n",
    "plt.ylabel('MaoTai Stock Price')\n",
    "plt.legend()\n",
    "plt.show()\n",
    "\n",
    "##########evaluate##############\n",
    "# calculate MSE 均方误差 ---> E[(预测值-真实值)^2] (预测值减真实值求平方后求均值)\n",
    "mse = mean_squared_error(predicted_stock_price, real_stock_price)\n",
    "# calculate RMSE 均方根误差--->sqrt[MSE]    (对均方误差开方)\n",
    "rmse = math.sqrt(mean_squared_error(predicted_stock_price, real_stock_price))\n",
    "# calculate MAE 平均绝对误差----->E[|预测值-真实值|](预测值减真实值求绝对值后求均值）\n",
    "mae = mean_absolute_error(predicted_stock_price, real_stock_price)\n",
    "print('均方误差: %.6f' % mse)\n",
    "print('均方根误差: %.6f' % rmse)\n",
    "print('平均绝对误差: %.6f' % mae)"
   ]
  },
  {
   "cell_type": "code",
   "execution_count": null,
   "metadata": {},
   "outputs": [],
   "source": []
  }
 ],
 "metadata": {
  "kernelspec": {
   "display_name": "Python 3",
   "language": "python",
   "name": "python3"
  },
  "language_info": {
   "codemirror_mode": {
    "name": "ipython",
    "version": 3
   },
   "file_extension": ".py",
   "mimetype": "text/x-python",
   "name": "python",
   "nbconvert_exporter": "python",
   "pygments_lexer": "ipython3",
   "version": "3.7.4"
  }
 },
 "nbformat": 4,
 "nbformat_minor": 2
}
